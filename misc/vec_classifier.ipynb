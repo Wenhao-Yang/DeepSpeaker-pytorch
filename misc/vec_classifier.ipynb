{
 "cells": [
  {
   "cell_type": "code",
   "execution_count": 1,
   "metadata": {},
   "outputs": [],
   "source": [
    "import torch\n",
    "import torch.nn as nn\n",
    "\n",
    "import numpy as np\n",
    "from sklearn.model_selection import cross_val_predict\n",
    "from sklearn.tree import DecisionTreeClassifier\n",
    "from Define_Model.LossFunction import CenterLoss"
   ]
  },
  {
   "cell_type": "code",
   "execution_count": 2,
   "metadata": {},
   "outputs": [
    {
     "data": {
      "text/plain": [
       "True"
      ]
     },
     "execution_count": 2,
     "metadata": {},
     "output_type": "execute_result"
    }
   ],
   "source": [
    "torch.cuda.is_available()"
   ]
  },
  {
   "cell_type": "code",
   "execution_count": 3,
   "metadata": {},
   "outputs": [],
   "source": [
    "enr_vec = np.load('/home/yangwenhao/local/project/SpeakerVerification-pytorch/Data/xvector/MultiResNet10/army/spect_81/soft_nan/x_vector/enrollled/enroll/spkvecs.npy')\n",
    "enr_len = np.load('/home/yangwenhao/local/project/SpeakerVerification-pytorch/Data/xvector/MultiResNet10/army/spect_81/soft_nan/x_vector/enrollled/enroll/veclabs.npy')\n"
   ]
  },
  {
   "cell_type": "code",
   "execution_count": 4,
   "metadata": {},
   "outputs": [],
   "source": [
    "end_vec = np.load('/home/yangwenhao/local/project/SpeakerVerification-pytorch/Data/xvector/MultiResNet10/army/spect_81/soft_nan/x_vector/enrollled/test/uttvecs.npy')\n",
    "ned_vec = np.load('/home/yangwenhao/local/project/SpeakerVerification-pytorch/Data/xvector/MultiResNet10/army/spect_81/soft_nan/x_vector/notenrollled/uttvecs.npy')\n",
    "\n",
    "end_cls = np.load('/home/yangwenhao/local/project/SpeakerVerification-pytorch/Data/xvector/MultiResNet10/army/spect_81/soft_nan/x_vector/enrollled/test/answer.npy')\n",
    "ned_cls = np.load('/home/yangwenhao/local/project/SpeakerVerification-pytorch/Data/xvector/MultiResNet10/army/spect_81/soft_nan/x_vector/notenrollled/answer.npy')+51"
   ]
  },
  {
   "cell_type": "code",
   "execution_count": 5,
   "metadata": {},
   "outputs": [
    {
     "name": "stdout",
     "output_type": "stream",
     "text": [
      "The shape of enrollment vectors are  (1392, 128)\n",
      "The shape of enrolled vectors' labels : 1392\n"
     ]
    }
   ],
   "source": [
    "# Train set\n",
    "enr_vec_t = enr_vec.transpose()\n",
    "print(\"The shape of enrollment vectors are \", enr_vec_t.shape)\n",
    "\n",
    "# avg_enr_vec = [] #avg vectors for centers\n",
    "enr_lab = []\n",
    "for i in range(1, len(enr_len)):\n",
    "#     avg_enr_vec.append(enr_cos_t[enr_len[i-1]:enr_len[i],:].mean(axis=0).reshape(1,-1))\n",
    "    for x in range(enr_len[i]-enr_len[i-1]):\n",
    "        enr_lab.append(i-1)\n",
    "print(\"The shape of enrolled vectors' labels :\", enr_lab.__len__())"
   ]
  },
  {
   "cell_type": "code",
   "execution_count": 6,
   "metadata": {},
   "outputs": [
    {
     "name": "stdout",
     "output_type": "stream",
     "text": [
      "The shape of enrolled vectors are  (31487, 128)\n",
      "The shape of not enrolled vectors are  (11699, 128)\n"
     ]
    }
   ],
   "source": [
    "# Test sets\n",
    "end_vec_t = end_vec.transpose()\n",
    "print(\"The shape of enrolled vectors are \", end_vec.shape)\n",
    "\n",
    "ned_vec_t = ned_vec.transpose()\n",
    "print(\"The shape of not enrolled vectors are \", ned_vec.shape)\n"
   ]
  },
  {
   "cell_type": "code",
   "execution_count": 7,
   "metadata": {},
   "outputs": [],
   "source": [
    "# avg_center = np.concatenate(avg_enr_vec, axis=0).transpose()\n",
    "# print(avg_center.shape)\n"
   ]
  },
  {
   "cell_type": "code",
   "execution_count": 11,
   "metadata": {},
   "outputs": [],
   "source": [
    "# print(ned_cls.shape)\n",
    "# enr_cos = np.matmul(enr_cos_t, avg_center)\n",
    "\n",
    "# train \n",
    "# data and label\n",
    "# x = np.append(enr_vec_t, ned_vec[:100, :], axis=0)\n",
    "# y = np.append(enr_lab, ned_cls[:100])\n",
    "\n",
    "# no out set vectors\n",
    "x = enr_vec_t\n",
    "y = np.array(enr_lab) #, ned_cls[:100])\n"
   ]
  },
  {
   "cell_type": "code",
   "execution_count": 12,
   "metadata": {
    "scrolled": true
   },
   "outputs": [
    {
     "name": "stdout",
     "output_type": "stream",
     "text": [
      "(31487, 128)\n",
      "(31487,)\n"
     ]
    }
   ],
   "source": [
    "# test \n",
    "# data and label\n",
    "# pre_x = np.append(end_vec, ned_vec[100:], axis=0)\n",
    "# print(pre_x.shape)\n",
    "\n",
    "# real_y = np.append(end_cls, ned_cls[100:])\n",
    "# print(real_y.shape)\n",
    "\n",
    "pre_x = end_vec #, ned_vec[100:], axis=0)\n",
    "print(pre_x.shape)\n",
    "\n",
    "real_y = end_cls#, ned_cls[100:])\n",
    "print(real_y.shape)\n"
   ]
  },
  {
   "cell_type": "code",
   "execution_count": 13,
   "metadata": {},
   "outputs": [
    {
     "name": "stdout",
     "output_type": "stream",
     "text": [
      "39.025629624924576 %\n"
     ]
    }
   ],
   "source": [
    "xlf = DecisionTreeClassifier(random_state=0)\n",
    "x = x / np.sqrt(np.power(x, 2).sum(axis=1)).reshape(-1,1) * 12\n",
    "xlf.fit(x, y)\n",
    "\n",
    "pre_x = pre_x / np.sqrt(np.power(pre_x, 2).sum(axis=1)).reshape(-1,1) * 12\n",
    "pred_y = xlf.predict(pre_x)\n",
    "\n",
    "correct = 0\n",
    "for m,n in zip(pred_y, real_y):\n",
    "    if m==n:\n",
    "        correct +=1\n",
    "acc = correct / len(real_y)\n",
    "print(acc *100, \"%\") \n",
    "#cos: 20.192173791950982%\n",
    "#vec: 39.0256 "
   ]
  },
  {
   "cell_type": "code",
   "execution_count": 16,
   "metadata": {},
   "outputs": [],
   "source": [
    "import torch.optim as optim\n",
    "from torch.optim.lr_scheduler import MultiStepLR\n",
    "import torch.nn.functional as F\n",
    "\n",
    "# linearpred = nn.Sequential(nn.Linear(128, 64), # 使用cos分数预测\n",
    "#                            nn.BatchNorm1d(64),\n",
    "#                            nn.ReLU6(),\n",
    "#                            nn.Linear(64, 51))\n",
    "linearpred = nn.Linear(128, 50)\n",
    "\n",
    "optimizer = optim.SGD(linearpred.parameters() ,lr=0.1,\n",
    "                momentum=0.9,\n",
    "                dampening=0,\n",
    "                weight_decay=0.001)\n",
    "\n",
    "scheduler = MultiStepLR(optimizer, milestones=[20, 20, 20], gamma=0.1)\n",
    "output_softmax = nn.Softmax(dim=1)\n",
    "crossentropy = nn.CrossEntropyLoss()\n",
    "center_loss = CenterLoss(num_classes=50, feat_dim=128).cuda()"
   ]
  },
  {
   "cell_type": "code",
   "execution_count": 17,
   "metadata": {},
   "outputs": [
    {
     "name": "stdout",
     "output_type": "stream",
     "text": [
      "torch.Size([1392, 128])\n",
      "torch.Size([1392]) tensor(49, device='cuda:0') tensor(0, device='cuda:0')\n",
      "Accuracy is 58.5489 % \n",
      "Accuracy is 95.1868 % \n",
      "Accuracy is 98.6351 % \n",
      "Accuracy is 98.9943 % \n",
      "Accuracy is 99.6408 % \n",
      "Accuracy is 99.7845 % \n",
      "Accuracy is 99.8563 % \n",
      "Accuracy is 99.9282 % \n",
      "Accuracy is 99.9282 % \n",
      "Accuracy is 99.9282 % \n",
      "Accuracy is 99.9282 % \n",
      "Accuracy is 100.0000 % \n",
      "Accuracy is 100.0000 % \n",
      "Accuracy is 100.0000 % \n",
      "Accuracy is 100.0000 % \n",
      "Accuracy is 100.0000 % \n"
     ]
    }
   ],
   "source": [
    "epoch = 80\n",
    "t_x = torch.tensor(x).cuda()\n",
    "t_x = F.normalize(t_x, dim=1)*12.0\n",
    "\n",
    "print(t_x.shape)\n",
    "linearpred = linearpred.cuda()\n",
    "t_y = torch.tensor(y).long().cuda()\n",
    "\n",
    "print(t_y.shape, t_y.max(),t_y.min())\n",
    "\n",
    "for i in range(epoch):\n",
    "    \n",
    "    p_y = linearpred(t_x)\n",
    "    c_loss = crossentropy(p_y,t_y)\n",
    "    x_cen = center_loss(t_x, t_y)\n",
    "    \n",
    "    loss = 0.01 * x_cen + c_loss\n",
    "    \n",
    "    p_y_lab = output_softmax(p_y)\n",
    "    pred_one_labels = torch.max(p_y_lab, dim=1)[1]\n",
    "    corrects = float((pred_one_labels.cuda() == t_y).sum().item())\n",
    "    accuracy = corrects / len(y)\n",
    "    \n",
    "    if (i+1) % 5 == 0:\n",
    "        print(\"Accuracy is %.4f %% \" % (accuracy*100.)) # 100%\n",
    "        \n",
    "    optimizer.zero_grad()\n",
    "    loss.backward()\n",
    "    optimizer.step()"
   ]
  },
  {
   "cell_type": "code",
   "execution_count": 18,
   "metadata": {},
   "outputs": [
    {
     "name": "stdout",
     "output_type": "stream",
     "text": [
      "95.34093435386032\n"
     ]
    }
   ],
   "source": [
    "lin_pre_x = torch.tensor(pre_x).cuda(0)\n",
    "lin_pre_x = F.normalize(lin_pre_x, dim=1)*12.0\n",
    "\n",
    "linearpred.eval()\n",
    "with torch.no_grad():\n",
    "    lin_pre_y = linearpred(lin_pre_x)\n",
    "    lin_p_y_lab = output_softmax(lin_pre_y)\n",
    "    lin_pred_labels = torch.max(lin_p_y_lab, dim=1)[1]\n",
    "\n",
    "    lin_real_y = torch.tensor(real_y).long().cuda()\n",
    "\n",
    "    corrects = float((lin_pred_labels.cuda() == lin_real_y).sum().item())\n",
    "    lin_test_accuracy = corrects / len(real_y)\n",
    "    print(lin_test_accuracy*100.) \n",
    "    \n",
    "# 26.65% # cos sim include out set\n",
    "# 95.2043% # vec without out set data 80epoch\n"
   ]
  },
  {
   "cell_type": "code",
   "execution_count": null,
   "metadata": {},
   "outputs": [],
   "source": []
  }
 ],
 "metadata": {
  "kernelspec": {
   "display_name": "Python 3",
   "language": "python",
   "name": "python3"
  },
  "language_info": {
   "codemirror_mode": {
    "name": "ipython",
    "version": 3
   },
   "file_extension": ".py",
   "mimetype": "text/x-python",
   "name": "python",
   "nbconvert_exporter": "python",
   "pygments_lexer": "ipython3",
   "version": "3.5.6"
  }
 },
 "nbformat": 4,
 "nbformat_minor": 1
}
