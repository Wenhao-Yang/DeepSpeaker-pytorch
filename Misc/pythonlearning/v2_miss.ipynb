{
 "cells": [
  {
   "cell_type": "code",
   "execution_count": 1,
   "id": "284219f5-f0a1-489e-b868-1d643064139d",
   "metadata": {},
   "outputs": [],
   "source": [
    "import os\n",
    "import pathlib\n",
    "from tqdm import tqdm"
   ]
  },
  {
   "cell_type": "code",
   "execution_count": 2,
   "id": "c806fa5a-8aea-4ffa-8267-d23395786339",
   "metadata": {},
   "outputs": [
    {
     "name": "stderr",
     "output_type": "stream",
     "text": [
      "100%|██████████████████████████████████████████████████████████████████████████████████████████████████████████████████████████████████████████████████████████████████| 1092009/1092009 [53:02<00:00, 343.14it/s]\n"
     ]
    }
   ],
   "source": [
    "miss_uids = set([])\n",
    "with open('/home/work2020/yangwenhao/project/lstm_speaker_verification/data/vox2/dev/miss_uids', 'r') as f:\n",
    "    for l in f.readlines():\n",
    "        uid = l.rstrip('\\n')\n",
    "        miss_uids.add(uid)\n",
    "        \n",
    "with open('/home/work2020/yangwenhao/project/lstm_speaker_verification/data/vox2/dev/wav.scp', 'r') as f:\n",
    "    for l in tqdm(f.readlines()):\n",
    "        uid, upath = l.split()\n",
    "        if uid in miss_uids:\n",
    "            dest_path = upath.replace('/home/storage/yangwenhao/dataset/voxceleb2', '/home/ssd2020/yangwenhao/dataset/voxceleb2_part2')\n",
    "            if not os.path.exists(os.path.dirname(dest_path)):\n",
    "                os.makedirs(os.path.dirname(dest_path))\n",
    "                \n",
    "            os.system('cp %s %s'%(upath, dest_path))"
   ]
  },
  {
   "cell_type": "code",
   "execution_count": null,
   "id": "ad915e83-085a-4d77-bb86-b09f787994d5",
   "metadata": {},
   "outputs": [],
   "source": [
    "# split -b 19G -d voxceleb2_part2.tar.gz voxceleb2_part2.tar.gz\n",
    "# bypy download datasets/voxceleb/voxceleb2.tar.bz04 ./"
   ]
  }
 ],
 "metadata": {
  "kernelspec": {
   "display_name": "Python 3 (ipykernel)",
   "language": "python",
   "name": "python3"
  },
  "language_info": {
   "codemirror_mode": {
    "name": "ipython",
    "version": 3
   },
   "file_extension": ".py",
   "mimetype": "text/x-python",
   "name": "python",
   "nbconvert_exporter": "python",
   "pygments_lexer": "ipython3",
   "version": "3.8.10"
  }
 },
 "nbformat": 4,
 "nbformat_minor": 5
}
