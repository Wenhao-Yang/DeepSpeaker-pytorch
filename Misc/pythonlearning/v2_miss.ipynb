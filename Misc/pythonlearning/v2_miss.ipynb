{
 "cells": [
  {
   "cell_type": "code",
   "execution_count": 1,
   "id": "284219f5-f0a1-489e-b868-1d643064139d",
   "metadata": {},
   "outputs": [],
   "source": [
    "import os\n",
    "import pathlib\n",
    "import soundfile as sf\n",
    "import pandas as pd\n",
    "from tqdm import tqdm"
   ]
  },
  {
   "cell_type": "code",
   "execution_count": 2,
   "id": "7fc09ed7-9d20-4454-a7c6-02bd06b2867b",
   "metadata": {
    "tags": []
   },
   "outputs": [],
   "source": [
    "lstm_path = '/home/yangwenhao/project/lstm_speaker_verification'\n",
    "root_path = '/home/yangwenhao/project/SpeakerVerification-pytorch'"
   ]
  },
  {
   "cell_type": "code",
   "execution_count": 2,
   "id": "c806fa5a-8aea-4ffa-8267-d23395786339",
   "metadata": {},
   "outputs": [
    {
     "name": "stderr",
     "output_type": "stream",
     "text": [
      "100%|██████████████████████████████████████████████████████████████████████████████████████████████████████████████████████████████████████████████████████████████████| 1092009/1092009 [53:02<00:00, 343.14it/s]\n"
     ]
    }
   ],
   "source": [
    "miss_uids = set([])\n",
    "with open('/home/work2020/yangwenhao/project/lstm_speaker_verification/data/vox2/dev/miss_uids', 'r') as f:\n",
    "    for l in f.readlines():\n",
    "        uid = l.rstrip('\\n')\n",
    "        miss_uids.add(uid)\n",
    "        \n",
    "with open('/home/work2020/yangwenhao/project/lstm_speaker_verification/data/vox2/dev/wav.scp', 'r') as f:\n",
    "    for l in tqdm(f.readlines()):\n",
    "        uid, upath = l.split()\n",
    "        if uid in miss_uids:\n",
    "            dest_path = upath.replace('/home/storage/yangwenhao/dataset/voxceleb2', '/home/ssd2020/yangwenhao/dataset/voxceleb2_part2')\n",
    "            if not os.path.exists(os.path.dirname(dest_path)):\n",
    "                os.makedirs(os.path.dirname(dest_path))\n",
    "                \n",
    "            os.system('cp %s %s'%(upath, dest_path))"
   ]
  },
  {
   "cell_type": "code",
   "execution_count": null,
   "id": "ad915e83-085a-4d77-bb86-b09f787994d5",
   "metadata": {},
   "outputs": [],
   "source": [
    "# split -b 19G -d voxceleb2_part2.tar.gz voxceleb2_part2.tar.gz\n",
    "# bypy download datasets/voxceleb/voxceleb2.tar.bz04 ./"
   ]
  },
  {
   "cell_type": "code",
   "execution_count": 4,
   "id": "367f482d-faf7-4579-b5c3-310ca39a51dd",
   "metadata": {
    "tags": []
   },
   "outputs": [],
   "source": [
    "dataset = 'cnceleb'\n",
    "subset = 'dev'"
   ]
  },
  {
   "cell_type": "code",
   "execution_count": 5,
   "id": "ce1cfada-3f2d-4121-87c9-6b89fdb6fa49",
   "metadata": {
    "tags": []
   },
   "outputs": [
    {
     "name": "stderr",
     "output_type": "stream",
     "text": [
      "100%|█| 107953/107953 [00:00<00:00, 1106167.88it/s\n",
      "100%|█| 107953/107953 [00:00<00:00, 658190.54it/s]\n"
     ]
    }
   ],
   "source": [
    "utt2dur = {}\n",
    "with open(lstm_path + '/data/{}/dev/utt2dur'.format(dataset), 'r') as f:\n",
    "    for l in tqdm(f.readlines(), ncols=50):\n",
    "        uid, dur = l.split()\n",
    "        utt2dur[uid] = float(dur)\n",
    "\n",
    "utt2dur_keys = set(utt2dur.keys())\n",
    "utt2path = {}\n",
    "with open(lstm_path + '/data/{}/dev/wav.scp'.format(dataset), 'r') as f:\n",
    "    for l in tqdm(f.readlines(), ncols=50):\n",
    "        lst = l.split()\n",
    "        if len(lst) == 2:\n",
    "            uid, upath = lst\n",
    "        elif len(lst) == 3:\n",
    "            uid, _, upath = lst\n",
    "        elif len(lst) > 3:\n",
    "            uid   = lst[0]\n",
    "            upath = lst[4]\n",
    "        \n",
    "        utt2path[uid] = upath\n",
    "        if uid not in utt2dur_keys:\n",
    "            print(uid)\n",
    "            data,sr = sf.read(upath)\n",
    "            dur = len(data)/sr\n",
    "            utt2dur[uid] = dur"
   ]
  },
  {
   "cell_type": "code",
   "execution_count": 25,
   "id": "9fbd32fb-38b2-4c86-8d18-e69065bd720f",
   "metadata": {
    "tags": []
   },
   "outputs": [
    {
     "name": "stderr",
     "output_type": "stream",
     "text": [
      "100%|██████████| 612096/612096 [51:45<00:00, 197.12it/s]  \n"
     ]
    }
   ],
   "source": [
    "errors = []\n",
    "with open(root_path + '/Data/checkpoint/ThinResNet18/Mean_batch256_k7_seblock_downk1_avg1_SAP2_em256_dp05_alpha0_none1_wde5_2sesmix8/arcsoft_adam_cyclic/cnceleb/wave_fb80_dist2/train.csv', 'r') as f:\n",
    "    lst = list(f.readlines())\n",
    "    # print(lst[:1])\n",
    "    for l in tqdm(lst[1:]):\n",
    "        uid, start, end = l.split(',')\n",
    "        if uid != 'uid':\n",
    "            start = int(start)\n",
    "            end   = int(end.rstrip('\\n'))\n",
    "            upath = utt2path[uid]\n",
    "            try:\n",
    "                data,sr = sf.read(upath, start=start, stop=end)\n",
    "            except Exception as e:\n",
    "                errors.append(l)"
   ]
  },
  {
   "cell_type": "code",
   "execution_count": 26,
   "id": "3a6b2f3c-c9f6-4297-8b48-90de872e261c",
   "metadata": {
    "tags": []
   },
   "outputs": [
    {
     "data": {
      "text/plain": [
       "['id00635-live_broadcast-01-221,0,208000\\n']"
      ]
     },
     "execution_count": 26,
     "metadata": {},
     "output_type": "execute_result"
    }
   ],
   "source": [
    "errors"
   ]
  },
  {
   "cell_type": "code",
   "execution_count": 7,
   "id": "cc2f293b-9915-42e9-abc8-523d577e02f2",
   "metadata": {
    "tags": []
   },
   "outputs": [
    {
     "data": {
      "text/plain": [
       "'/home/yangwenhao/dataset/CN-Celeb/data/id00635/live_broadcast-01-221.flac'"
      ]
     },
     "execution_count": 7,
     "metadata": {},
     "output_type": "execute_result"
    }
   ],
   "source": [
    "utt2path['id00635-live_broadcast-01-221']"
   ]
  },
  {
   "cell_type": "code",
   "execution_count": 13,
   "id": "89f2a5c5-be62-474d-aa21-c1b6ce0793fc",
   "metadata": {
    "tags": []
   },
   "outputs": [],
   "source": [
    "data,sr = sf.read('/home/yangwenhao/dataset/CN-Celeb/data/id00635/live_broadcast-01-221.flac', start=0, stop=208000)"
   ]
  },
  {
   "cell_type": "code",
   "execution_count": 12,
   "id": "40ea0ebd-3151-47be-9263-71ab6a9a885a",
   "metadata": {
    "tags": []
   },
   "outputs": [],
   "source": [
    "df = pd.read_csv(root_path + '/Data/checkpoint/ThinResNet18/Mean_batch256_k7_seblock_downk1_avg1_SAP2_em256_dp05_alpha0_none1_wde5_2sesmix8/arcsoft_adam_cyclic/cnceleb/wave_fb80_dist2/train.csv')"
   ]
  },
  {
   "cell_type": "code",
   "execution_count": null,
   "id": "a21b88dc-27f6-4255-b823-d581629c5b93",
   "metadata": {
    "tags": []
   },
   "outputs": [],
   "source": [
    "errors = []\n",
    "for i in tqdm(df.iterrows()):\n",
    "    # print(i[1].uid, i[1].start, i[1].end)\n",
    "    try:\n",
    "        data,sr = sf.read(utt2path[i[1].uid], start=i[1].start, stop=i[1].end)\n",
    "    except Exception as e:\n",
    "        errors.add()"
   ]
  },
  {
   "cell_type": "code",
   "execution_count": null,
   "id": "844c17fd-9792-4bbb-b1fc-83fb24a618b7",
   "metadata": {},
   "outputs": [],
   "source": []
  }
 ],
 "metadata": {
  "kernelspec": {
   "display_name": "Python 3",
   "language": "python",
   "name": "python3"
  },
  "language_info": {
   "codemirror_mode": {
    "name": "ipython",
    "version": 3
   },
   "file_extension": ".py",
   "mimetype": "text/x-python",
   "name": "python",
   "nbconvert_exporter": "python",
   "pygments_lexer": "ipython3",
   "version": "3.8.16"
  }
 },
 "nbformat": 4,
 "nbformat_minor": 5
}
