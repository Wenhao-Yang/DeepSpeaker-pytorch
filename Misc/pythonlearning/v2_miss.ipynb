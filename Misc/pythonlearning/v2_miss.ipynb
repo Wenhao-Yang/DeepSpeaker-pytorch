{
 "cells": [
  {
   "cell_type": "code",
   "execution_count": 12,
   "id": "284219f5-f0a1-489e-b868-1d643064139d",
   "metadata": {},
   "outputs": [],
   "source": [
    "import os\n",
    "import pathlib\n",
    "import soundfile as sf\n",
    "import pandas as pd\n",
    "from tqdm import tqdm"
   ]
  },
  {
   "cell_type": "code",
   "execution_count": 7,
   "id": "7fc09ed7-9d20-4454-a7c6-02bd06b2867b",
   "metadata": {
    "tags": []
   },
   "outputs": [],
   "source": [
    "lstm_path = '/home/yangwenhao/project/lstm_speaker_verification'\n",
    "root_path = '/home/yangwenhao/project/SpeakerVerification-pytorch'"
   ]
  },
  {
   "cell_type": "code",
   "execution_count": 2,
   "id": "c806fa5a-8aea-4ffa-8267-d23395786339",
   "metadata": {},
   "outputs": [
    {
     "name": "stderr",
     "output_type": "stream",
     "text": [
      "100%|██████████████████████████████████████████████████████████████████████████████████████████████████████████████████████████████████████████████████████████████████| 1092009/1092009 [53:02<00:00, 343.14it/s]\n"
     ]
    }
   ],
   "source": [
    "miss_uids = set([])\n",
    "with open('/home/work2020/yangwenhao/project/lstm_speaker_verification/data/vox2/dev/miss_uids', 'r') as f:\n",
    "    for l in f.readlines():\n",
    "        uid = l.rstrip('\\n')\n",
    "        miss_uids.add(uid)\n",
    "        \n",
    "with open('/home/work2020/yangwenhao/project/lstm_speaker_verification/data/vox2/dev/wav.scp', 'r') as f:\n",
    "    for l in tqdm(f.readlines()):\n",
    "        uid, upath = l.split()\n",
    "        if uid in miss_uids:\n",
    "            dest_path = upath.replace('/home/storage/yangwenhao/dataset/voxceleb2', '/home/ssd2020/yangwenhao/dataset/voxceleb2_part2')\n",
    "            if not os.path.exists(os.path.dirname(dest_path)):\n",
    "                os.makedirs(os.path.dirname(dest_path))\n",
    "                \n",
    "            os.system('cp %s %s'%(upath, dest_path))"
   ]
  },
  {
   "cell_type": "code",
   "execution_count": null,
   "id": "ad915e83-085a-4d77-bb86-b09f787994d5",
   "metadata": {},
   "outputs": [],
   "source": [
    "# split -b 19G -d voxceleb2_part2.tar.gz voxceleb2_part2.tar.gz\n",
    "# bypy download datasets/voxceleb/voxceleb2.tar.bz04 ./"
   ]
  },
  {
   "cell_type": "code",
   "execution_count": 3,
   "id": "367f482d-faf7-4579-b5c3-310ca39a51dd",
   "metadata": {
    "tags": []
   },
   "outputs": [],
   "source": [
    "dataset = 'cnceleb'\n",
    "subset = 'dev'"
   ]
  },
  {
   "cell_type": "code",
   "execution_count": 22,
   "id": "ce1cfada-3f2d-4121-87c9-6b89fdb6fa49",
   "metadata": {
    "tags": []
   },
   "outputs": [
    {
     "name": "stderr",
     "output_type": "stream",
     "text": [
      "100%|█| 107953/107953 [00:00<00:00, 1179306.62it/s\n",
      "100%|█| 107953/107953 [00:00<00:00, 495826.43it/s]\n"
     ]
    }
   ],
   "source": [
    "utt2dur = {}\n",
    "with open(lstm_path + '/data/{}/dev/utt2dur'.format(dataset), 'r') as f:\n",
    "    for l in tqdm(f.readlines(), ncols=50):\n",
    "        uid, dur = l.split()\n",
    "        utt2dur[uid] = float(dur)\n",
    "\n",
    "utt2dur_keys = set(utt2dur.keys())\n",
    "utt2path = {}\n",
    "with open(lstm_path + '/data/{}/dev/wav.scp'.format(dataset), 'r') as f:\n",
    "    for l in tqdm(f.readlines(), ncols=50):\n",
    "        lst = l.split()\n",
    "        if len(lst) == 2:\n",
    "            uid, upath = lst\n",
    "        elif len(lst) == 3:\n",
    "            uid, _, upath = lst\n",
    "        elif len(lst) > 3:\n",
    "            uid   = lst[0]\n",
    "            upath = lst[4]\n",
    "        \n",
    "        utt2path[uid] = upath\n",
    "        if uid not in utt2dur_keys:\n",
    "            print(uid)\n",
    "            data,sr = sf.read(upath)\n",
    "            dur = len(data)/sr\n",
    "            utt2dur[uid] = dur"
   ]
  },
  {
   "cell_type": "code",
   "execution_count": null,
   "id": "9fbd32fb-38b2-4c86-8d18-e69065bd720f",
   "metadata": {
    "tags": []
   },
   "outputs": [
    {
     "name": "stderr",
     "output_type": "stream",
     "text": [
      " 14%|█▎        | 82868/612096 [07:04<38:32, 228.89it/s]  "
     ]
    }
   ],
   "source": [
    "errors = []\n",
    "with open(root_path + '/Data/checkpoint/ThinResNet18/Mean_batch256_k7_seblock_downk1_avg1_SAP2_em256_dp05_alpha0_none1_wde5_2sesmix8/arcsoft_adam_cyclic/cnceleb/wave_fb80_dist2/train.csv', 'r') as f:\n",
    "    lst = list(f.readlines())\n",
    "    # print(lst[:1])\n",
    "    for l in tqdm(lst[1:]):\n",
    "        uid, start, end = l.split(',')\n",
    "        if uid != 'uid':\n",
    "            start = int(start)\n",
    "            end   = int(end.rstrip('\\n'))\n",
    "            upath = utt2path[uid]\n",
    "            try:\n",
    "                data,sr = sf.read(upath, start=start, stop=end)\n",
    "            except Exception as e:\n",
    "                errors.append(l)"
   ]
  },
  {
   "cell_type": "code",
   "execution_count": 9,
   "id": "40ea0ebd-3151-47be-9263-71ab6a9a885a",
   "metadata": {
    "tags": []
   },
   "outputs": [],
   "source": [
    "df = pd.read_csv(root_path + '/Data/checkpoint/ThinResNet18/Mean_batch256_k7_seblock_downk1_avg1_SAP2_em256_dp05_alpha0_none1_wde5_2sesmix8/arcsoft_adam_cyclic/cnceleb/wave_fb80_dist2/train.csv')"
   ]
  },
  {
   "cell_type": "code",
   "execution_count": 23,
   "id": "a21b88dc-27f6-4255-b823-d581629c5b93",
   "metadata": {
    "tags": []
   },
   "outputs": [
    {
     "name": "stderr",
     "output_type": "stream",
     "text": [
      "32099it [02:55, 183.13it/s]\n"
     ]
    },
    {
     "ename": "KeyboardInterrupt",
     "evalue": "",
     "output_type": "error",
     "traceback": [
      "\u001b[0;31m---------------------------------------------------------------------------\u001b[0m",
      "\u001b[0;31mKeyboardInterrupt\u001b[0m                         Traceback (most recent call last)",
      "Cell \u001b[0;32mIn[23], line 3\u001b[0m\n\u001b[1;32m      1\u001b[0m \u001b[38;5;28;01mfor\u001b[39;00m i \u001b[38;5;129;01min\u001b[39;00m tqdm(df\u001b[38;5;241m.\u001b[39miterrows()):\n\u001b[1;32m      2\u001b[0m     \u001b[38;5;66;03m# print(i[1].uid, i[1].start, i[1].end)\u001b[39;00m\n\u001b[0;32m----> 3\u001b[0m     data,sr \u001b[38;5;241m=\u001b[39m \u001b[43msf\u001b[49m\u001b[38;5;241;43m.\u001b[39;49m\u001b[43mread\u001b[49m\u001b[43m(\u001b[49m\u001b[43mutt2path\u001b[49m\u001b[43m[\u001b[49m\u001b[43mi\u001b[49m\u001b[43m[\u001b[49m\u001b[38;5;241;43m1\u001b[39;49m\u001b[43m]\u001b[49m\u001b[38;5;241;43m.\u001b[39;49m\u001b[43muid\u001b[49m\u001b[43m]\u001b[49m\u001b[43m,\u001b[49m\u001b[43m \u001b[49m\u001b[43mstart\u001b[49m\u001b[38;5;241;43m=\u001b[39;49m\u001b[43mi\u001b[49m\u001b[43m[\u001b[49m\u001b[38;5;241;43m1\u001b[39;49m\u001b[43m]\u001b[49m\u001b[38;5;241;43m.\u001b[39;49m\u001b[43mstart\u001b[49m\u001b[43m,\u001b[49m\u001b[43m \u001b[49m\u001b[43mstop\u001b[49m\u001b[38;5;241;43m=\u001b[39;49m\u001b[43mi\u001b[49m\u001b[43m[\u001b[49m\u001b[38;5;241;43m1\u001b[39;49m\u001b[43m]\u001b[49m\u001b[38;5;241;43m.\u001b[39;49m\u001b[43mend\u001b[49m\u001b[43m)\u001b[49m\n",
      "File \u001b[0;32m~/anaconda3/envs/py38_torch12/lib/python3.8/site-packages/soundfile.py:288\u001b[0m, in \u001b[0;36mread\u001b[0;34m(file, frames, start, stop, dtype, always_2d, fill_value, out, samplerate, channels, format, subtype, endian, closefd)\u001b[0m\n\u001b[1;32m    285\u001b[0m \u001b[38;5;28;01mwith\u001b[39;00m SoundFile(file, \u001b[38;5;124m'\u001b[39m\u001b[38;5;124mr\u001b[39m\u001b[38;5;124m'\u001b[39m, samplerate, channels,\n\u001b[1;32m    286\u001b[0m                subtype, endian, \u001b[38;5;28mformat\u001b[39m, closefd) \u001b[38;5;28;01mas\u001b[39;00m f:\n\u001b[1;32m    287\u001b[0m     frames \u001b[38;5;241m=\u001b[39m f\u001b[38;5;241m.\u001b[39m_prepare_read(start, stop, frames)\n\u001b[0;32m--> 288\u001b[0m     data \u001b[38;5;241m=\u001b[39m \u001b[43mf\u001b[49m\u001b[38;5;241;43m.\u001b[39;49m\u001b[43mread\u001b[49m\u001b[43m(\u001b[49m\u001b[43mframes\u001b[49m\u001b[43m,\u001b[49m\u001b[43m \u001b[49m\u001b[43mdtype\u001b[49m\u001b[43m,\u001b[49m\u001b[43m \u001b[49m\u001b[43malways_2d\u001b[49m\u001b[43m,\u001b[49m\u001b[43m \u001b[49m\u001b[43mfill_value\u001b[49m\u001b[43m,\u001b[49m\u001b[43m \u001b[49m\u001b[43mout\u001b[49m\u001b[43m)\u001b[49m\n\u001b[1;32m    289\u001b[0m \u001b[38;5;28;01mreturn\u001b[39;00m data, f\u001b[38;5;241m.\u001b[39msamplerate\n",
      "File \u001b[0;32m~/anaconda3/envs/py38_torch12/lib/python3.8/site-packages/soundfile.py:895\u001b[0m, in \u001b[0;36mSoundFile.read\u001b[0;34m(self, frames, dtype, always_2d, fill_value, out)\u001b[0m\n\u001b[1;32m    893\u001b[0m     \u001b[38;5;28;01mif\u001b[39;00m frames \u001b[38;5;241m<\u001b[39m \u001b[38;5;241m0\u001b[39m \u001b[38;5;129;01mor\u001b[39;00m frames \u001b[38;5;241m>\u001b[39m \u001b[38;5;28mlen\u001b[39m(out):\n\u001b[1;32m    894\u001b[0m         frames \u001b[38;5;241m=\u001b[39m \u001b[38;5;28mlen\u001b[39m(out)\n\u001b[0;32m--> 895\u001b[0m frames \u001b[38;5;241m=\u001b[39m \u001b[38;5;28;43mself\u001b[39;49m\u001b[38;5;241;43m.\u001b[39;49m\u001b[43m_array_io\u001b[49m\u001b[43m(\u001b[49m\u001b[38;5;124;43m'\u001b[39;49m\u001b[38;5;124;43mread\u001b[39;49m\u001b[38;5;124;43m'\u001b[39;49m\u001b[43m,\u001b[49m\u001b[43m \u001b[49m\u001b[43mout\u001b[49m\u001b[43m,\u001b[49m\u001b[43m \u001b[49m\u001b[43mframes\u001b[49m\u001b[43m)\u001b[49m\n\u001b[1;32m    896\u001b[0m \u001b[38;5;28;01mif\u001b[39;00m \u001b[38;5;28mlen\u001b[39m(out) \u001b[38;5;241m>\u001b[39m frames:\n\u001b[1;32m    897\u001b[0m     \u001b[38;5;28;01mif\u001b[39;00m fill_value \u001b[38;5;129;01mis\u001b[39;00m \u001b[38;5;28;01mNone\u001b[39;00m:\n",
      "File \u001b[0;32m~/anaconda3/envs/py38_torch12/lib/python3.8/site-packages/soundfile.py:1344\u001b[0m, in \u001b[0;36mSoundFile._array_io\u001b[0;34m(self, action, array, frames)\u001b[0m\n\u001b[1;32m   1342\u001b[0m \u001b[38;5;28;01massert\u001b[39;00m array\u001b[38;5;241m.\u001b[39mdtype\u001b[38;5;241m.\u001b[39mitemsize \u001b[38;5;241m==\u001b[39m _ffi\u001b[38;5;241m.\u001b[39msizeof(ctype)\n\u001b[1;32m   1343\u001b[0m cdata \u001b[38;5;241m=\u001b[39m _ffi\u001b[38;5;241m.\u001b[39mcast(ctype \u001b[38;5;241m+\u001b[39m \u001b[38;5;124m'\u001b[39m\u001b[38;5;124m*\u001b[39m\u001b[38;5;124m'\u001b[39m, array\u001b[38;5;241m.\u001b[39m__array_interface__[\u001b[38;5;124m'\u001b[39m\u001b[38;5;124mdata\u001b[39m\u001b[38;5;124m'\u001b[39m][\u001b[38;5;241m0\u001b[39m])\n\u001b[0;32m-> 1344\u001b[0m \u001b[38;5;28;01mreturn\u001b[39;00m \u001b[38;5;28;43mself\u001b[39;49m\u001b[38;5;241;43m.\u001b[39;49m\u001b[43m_cdata_io\u001b[49m\u001b[43m(\u001b[49m\u001b[43maction\u001b[49m\u001b[43m,\u001b[49m\u001b[43m \u001b[49m\u001b[43mcdata\u001b[49m\u001b[43m,\u001b[49m\u001b[43m \u001b[49m\u001b[43mctype\u001b[49m\u001b[43m,\u001b[49m\u001b[43m \u001b[49m\u001b[43mframes\u001b[49m\u001b[43m)\u001b[49m\n",
      "File \u001b[0;32m~/anaconda3/envs/py38_torch12/lib/python3.8/site-packages/soundfile.py:1353\u001b[0m, in \u001b[0;36mSoundFile._cdata_io\u001b[0;34m(self, action, data, ctype, frames)\u001b[0m\n\u001b[1;32m   1351\u001b[0m     curr \u001b[38;5;241m=\u001b[39m \u001b[38;5;28mself\u001b[39m\u001b[38;5;241m.\u001b[39mtell()\n\u001b[1;32m   1352\u001b[0m func \u001b[38;5;241m=\u001b[39m \u001b[38;5;28mgetattr\u001b[39m(_snd, \u001b[38;5;124m'\u001b[39m\u001b[38;5;124msf_\u001b[39m\u001b[38;5;124m'\u001b[39m \u001b[38;5;241m+\u001b[39m action \u001b[38;5;241m+\u001b[39m \u001b[38;5;124m'\u001b[39m\u001b[38;5;124mf_\u001b[39m\u001b[38;5;124m'\u001b[39m \u001b[38;5;241m+\u001b[39m ctype)\n\u001b[0;32m-> 1353\u001b[0m frames \u001b[38;5;241m=\u001b[39m \u001b[43mfunc\u001b[49m\u001b[43m(\u001b[49m\u001b[38;5;28;43mself\u001b[39;49m\u001b[38;5;241;43m.\u001b[39;49m\u001b[43m_file\u001b[49m\u001b[43m,\u001b[49m\u001b[43m \u001b[49m\u001b[43mdata\u001b[49m\u001b[43m,\u001b[49m\u001b[43m \u001b[49m\u001b[43mframes\u001b[49m\u001b[43m)\u001b[49m\n\u001b[1;32m   1354\u001b[0m _error_check(\u001b[38;5;28mself\u001b[39m\u001b[38;5;241m.\u001b[39m_errorcode)\n\u001b[1;32m   1355\u001b[0m \u001b[38;5;28;01mif\u001b[39;00m \u001b[38;5;28mself\u001b[39m\u001b[38;5;241m.\u001b[39mseekable():\n",
      "\u001b[0;31mKeyboardInterrupt\u001b[0m: "
     ]
    }
   ],
   "source": [
    "errors = []\n",
    "for i in tqdm(df.iterrows()):\n",
    "    # print(i[1].uid, i[1].start, i[1].end)\n",
    "    try:\n",
    "        data,sr = sf.read(utt2path[i[1].uid], start=i[1].start, stop=i[1].end)\n",
    "    except Exception as e:\n",
    "        errors.add()"
   ]
  },
  {
   "cell_type": "code",
   "execution_count": null,
   "id": "844c17fd-9792-4bbb-b1fc-83fb24a618b7",
   "metadata": {},
   "outputs": [],
   "source": []
  }
 ],
 "metadata": {
  "kernelspec": {
   "display_name": "Python 3",
   "language": "python",
   "name": "python3"
  },
  "language_info": {
   "codemirror_mode": {
    "name": "ipython",
    "version": 3
   },
   "file_extension": ".py",
   "mimetype": "text/x-python",
   "name": "python",
   "nbconvert_exporter": "python",
   "pygments_lexer": "ipython3",
   "version": "3.8.16"
  }
 },
 "nbformat": 4,
 "nbformat_minor": 5
}
