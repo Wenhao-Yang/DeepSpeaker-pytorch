{
 "cells": [
  {
   "cell_type": "markdown",
   "id": "1b3cc64d-d63e-46f3-8446-68b6d70d6a79",
   "metadata": {
    "tags": []
   },
   "source": [
    "### Change wav file path in wav.scp"
   ]
  },
  {
   "cell_type": "code",
   "execution_count": 52,
   "id": "9329b816-a3d9-4f9f-afbd-5055dd987b95",
   "metadata": {
    "tags": []
   },
   "outputs": [],
   "source": [
    "\n",
    "uid2path = []\n",
    "subset_name = 'test_radio_wfsnr1' #test_radio_chn2 test_radchn2_dist1\n",
    "wav_scp = '/home/yangwenhao/project/lstm_speaker_verification/data/vox1/%s/wav.scp'%(subset_name)\n",
    "new_wavstr = '/wav_wb_snr1/' #'/wav_radchn2_dist1/'\n",
    "\n",
    "with open(wav_scp, 'r') as f:\n",
    "    for l in f.readlines():\n",
    "        uid, upath = l.split()\n",
    "        upath = upath.replace('/wav/', new_wavstr)\n",
    "        uid2path.append(' '.join([uid, upath]))"
   ]
  },
  {
   "cell_type": "code",
   "execution_count": 53,
   "id": "acd8c903-c81a-4913-977f-f92c88b7c57b",
   "metadata": {
    "tags": []
   },
   "outputs": [
    {
     "data": {
      "text/plain": [
       "'id10270-5r0dWxy17C8-00001-wfsnr1 /home/yangwenhao/dataset/voxceleb1/voxceleb1_wav/vox1_test_wav/wav_wb_snr1/id10270/5r0dWxy17C8/00001.wav'"
      ]
     },
     "execution_count": 53,
     "metadata": {},
     "output_type": "execute_result"
    }
   ],
   "source": [
    "uid2path[0]"
   ]
  },
  {
   "cell_type": "code",
   "execution_count": 54,
   "id": "00ba993e-d669-4f52-9f8a-daa972224af7",
   "metadata": {
    "tags": []
   },
   "outputs": [],
   "source": [
    "with open(wav_scp, 'w') as f:\n",
    "    for l in uid2path:\n",
    "        f.write(l + '\\n')"
   ]
  },
  {
   "cell_type": "markdown",
   "id": "60bb84de-58e1-4fb7-b559-3c187b2b8819",
   "metadata": {
    "tags": []
   },
   "source": [
    "### Trials_suffix"
   ]
  },
  {
   "cell_type": "code",
   "execution_count": 55,
   "id": "45770c61-4d6f-42e7-ad90-9882e0fd4ebe",
   "metadata": {
    "tags": []
   },
   "outputs": [],
   "source": [
    "trials = []\n",
    "trials_f = '/home/yangwenhao/project/lstm_speaker_verification/data/vox1/%s/trials'%(subset_name)\n",
    "suffix = '-wfsnr1' #'-rd2dist1' #-radchn2\n",
    "\n",
    "with open(trials_f, 'r') as f:\n",
    "    for l in f.readlines():\n",
    "        a, b,c = l.split()\n",
    "        a += suffix\n",
    "        b += suffix\n",
    "        \n",
    "        trials.append(' '.join([a, b, c]))\n",
    "        \n",
    "trials_name = 'trials_wfsnr1'\n",
    "trials_f = '/home/yangwenhao/project/lstm_speaker_verification/data/vox1/%s/%s'%(subset_name, trials_name)\n",
    "with open(trials_f, 'w') as f:\n",
    "    for l in trials:\n",
    "        f.write(l + '\\n')"
   ]
  },
  {
   "cell_type": "markdown",
   "id": "7b48fb7e-e49c-44ac-a7d0-5f2b64168e22",
   "metadata": {},
   "source": [
    "### Trials_xcross"
   ]
  },
  {
   "cell_type": "code",
   "execution_count": 46,
   "id": "35f676e4-cf6b-4ca8-9bf8-ae1a7ac9cef7",
   "metadata": {
    "tags": []
   },
   "outputs": [],
   "source": [
    "trials = set([])\n",
    "trials_f = '/home/yangwenhao/project/lstm_speaker_verification/data/vox1/test/trials'\n",
    "trials_name = 'trials_wfsnr1cross'#'trials_rdist1cross' # 'trials_bandcross'\n",
    "\n",
    "subset = 'test_orgchn2fsnr5'#'test_orgchn2dist1'\n",
    "suffix = '-wfsnr1' #'-rd2dist1' #-radchn2\n",
    "\n",
    "with open(trials_f, 'r') as f:\n",
    "    for l in f.readlines():\n",
    "        a, b, c = l.split()\n",
    "        trials.add(' '.join([a+suffix, b, c]))   \n",
    "        trials.add(' '.join([a, b+suffix, c]))\n",
    "          \n",
    "trials_f = '/home/yangwenhao/project/lstm_speaker_verification/data/vox1/%s/%s'%(subset, trials_name)\n",
    "with open(trials_f, 'w') as f:\n",
    "    for l in trials:\n",
    "        f.write(l + '\\n')"
   ]
  },
  {
   "cell_type": "markdown",
   "id": "ca11ec2f-0e0d-465a-8732-5f675ccb80a2",
   "metadata": {},
   "source": [
    "### Trials_xy"
   ]
  },
  {
   "cell_type": "code",
   "execution_count": 9,
   "id": "a138184a-676e-4b5b-afe8-10a0bc949dc4",
   "metadata": {
    "tags": []
   },
   "outputs": [],
   "source": [
    "trials = set([])\n",
    "trials_f = '/home/yangwenhao/project/lstm_speaker_verification/data/vox1/test/trials'\n",
    "trials_name = 'trials_radiodist1' # 'trials_bandcross'\n",
    "subset = 'test_orgchn2dist1'\n",
    "\n",
    "suffix1 = '-rd2dist1' #-radchn2\n",
    "suffix2 = '-radchn2' #-radchn2\n",
    "\n",
    "with open(trials_f, 'r') as f:\n",
    "    for l in f.readlines():\n",
    "        a, b,c = l.split()\n",
    "        trials.add(' '.join([a+suffix1, b+suffix2, c]))   \n",
    "        trials.add(' '.join([a+suffix2, b+suffix1, c]))\n",
    "          \n",
    "trials_f = '/home/yangwenhao/project/lstm_speaker_verification/data/vox1/%s/%s'%(subset, trials_name)\n",
    "with open(trials_f, 'w') as f:\n",
    "    for l in trials:\n",
    "        f.write(l + '\\n')"
   ]
  },
  {
   "cell_type": "code",
   "execution_count": 5,
   "id": "310d2e74-bd99-49a3-b434-d1bdcaec28ae",
   "metadata": {
    "tags": []
   },
   "outputs": [
    {
     "data": {
      "text/plain": [
       "'id10270-x6uYqmx31kE-00001-rd2dist1 id10270-8jEAjG6SegY-00008-rd2dist1 target'"
      ]
     },
     "execution_count": 5,
     "metadata": {},
     "output_type": "execute_result"
    }
   ],
   "source": [
    "trials[0]"
   ]
  },
  {
   "cell_type": "code",
   "execution_count": 6,
   "id": "bcb4882a-8ee9-4f60-8e74-53af29751d1f",
   "metadata": {
    "tags": []
   },
   "outputs": [],
   "source": [
    "with open(trials_f, 'w') as f:\n",
    "    for l in trials:\n",
    "        f.write(l + '\\n')"
   ]
  },
  {
   "cell_type": "code",
   "execution_count": 16,
   "id": "aa91bc7f-02da-402b-8363-02d83ea6c4be",
   "metadata": {
    "tags": []
   },
   "outputs": [],
   "source": [
    "import soundfile as sf\n",
    "import os\n",
    "from tqdm import tqdm"
   ]
  },
  {
   "cell_type": "code",
   "execution_count": 14,
   "id": "a258fb7d-eabc-4632-baff-4f7032694543",
   "metadata": {
    "tags": []
   },
   "outputs": [],
   "source": [
    "wav,sr = sf.read('/home/yangwenhao/dataset/voxceleb1/voxceleb1_wav/vox1_test_wav/wav_radchn2/id10291/3q0vhiAP7i8/00001.wav')"
   ]
  },
  {
   "cell_type": "code",
   "execution_count": 15,
   "id": "c88a3f2e-2550-4c0f-9523-3f78ad0d8a18",
   "metadata": {
    "tags": []
   },
   "outputs": [],
   "source": [
    "errors = set([])\n",
    "for l in uid2path:\n",
    "    uid, upath = l.split()\n",
    "    try:\n",
    "        wav,sr = sf.read(upath)\n",
    "    except Exception as e:\n",
    "        errors.add(upath)"
   ]
  },
  {
   "cell_type": "code",
   "execution_count": 17,
   "id": "e03b7ed9-1997-4498-a892-75dd14183af9",
   "metadata": {
    "tags": []
   },
   "outputs": [
    {
     "data": {
      "text/plain": [
       "set()"
      ]
     },
     "execution_count": 17,
     "metadata": {},
     "output_type": "execute_result"
    }
   ],
   "source": [
    "errors"
   ]
  },
  {
   "cell_type": "code",
   "execution_count": 19,
   "id": "2d22130a-d55f-4876-9d4a-4541ada7d6f3",
   "metadata": {
    "tags": []
   },
   "outputs": [
    {
     "name": "stdout",
     "output_type": "stream",
     "text": [
      "4715\n"
     ]
    }
   ],
   "source": [
    "trials_uids = set([])\n",
    "trials_f = '/home/yangwenhao/project/lstm_speaker_verification/data/vox1/test/trials'\n",
    "\n",
    "with open(trials_f, 'r') as f:\n",
    "    for l in f.readlines():\n",
    "        a, b, c = l.split()\n",
    "        trials_uids.add(a)\n",
    "        trials_uids.add(b)\n",
    "        \n",
    "    \n",
    "print(len(trials_uids))"
   ]
  },
  {
   "cell_type": "code",
   "execution_count": null,
   "id": "a31b67e9-c6fe-4877-8cb8-12ca66bf356b",
   "metadata": {},
   "outputs": [],
   "source": [
    "trials = set([])\n",
    "trials_f = '/home/yangwenhao/project/lstm_speaker_verification/data/vox1/test/trials'\n",
    "\n",
    "with open(trials_f, 'r') as f:\n",
    "    for l in f.readlines():\n",
    "        a, b,c = l.split()\n",
    "        a += '-radchn2'\n",
    "        b += '-radchn2'\n",
    "        \n",
    "        trials.append(' '.join([a, b, c]))"
   ]
  },
  {
   "cell_type": "markdown",
   "id": "54901733-c460-4ec2-baf0-a4b6051e9781",
   "metadata": {},
   "source": [
    "### Bandpass"
   ]
  },
  {
   "cell_type": "code",
   "execution_count": 5,
   "id": "081c6229-4294-4394-af59-b3601451a359",
   "metadata": {
    "tags": []
   },
   "outputs": [],
   "source": [
    "from Process_Data.audio_processing import butter_bandpass_filter\n",
    "import os\n",
    "import soundfile as sf\n",
    "from tqdm import tqdm"
   ]
  },
  {
   "cell_type": "markdown",
   "id": "30383ed1-2b77-4b9a-9e27-dac3435b7ce7",
   "metadata": {},
   "source": [
    "```bash\n",
    "utils/copy_data_dir.sh --utt-suffix -bdpass data/vox1/test data/vox1/test_bandpas\n",
    "```"
   ]
  },
  {
   "cell_type": "code",
   "execution_count": 7,
   "id": "eb659281-ddb4-4e55-a375-87239a7fbcd2",
   "metadata": {
    "tags": []
   },
   "outputs": [
    {
     "name": "stderr",
     "output_type": "stream",
     "text": [
      "100%|█████████| 4874/4874 [00:55<00:00, 87.14it/s]\n"
     ]
    }
   ],
   "source": [
    "subset = 'test_bandpass' #test_radio_chn2\n",
    "wav_scp = '/home/yangwenhao/project/lstm_speaker_verification/data/vox1/%s/wav.scp'%(subset)\n",
    "new_wavscp = []\n",
    "\n",
    "lowfreq=300\n",
    "highfreq=3000\n",
    "\n",
    "with open(wav_scp, 'r') as f:\n",
    "    for l in tqdm(f.readlines(), ncols=50):\n",
    "        uid, upath = l.split()\n",
    "        y,sr = sf.read(upath)\n",
    "        \n",
    "        bp_y = butter_bandpass_filter(\n",
    "            data=y, cutoff=[lowfreq, highfreq], fs=sr)\n",
    "        \n",
    "        # /home/yangwenhao/dataset/voxceleb1/voxceleb1_wav/vox1_test_wav/wav/id10270/5r0dWxy17C8/00001.wav\n",
    "        bp_upath = upath.replace('/wav/', '/wav_bandpass/')\n",
    "        bp_upath_dir = os.path.dirname(bp_upath)\n",
    "        if not os.path.exists(bp_upath_dir):\n",
    "            os.makedirs(bp_upath_dir)\n",
    "        \n",
    "        sf.write(bp_upath, bp_y, samplerate=sr)\n",
    "        new_wavscp.append(' '.join([uid, bp_upath]))\n",
    "        # wavscp_dict[uid] = upath\n",
    "        \n",
    "with open(wav_scp, 'w') as f:\n",
    "    for l in new_wavscp:\n",
    "        f.write(l + '\\n')"
   ]
  },
  {
   "cell_type": "markdown",
   "id": "29757c9e-64f3-4f93-8e4d-6f97cafc8685",
   "metadata": {},
   "source": [
    "#### Trials_Bandpass"
   ]
  },
  {
   "cell_type": "code",
   "execution_count": 8,
   "id": "209b1bdf-213b-4c29-93cf-c34659d56752",
   "metadata": {
    "tags": []
   },
   "outputs": [
    {
     "name": "stdout",
     "output_type": "stream",
     "text": [
      "id10270-x6uYqmx31kE-00001-bdpass id10270-8jEAjG6SegY-00008-bdpass target\n"
     ]
    }
   ],
   "source": [
    "suffix = '' #'-bdpass'\n",
    "subset = '' #'test_bandpass'\n",
    "trials_name = '' # 'trials_bandpass'\n",
    "\n",
    "trials = []\n",
    "trials_f = '/home/yangwenhao/project/lstm_speaker_verification/data/vox1/%s/trials'%(subset)\n",
    "\n",
    "with open(trials_f, 'r') as f:\n",
    "    for l in f.readlines():\n",
    "        a, b,c = l.split()\n",
    "        a += suffix\n",
    "        b += suffix\n",
    "        \n",
    "        trials.append(' '.join([a, b, c]))\n",
    "print(trials[0])\n",
    "\n",
    "trials_f = '/home/yangwenhao/project/lstm_speaker_verification/data/vox1/%s/%s'%(subset, trials_name)\n",
    "with open(trials_f, 'w') as f:\n",
    "    for l in trials:\n",
    "        f.write(l + '\\n')"
   ]
  },
  {
   "cell_type": "markdown",
   "id": "9d872cab-6b86-42fa-8e2d-d0ad8524a496",
   "metadata": {},
   "source": [
    "#### Trials_xcross"
   ]
  },
  {
   "cell_type": "code",
   "execution_count": 9,
   "id": "05d8e5d6-531a-438c-b011-4a69bc7ab94e",
   "metadata": {
    "tags": []
   },
   "outputs": [],
   "source": [
    "trials = set([])\n",
    "trials_f = '/home/yangwenhao/project/lstm_speaker_verification/data/vox1/%s/trials'%(subset)\n",
    "trials_name = '' # 'trials_bandcross'\n",
    "\n",
    "\n",
    "with open(trials_f, 'r') as f:\n",
    "    for l in f.readlines():\n",
    "        a, b,c = l.split()\n",
    "        trials.add(' '.join([a+'-bdpass', b, c]))   \n",
    "        trials.add(' '.join([a, b+'-bdpass', c]))\n",
    "          \n",
    "trials_f = '/home/yangwenhao/project/lstm_speaker_verification/data/vox1/%s/%s'%(subset, trials_name)\n",
    "with open(trials_f, 'w') as f:\n",
    "    for l in trials:\n",
    "        f.write(l + '\\n')"
   ]
  },
  {
   "cell_type": "markdown",
   "id": "76c0e69b-2503-4424-ab17-6cd623e7e2fd",
   "metadata": {},
   "source": [
    "#### Trials_xy\n"
   ]
  },
  {
   "cell_type": "code",
   "execution_count": 10,
   "id": "3b7c9271-13db-40d7-ba1e-cf60df1e1925",
   "metadata": {
    "tags": []
   },
   "outputs": [],
   "source": [
    "trials = set([])\n",
    "trials_f = '/home/yangwenhao/project/lstm_speaker_verification/data/vox1/%s/trials'%(subset)\n",
    "\n",
    "with open(trials_f, 'r') as f:\n",
    "    for l in f.readlines():\n",
    "        a, b,c = l.split()\n",
    "        trials.add(' '.join([a+'-bdpass', b+'-radchn2', c]))   \n",
    "        trials.add(' '.join([a+'-radchn2', b+'-bdpass', c]))\n",
    "          \n",
    "trials_f = '/home/yangwenhao/project/lstm_speaker_verification/data/vox1/%s/trials_bandradio'%(subset)\n",
    "with open(trials_f, 'w') as f:\n",
    "    for l in trials:\n",
    "        f.write(l + '\\n')"
   ]
  },
  {
   "cell_type": "code",
   "execution_count": null,
   "id": "66c98531-4552-443b-9640-03c3f3592042",
   "metadata": {},
   "outputs": [],
   "source": []
  }
 ],
 "metadata": {
  "kernelspec": {
   "display_name": "model",
   "language": "python",
   "name": "model"
  },
  "language_info": {
   "codemirror_mode": {
    "name": "ipython",
    "version": 3
   },
   "file_extension": ".py",
   "mimetype": "text/x-python",
   "name": "python",
   "nbconvert_exporter": "python",
   "pygments_lexer": "ipython3",
   "version": "3.8.17"
  }
 },
 "nbformat": 4,
 "nbformat_minor": 5
}
