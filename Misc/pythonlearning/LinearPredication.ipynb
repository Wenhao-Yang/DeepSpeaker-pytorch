{
 "cells": [
  {
   "cell_type": "code",
   "execution_count": 1,
   "metadata": {},
   "outputs": [],
   "source": [
    "import torch\n",
    "from torch.autograd import Variable\n",
    "import numpy as np\n",
    "import torch.nn as nn"
   ]
  },
  {
   "cell_type": "code",
   "execution_count": 40,
   "metadata": {},
   "outputs": [],
   "source": [
    "class LinearClassification(nn.Module):\n",
    "    def __init__(self, in_plane, out_plane):\n",
    "        super(LinearClassification, self).__init__()\n",
    "        self.fc1 = nn.Linear(in_plane, out_plane)\n",
    "        nn.init.constant_(self.fc1.weight, 1)\n",
    "        nn.init.constant_(self.fc1.bias, 0)\n",
    "        \n",
    "    def forward(self, x):\n",
    "        return self.fc1(x)"
   ]
  },
  {
   "cell_type": "code",
   "execution_count": 88,
   "metadata": {},
   "outputs": [
    {
     "data": {
      "text/plain": [
       "tensor([23.], requires_grad=True)"
      ]
     },
     "execution_count": 88,
     "metadata": {},
     "output_type": "execute_result"
    }
   ],
   "source": [
    "x = Variable(torch.tensor([23.0]), requires_grad=True)\n",
    "x\n"
   ]
  },
  {
   "cell_type": "code",
   "execution_count": 89,
   "metadata": {},
   "outputs": [],
   "source": [
    "# model = LinearClassification(2, 3)\n",
    "w = nn.Parameter(torch.Tensor([[1, 0], [0, 1]]))\n",
    "optimizer = torch.optim.SGD([x,], lr=0.1, momentum=0)\n"
   ]
  },
  {
   "cell_type": "code",
   "execution_count": 90,
   "metadata": {},
   "outputs": [
    {
     "data": {
      "text/plain": [
       "tensor([1, 0, 0])"
      ]
     },
     "execution_count": 90,
     "metadata": {},
     "output_type": "execute_result"
    }
   ],
   "source": [
    "label = torch.LongTensor([1, 0, 0])\n",
    "label"
   ]
  },
  {
   "cell_type": "code",
   "execution_count": 92,
   "metadata": {},
   "outputs": [
    {
     "name": "stdout",
     "output_type": "stream",
     "text": [
      "Epoch: 0, \n",
      "x: tensor([-0.8549]) \n",
      "y: tensor([-11.9579]), \n",
      "x grad: tensor([0.5805])\n",
      "\n",
      "Epoch: 1, \n",
      "x: tensor([-0.9129]) \n",
      "y: tensor([-11.9848]), \n",
      "x grad: tensor([0.3483])\n",
      "\n",
      "Epoch: 2, \n",
      "x: tensor([-0.9478]) \n",
      "y: tensor([-11.9945]), \n",
      "x grad: tensor([0.2090])\n",
      "\n",
      "Epoch: 3, \n",
      "x: tensor([-0.9687]) \n",
      "y: tensor([-11.9980]), \n",
      "x grad: tensor([0.1254])\n",
      "\n",
      "Epoch: 4, \n",
      "x: tensor([-0.9812]) \n",
      "y: tensor([-11.9993]), \n",
      "x grad: tensor([0.0752])\n",
      "\n",
      "Epoch: 5, \n",
      "x: tensor([-0.9887]) \n",
      "y: tensor([-11.9997]), \n",
      "x grad: tensor([0.0451])\n",
      "\n",
      "Epoch: 6, \n",
      "x: tensor([-0.9932]) \n",
      "y: tensor([-11.9999]), \n",
      "x grad: tensor([0.0271])\n",
      "\n",
      "Epoch: 7, \n",
      "x: tensor([-0.9959]) \n",
      "y: tensor([-12.0000]), \n",
      "x grad: tensor([0.0162])\n",
      "\n",
      "Epoch: 8, \n",
      "x: tensor([-0.9976]) \n",
      "y: tensor([-12.0000]), \n",
      "x grad: tensor([0.0097])\n",
      "\n",
      "Epoch: 9, \n",
      "x: tensor([-0.9985]) \n",
      "y: tensor([-12.0000]), \n",
      "x grad: tensor([0.0058])\n",
      "\n",
      "Epoch: 10, \n",
      "x: tensor([-0.9991]) \n",
      "y: tensor([-12.0000]), \n",
      "x grad: tensor([0.0035])\n",
      "\n",
      "Epoch: 11, \n",
      "x: tensor([-0.9995]) \n",
      "y: tensor([-12.0000]), \n",
      "x grad: tensor([0.0021])\n",
      "\n",
      "Epoch: 12, \n",
      "x: tensor([-0.9997]) \n",
      "y: tensor([-12.]), \n",
      "x grad: tensor([0.0013])\n",
      "\n",
      "Epoch: 13, \n",
      "x: tensor([-0.9998]) \n",
      "y: tensor([-12.]), \n",
      "x grad: tensor([0.0008])\n",
      "\n",
      "Epoch: 14, \n",
      "x: tensor([-0.9999]) \n",
      "y: tensor([-12.]), \n",
      "x grad: tensor([0.0005])\n",
      "\n"
     ]
    }
   ],
   "source": [
    "for epoch in range(15):\n",
    "    \n",
    "#     y = model(x)\n",
    "\n",
    "#     ce = nn.CrossEntropyLoss()\n",
    "#     loss = ce(y, label)\n",
    "    y = 2 * x**2 + 4*x  - 10\n",
    "    \n",
    "    optimizer.zero_grad()\n",
    "    y.backward()\n",
    "    \n",
    "    print('Epoch: {}, \\nx: {} \\ny: {}, \\nx grad: {}\\n'.format(epoch, x.data, y.data, x.grad))\n",
    "    optimizer.step()\n",
    "\n"
   ]
  },
  {
   "cell_type": "code",
   "execution_count": null,
   "metadata": {},
   "outputs": [],
   "source": []
  }
 ],
 "metadata": {
  "kernelspec": {
   "display_name": "Python 3",
   "language": "python",
   "name": "python3"
  },
  "language_info": {
   "codemirror_mode": {
    "name": "ipython",
    "version": 3
   },
   "file_extension": ".py",
   "mimetype": "text/x-python",
   "name": "python",
   "nbconvert_exporter": "python",
   "pygments_lexer": "ipython3",
   "version": "3.5.1"
  }
 },
 "nbformat": 4,
 "nbformat_minor": 2
}
