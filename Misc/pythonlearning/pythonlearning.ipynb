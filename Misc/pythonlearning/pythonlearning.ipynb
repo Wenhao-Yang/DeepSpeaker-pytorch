{
 "cells": [
  {
   "cell_type": "code",
   "execution_count": 9,
   "id": "d29f174d-cab8-4680-ab4c-e6d0ce5a8212",
   "metadata": {},
   "outputs": [],
   "source": [
    "def a1(b):\n",
    "    b[0]=1.2\n",
    "    \n",
    "def a2(b):\n",
    "    b[0]=1.5"
   ]
  },
  {
   "cell_type": "code",
   "execution_count": 1,
   "id": "dbdeff6f-b3c5-48a8-9d71-fea4a06e7165",
   "metadata": {},
   "outputs": [],
   "source": [
    "import torch\n",
    "import torch.nn as nn"
   ]
  },
  {
   "cell_type": "code",
   "execution_count": 10,
   "id": "d6a374fe-93fb-4308-a932-1e52773759e7",
   "metadata": {},
   "outputs": [
    {
     "name": "stdout",
     "output_type": "stream",
     "text": [
      "[0, 1, 2]\n",
      "[1.2, 1, 2]\n",
      "[1.5, 1, 2]\n"
     ]
    }
   ],
   "source": [
    "c = [0,1,2]\n",
    "print(c)\n",
    "\n",
    "a1(c)\n",
    "print(c)\n",
    "\n",
    "\n",
    "a2(b=c)\n",
    "print(c)\n"
   ]
  },
  {
   "cell_type": "code",
   "execution_count": 11,
   "id": "f713a635-0b8a-478e-b531-12eb59611e23",
   "metadata": {},
   "outputs": [
    {
     "data": {
      "text/plain": [
       "True"
      ]
     },
     "execution_count": 11,
     "metadata": {},
     "output_type": "execute_result"
    }
   ],
   "source": [
    "isinstance('s', str)"
   ]
  },
  {
   "cell_type": "code",
   "execution_count": 15,
   "id": "3c7b7e89-24de-4a1a-a0ca-607bb596ed1b",
   "metadata": {},
   "outputs": [],
   "source": [
    "a =  torch.randn(4,256)\n",
    "b =  torch.randn(2,256)"
   ]
  },
  {
   "cell_type": "code",
   "execution_count": 20,
   "id": "f806c231-248e-4ee3-b33d-bc0dc525ca2b",
   "metadata": {},
   "outputs": [
    {
     "name": "stdout",
     "output_type": "stream",
     "text": [
      "tensor(32.9661)\n",
      "tensor(22.9427)\n",
      "tensor(1.0000)\n",
      "tensor(1.0000)\n"
     ]
    },
    {
     "data": {
      "text/plain": [
       "tensor(-0.0058)"
      ]
     },
     "execution_count": 20,
     "metadata": {},
     "output_type": "execute_result"
    }
   ],
   "source": [
    "print(a.norm(2))\n",
    "print(b.norm(2))\n",
    "\n",
    "a_norm = a/a.norm(2)\n",
    "b_norm = b/b.norm(2)\n",
    "\n",
    "print(a_norm.norm(2))\n",
    "print(b_norm.norm(2))\n",
    "\n",
    "\n",
    "a_norm.matmul(b_norm.T).mean()"
   ]
  },
  {
   "cell_type": "code",
   "execution_count": 1,
   "id": "9f32d1fb-a857-4933-9bcb-d21c8bc32a24",
   "metadata": {},
   "outputs": [],
   "source": [
    "from pytorch_lightning import LightningModule"
   ]
  },
  {
   "cell_type": "code",
   "execution_count": 2,
   "id": "97653898-abb9-426a-bdfd-ea8c4fbcacf6",
   "metadata": {},
   "outputs": [],
   "source": [
    "from Light.model import SpeakerModule\n",
    "from hyperpyyaml import load_hyperpyyaml\n",
    "from Light.dataset import SubDatasets, SubLoaders\n",
    "import time"
   ]
  },
  {
   "cell_type": "code",
   "execution_count": 24,
   "id": "bf0e4433-d555-4fca-9550-562907920f47",
   "metadata": {},
   "outputs": [],
   "source": [
    "config_yaml = '../TrainAndTest/Fbank/ResNets/cnc1_resnet_light.yaml'\n",
    "with open(config_yaml, 'r') as f:\n",
    "        config_args = load_hyperpyyaml(f)"
   ]
  },
  {
   "cell_type": "code",
   "execution_count": 39,
   "id": "e533d539-cdc7-41c9-adaf-9f5d9457ea97",
   "metadata": {},
   "outputs": [
    {
     "name": "stderr",
     "output_type": "stream",
     "text": [
      "100%|███████████████████████████████████████████████████| 408064/408064 [00:00<00:00, 575813.85it/s]\n"
     ]
    },
    {
     "name": "stdout",
     "output_type": "stream",
     "text": [
      "==> There are 797 speakers in Dataset.\n",
      "    There are 408064 egs in Dataset\n"
     ]
    },
    {
     "name": "stderr",
     "output_type": "stream",
     "text": [
      "100%|███████████████████████████████████████████████████████| 1578/1578 [00:00<00:00, 603557.52it/s]"
     ]
    },
    {
     "name": "stdout",
     "output_type": "stream",
     "text": [
      "==> There are 792 speakers in Dataset.\n",
      "    There are 1578 egs in Dataset\n"
     ]
    },
    {
     "name": "stderr",
     "output_type": "stream",
     "text": [
      "\n"
     ]
    }
   ],
   "source": [
    "train_dir, valid_dir, train_extract_dir = SubDatasets(config_args)\n",
    "\n",
    "model = SpeakerModule(config_args=config_args, train_dir=train_dir)"
   ]
  },
  {
   "cell_type": "code",
   "execution_count": 28,
   "id": "f2022d89-9e4f-4f2d-89ee-9491a0feff35",
   "metadata": {},
   "outputs": [],
   "source": [
    "model._set_hparams(config_args)"
   ]
  },
  {
   "cell_type": "code",
   "execution_count": 31,
   "id": "d3d36d48-8a92-4e61-88ce-214dd466362f",
   "metadata": {},
   "outputs": [
    {
     "data": {
      "text/plain": [
       "Define_Model.Loss.SoftmaxLoss.AdditiveMarginLinear"
      ]
     },
     "execution_count": 31,
     "metadata": {},
     "output_type": "execute_result"
    }
   ],
   "source": [
    "type(model.hparams.classifier)\n"
   ]
  },
  {
   "cell_type": "code",
   "execution_count": 41,
   "id": "ab97fd21-4eb2-4da8-b326-fda046324e9e",
   "metadata": {},
   "outputs": [],
   "source": [
    "model._set_hparams({'config_args': config_args})"
   ]
  },
  {
   "cell_type": "code",
   "execution_count": null,
   "id": "77285757-11f9-4059-aa6c-5630e1dd5114",
   "metadata": {},
   "outputs": [],
   "source": [
    "model.hparams"
   ]
  },
  {
   "cell_type": "code",
   "execution_count": 50,
   "id": "084f2654-b1a9-4808-8f2d-cb4b888d4987",
   "metadata": {},
   "outputs": [],
   "source": [
    "class CBAM(nn.Module):\n",
    "    # input should be like [Batch, channel, time, frequency]\n",
    "    def __init__(self, inplanes, planes, time_freq='both'):\n",
    "        super(CBAM, self).__init__()\n",
    "        self.time_freq = time_freq\n",
    "\n",
    "        self.cov_t = nn.Conv2d(inplanes, planes, kernel_size=(\n",
    "            7, 1), stride=1, padding=(3, 0))\n",
    "        self.avg_t = nn.AdaptiveAvgPool2d((None, 1))\n",
    "\n",
    "        self.cov_f = nn.Conv2d(inplanes, planes, kernel_size=(\n",
    "            1, 7), stride=1, padding=(0, 3))\n",
    "        self.avg_f = nn.AdaptiveAvgPool2d((1, None))\n",
    "\n",
    "        self.activation = nn.Sigmoid()\n",
    "\n",
    "    def forward(self, input):\n",
    "        t_output = input.mean(dim=2, keepdim=True)\n",
    "        t_output = self.cov_t(t_output)\n",
    "        t_output = self.activation(t_output)\n",
    "        t_output = input * t_output\n",
    "\n",
    "        f_output = input.mean(dim=3, keepdim=True)\n",
    "        f_output = self.cov_f(f_output)\n",
    "        f_output = self.activation(f_output)\n",
    "        f_output = input * f_output\n",
    "\n",
    "        output = (t_output + f_output) / 2\n",
    "\n",
    "        return output\n",
    "    \n",
    "class CBAM2(nn.Module):\n",
    "    # input should be like [Batch, channel, time, frequency]\n",
    "    def __init__(self, inplanes, planes, time_freq='both'):\n",
    "        super(CBAM2, self).__init__()\n",
    "        self.time_freq = time_freq\n",
    "\n",
    "        self.cov_t = nn.Conv2d(inplanes, planes, kernel_size=(\n",
    "            7, 1), stride=1, padding=(3, 0))\n",
    "        self.avg_t = nn.AdaptiveAvgPool2d((None, 1))\n",
    "\n",
    "        self.cov_f = nn.Conv2d(inplanes, planes, kernel_size=(\n",
    "            1, 7), stride=1, padding=(0, 3))\n",
    "        self.avg_f = nn.AdaptiveAvgPool2d((1, None))\n",
    "\n",
    "        self.activation = nn.Sigmoid()\n",
    "\n",
    "    def forward(self, input):\n",
    "        t_output = self.avg_t(input)\n",
    "        t_output = self.cov_t(t_output)\n",
    "        t_output = self.activation(t_output)\n",
    "        t_output = input * t_output\n",
    "\n",
    "        f_output = self.avg_f(input)\n",
    "        f_output = self.cov_f(f_output)\n",
    "        f_output = self.activation(f_output)\n",
    "        f_output = input * f_output\n",
    "\n",
    "        output = (t_output + f_output) / 2\n",
    "\n",
    "        return output\n",
    "    \n",
    "class CBAM3(nn.Module):\n",
    "    # input should be like [Batch, channel, time, frequency]\n",
    "    def __init__(self, inplanes, planes, time_freq='both'):\n",
    "        super(CBAM3, self).__init__()\n",
    "        self.time_freq = time_freq\n",
    "\n",
    "        self.cov_t = nn.Conv2d(inplanes, planes, kernel_size=(\n",
    "            7, 1), stride=1, padding=(3, 0))\n",
    "        self.avg_t = nn.AdaptiveAvgPool2d((None, 1))\n",
    "\n",
    "        self.cov_f = nn.Conv2d(inplanes, planes, kernel_size=(\n",
    "            1, 7), stride=1, padding=(0, 3))\n",
    "        self.avg_f = nn.AdaptiveAvgPool2d((1, None))\n",
    "\n",
    "        self.activation = nn.Sigmoid()\n",
    "\n",
    "    def forward(self, input):\n",
    "        t_output = input.mean(dim=2, keepdim=True)\n",
    "        t_output = self.cov_t(t_output)\n",
    "        t_output = self.activation(t_output)\n",
    "        print(t_output.shape)\n",
    "        # t_output = input * \n",
    "        f_output = input.mean(dim=3, keepdim=True)\n",
    "        f_output = self.cov_f(f_output)\n",
    "        f_output = self.activation(f_output)\n",
    "        print(f_output.shape)\n",
    "        \n",
    "        print((t_output+f_output).shape)\n",
    "        \n",
    "        print( ((t_output+f_output) / 2 * input) == ((t_output*input + f_output*input) / 2))\n",
    "        # f_output = input * f_output\n",
    "        output = (t_output+f_output) / 2 * input\n",
    "\n",
    "        return output"
   ]
  },
  {
   "cell_type": "code",
   "execution_count": 51,
   "id": "c85d146f-38e6-4659-bda4-0e3465e25b29",
   "metadata": {},
   "outputs": [],
   "source": [
    "x = torch.randn(128, 16, 200, 40)\n",
    "cbam = CBAM(16, 16)\n",
    "cbam2 = CBAM2(16, 16)\n",
    "cbam3 = CBAM3(16, 16)"
   ]
  },
  {
   "cell_type": "code",
   "execution_count": 40,
   "id": "361dd80f-265d-43bb-af9d-783bb03203f2",
   "metadata": {},
   "outputs": [
    {
     "name": "stdout",
     "output_type": "stream",
     "text": [
      "3.5034573078155518 3.5351667404174805 2.6490159034729004\n"
     ]
    }
   ],
   "source": [
    "loops = 50\n",
    "start = time.time()\n",
    "for i in range(loops):\n",
    "    y = cbam(x)\n",
    "dur1 = time.time() -start\n",
    "# print(dur)\n",
    "\n",
    "start = time.time()\n",
    "for i in range(loops):\n",
    "    y = cbam2(x)\n",
    "dur2 = time.time() -start\n",
    "\n",
    "start = time.time()\n",
    "for i in range(loops):\n",
    "    y = cbam3(x)\n",
    "dur3 = time.time() -start\n",
    "\n",
    "\n",
    "start = time.time()\n",
    "for i in range(loops):\n",
    "    y = cbam2(x)\n",
    "dur2 += time.time() -start\n",
    "\n",
    "\n",
    "start = time.time()\n",
    "for i in range(loops):\n",
    "    y = cbam(x)\n",
    "dur1 += time.time() -start\n",
    "\n",
    "start = time.time()\n",
    "for i in range(loops):\n",
    "    y = cbam3(x)\n",
    "dur3 += time.time() -start\n",
    "\n",
    "\n",
    "print(dur1, dur2, dur3)"
   ]
  },
  {
   "cell_type": "code",
   "execution_count": 78,
   "id": "ecd4c1c9-d9cb-4eed-8a62-c6f8558669b4",
   "metadata": {},
   "outputs": [],
   "source": [
    "a = torch.randn(10, 16, 1, 40)\n",
    "b = torch.randn(10, 16, 100, 1)\n",
    "c = torch.randn(10, 16, 100, 40)\n",
    "# a"
   ]
  },
  {
   "cell_type": "code",
   "execution_count": 79,
   "id": "e42c7c2c-caf6-4d43-ad77-79a187e4d17b",
   "metadata": {},
   "outputs": [
    {
     "name": "stdout",
     "output_type": "stream",
     "text": [
      "tensor(0)\n"
     ]
    }
   ],
   "source": [
    "d = a*c + b*c\n",
    "e = (a+b)*c\n",
    "\n",
    "print((d - e > 1e-6).sum())"
   ]
  },
  {
   "cell_type": "code",
   "execution_count": 58,
   "id": "bc8cbb47-4e8b-43f6-b26c-57cc7b7f1d39",
   "metadata": {},
   "outputs": [],
   "source": [
    "f = (a.repeat(1,1,100,1) + b.repeat(1,1,1,40))*c"
   ]
  },
  {
   "cell_type": "code",
   "execution_count": 80,
   "id": "f84e8aca-0cfc-4d97-83d7-506e3698f7cb",
   "metadata": {},
   "outputs": [
    {
     "name": "stdout",
     "output_type": "stream",
     "text": [
      "tensor(0)\n"
     ]
    }
   ],
   "source": [
    "print((d - e > 1e-6).sum())"
   ]
  },
  {
   "cell_type": "code",
   "execution_count": 114,
   "id": "416c1d37-187c-49a7-b865-b8f9589ce1d9",
   "metadata": {},
   "outputs": [],
   "source": [
    "class SqueezeExcitation(nn.Module):\n",
    "    # input should be like [Batch, channel, time, frequency]\n",
    "    def __init__(self, inplanes, reduction_ratio=4):\n",
    "        super(SqueezeExcitation, self).__init__()\n",
    "        self.reduction_ratio = reduction_ratio\n",
    "\n",
    "        self.glob_avg = nn.AdaptiveAvgPool2d((1, 1))\n",
    "        self.fc1 = nn.Linear(inplanes, max(\n",
    "            int(inplanes / self.reduction_ratio), 1))\n",
    "        self.relu = nn.ReLU(inplace=True)\n",
    "        self.fc2 = nn.Linear(\n",
    "            max(int(inplanes / self.reduction_ratio), 1), inplanes)\n",
    "        self.activation = nn.Sigmoid()\n",
    "\n",
    "    def forward(self, input):\n",
    "        scale = self.glob_avg(input).squeeze(dim=2).squeeze(dim=2)\n",
    "        scale = self.fc1(scale)\n",
    "        scale = self.relu(scale)\n",
    "        scale = self.fc2(scale)\n",
    "        scale = self.activation(scale).unsqueeze(2).unsqueeze(2)\n",
    "\n",
    "        output = input * scale\n",
    "\n",
    "        return output\n",
    "\n",
    "    def __repr__(self):\n",
    "        return \"SqueezeExcitation(reduction_ratio=%f)\" % self.reduction_ratio\n",
    "\n",
    "    \n",
    "class SqueezeExcitation2(nn.Module):\n",
    "    # input should be like [Batch, channel, time, frequency]\n",
    "    def __init__(self, inplanes, reduction_ratio=4):\n",
    "        super(SqueezeExcitation2, self).__init__()\n",
    "        self.reduction_ratio = reduction_ratio\n",
    "\n",
    "        self.glob_avg = nn.AdaptiveAvgPool2d((1, 1))\n",
    "        self.fc1 = nn.Conv1d(inplanes, max(\n",
    "            int(inplanes / self.reduction_ratio), 1), kernel_size=1)\n",
    "        self.relu = nn.ReLU(inplace=True)\n",
    "        self.fc2 = nn.Conv1d(\n",
    "            max(int(inplanes / self.reduction_ratio), 1), inplanes, kernel_size=1)\n",
    "        self.activation = nn.Sigmoid()\n",
    "\n",
    "    def forward(self, input):\n",
    "        scale = self.glob_avg(input).squeeze(dim=2)\n",
    "        # print(scale)\n",
    "        scale = self.fc1(scale)\n",
    "        scale = self.relu(scale)\n",
    "        scale = self.fc2(scale)\n",
    "        scale = self.activation(scale).unsqueeze(2)\n",
    "\n",
    "        output = input * scale\n",
    "\n",
    "        return output\n",
    "\n",
    "    def __repr__(self):\n",
    "        return \"SqueezeExcitation2(reduction_ratio=%f)\" % self.reduction_ratio\n"
   ]
  },
  {
   "cell_type": "code",
   "execution_count": 115,
   "id": "3b70bcbc-fc43-4f37-a551-f48a4a43cb0b",
   "metadata": {},
   "outputs": [],
   "source": [
    "x = torch.randn(256, 16, 200, 40)\n",
    "cbam1 = SqueezeExcitation(16, 2)\n",
    "cbam2 = SqueezeExcitation2(16, 2)\n"
   ]
  },
  {
   "cell_type": "code",
   "execution_count": 116,
   "id": "b7b4b6cb-106b-4fd5-b53d-84ef0918e4bc",
   "metadata": {},
   "outputs": [
    {
     "name": "stdout",
     "output_type": "stream",
     "text": [
      "4.63132905960083 4.759135484695435\n"
     ]
    }
   ],
   "source": [
    "loops = 100\n",
    "start = time.time()\n",
    "for i in range(loops):\n",
    "    y = cbam1(x)\n",
    "dur1 = time.time() -start\n",
    "# print(dur)\n",
    "\n",
    "start = time.time()\n",
    "for i in range(loops):\n",
    "    y = cbam2(x)\n",
    "dur2 = time.time() -start\n",
    "\n",
    "start = time.time()\n",
    "for i in range(loops):\n",
    "    y = cbam2(x)\n",
    "dur2 += time.time() -start\n",
    "\n",
    "start = time.time()\n",
    "for i in range(loops):\n",
    "    y = cbam1(x)\n",
    "dur1 += time.time() -start\n",
    "\n",
    "print(dur1, dur2)\n",
    "# 1.1559534072875977 1.2867701053619385"
   ]
  },
  {
   "cell_type": "code",
   "execution_count": 86,
   "id": "2204145a-a332-4afd-a44f-64117805ac8e",
   "metadata": {},
   "outputs": [
    {
     "data": {
      "text/plain": [
       "tensor(8194653)"
      ]
     },
     "execution_count": 86,
     "metadata": {},
     "output_type": "execute_result"
    }
   ],
   "source": [
    "(cbam1(x) - cbam2(x) > 1e-6).sum()"
   ]
  },
  {
   "cell_type": "code",
   "execution_count": 117,
   "id": "4006b330-48ff-4b49-ac62-58f5a22c2329",
   "metadata": {},
   "outputs": [],
   "source": [
    "import torch.nn.functional as F\n"
   ]
  },
  {
   "cell_type": "code",
   "execution_count": 118,
   "id": "447e89f3-ffe3-43e1-b8fe-fe6dbe4ff740",
   "metadata": {},
   "outputs": [],
   "source": [
    "class Conv1dReluBn(nn.Module):\n",
    "    def __init__(self, in_channels, out_channels, kernel_size=1, stride=1, padding=0, dilation=1, bias=False):\n",
    "        super().__init__()\n",
    "        self.conv = nn.Conv1d(in_channels, out_channels, kernel_size, stride, padding, dilation, bias=bias)\n",
    "        self.bn = nn.BatchNorm1d(out_channels)\n",
    "\n",
    "    def forward(self, x):\n",
    "        return self.bn(F.relu(self.conv(x)))"
   ]
  },
  {
   "cell_type": "code",
   "execution_count": 165,
   "id": "c78cd051-efab-4efb-87d0-6475103f26c8",
   "metadata": {},
   "outputs": [],
   "source": [
    "from Define_Model.model import AttrDict"
   ]
  },
  {
   "cell_type": "code",
   "execution_count": 166,
   "id": "468ec1b2-9808-4026-913a-0b9546c76a2d",
   "metadata": {},
   "outputs": [],
   "source": [
    "config_args = {'a':1, 'b':2, 'c':3}\n",
    "at = AttrDict(config_args)"
   ]
  },
  {
   "cell_type": "code",
   "execution_count": 169,
   "id": "abbea51e-9c24-42ec-86b2-75f6ee3352b1",
   "metadata": {},
   "outputs": [
    {
     "data": {
      "text/plain": [
       "{'a': 1, 'b': 2, 'c': 3}"
      ]
     },
     "execution_count": 169,
     "metadata": {},
     "output_type": "execute_result"
    }
   ],
   "source": []
  },
  {
   "cell_type": "code",
   "execution_count": 170,
   "id": "f186791b-3698-4454-b67b-72308135c3ac",
   "metadata": {},
   "outputs": [
    {
     "data": {
      "text/plain": [
       "896.0"
      ]
     },
     "execution_count": 170,
     "metadata": {},
     "output_type": "execute_result"
    }
   ],
   "source": [
    "5370624/5994"
   ]
  },
  {
   "cell_type": "code",
   "execution_count": 171,
   "id": "79628d9c-491d-4a0c-8eab-7ea1fdb8f621",
   "metadata": {},
   "outputs": [
    {
     "data": {
      "text/plain": [
       "512.0"
      ]
     },
     "execution_count": 171,
     "metadata": {},
     "output_type": "execute_result"
    }
   ],
   "source": [
    "3068928/5994"
   ]
  },
  {
   "cell_type": "code",
   "execution_count": null,
   "id": "3213643f-8264-4337-b978-715c087a148a",
   "metadata": {},
   "outputs": [],
   "source": [
    "git config core.ignorecase false"
   ]
  },
  {
   "cell_type": "code",
   "execution_count": 3,
   "id": "a0a4e620-efb2-4066-810d-f37d94c18241",
   "metadata": {},
   "outputs": [],
   "source": [
    "import numpy as np"
   ]
  },
  {
   "cell_type": "code",
   "execution_count": 5,
   "id": "553efa2d-940d-40c0-a7fb-2ff1986ff17a",
   "metadata": {},
   "outputs": [],
   "source": [
    "a = np.random.randint(-32768, 32767, 16000, dtype='int16')"
   ]
  },
  {
   "cell_type": "code",
   "execution_count": 6,
   "id": "1f9b2fa2-05cd-49c2-b06c-ea807a93864f",
   "metadata": {},
   "outputs": [
    {
     "data": {
      "text/plain": [
       "array([ 17532,  -3628,  17938, ...,  10637, -16098, -15814], dtype=int16)"
      ]
     },
     "execution_count": 6,
     "metadata": {},
     "output_type": "execute_result"
    }
   ],
   "source": [
    "a"
   ]
  },
  {
   "cell_type": "code",
   "execution_count": 7,
   "id": "6cc9e6f3-cac0-4348-84eb-684df9a85d15",
   "metadata": {},
   "outputs": [
    {
     "data": {
      "text/plain": [
       "3.9000000000000004"
      ]
     },
     "execution_count": 7,
     "metadata": {},
     "output_type": "execute_result"
    }
   ],
   "source": [
    "np.random.randint(10, 20) * 0.1 + 2"
   ]
  },
  {
   "cell_type": "code",
   "execution_count": 11,
   "id": "530c2134-9be9-4268-a33c-701e30d5814d",
   "metadata": {},
   "outputs": [
    {
     "data": {
      "text/plain": [
       "6"
      ]
     },
     "execution_count": 11,
     "metadata": {},
     "output_type": "execute_result"
    }
   ],
   "source": [
    "len('\\0BFM \\04')"
   ]
  },
  {
   "cell_type": "code",
   "execution_count": null,
   "id": "06864c20-fcca-4a12-a10a-d2b00ca59f76",
   "metadata": {},
   "outputs": [],
   "source": []
  },
  {
   "cell_type": "code",
   "execution_count": 12,
   "id": "fbd0ff87-a02c-45b6-bea1-93b160eb1f87",
   "metadata": {},
   "outputs": [
    {
     "data": {
      "text/plain": [
       "[1, 2, 3, 1, 2, 3, 1, 2, 3]"
      ]
     },
     "execution_count": 12,
     "metadata": {},
     "output_type": "execute_result"
    }
   ],
   "source": [
    "[1,2,3]*3"
   ]
  },
  {
   "cell_type": "code",
   "execution_count": null,
   "id": "f4bf66bb-f488-4e1d-b01e-b4e07f6ae27d",
   "metadata": {},
   "outputs": [],
   "source": []
  }
 ],
 "metadata": {
  "kernelspec": {
   "display_name": "Python 3 (ipykernel)",
   "language": "python",
   "name": "python3"
  },
  "language_info": {
   "codemirror_mode": {
    "name": "ipython",
    "version": 3
   },
   "file_extension": ".py",
   "mimetype": "text/x-python",
   "name": "python",
   "nbconvert_exporter": "python",
   "pygments_lexer": "ipython3",
   "version": "3.8.10"
  }
 },
 "nbformat": 4,
 "nbformat_minor": 5
}
