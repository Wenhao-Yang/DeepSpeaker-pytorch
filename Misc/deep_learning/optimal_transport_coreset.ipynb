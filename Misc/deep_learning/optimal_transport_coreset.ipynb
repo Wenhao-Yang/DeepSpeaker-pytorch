{
 "cells": [
  {
   "cell_type": "markdown",
   "id": "2aa530c5-b207-4c25-af0f-3839c316d3ed",
   "metadata": {},
   "source": [
    "### Optimal Transport"
   ]
  },
  {
   "cell_type": "markdown",
   "id": "b11c502f-8ef9-4101-bd22-2227604fcecf",
   "metadata": {},
   "source": [
    "#### Embeddings"
   ]
  },
  {
   "cell_type": "code",
   "execution_count": 2,
   "id": "7d0454b2-3de7-42a6-aec6-a748615b06cc",
   "metadata": {},
   "outputs": [],
   "source": [
    "from Process_Data.Datasets.KaldiDataset import ScriptTrainDataset\n",
    "from Light.dataset import Sampler_Loaders, SubScriptDatasets\n",
    "\n",
    "import os\n",
    "from hyperpyyaml import load_hyperpyyaml\n",
    "from Light.model import SpeakerLoss\n",
    "from geomloss import SamplesLoss\n",
    "\n",
    "import torch\n",
    "import torch.nn as nn\n",
    "import matplotlib.pyplot as plt\n",
    "\n",
    "from tqdm import tqdm"
   ]
  },
  {
   "cell_type": "code",
   "execution_count": 3,
   "id": "c8e6a707-31d3-4a16-adab-06944e4737d1",
   "metadata": {},
   "outputs": [],
   "source": [
    "torch.cuda.set_device(1)\n",
    "device = 'cuda:1'"
   ]
  },
  {
   "cell_type": "code",
   "execution_count": 4,
   "id": "cc16ee30-f340-45e7-9054-6f78b985f81e",
   "metadata": {},
   "outputs": [],
   "source": [
    "data_root = '/home/yangwenhao/project/SpeakerVerification-pytorch'"
   ]
  },
  {
   "cell_type": "code",
   "execution_count": 5,
   "id": "c32483df-b06f-43c9-bdc6-5483234b5c01",
   "metadata": {},
   "outputs": [],
   "source": [
    "# train_config = 'data/vox2/model.2024.01.29.yaml'\n",
    "train_config = 'data/vox1/model.2024.03.15.yaml'"
   ]
  },
  {
   "cell_type": "code",
   "execution_count": 6,
   "id": "69b80bd5-bf59-46e7-81e0-06fe60528d83",
   "metadata": {},
   "outputs": [],
   "source": [
    "with open(train_config, 'r') as f:\n",
    "    config_args = load_hyperpyyaml(f)"
   ]
  },
  {
   "cell_type": "code",
   "execution_count": 8,
   "id": "210e738a-349d-403e-8928-ca30ad36b447",
   "metadata": {},
   "outputs": [],
   "source": [
    "if 'embedding_model' in config_args:\n",
    "    model = config_args['embedding_model']\n",
    "\n",
    "if 'classifier' in config_args:\n",
    "    model.classifier = config_args['classifier']\n",
    "# else:\n",
    "#     if not isinstance(model.classifier, Classifier):\n",
    "#         create_classifier(model, **config_args)"
   ]
  },
  {
   "cell_type": "code",
   "execution_count": 9,
   "id": "85d51676-54fd-4180-9561-eee569f87acf",
   "metadata": {},
   "outputs": [],
   "source": [
    "model.loss = SpeakerLoss(config_args)"
   ]
  },
  {
   "cell_type": "code",
   "execution_count": 10,
   "id": "02dddff6-1180-4197-94cf-01e1297465ab",
   "metadata": {},
   "outputs": [],
   "source": [
    "model = model.cuda()"
   ]
  },
  {
   "cell_type": "code",
   "execution_count": 11,
   "id": "6f159808-ab84-46fa-acac-e3db74292247",
   "metadata": {},
   "outputs": [],
   "source": [
    "# resume = 'Data/checkpoint/ECAPA_brain/Mean_batch96_SASP2_em192_official_2s/arcsoft_adam_cyclic/vox2/wave_fb80_dist_aug53/1234/checkpoint_3.pth'\n",
    "resume = 'Data/checkpoint/ECAPA_brain/Mean_batch96_SASP2_em192_official_2s/arcsoft_adam_cyclic/vox1/wave_fb80_inst_aug53/1234/checkpoint_3.pth'\n",
    "checkpoint = torch.load(os.path.join(data_root, resume), map_location='cpu') #, map_location='cuda:1')"
   ]
  },
  {
   "cell_type": "code",
   "execution_count": 12,
   "id": "e91c78ce-e28e-4000-b0a2-70b3934a8e23",
   "metadata": {},
   "outputs": [],
   "source": [
    "start_epoch = checkpoint['epoch']\n",
    "checkpoint_state_dict = checkpoint['state_dict']\n",
    "if isinstance(checkpoint_state_dict, tuple):\n",
    "    checkpoint_state_dict = checkpoint_state_dict[0]\n",
    "\n",
    "filtered = {k: v for k, v in checkpoint_state_dict.items(\n",
    ") if 'num_batches_tracked' not in k}\n",
    "\n",
    "# filtered = {k: v for k, v in checkpoint['state_dict'].items() if 'num_batches_tracked' not in k}\n",
    "if list(filtered.keys())[0].startswith('module'):\n",
    "    new_state_dict = OrderedDict()\n",
    "    for k, v in filtered.items():\n",
    "        # remove `module.`，表面从第7个key值字符取到最后一个字符，去掉module.\n",
    "        new_state_dict[k[7:]] = v  # 新字典的key值对应的value为一一对应的值。\n",
    "\n",
    "    model.load_state_dict(new_state_dict)\n",
    "else:\n",
    "    model_dict = model.state_dict()\n",
    "    model_dict.update(filtered)\n",
    "    model.load_state_dict(model_dict)"
   ]
  },
  {
   "cell_type": "code",
   "execution_count": 13,
   "id": "043f1426-33b3-4b08-9f6d-549c382c44c4",
   "metadata": {},
   "outputs": [],
   "source": [
    "train_dir, valid_dir, train_extract_dir = SubScriptDatasets(config_args)"
   ]
  },
  {
   "cell_type": "code",
   "execution_count": 14,
   "id": "af876c0f-7f46-483f-8ff5-ff19bd01150c",
   "metadata": {},
   "outputs": [],
   "source": [
    "batch_size = config_args['batch_size'] \n",
    "num_classes = config_args['num_classes']\n",
    "# model.eval()\n",
    "\n",
    "batch_loader = torch.utils.data.DataLoader(\n",
    "    train_dir, batch_size=batch_size, num_workers=config_args['nj'])\n",
    "sample_num = len(train_dir)"
   ]
  },
  {
   "cell_type": "code",
   "execution_count": 15,
   "id": "4f3e3895-8d69-474b-a8cd-69902a16e3bf",
   "metadata": {},
   "outputs": [],
   "source": [
    "embedding_dim = config_args['embedding_size']\n",
    "embeddings = torch.zeros([len(train_dir), embedding_dim], requires_grad=False)"
   ]
  },
  {
   "cell_type": "code",
   "execution_count": 16,
   "id": "ca31b949-5e4c-4f1a-b627-e2f9217b5188",
   "metadata": {},
   "outputs": [],
   "source": [
    "sample_num = len(train_dir)"
   ]
  },
  {
   "cell_type": "code",
   "execution_count": 17,
   "id": "6e188b8d-2010-4acf-b957-a041c63b59e0",
   "metadata": {},
   "outputs": [
    {
     "name": "stderr",
     "output_type": "stream",
     "text": [
      "4024it [04:15, 15.72it/s]\n"
     ]
    }
   ],
   "source": [
    "pbar = tqdm(enumerate(batch_loader), ncols=50, total=len(batch_loader))\n",
    "model.eval()\n",
    "\n",
    "with torch.no_grad():\n",
    "    for i, (data, label) in pbar:\n",
    "        _, embedding = model(data.to(device))\n",
    "        embeddings[i * batch_size:min((i+1) * batch_size, sample_num)] += embedding.cpu()\n",
    "    \n",
    "    # loss, _ = model.loss(classfier, label.to(device),\n",
    "    #                             batch_weight=None, other=True)"
   ]
  },
  {
   "cell_type": "code",
   "execution_count": 18,
   "id": "6485f139-36f8-461d-a9d2-46c3f8964f72",
   "metadata": {},
   "outputs": [],
   "source": [
    "# torch.save({'embeddings': embeddings}, 'data/vox2/embeddings.pth')\n",
    "torch.save({'embeddings': embeddings}, 'data/vox1/embeddings.pth')"
   ]
  },
  {
   "cell_type": "code",
   "execution_count": 5,
   "id": "7f4313d8-1b8c-415c-9fce-a663d7a94d11",
   "metadata": {},
   "outputs": [],
   "source": [
    "embeddings = torch.load('data/vox2/embeddings.pth')['embeddings']"
   ]
  },
  {
   "cell_type": "code",
   "execution_count": 19,
   "id": "16210777-a4ab-4c55-b911-09e9840d161c",
   "metadata": {},
   "outputs": [],
   "source": [
    "from Process_Data.Datasets.SelectDataset import Dist_loss\n",
    "\n",
    "import numpy as np"
   ]
  },
  {
   "cell_type": "code",
   "execution_count": 20,
   "id": "78b3e258-0091-455c-9a61-742ed97b6b9e",
   "metadata": {},
   "outputs": [],
   "source": [
    "batch_size = 96"
   ]
  },
  {
   "cell_type": "code",
   "execution_count": 21,
   "id": "1788d1b5-649c-43a1-af52-944e093da908",
   "metadata": {},
   "outputs": [],
   "source": [
    "device = torch.device('cuda:1')"
   ]
  },
  {
   "cell_type": "code",
   "execution_count": 22,
   "id": "34db6d35-fa35-4ca0-85d2-84b437b31492",
   "metadata": {},
   "outputs": [],
   "source": [
    "bigger_samples = np.arange(sample_num)\n",
    "np.random.shuffle(bigger_samples)\n",
    "bigger_samples = bigger_samples[:int(sample_num / 2048) * 2048].reshape(-1, 2048)\n",
    "# [:int(sample_num / 2048) * 2048].reshape(-1, 2048)"
   ]
  },
  {
   "cell_type": "code",
   "execution_count": 23,
   "id": "7d40cdac-d389-4c9c-9e1f-e51d8eb35b4e",
   "metadata": {},
   "outputs": [],
   "source": [
    "bigger_samples = bigger_samples[:int(sample_num / 2048) * 2048].reshape(-1, 2048)"
   ]
  },
  {
   "cell_type": "code",
   "execution_count": 26,
   "id": "4a41600b-c091-4e08-aa3b-9f3036916280",
   "metadata": {},
   "outputs": [],
   "source": [
    "from Process_Data.Datasets.SelectDataset import cost_func\n",
    "\n",
    "class Dist_loss(nn.Module):\n",
    "    def __init__(self, w, metric='cosine'):\n",
    "        super(Dist_loss, self).__init__()\n",
    "        w = w/w.mean()\n",
    "        self.w = nn.Parameter(w)\n",
    "        self.loss = SamplesLoss(\"sinkhorn\", p=2, blur=0.05,\n",
    "                                cost=lambda a, b: cost_func(a, b, p=2, metric=metric))\n",
    "                                # SamplesLoss(\"sinkhorn\", p=2, blur=0.1)\n",
    "    def forward(self, x1, x2):\n",
    "        w = torch.nn.functional.softmax(self.w, dim=0)\n",
    "        # w =  torch.clamp(self.w, min=0, max=2, out=None)\n",
    "        w = w / w.mean()\n",
    "        \n",
    "        return self.loss(w*x1, x2)"
   ]
  },
  {
   "cell_type": "code",
   "execution_count": 144,
   "id": "1345d87a-9049-413f-88df-55ab5571c22c",
   "metadata": {},
   "outputs": [],
   "source": [
    "samples = np.arange(sample_num)\n",
    "batch_samples = []\n",
    "for i in range(optimizer_time):\n",
    "    np.random.shuffle(samples)\n",
    "    batch_samples.append(samples[:int(sample_num / batch_size) * batch_size].reshape(-1, batch_size))\n",
    "\n",
    "batch_samples = np.concatenate(batch_samples, axis=0)"
   ]
  },
  {
   "cell_type": "code",
   "execution_count": 146,
   "id": "9e17f743-2cbe-40eb-b620-33dc5b3271bc",
   "metadata": {},
   "outputs": [],
   "source": [
    "bigger_samples = np.arange(sample_num)\n",
    "bigger_batch_samples = []\n",
    "bigger_batch_size = int(batch_size*4)\n",
    "\n",
    "for i in range(optimizer_time*2):\n",
    "    np.random.shuffle(bigger_samples)\n",
    "    \n",
    "    bigger_batch_samples.append(bigger_samples[:int(sample_num / bigger_batch_size) * bigger_batch_size].reshape(-1, bigger_batch_size))\n",
    "    \n",
    "bigger_batch_samples = np.concatenate(bigger_batch_samples, axis=0)"
   ]
  },
  {
   "cell_type": "code",
   "execution_count": 147,
   "id": "ab3b5229-713c-4aa4-b054-9a2e30df396a",
   "metadata": {},
   "outputs": [
    {
     "name": "stdout",
     "output_type": "stream",
     "text": [
      "(752, 2048) (1508, 512)\n"
     ]
    }
   ],
   "source": [
    "print(bigger_batch_samples.shape, batch_samples.shape)"
   ]
  },
  {
   "cell_type": "code",
   "execution_count": null,
   "id": "394b5b3a-5329-4cd4-9e23-c1f4740e70b4",
   "metadata": {},
   "outputs": [
    {
     "name": "stderr",
     "output_type": "stream",
     "text": [
      " 22%|██▏       | 660/3016 [07:12<22:30,  1.74it/s]"
     ]
    }
   ],
   "source": [
    "repeat = 1\n",
    "optimizer_time = 4\n",
    "metric = 'euclidean'\n",
    "batch_size = 512\n",
    "\n",
    "wss = []\n",
    "random_seed = 1234\n",
    "\n",
    "steps = 40\n",
    "\n",
    "for cur_repeat in range(repeat):\n",
    "    np.random.seed(random_seed)\n",
    "    random_seed = random_seed - 5\n",
    "\n",
    "    ws =  torch.ones(sample_num, 1)\n",
    "    total_set = set(np.arange(sample_num))\n",
    "    \n",
    "    bigger_samples = np.arange(sample_num)\n",
    "    bigger_batch_samples = []\n",
    "    bigger_batch_size = int(batch_size*4)\n",
    "\n",
    "    for i in range(optimizer_time*4):\n",
    "        np.random.shuffle(bigger_samples)\n",
    "        bigger_batch_samples.append(bigger_samples[:int(sample_num / bigger_batch_size) * bigger_batch_size].reshape(-1, bigger_batch_size))\n",
    "\n",
    "    bigger_batch_samples = np.concatenate(bigger_batch_samples, axis=0)\n",
    "    \n",
    "    samples = np.arange(sample_num)\n",
    "    batch_samples = []\n",
    "    for i in range(optimizer_time):\n",
    "        np.random.shuffle(samples)\n",
    "        batch_samples.append(samples[:int(sample_num / batch_size) * batch_size].reshape(-1, batch_size))\n",
    "\n",
    "    batch_samples = np.concatenate(batch_samples, axis=0)\n",
    "\n",
    "    # pbar = tqdm(range(int(sample_num/batch_size*optimizer_time)), ncols=50)\n",
    "    pbar = tqdm(range(len(batch_samples)), ncols=50)\n",
    "\n",
    "    for i in pbar:\n",
    "\n",
    "        # if batch_size*i <= sample_num:\n",
    "        #     select_ids = (np.arange(batch_size) + batch_size*i) % sample_num\n",
    "        # else:\n",
    "        #     select_ids = np.random.choice(np.arange(sample_num), size=batch_size, replace=False)\n",
    "        select_ids = batch_samples[i]\n",
    "        other_set = bigger_batch_samples[i%(bigger_batch_samples.shape[0])]\n",
    "\n",
    "        s_xvectors = embeddings[select_ids]\n",
    "\n",
    "        x1 = s_xvectors.clone().cuda() #.to(device)\n",
    "        dloss = Dist_loss(ws[select_ids]).to(x1.device)\n",
    "\n",
    "        other_set = bigger_batch_samples[i%(bigger_batch_samples.shape[0])]\n",
    "\n",
    "        x2 = embeddings[other_set].clone().to(device)\n",
    "        opt = torch.optim.Adam(dloss.parameters(), lr=.2, weight_decay=0)\n",
    "\n",
    "        for i in range(steps):\n",
    "            L_αβ = dloss(x1, x2)\n",
    "            L_αβ.backward()\n",
    "            opt.step()\n",
    "            # print(dloss.w.data.squeeze()[:10])\n",
    "            opt.zero_grad()\n",
    "        # break\n",
    "        \n",
    "        # w = torch.clamp(dloss.w.data.cpu(), min=0, max=2, out=None) #dloss.w.data.squeeze().abs()\n",
    "        # w /= w.mean()\n",
    "        w = dloss.w.data.cpu()\n",
    "        ws[select_ids] = w #dloss.w.data.abs().cpu()\n",
    "        # plt.plot(dloss.w.data.abs().cpu())\n",
    "    \n",
    "    wss.append(ws)\n",
    "\n",
    "ws = torch.stack(wss, dim=0).mean(dim=0)"
   ]
  },
  {
   "cell_type": "code",
   "execution_count": 137,
   "id": "6e6e2992-ee1d-4a5b-81a8-05c24b32fbac",
   "metadata": {},
   "outputs": [],
   "source": [
    "torch.save({'scores': ws.squeeze()}, 'data/vox1/scores.v1.lr0.2.steps40.time4.pth')"
   ]
  },
  {
   "cell_type": "markdown",
   "id": "7194fb30-77a7-4a14-a35e-345cd6c54624",
   "metadata": {},
   "source": [
    "### batch size should be related to the ratio of subset"
   ]
  },
  {
   "cell_type": "code",
   "execution_count": 136,
   "id": "92b43e28-bc37-4a08-9889-82b6fb78b253",
   "metadata": {},
   "outputs": [
    {
     "name": "stdout",
     "output_type": "stream",
     "text": [
      "20 504.4903 18 \n",
      "30 503.6195 29 \n",
      "40 503.3297 39 \n",
      "60 503.1680 56 \n"
     ]
    },
    {
     "data": {
      "image/png": "[encoded data removed]",
      "text/plain": [
       "<Figure size 432x288 with 1 Axes>"
      ]
     },
     "metadata": {
      "needs_background": "light"
     },
     "output_type": "display_data"
    }
   ],
   "source": [
    "x1 = s_xvectors.clone().cuda() #.to(device)\n",
    "steps = 40\n",
    "for steps in [20, 30, 40, 60]:\n",
    "    x2 = embeddings[other_set].clone().to(device)\n",
    "    losses = []\n",
    "    dloss = Dist_loss(ws[select_ids], metric='euclidean').to(x1.device)\n",
    "    opt = torch.optim.Adam(dloss.parameters(), lr=.3, weight_decay=0)\n",
    "\n",
    "    for i in range(steps):\n",
    "        L_αβ = dloss(x1, x2)\n",
    "        losses.append(float(L_αβ.item()))\n",
    "        L_αβ.backward()\n",
    "        opt.step()\n",
    "        # print(dloss.w.data.squeeze()[:10])\n",
    "        opt.zero_grad()\n",
    "            # w = torch.clamp(dloss.w.data.cpu(), min=0, max=2, out=None) #dloss.w.data.squeeze().abs()\n",
    "\n",
    "    plt.plot(losses)\n",
    "    print('{} {:.4f} {} '.format(steps, np.min(losses), np.argmin(losses)))\n",
    "    \n",
    "# 0.1\n",
    "# 20 503.4534 19 \n",
    "# 30 503.4202 20 \n",
    "# 40 503.2956 39 \n",
    "# 60 503.2195 48 \n",
    "\n",
    "# 0.2\n",
    "# 20 504.0794 19 \n",
    "# 30 503.4644 28 \n",
    "# 40 503.2004 36 \n",
    "# 60 503.0920 47\n",
    "\n",
    "# 0.3\n",
    "# 20 504.4903 18 \n",
    "# 30 503.6195 29 \n",
    "# 40 503.3297 39 \n",
    "# 60 503.1680 56 "
   ]
  },
  {
   "cell_type": "code",
   "execution_count": 124,
   "id": "67102229-fc46-48ce-b730-9be533c55d49",
   "metadata": {},
   "outputs": [
    {
     "name": "stdout",
     "output_type": "stream",
     "text": [
      "503.200439453125\n"
     ]
    },
    {
     "data": {
      "image/png": "[encoded data removed]",
      "text/plain": [
       "<Figure size 432x288 with 1 Axes>"
      ]
     },
     "metadata": {
      "needs_background": "light"
     },
     "output_type": "display_data"
    }
   ],
   "source": [
    "plt.plot(losses)\n",
    "print(np.min(losses))"
   ]
  },
  {
   "cell_type": "code",
   "execution_count": 105,
   "id": "f18c998a-2f5c-4854-9fae-de606d51dee0",
   "metadata": {},
   "outputs": [],
   "source": [
    "w = torch.nn.functional.softmax(dloss.w.data.cpu().squeeze(), dim=0)\n",
    "# w =  torch.clamp(self.w, min=0, max=2, out=None)\n",
    "w = w / w.mean()"
   ]
  },
  {
   "cell_type": "code",
   "execution_count": 77,
   "id": "98729056-bf2f-4175-a35e-308e2e8f5e78",
   "metadata": {},
   "outputs": [
    {
     "data": {
      "image/png": "[encoded data removed]",
      "text/plain": [
       "<Figure size 432x288 with 1 Axes>"
      ]
     },
     "metadata": {
      "needs_background": "light"
     },
     "output_type": "display_data"
    }
   ],
   "source": [
    "_ = plt.hist(x1.norm(dim=1).cpu(), bins=20, alpha=0.3, density=True)\n",
    "_ = plt.hist(x1.norm(dim=1).cpu()*w, bins=20, alpha=0.3, density=True)"
   ]
  },
  {
   "cell_type": "code",
   "execution_count": 106,
   "id": "4d402295-2a37-4882-8fff-76081aa43457",
   "metadata": {},
   "outputs": [],
   "source": [
    "y = x1.norm(dim=1).cpu()\n",
    "idx = torch.sort(y).indices\n",
    "idx_w = torch.sort(w).indices"
   ]
  },
  {
   "cell_type": "code",
   "execution_count": null,
   "id": "79f7bf38-562e-4170-be66-f5d1ce877c41",
   "metadata": {},
   "outputs": [],
   "source": [
    "w[idx_w]"
   ]
  },
  {
   "cell_type": "code",
   "execution_count": 89,
   "id": "be5ee289-6840-4a76-98e8-5a1a4c340d06",
   "metadata": {},
   "outputs": [
    {
     "data": {
      "image/png": "[encoded data removed]",
      "text/plain": [
       "<Figure size 432x288 with 1 Axes>"
      ]
     },
     "metadata": {
      "needs_background": "light"
     },
     "output_type": "display_data"
    }
   ],
   "source": [
    "_ = plt.hist(y, bins=20, alpha=0.3, density=True)\n",
    "_ = plt.hist(y[idx_w[-200:]], bins=20, alpha=0.3, density=True)\n",
    "_ = plt.hist(y[idx_w[:200]], bins=20, alpha=0.3, density=True)\n"
   ]
  },
  {
   "cell_type": "code",
   "execution_count": null,
   "id": "ac0883c9-4aa6-4d6b-b387-ff7097d33fb8",
   "metadata": {},
   "outputs": [],
   "source": [
    "from geomloss import SamplesLoss"
   ]
  },
  {
   "cell_type": "code",
   "execution_count": 90,
   "id": "b58042e7-760e-4983-a8f1-a64a7531cc5f",
   "metadata": {},
   "outputs": [],
   "source": [
    "loss_func = SamplesLoss(\"sinkhorn\", p=2, blur=0.05, cost=lambda a, b: cost_func(a, b, p=2, metric='euclidean'))"
   ]
  },
  {
   "cell_type": "code",
   "execution_count": 91,
   "id": "f0ea6114-a5d1-47ee-9a5b-4c8b5c9132b4",
   "metadata": {},
   "outputs": [
    {
     "name": "stdout",
     "output_type": "stream",
     "text": [
      "tensor(513.7578, device='cuda:1') tensor(627.0327, device='cuda:1')\n"
     ]
    }
   ],
   "source": [
    "op_1 = loss_func(x1[idx_w[-200:]], x2)\n",
    "op_2 = loss_func(x1[idx_w[:200]], x2)\n",
    "print(op_1.float(), op_2)"
   ]
  },
  {
   "cell_type": "code",
   "execution_count": 109,
   "id": "a07ad233-99d1-4706-a9d3-5d54ed7b1edd",
   "metadata": {},
   "outputs": [
    {
     "name": "stdout",
     "output_type": "stream",
     "text": [
      "Num samples 100:   583.221  607.585  609.971\n",
      "Num samples 200:   550.648  571.213  565.056\n",
      "Num samples 300:   532.802  549.206  538.933\n",
      "Num samples 400:   521.501  530.257  523.952\n"
     ]
    }
   ],
   "source": [
    "for num in [100, 200, 300, 400]:\n",
    "    op_1 = loss_func(x1[idx_w[-num:]], x2)\n",
    "    op_2 = loss_func(x1[idx_w[:num]], x2)\n",
    "    # print(op_1.float(), op_2)\n",
    "\n",
    "    loss_rand = []\n",
    "    for i in range(10):\n",
    "        x1_samples = np.arange(len(x1))\n",
    "        np.random.shuffle(x1_samples)\n",
    "        rand_idx = torch.LongTensor(x1_samples[-num:]).to(device)\n",
    "        loss_rand.append(loss_func(x1[rand_idx], x2).cpu().float())\n",
    "\n",
    "    print(\"Num samples {}:   {:.3f}  {:.3f}  {:.3f}\".format(num, float(op_1), float(op_2), np.mean(loss_rand)))"
   ]
  },
  {
   "cell_type": "code",
   "execution_count": 81,
   "id": "8ead59b5-7eeb-481b-8236-cad9c03e5c08",
   "metadata": {},
   "outputs": [
    {
     "data": {
      "text/plain": [
       "[<matplotlib.lines.Line2D at 0x7f194f4083a0>]"
      ]
     },
     "execution_count": 81,
     "metadata": {},
     "output_type": "execute_result"
    },
    {
     "data": {
      "image/png": "[encoded data removed]",
      "text/plain": [
       "<Figure size 432x288 with 1 Axes>"
      ]
     },
     "metadata": {
      "needs_background": "light"
     },
     "output_type": "display_data"
    }
   ],
   "source": [
    "plt.plot(y[idx])\n",
    "plt.plot((y*w)[idx])"
   ]
  },
  {
   "cell_type": "code",
   "execution_count": null,
   "id": "9c6fab03-d480-438a-8872-93a406004e3f",
   "metadata": {},
   "outputs": [],
   "source": [
    "x1.norm(dim=1).cpu()*w"
   ]
  },
  {
   "cell_type": "code",
   "execution_count": 69,
   "id": "12091589-2b7c-4ca5-8386-40df0859355a",
   "metadata": {},
   "outputs": [
    {
     "data": {
      "image/png": "[encoded data removed]",
      "text/plain": [
       "<Figure size 432x288 with 1 Axes>"
      ]
     },
     "metadata": {
      "needs_background": "light"
     },
     "output_type": "display_data"
    }
   ],
   "source": [
    "_ = plt.hist(w)"
   ]
  },
  {
   "cell_type": "code",
   "execution_count": 119,
   "id": "9bfcf92f-7ece-4806-a15d-02f0c7bcd89d",
   "metadata": {},
   "outputs": [
    {
     "data": {
      "text/plain": [
       "tensor([[1.0218],\n",
       "        [1.0218],\n",
       "        [1.0218],\n",
       "        [1.0219],\n",
       "        [1.0219],\n",
       "        [1.0219],\n",
       "        [1.0219],\n",
       "        [1.0219],\n",
       "        [1.0220],\n",
       "        [1.0220],\n",
       "        [1.0220],\n",
       "        [1.0220],\n",
       "        [1.0221],\n",
       "        [1.0221],\n",
       "        [1.0221],\n",
       "        [1.0221],\n",
       "        [1.0221],\n",
       "        [1.0221],\n",
       "        [1.0221],\n",
       "        [1.0221],\n",
       "        [1.0222],\n",
       "        [1.0222],\n",
       "        [1.0222],\n",
       "        [1.0222],\n",
       "        [1.0222],\n",
       "        [1.0223],\n",
       "        [1.0223],\n",
       "        [1.0223],\n",
       "        [1.0223],\n",
       "        [1.0223],\n",
       "        [1.0223],\n",
       "        [1.0223],\n",
       "        [1.0223],\n",
       "        [1.0224],\n",
       "        [1.0224],\n",
       "        [1.0224],\n",
       "        [1.0225],\n",
       "        [1.0225],\n",
       "        [1.0226],\n",
       "        [1.0226],\n",
       "        [1.0226],\n",
       "        [1.0227],\n",
       "        [1.0227],\n",
       "        [1.0228],\n",
       "        [1.0228],\n",
       "        [1.0228],\n",
       "        [1.0228],\n",
       "        [1.0228],\n",
       "        [1.0229],\n",
       "        [1.0229],\n",
       "        [1.0230],\n",
       "        [1.0231],\n",
       "        [1.0232],\n",
       "        [1.0232],\n",
       "        [1.0232],\n",
       "        [1.0233],\n",
       "        [1.0233],\n",
       "        [1.0233],\n",
       "        [1.0235],\n",
       "        [1.0235],\n",
       "        [1.0235],\n",
       "        [1.0236],\n",
       "        [1.0236],\n",
       "        [1.0236],\n",
       "        [1.0236],\n",
       "        [1.0237],\n",
       "        [1.0237],\n",
       "        [1.0239],\n",
       "        [1.0240],\n",
       "        [1.0240],\n",
       "        [1.0240],\n",
       "        [1.0242],\n",
       "        [1.0243],\n",
       "        [1.0243],\n",
       "        [1.0243],\n",
       "        [1.0243],\n",
       "        [1.0244],\n",
       "        [1.0245],\n",
       "        [1.0245],\n",
       "        [1.0246],\n",
       "        [1.0249],\n",
       "        [1.0249],\n",
       "        [1.0249],\n",
       "        [1.0251],\n",
       "        [1.0251],\n",
       "        [1.0252],\n",
       "        [1.0254],\n",
       "        [1.0255],\n",
       "        [1.0255],\n",
       "        [1.0256],\n",
       "        [1.0259],\n",
       "        [1.0260],\n",
       "        [1.0260],\n",
       "        [1.0266],\n",
       "        [1.0268],\n",
       "        [1.0268],\n",
       "        [1.0287],\n",
       "        [1.0296],\n",
       "        [1.0312],\n",
       "        [1.0320]])"
      ]
     },
     "execution_count": 119,
     "metadata": {},
     "output_type": "execute_result"
    }
   ],
   "source": [
    "# dloss.w.grad\n",
    "# ws[:100]\n",
    "idx = torch.sort(ws.squeeze()).indices\n",
    "ws[idx[-100:]]"
   ]
  },
  {
   "cell_type": "code",
   "execution_count": 116,
   "id": "40639609-6c8d-4d27-802c-594e3128f857",
   "metadata": {},
   "outputs": [
    {
     "data": {
      "text/plain": [
       "torch.Size([386301, 1])"
      ]
     },
     "execution_count": 116,
     "metadata": {},
     "output_type": "execute_result"
    }
   ],
   "source": [
    "idx.shape"
   ]
  },
  {
   "cell_type": "code",
   "execution_count": 550,
   "id": "f7eb41de-ee0e-4249-92da-a40b74303998",
   "metadata": {},
   "outputs": [],
   "source": [
    "torch.save({'weights': ws}, 'data/vox2/weight.adam.512.pth')"
   ]
  },
  {
   "cell_type": "code",
   "execution_count": 286,
   "id": "01cf4332-2aa7-49a0-a2a8-786954890f72",
   "metadata": {},
   "outputs": [],
   "source": [
    "import pandas as pd"
   ]
  },
  {
   "cell_type": "code",
   "execution_count": 287,
   "id": "949bad6a-ea95-454f-a739-93280f48df64",
   "metadata": {},
   "outputs": [],
   "source": [
    "train_utts = pd.DataFrame(train_dir.base_utts, columns=['uid', 'start', 'end'])\n",
    "train_utts['scores'] = ws.squeeze().numpy()\n",
    "\n",
    "train_utts.to_csv(os.path.join('data/vox2', 'subtrain.{}.scores.csv'.format(0)),\n",
    "                  index=None)"
   ]
  },
  {
   "cell_type": "code",
   "execution_count": 293,
   "id": "071ec7c4-45dd-456f-9806-05da704dde5a",
   "metadata": {},
   "outputs": [],
   "source": [
    "scores_utts = pd.read_csv(os.path.join('data/vox2', 'subtrain.{}.scores.csv'.format(0))).to_numpy()"
   ]
  },
  {
   "cell_type": "code",
   "execution_count": 295,
   "id": "b9d70bd7-c15a-488a-9c2f-ee518547594d",
   "metadata": {},
   "outputs": [
    {
     "data": {
      "text/plain": [
       "array([1.0109581 , 1.0425051 , 0.9720516 , ..., 0.98818487, 1.007649  ,\n",
       "       1.0005752 ], dtype=float32)"
      ]
     },
     "execution_count": 295,
     "metadata": {},
     "output_type": "execute_result"
    }
   ],
   "source": [
    "scores_utts[:, -1].astype(np.float32)"
   ]
  },
  {
   "cell_type": "code",
   "execution_count": 299,
   "id": "7ea6b9cd-6778-48c8-ba54-9e62a13ce8ac",
   "metadata": {},
   "outputs": [
    {
     "data": {
      "text/plain": [
       "True"
      ]
     },
     "execution_count": 299,
     "metadata": {},
     "output_type": "execute_result"
    }
   ],
   "source": [
    "isinstance(scores_utts, np.ndarray)"
   ]
  },
  {
   "cell_type": "code",
   "execution_count": 298,
   "id": "9cdd5e54-0df6-4441-a575-2348a531cb58",
   "metadata": {},
   "outputs": [
    {
     "data": {
      "text/plain": [
       "numpy.ndarray"
      ]
     },
     "execution_count": 298,
     "metadata": {},
     "output_type": "execute_result"
    }
   ],
   "source": [
    "type(np.array([0]))"
   ]
  },
  {
   "cell_type": "code",
   "execution_count": 551,
   "id": "a4c40a0d-13c2-4377-a211-93a329639555",
   "metadata": {},
   "outputs": [
    {
     "data": {
      "text/plain": [
       "[<matplotlib.lines.Line2D at 0x7f8678dc9d30>]"
      ]
     },
     "execution_count": 551,
     "metadata": {},
     "output_type": "execute_result"
    },
    {
     "data": {
      "image/png": "[encoded data removed]",
      "text/plain": [
       "<Figure size 432x288 with 1 Axes>"
      ]
     },
     "metadata": {
      "needs_background": "light"
     },
     "output_type": "display_data"
    }
   ],
   "source": [
    "plt.plot(ws[:192*5])"
   ]
  },
  {
   "cell_type": "code",
   "execution_count": 276,
   "id": "093e56a1-3eff-4dbe-a832-c31976003b12",
   "metadata": {},
   "outputs": [
    {
     "data": {
      "text/plain": [
       "tensor([1.0847, 0.7928, 0.9437, 0.9226, 1.0970, 0.9642, 0.8300, 0.7533, 1.0684,\n",
       "        0.9703, 1.2075, 0.8556, 0.9872, 1.0142, 0.8874, 0.9423, 1.0489, 0.8062,\n",
       "        0.9436, 0.9211, 0.7868, 0.8112, 1.0417, 0.9621, 1.1970, 0.6961, 0.7554,\n",
       "        0.8663, 1.1496, 0.8346, 0.9528, 1.0622, 1.2156, 0.9771, 1.1184, 0.8449,\n",
       "        1.0420, 1.2011, 1.0929, 0.9940, 0.9283, 1.2092, 0.9854, 0.9348, 1.0021,\n",
       "        0.8265, 1.0707, 1.1061, 1.1406, 1.1476, 1.1865, 0.9351, 0.9794, 1.1467,\n",
       "        0.9899, 1.0639, 0.8515, 0.9758, 0.8566, 0.9828, 0.9257, 0.9806, 1.1537,\n",
       "        0.9151, 1.0171, 1.0892, 1.1026, 0.7150, 1.0516, 1.0144, 1.2819, 1.0385,\n",
       "        1.1359, 1.0043, 0.9578, 0.9713, 1.2582, 1.0290, 0.9604, 1.1242, 0.9068,\n",
       "        0.8332, 0.9394, 0.9187, 1.1651, 0.6764, 0.7592, 1.2796, 0.9830, 1.0989,\n",
       "        0.8486, 0.9984, 0.8949, 0.9937, 1.0046, 1.1887, 0.9522, 1.0982, 0.7692,\n",
       "        0.9274, 0.9178, 0.9645, 1.0143, 1.0372, 1.1319, 0.9459, 1.2759, 1.0260,\n",
       "        0.9607, 1.1045, 1.0587, 1.0580, 0.8699, 0.8342, 1.0295, 1.0101, 1.0057,\n",
       "        1.1596, 1.0924, 0.9277, 0.9022, 0.8712, 0.9529, 0.7918, 1.0606, 0.8796,\n",
       "        0.8835, 1.0129, 0.9436, 1.1306, 0.8863, 1.0810, 0.8955, 0.7412, 1.0227,\n",
       "        1.0448, 0.9474, 0.9775, 0.8421, 0.9001, 1.0758, 0.9994, 0.9620, 0.9465,\n",
       "        0.8477, 0.9427, 1.0084, 0.8509, 1.1553, 1.1807, 0.8914, 1.1049, 0.9754,\n",
       "        0.9551, 1.1920, 1.0193, 1.0578, 1.0740, 1.1319, 1.0468, 0.9296, 0.9757,\n",
       "        0.9241, 0.9205, 0.8937, 1.0999, 0.8778, 0.9832, 1.0551, 1.0269, 0.9783,\n",
       "        1.1145, 0.9016, 0.8228, 1.0370, 1.0677, 0.9817, 0.8744, 1.2443, 1.1885,\n",
       "        1.0456, 1.1212, 0.9441, 1.1760, 1.0512, 1.0584, 1.0516, 0.6581, 1.2459,\n",
       "        1.1179, 0.9880, 0.9715], device='cuda:1', grad_fn=<SqueezeBackward0>)"
      ]
     },
     "execution_count": 276,
     "metadata": {},
     "output_type": "execute_result"
    }
   ],
   "source": [
    " torch.clamp(dloss.w, min=0, max=None, out=None).squeeze()"
   ]
  },
  {
   "cell_type": "code",
   "execution_count": 507,
   "id": "9c25da21-c8b4-4d18-b962-d775a53a6794",
   "metadata": {},
   "outputs": [],
   "source": [
    "# from Process_Data.Datasets.SelectDataset import cost_func\n",
    "\n",
    "# class Dist_loss(nn.Module):\n",
    "#     def __init__(self, w, metric='cosine'):\n",
    "#         super(Dist_loss, self).__init__()\n",
    "#         w = w/w.mean()\n",
    "#         self.w = nn.Parameter(w)\n",
    "#         self.loss = SamplesLoss(\"sinkhorn\", p=2, blur=0.05,\n",
    "#                                 cost=lambda a, b: cost_func(a, b, p=2, metric=metric))\n",
    "#                                 # SamplesLoss(\"sinkhorn\", p=2, blur=0.1)\n",
    "#     def forward(self, x1, x2):\n",
    "#         w = self.w.abs()\n",
    "#         w = w / w.mean()\n",
    "        \n",
    "#         return self.loss(w*x1, x2)\n",
    "    \n",
    "def cost_func(a, b, p=2, metric='cosine'):\n",
    "    \"\"\" a, b in shape: (B, N, D) or (N, D)\n",
    "    \"\"\" \n",
    "    assert type(a)==torch.Tensor and type(b)==torch.Tensor, 'inputs should be torch.Tensor'\n",
    "    if metric=='euclidean' and p==1:\n",
    "        return geomloss.utils.distances(a, b)\n",
    "    elif metric=='euclidean' and p==2:\n",
    "        return geomloss.utils.squared_distances(a, b)\n",
    "    else:\n",
    "        if a.dim() == 3:\n",
    "            x_norm = a / (a.norm(dim=2)[:, :, None]+1e-12)\n",
    "            y_norm = b / (b.norm(dim=2)[:, :, None]+1e-12)\n",
    "            M = 1 - torch.bmm(x_norm, y_norm.transpose(-1, -2))\n",
    "        elif a.dim() == 2:\n",
    "            x_norm = a / (a.norm(dim=1)[:, None]+1e-12)\n",
    "            y_norm = b / (b.norm(dim=1)[:, None]+1e-12)\n",
    "            M = 1 - torch.mm(x_norm, y_norm.transpose(0, 1))\n",
    "        # M = pow(M, p)\n",
    "        return M\n",
    "    \n",
    "class Dist_loss(nn.Module):\n",
    "    def __init__(self, w, lamda=0, portion=0.8, metric='cosine'):\n",
    "        super(Dist_loss, self).__init__()\n",
    "        w = w/w.mean()\n",
    "        self.w = nn.Parameter(w)\n",
    "        self.loss = SamplesLoss(\"sinkhorn\", p=2, blur=0.05,\n",
    "                                cost=lambda a, b: cost_func(a, b, p=2, metric=metric))\n",
    "        self.lamda = lamda\n",
    "        self.portion = portion\n",
    "        # self.sig = nn.Sigmoid()\n",
    "    \n",
    "    def get_w(self):\n",
    "        w = torch.clamp(self.w, min=0.0, max=2, out=None)\n",
    "        w = w/w.mean()\n",
    "        return w\n",
    "\n",
    "    def forward(self, x1, x2):\n",
    "        # w = 2 * self.sig(self.w)\n",
    "        # w = torch.clamp(self.w, min=0.0, max=2, out=None)\n",
    "        # w = w/w.mean()\n",
    "        w = self.get_w()\n",
    "        \n",
    "        return self.loss(w*x1, x2) + self.lamda * ((w <= 1).sum()/w.numel() - self.portion).abs()"
   ]
  },
  {
   "cell_type": "code",
   "execution_count": 183,
   "id": "f1720390-6a8c-473a-8ef2-39f26eef79dc",
   "metadata": {},
   "outputs": [],
   "source": [
    "x1 = s_xvectors.clone().cuda() #.to(device)\n",
    "dloss = Dist_loss(ws[select_ids], metric=metric).to(x1.device)\n",
    "\n",
    "other_set = bigger_samples[np.random.choice(np.arange(len(bigger_samples)))]\n",
    "\n",
    "x2 = embeddings[other_set].clone().to(device)\n",
    "opt = torch.optim.SGD(dloss.parameters(), lr=0.2, weight_decay=0)\n",
    "\n",
    "for i in range(10):\n",
    "    L_αβ = dloss(x1, x2)\n",
    "    L_αβ.backward()\n",
    "    \n",
    "    dloss.w.data = dloss.w.data - 0.2*dloss.w.grad\n",
    "    \n",
    "    opt.step()\n",
    "    opt.zero_grad()"
   ]
  },
  {
   "cell_type": "code",
   "execution_count": 259,
   "id": "436e60df-ffbd-4ddf-ab14-529d3472fabf",
   "metadata": {},
   "outputs": [],
   "source": [
    "steps = 40"
   ]
  },
  {
   "cell_type": "code",
   "execution_count": 434,
   "id": "89f83af9-d12a-4b5f-aee8-a8e998824523",
   "metadata": {},
   "outputs": [
    {
     "data": {
      "text/plain": [
       "array([ 96, 192, 288, 384, 480])"
      ]
     },
     "execution_count": 434,
     "metadata": {},
     "output_type": "execute_result"
    }
   ],
   "source": [
    "96 * np.arange(1, 6)"
   ]
  },
  {
   "cell_type": "code",
   "execution_count": 543,
   "id": "9692f2c2-217a-497b-a953-d2052c00009a",
   "metadata": {},
   "outputs": [],
   "source": [
    "np.random.seed(1234)\n",
    "\n",
    "steps  = 40\n",
    "batch_sizes = 2 ** np.arange(6, 11)\n",
    "\n",
    "total_loss = []\n",
    "weights = {i:[] for i in [10, 20, 30, 40]}\n",
    "ws =  torch.ones(sample_num, 1) #+0.5\n",
    "\n",
    "for b in batch_sizes:\n",
    "    select_ids = (np.arange(b) + b*i) % sample_num\n",
    "\n",
    "    s_xvectors = embeddings[select_ids]\n",
    "    x1 = s_xvectors.clone().cuda() \n",
    "    \n",
    "    bigger_batch_size = int(b*4)\n",
    "    bigger_samples = np.arange(sample_num)\n",
    "    np.random.seed(1234)\n",
    "    np.random.shuffle(bigger_samples)\n",
    "    bigger_samples = bigger_samples[:int(sample_num/bigger_batch_size) * bigger_batch_size].reshape(-1, bigger_batch_size)\n",
    "    other_set = bigger_samples[np.random.choice(np.arange(len(bigger_samples)))]\n",
    "    \n",
    "    x2 = embeddings[other_set].clone().to(device)\n",
    "        \n",
    "    dloss = Dist_loss(ws[select_ids].clone(), lamda=0,).to(x1.device)\n",
    "    opt = torch.optim.Adam(dloss.parameters(), lr=2, weight_decay=0)\n",
    "\n",
    "    loss = []\n",
    "    for i in range(steps):\n",
    "        # L_αβ = OT_solver(w*x1, x2)\n",
    "        L_αβ = dloss(x1, x2)\n",
    "        L_αβ.backward()\n",
    "        opt.step()\n",
    "        # opt.zero_grad()\n",
    "\n",
    "        loss.append(float(L_αβ.item()))\n",
    "        \n",
    "        if (i+1) % 10 == 0:\n",
    "            weights[i+1].append(dloss.get_w().data.squeeze().cpu().numpy())\n",
    "    \n",
    "    total_loss.append(loss)"
   ]
  },
  {
   "cell_type": "code",
   "execution_count": 544,
   "id": "07e82153-5e7a-4cf2-98dd-1e64289a995e",
   "metadata": {},
   "outputs": [
    {
     "data": {
      "text/plain": [
       "<matplotlib.legend.Legend at 0x7f86794fed60>"
      ]
     },
     "execution_count": 544,
     "metadata": {},
     "output_type": "execute_result"
    },
    {
     "data": {
      "image/png": "[encoded data removed]",
      "text/plain": [
       "<Figure size 432x288 with 1 Axes>"
      ]
     },
     "metadata": {
      "needs_background": "light"
     },
     "output_type": "display_data"
    }
   ],
   "source": [
    "for t in total_loss:\n",
    "    plt.plot(t)\n",
    "    \n",
    "plt.legend([str(b) for b in batch_sizes])"
   ]
  },
  {
   "cell_type": "code",
   "execution_count": 512,
   "id": "cef3af02-8895-4d20-b5f8-ff1cfd71bbd2",
   "metadata": {},
   "outputs": [
    {
     "data": {
      "text/plain": [
       "[<matplotlib.lines.Line2D at 0x7f8681f6ff10>]"
      ]
     },
     "execution_count": 512,
     "metadata": {},
     "output_type": "execute_result"
    },
    {
     "data": {
      "image/png": "[encoded data removed]",
      "text/plain": [
       "<Figure size 432x288 with 1 Axes>"
      ]
     },
     "metadata": {
      "needs_background": "light"
     },
     "output_type": "display_data"
    }
   ],
   "source": [
    "# for t in :\n",
    "plt.plot(total_loss[0])\n",
    "    \n",
    "# plt.legend([str(b) for b in batch_sizes])"
   ]
  },
  {
   "cell_type": "code",
   "execution_count": 519,
   "id": "edc576a3-d645-4b6d-a100-ffaad79dee3d",
   "metadata": {},
   "outputs": [
    {
     "data": {
      "image/png": "[encoded data removed]",
      "text/plain": [
       "<Figure size 1800x288 with 4 Axes>"
      ]
     },
     "metadata": {
      "needs_background": "light"
     },
     "output_type": "display_data"
    }
   ],
   "source": [
    "plt.figure(figsize=(25, 4))\n",
    "for i, t in enumerate(weights):\n",
    "    plt.subplot(1, len(weights),  i+1)\n",
    "    plt.hist(weights[t][-1], bins='auto', density=True, alpha=0.5)\n",
    "    \n",
    "    # plt.legend([str(batch_sizes[i])])"
   ]
  },
  {
   "cell_type": "code",
   "execution_count": 548,
   "id": "eab72a78-c3de-4df6-916d-a40e5b0f3ceb",
   "metadata": {},
   "outputs": [
    {
     "data": {
      "image/png": "[encoded data removed]",
      "text/plain": [
       "<Figure size 576x345.6 with 4 Axes>"
      ]
     },
     "metadata": {
      "needs_background": "light"
     },
     "output_type": "display_data"
    }
   ],
   "source": [
    "plt.figure(figsize=(8, 4.8))\n",
    "j = -2\n",
    "sort_idx = np.argsort(weights[30][j])\n",
    "\n",
    "for i, t in enumerate([weights[i][j] for i in weights]):\n",
    "    plt.subplot(2, len(weights)//2,  i+1)\n",
    "    # plt.hist(t, bins='auto', density=True, alpha=0.5)\n",
    "    plt.plot(t[sort_idx])\n",
    "    plt.ylim([-0.2, 2])\n",
    "\n",
    "    plt.legend(['steps-' + str((i+1) * 10)], fontsize=16, loc='upper left')\n",
    "plt.tight_layout()\n",
    "\n",
    "plt.savefig('score_convergence.png')"
   ]
  },
  {
   "cell_type": "code",
   "execution_count": 411,
   "id": "76f617a8-501a-4fcd-b0e0-25d03f20e6f7",
   "metadata": {},
   "outputs": [
    {
     "data": {
      "text/plain": [
       "4.699000000000001"
      ]
     },
     "execution_count": 411,
     "metadata": {},
     "output_type": "execute_result"
    }
   ],
   "source": [
    "np.mean([4.605, 4.625, 4.867])"
   ]
  },
  {
   "cell_type": "code",
   "execution_count": 343,
   "id": "12bd11ae-9312-45cd-8d0a-c7917d54b951",
   "metadata": {},
   "outputs": [
    {
     "data": {
      "text/plain": [
       "(array([ 11.,  23.,  58., 100., 160., 178., 126.,  68.,  38.,   6.]),\n",
       " array([0.02689774, 0.21658729, 0.40627682, 0.5959664 , 0.78565592,\n",
       "        0.97534549, 1.16503501, 1.35472453, 1.54441416, 1.73410368,\n",
       "        1.9237932 ]),\n",
       " <BarContainer object of 10 artists>)"
      ]
     },
     "execution_count": 343,
     "metadata": {},
     "output_type": "execute_result"
    },
    {
     "data": {
      "image/png": "[encoded data removed]",
      "text/plain": [
       "<Figure size 432x288 with 1 Axes>"
      ]
     },
     "metadata": {
      "needs_background": "light"
     },
     "output_type": "display_data"
    }
   ],
   "source": [
    "plt.hist(torch.clamp(dloss.w.data.squeeze(), min=0.0, max=2.0, out=None).cpu().numpy())"
   ]
  },
  {
   "cell_type": "code",
   "execution_count": 269,
   "id": "17d74158-7792-4a2a-ae02-4b050daea9e5",
   "metadata": {},
   "outputs": [
    {
     "data": {
      "text/plain": [
       "[<matplotlib.lines.Line2D at 0x7f877400df70>]"
      ]
     },
     "execution_count": 269,
     "metadata": {},
     "output_type": "execute_result"
    },
    {
     "data": {
      "image/png": "[encoded data removed]",
      "text/plain": [
       "<Figure size 432x288 with 1 Axes>"
      ]
     },
     "metadata": {
      "needs_background": "light"
     },
     "output_type": "display_data"
    }
   ],
   "source": [
    "plt.plot(loss)"
   ]
  },
  {
   "cell_type": "code",
   "execution_count": 271,
   "id": "a87e647f-2ca5-44c6-a29e-762a6ac68e02",
   "metadata": {},
   "outputs": [
    {
     "name": "stdout",
     "output_type": "stream",
     "text": [
      "tensor([0.1019, 0.0000, 1.6039, 1.6039, 1.6039, 1.6039, 1.6039, 1.6039, 0.0000,\n",
      "        0.0000, 1.6039, 0.0000, 0.0000, 0.0000, 0.0000, 1.6039, 0.0000, 0.0000,\n",
      "        1.6039, 1.6039, 0.0000, 0.0000, 1.6039, 1.6039, 1.6039, 1.6039, 1.6039,\n",
      "        0.0000, 0.0000, 0.0000, 0.0000, 1.6039, 1.6039, 1.6039, 0.0000, 1.6039,\n",
      "        1.6039, 0.0000, 1.6039, 1.6039, 0.0000, 0.0000, 1.6039, 1.6039, 1.6039,\n",
      "        1.6039, 1.6039, 1.6039, 1.6039, 0.0000, 1.6039, 0.1770, 1.6039, 1.6039,\n",
      "        1.6039, 0.0000, 0.0000, 1.6039, 1.6039, 1.6039, 1.6039, 1.6039, 1.3998,\n",
      "        1.5241, 1.6039, 0.8081, 0.0000, 0.0000, 1.6039, 0.0000, 1.6039, 0.0323,\n",
      "        0.0000, 1.6039, 1.6039, 0.0000, 0.0000, 1.6039, 1.6039, 1.6039, 0.0000,\n",
      "        1.6039, 1.6039, 1.6039, 1.6039, 1.6039, 0.0000, 0.0000, 0.5347, 1.6039,\n",
      "        1.6039, 1.6039, 1.6039, 1.6039, 0.0000, 1.6039], device='cuda:1',\n",
      "       grad_fn=<SqueezeBackward0>)\n"
     ]
    }
   ],
   "source": [
    "w = torch.clamp(dloss.w, min=0, max=2, out=None) #dloss.w.data.squeeze().abs()\n",
    "w /= w.mean()\n",
    "\n",
    "print(w.squeeze())"
   ]
  },
  {
   "cell_type": "code",
   "execution_count": 272,
   "id": "77e124ec-ad14-4d0b-860b-5f5c1937a81f",
   "metadata": {},
   "outputs": [
    {
     "data": {
      "image/png": "[encoded data removed]",
      "text/plain": [
       "<Figure size 432x288 with 1 Axes>"
      ]
     },
     "metadata": {
      "needs_background": "light"
     },
     "output_type": "display_data"
    }
   ],
   "source": [
    "_ = plt.hist(w.squeeze().detach().cpu().numpy(), bins=10, density=True, cumulative=True)\n",
    "plt.savefig('lamda=0.png')"
   ]
  },
  {
   "cell_type": "code",
   "execution_count": 83,
   "id": "b4abd899-4a3d-45f5-aba4-e5418fd6bb80",
   "metadata": {},
   "outputs": [
    {
     "data": {
      "text/plain": [
       "(torch.Size([96, 192]), torch.Size([384, 192]))"
      ]
     },
     "execution_count": 83,
     "metadata": {},
     "output_type": "execute_result"
    }
   ],
   "source": [
    "x1.shape, x2.shape"
   ]
  },
  {
   "cell_type": "code",
   "execution_count": null,
   "id": "93d7f506-d735-475d-9474-866b43a5cedb",
   "metadata": {},
   "outputs": [],
   "source": [
    "torch.save({'weights': ws}, 'data/vox2/weight.pth')"
   ]
  },
  {
   "cell_type": "markdown",
   "id": "a1bfa72d-0f59-4df8-b5e5-81f69f6a7d19",
   "metadata": {},
   "source": [
    "### Sample balance"
   ]
  },
  {
   "cell_type": "code",
   "execution_count": 2,
   "id": "7acc52b3-7439-42b4-8646-5798305493f0",
   "metadata": {},
   "outputs": [],
   "source": [
    "import pandas as pd\n",
    "import matplotlib.pyplot as plt\n",
    "import numpy as np"
   ]
  },
  {
   "cell_type": "markdown",
   "id": "424a78e7-3520-45ea-95a2-17eed18cf7da",
   "metadata": {},
   "source": [
    "#### Random"
   ]
  },
  {
   "cell_type": "code",
   "execution_count": null,
   "id": "8335de4d-d4f3-4c6c-a512-d0d687212e36",
   "metadata": {},
   "outputs": [],
   "source": []
  }
 ],
 "metadata": {
  "kernelspec": {
   "display_name": "Python 3",
   "language": "python",
   "name": "python3"
  },
  "language_info": {
   "codemirror_mode": {
    "name": "ipython",
    "version": 3
   },
   "file_extension": ".py",
   "mimetype": "text/x-python",
   "name": "python",
   "nbconvert_exporter": "python",
   "pygments_lexer": "ipython3",
   "version": "3.8.16"
  }
 },
 "nbformat": 4,
 "nbformat_minor": 5
}
