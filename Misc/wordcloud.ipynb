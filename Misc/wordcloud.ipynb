{
 "cells": [
  {
   "cell_type": "code",
   "execution_count": 1,
   "metadata": {},
   "outputs": [],
   "source": [
    "import jieba\n",
    "from wordcloud import WordCloud\n",
    "import matplotlib.pyplot as plt\n",
    "# plt.rc('font', family='Times New Roman')\n",
    "import matplotlib \n",
    "\n",
    "plt.rcParams['font.sans-serif'] = ['SimHei']\n",
    "# mpl.rcParams['axes.unicode_minus'] = False\n"
   ]
  },
  {
   "cell_type": "code",
   "execution_count": 2,
   "metadata": {},
   "outputs": [
    {
     "name": "stderr",
     "output_type": "stream",
     "text": [
      "Building prefix dict from the default dictionary ...\n",
      "Loading model from cache /tmp/jieba.cache\n"
     ]
    },
    {
     "name": "stdout",
     "output_type": "stream",
     "text": [
      "文件的编码格式:UTF-8\n"
     ]
    },
    {
     "name": "stderr",
     "output_type": "stream",
     "text": [
      "Loading model cost 0.528 seconds.\n",
      "Prefix dict has been built successfully.\n"
     ]
    },
    {
     "name": "stdout",
     "output_type": "stream",
     "text": [
      "序号   词语      频率   \n"
     ]
    }
   ],
   "source": [
    "with open('decision.txt', 'r') as f:\n",
    "    print('文件的编码格式:'+f.encoding)\n",
    "    txt = f.read()\n",
    "    words = jieba.lcut(txt)\n",
    "    \n",
    "counts = {}     \n",
    "for word in words:\n",
    "     # == 1 单个词语不计算在内\n",
    "    if  len(word) < 2 :  \n",
    "        continue\n",
    "    else:\n",
    "        # 遍历所有词语，每出现一次其对应的值加 1\n",
    "        counts[word] = counts.get(word, 0) + 1\n",
    "\n",
    "refined_word = []\n",
    "for word in words:\n",
    "    if  len(word) < 2 :  \n",
    "        continue\n",
    "    else:\n",
    "        refined_word.append(word)\n",
    "        \n",
    "#将键值对转换成列表\n",
    "items = list(counts.items())\n",
    "\n",
    "# 根据词语出现的次数进行从大到小排序\n",
    "items.sort(key=lambda x: x[1], reverse=True)\n",
    "#列标题 format\n",
    "print(\"{0:<5}{1:<8}{2:<5}\".format('序号','词语', '频率'))\n",
    "#需要显示的范围  10即显示前10个，0到9\n",
    "\n",
    "    \n",
    "\n"
   ]
  },
  {
   "cell_type": "code",
   "execution_count": 3,
   "metadata": {},
   "outputs": [
    {
     "name": "stdout",
     "output_type": "stream",
     "text": [
      "1    发展        207\n",
      "2    中国        187\n",
      "3    人民        168\n",
      "4    坚持        157\n",
      "5    社会主义      156\n",
      "6    建设        153\n",
      "7    国家         92\n",
      "8    全面         87\n",
      "9    领导         86\n",
      "10   推进         84\n"
     ]
    }
   ],
   "source": [
    "for i in range(10):\n",
    "    word, count = items[i]\n",
    "    print(\"{0:<5}{1:<8}{2:>5}\".format(i+1,word, count))"
   ]
  },
  {
   "cell_type": "code",
   "execution_count": 4,
   "metadata": {},
   "outputs": [
    {
     "data": {
      "image/png": "[encoded data removed]",
      "text/plain": [
       "<Figure size 432x288 with 1 Axes>"
      ]
     },
     "metadata": {
      "needs_background": "light"
     },
     "output_type": "display_data"
    }
   ],
   "source": [
    "chiyun = [] \n",
    "for w,c in items:\n",
    "    chiyun.append(w)\n",
    "    \n",
    "text_cut  =  '/'.join(chiyun)\n",
    "\n",
    "wordcloud = WordCloud(background_color='white', width=1000, height=860, margin=2).generate(text_cut)\n",
    "# 显示图片 \n",
    "plt.imshow(wordcloud)\n",
    "plt.axis('off')\n",
    "plt.show()"
   ]
  },
  {
   "cell_type": "code",
   "execution_count": 5,
   "metadata": {},
   "outputs": [
    {
     "data": {
      "text/plain": [
       "['中共中央', '关于', '百年', '奋斗', '重大成就', '历史', '经验', '决议', '2021', '11']"
      ]
     },
     "execution_count": 5,
     "metadata": {},
     "output_type": "execute_result"
    }
   ],
   "source": [
    "refined_word[:10]"
   ]
  },
  {
   "cell_type": "code",
   "execution_count": 6,
   "metadata": {},
   "outputs": [
    {
     "data": {
      "image/png": "[encoded data removed]",
      "text/plain": [
       "<Figure size 432x288 with 1 Axes>"
      ]
     },
     "metadata": {
      "needs_background": "light"
     },
     "output_type": "display_data"
    }
   ],
   "source": [
    "matplotlib.rc(\"font\", family='Microsoft YaHei')\n",
    "\n",
    "wordcloud = WordCloud(background_color='white', width=1000, height=860, margin=2).generate(u\" \".join(refined_word))\n",
    "# 显示图片 \n",
    "plt.imshow(wordcloud)\n",
    "plt.axis('off')\n",
    "plt.show()\n"
   ]
  },
  {
   "cell_type": "code",
   "execution_count": 7,
   "metadata": {},
   "outputs": [
    {
     "name": "stdout",
     "output_type": "stream",
     "text": [
      "********** 可用的字体 **********\n",
      "Droid Sans Fallback\n",
      "Yahei Mono\n",
      "SimHei\n",
      "YouYuan\n",
      "FangSong\n",
      "YaHei Consolas Hybrid\n",
      "Microsoft YaHei\n",
      "LiSu\n",
      "KaiTi\n"
     ]
    }
   ],
   "source": [
    "from matplotlib.font_manager import FontManager\n",
    "import subprocess\n",
    "\n",
    "fm = FontManager()\n",
    "mat_fonts = set(f.name for f in fm.ttflist)\n",
    "\n",
    "output = subprocess.check_output(\n",
    "    'fc-list :lang=zh -f \"%{family}\\n\"', shell=True)\n",
    "output = output.decode('utf-8')\n",
    "# print '*' * 10, '系统可用的中文字体', '*' * 10\n",
    "# print output\n",
    "zh_fonts = set(f.split(',', 1)[0] for f in output.split('\\n'))\n",
    "available = mat_fonts & zh_fonts\n",
    "\n",
    "print('*' * 10, '可用的字体', '*' * 10)\n",
    "for f in available:\n",
    "    print(f)"
   ]
  },
  {
   "cell_type": "code",
   "execution_count": null,
   "metadata": {},
   "outputs": [],
   "source": []
  }
 ],
 "metadata": {
  "kernelspec": {
   "display_name": "Python 3",
   "language": "python",
   "name": "python3"
  },
  "language_info": {
   "codemirror_mode": {
    "name": "ipython",
    "version": 3
   },
   "file_extension": ".py",
   "mimetype": "text/x-python",
   "name": "python",
   "nbconvert_exporter": "python",
   "pygments_lexer": "ipython3",
   "version": "3.7.7"
  }
 },
 "nbformat": 4,
 "nbformat_minor": 4
}
