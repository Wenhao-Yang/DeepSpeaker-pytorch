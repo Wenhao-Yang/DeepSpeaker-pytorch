{
 "cells": [
  {
   "cell_type": "code",
   "execution_count": null,
   "metadata": {
    "collapsed": false,
    "jupyter": {
     "outputs_hidden": false
    }
   },
   "outputs": [],
   "source": [
    "%matplotlib inline"
   ]
  },
  {
   "cell_type": "markdown",
   "metadata": {},
   "source": [
    "\n",
    "# OT for image color adaptation with mapping estimation\n",
    "\n",
    "OT for domain adaptation with image color adaptation [6] with mapping\n",
    "estimation [8].\n",
    "\n",
    "[6] Ferradans, S., Papadakis, N., Peyre, G., & Aujol, J. F. (2014). Regularized\n",
    "discrete optimal transport. SIAM Journal on Imaging Sciences, 7(3), 1853-1882.\n",
    "\n",
    "[8] M. Perrot, N. Courty, R. Flamary, A. Habrard, \"Mapping estimation for\n",
    "discrete optimal transport\", Neural Information Processing Systems (NIPS), 2016.\n"
   ]
  },
  {
   "cell_type": "code",
   "execution_count": null,
   "metadata": {
    "collapsed": false,
    "jupyter": {
     "outputs_hidden": false
    }
   },
   "outputs": [],
   "source": [
    "# Authors: Remi Flamary <remi.flamary@unice.fr>\n",
    "#          Stanislas Chambon <stan.chambon@gmail.com>\n",
    "#\n",
    "# License: MIT License\n",
    "\n",
    "# sphinx_gallery_thumbnail_number = 3\n",
    "import os\n",
    "from pathlib import Path\n",
    "\n",
    "import numpy as np\n",
    "from matplotlib import pyplot as plt\n",
    "import ot\n",
    "\n",
    "rng = np.random.RandomState(42)\n",
    "\n",
    "\n",
    "def im2mat(img):\n",
    "    \"\"\"Converts and image to matrix (one pixel per line)\"\"\"\n",
    "    return img.reshape((img.shape[0] * img.shape[1], img.shape[2]))\n",
    "\n",
    "\n",
    "def mat2im(X, shape):\n",
    "    \"\"\"Converts back a matrix to an image\"\"\"\n",
    "    return X.reshape(shape)\n",
    "\n",
    "\n",
    "def minmax(img):\n",
    "    return np.clip(img, 0, 1)"
   ]
  },
  {
   "cell_type": "markdown",
   "metadata": {},
   "source": [
    "## Generate data\n",
    "\n"
   ]
  },
  {
   "cell_type": "code",
   "execution_count": null,
   "metadata": {
    "collapsed": false,
    "jupyter": {
     "outputs_hidden": false
    }
   },
   "outputs": [],
   "source": [
    "# Loading images\n",
    "this_file = os.path.realpath('__file__')\n",
    "data_path = os.path.join(Path(this_file).parent.parent.parent, 'data')\n",
    "\n",
    "I1 = plt.imread(os.path.join(data_path, 'ocean_day.jpg')).astype(np.float64) / 256\n",
    "I2 = plt.imread(os.path.join(data_path, 'ocean_sunset.jpg')).astype(np.float64) / 256\n",
    "\n",
    "X1 = im2mat(I1)\n",
    "X2 = im2mat(I2)\n",
    "\n",
    "# training samples\n",
    "nb = 500\n",
    "idx1 = rng.randint(X1.shape[0], size=(nb,))\n",
    "idx2 = rng.randint(X2.shape[0], size=(nb,))\n",
    "\n",
    "Xs = X1[idx1, :]\n",
    "Xt = X2[idx2, :]"
   ]
  },
  {
   "cell_type": "markdown",
   "metadata": {},
   "source": [
    "## Domain adaptation for pixel distribution transfer\n",
    "\n"
   ]
  },
  {
   "cell_type": "code",
   "execution_count": null,
   "metadata": {
    "collapsed": false,
    "jupyter": {
     "outputs_hidden": false
    }
   },
   "outputs": [],
   "source": [
    "# EMDTransport\n",
    "ot_emd = ot.da.EMDTransport()\n",
    "ot_emd.fit(Xs=Xs, Xt=Xt)\n",
    "transp_Xs_emd = ot_emd.transform(Xs=X1)\n",
    "Image_emd = minmax(mat2im(transp_Xs_emd, I1.shape))\n",
    "\n",
    "# SinkhornTransport\n",
    "ot_sinkhorn = ot.da.SinkhornTransport(reg_e=1e-1)\n",
    "ot_sinkhorn.fit(Xs=Xs, Xt=Xt)\n",
    "transp_Xs_sinkhorn = ot_sinkhorn.transform(Xs=X1)\n",
    "Image_sinkhorn = minmax(mat2im(transp_Xs_sinkhorn, I1.shape))\n",
    "\n",
    "ot_mapping_linear = ot.da.MappingTransport(\n",
    "    mu=1e0, eta=1e-8, bias=True, max_iter=20, verbose=True)\n",
    "ot_mapping_linear.fit(Xs=Xs, Xt=Xt)\n",
    "\n",
    "X1tl = ot_mapping_linear.transform(Xs=X1)\n",
    "Image_mapping_linear = minmax(mat2im(X1tl, I1.shape))\n",
    "\n",
    "ot_mapping_gaussian = ot.da.MappingTransport(\n",
    "    mu=1e0, eta=1e-2, sigma=1, bias=False, max_iter=10, verbose=True)\n",
    "ot_mapping_gaussian.fit(Xs=Xs, Xt=Xt)\n",
    "\n",
    "X1tn = ot_mapping_gaussian.transform(Xs=X1)  # use the estimated mapping\n",
    "Image_mapping_gaussian = minmax(mat2im(X1tn, I1.shape))"
   ]
  },
  {
   "cell_type": "markdown",
   "metadata": {},
   "source": [
    "## Plot original images\n",
    "\n"
   ]
  },
  {
   "cell_type": "code",
   "execution_count": null,
   "metadata": {
    "collapsed": false,
    "jupyter": {
     "outputs_hidden": false
    }
   },
   "outputs": [],
   "source": [
    "plt.figure(1, figsize=(6.4, 3))\n",
    "plt.subplot(1, 2, 1)\n",
    "plt.imshow(I1)\n",
    "plt.axis('off')\n",
    "plt.title('Image 1')\n",
    "\n",
    "plt.subplot(1, 2, 2)\n",
    "plt.imshow(I2)\n",
    "plt.axis('off')\n",
    "plt.title('Image 2')\n",
    "plt.tight_layout()"
   ]
  },
  {
   "cell_type": "markdown",
   "metadata": {},
   "source": [
    "## Plot pixel values distribution\n",
    "\n"
   ]
  },
  {
   "cell_type": "code",
   "execution_count": null,
   "metadata": {
    "collapsed": false,
    "jupyter": {
     "outputs_hidden": false
    }
   },
   "outputs": [],
   "source": [
    "plt.figure(2, figsize=(6.4, 5))\n",
    "\n",
    "plt.subplot(1, 2, 1)\n",
    "plt.scatter(Xs[:, 0], Xs[:, 2], c=Xs)\n",
    "plt.axis([0, 1, 0, 1])\n",
    "plt.xlabel('Red')\n",
    "plt.ylabel('Blue')\n",
    "plt.title('Image 1')\n",
    "\n",
    "plt.subplot(1, 2, 2)\n",
    "plt.scatter(Xt[:, 0], Xt[:, 2], c=Xt)\n",
    "plt.axis([0, 1, 0, 1])\n",
    "plt.xlabel('Red')\n",
    "plt.ylabel('Blue')\n",
    "plt.title('Image 2')\n",
    "plt.tight_layout()"
   ]
  },
  {
   "cell_type": "markdown",
   "metadata": {},
   "source": [
    "## Plot transformed images\n",
    "\n"
   ]
  },
  {
   "cell_type": "code",
   "execution_count": null,
   "metadata": {
    "collapsed": false,
    "jupyter": {
     "outputs_hidden": false
    }
   },
   "outputs": [],
   "source": [
    "plt.figure(2, figsize=(10, 5))\n",
    "\n",
    "plt.subplot(2, 3, 1)\n",
    "plt.imshow(I1)\n",
    "plt.axis('off')\n",
    "plt.title('Im. 1')\n",
    "\n",
    "plt.subplot(2, 3, 4)\n",
    "plt.imshow(I2)\n",
    "plt.axis('off')\n",
    "plt.title('Im. 2')\n",
    "\n",
    "plt.subplot(2, 3, 2)\n",
    "plt.imshow(Image_emd)\n",
    "plt.axis('off')\n",
    "plt.title('EmdTransport')\n",
    "\n",
    "plt.subplot(2, 3, 5)\n",
    "plt.imshow(Image_sinkhorn)\n",
    "plt.axis('off')\n",
    "plt.title('SinkhornTransport')\n",
    "\n",
    "plt.subplot(2, 3, 3)\n",
    "plt.imshow(Image_mapping_linear)\n",
    "plt.axis('off')\n",
    "plt.title('MappingTransport (linear)')\n",
    "\n",
    "plt.subplot(2, 3, 6)\n",
    "plt.imshow(Image_mapping_gaussian)\n",
    "plt.axis('off')\n",
    "plt.title('MappingTransport (gaussian)')\n",
    "plt.tight_layout()\n",
    "\n",
    "plt.show()"
   ]
  }
 ],
 "metadata": {
  "kernelspec": {
   "display_name": "Python 3 (ipykernel)",
   "language": "python",
   "name": "python3"
  },
  "language_info": {
   "codemirror_mode": {
    "name": "ipython",
    "version": 3
   },
   "file_extension": ".py",
   "mimetype": "text/x-python",
   "name": "python",
   "nbconvert_exporter": "python",
   "pygments_lexer": "ipython3",
   "version": "3.8.10"
  }
 },
 "nbformat": 4,
 "nbformat_minor": 4
}
