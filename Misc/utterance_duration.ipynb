{
 "cells": [
  {
   "cell_type": "code",
   "execution_count": 1,
   "metadata": {},
   "outputs": [],
   "source": [
    "import matplotlib.pyplot as plt\n",
    "import numpy as np"
   ]
  },
  {
   "cell_type": "code",
   "execution_count": 11,
   "metadata": {},
   "outputs": [
    {
     "data": {
      "text/plain": [
       "Text(0,0.5,'数量(条)')"
      ]
     },
     "execution_count": 11,
     "metadata": {},
     "output_type": "execute_result"
    },
    {
     "data": {
      "image/png": "[encoded data removed]",
      "text/plain": [
       "<Figure size 432x288 with 1 Axes>"
      ]
     },
     "metadata": {
      "needs_background": "light"
     },
     "output_type": "display_data"
    }
   ],
   "source": [
    "utt2dur_file = '/home/work2020/yangwenhao/project/lstm_speaker_verification/data/aishell2/spect/test_log/utt2dur'\n",
    "utt2dur = []\n",
    "with open(utt2dur_file, 'r') as f:\n",
    "    for l in f.readlines():\n",
    "        uid, dur = l.split()\n",
    "        utt2dur.append([uid, float(dur)])\n",
    "        \n",
    "\n",
    "dur = np.array([x[1] for x in utt2dur])\n",
    "plt.hist(dur, bins=50, log=True)        \n",
    "\n",
    "plt.rcParams['font.sans-serif'] = ['SimHei'] # 步骤一（替换sans-serif字体）\n",
    "plt.rcParams['axes.unicode_minus'] = False\n",
    "plt.xlabel(u'时间(秒)')\n",
    "plt.ylabel(u'数量(条)')\n"
   ]
  },
  {
   "cell_type": "code",
   "execution_count": 19,
   "metadata": {},
   "outputs": [
    {
     "data": {
      "text/plain": [
       "<matplotlib.legend.Legend at 0x7f2fff139490>"
      ]
     },
     "execution_count": 19,
     "metadata": {},
     "output_type": "execute_result"
    },
    {
     "data": {
      "image/png": "[encoded data removed]",
      "text/plain": [
       "<Figure size 432x288 with 1 Axes>"
      ]
     },
     "metadata": {
      "needs_background": "light"
     },
     "output_type": "display_data"
    }
   ],
   "source": [
    "utt2dur_file = '/home/work2020/yangwenhao/project/lstm_speaker_verification/data/vox1/klfb/test_fb40/utt2dur'\n",
    "utt2dur = []\n",
    "with open(utt2dur_file, 'r') as f:\n",
    "    for l in f.readlines():\n",
    "        uid, dur = l.split()\n",
    "        utt2dur.append([uid, float(dur)])\n",
    "        \n",
    "\n",
    "dur = np.array([x[1] for x in utt2dur])\n",
    "plt.hist(dur, bins=50,log=True)        \n",
    "\n",
    "utt2dur_file = '/home/work2020/yangwenhao/project/lstm_speaker_verification/data/cnceleb/klfb/test_fb40/utt2dur'\n",
    "utt2dur = []\n",
    "with open(utt2dur_file, 'r') as f:\n",
    "    for l in f.readlines():\n",
    "        uid, dur = l.split()\n",
    "        utt2dur.append([uid, float(dur)])\n",
    "        \n",
    "\n",
    "dur = np.array([x[1] for x in utt2dur])\n",
    "plt.hist(dur, bins=50,log=True, alpha=0.3)    \n",
    "\n",
    "plt.rcParams['font.sans-serif'] = ['SimHei'] # 步骤一（替换sans-serif字体）\n",
    "plt.rcParams['axes.unicode_minus'] = False\n",
    "plt.xlabel(u'时间(秒)', fontsize=18)\n",
    "plt.ylabel(u'数量(条)', fontsize=18)\n",
    "plt.legen90d(['vox1', 'cnc'], fontsize=18)\n",
    "plt.title"
   ]
  },
  {
   "cell_type": "code",
   "execution_count": 13,
   "metadata": {},
   "outputs": [
    {
     "data": {
      "text/plain": [
       "Text(0,0.5,'数量(条)')"
      ]
     },
     "execution_count": 13,
     "metadata": {},
     "output_type": "execute_result"
    },
    {
     "data": {
      "image/png": "[encoded data removed]",
      "text/plain": [
       "<Figure size 432x288 with 1 Axes>"
      ]
     },
     "metadata": {
      "needs_background": "light"
     },
     "output_type": "display_data"
    }
   ],
   "source": [
    "utt2dur_file = '/home/work2020/yangwenhao/project/lstm_speaker_verification/data/cnceleb/klfb/test_fb40/utt2dur'\n",
    "utt2dur = []\n",
    "with open(utt2dur_file, 'r') as f:\n",
    "    for l in f.readlines():\n",
    "        uid, dur = l.split()\n",
    "        utt2dur.append([uid, float(dur)])\n",
    "        \n",
    "\n",
    "dur = np.array([x[1] for x in utt2dur])\n",
    "plt.hist(dur, bins=50,log=True)        \n",
    "\n",
    "plt.rcParams['font.sans-serif'] = ['SimHei'] # 步骤一（替换sans-serif字体）\n",
    "plt.rcParams['axes.unicode_minus'] = False\n",
    "plt.xlabel(u'时间(秒)')\n",
    "plt.ylabel(u'数量(条)')"
   ]
  },
  {
   "cell_type": "code",
   "execution_count": 9,
   "metadata": {
    "tags": []
   },
   "outputs": [
    {
     "data": {
      "text/plain": [
       "(0, 40)"
      ]
     },
     "execution_count": 9,
     "metadata": {},
     "output_type": "execute_result"
    },
    {
     "data": {
      "image/png": "[encoded data removed]",
      "text/plain": [
       "<Figure size 432x288 with 1 Axes>"
      ]
     },
     "metadata": {
      "needs_background": "light"
     },
     "output_type": "display_data"
    }
   ],
   "source": [
    "utt2dur_file = '/home/ssd2020/yangwenhao/lstm_speaker_verification/data/vox1/klsp/test/utt2dur'\n",
    "utt2dur = []\n",
    "with open(utt2dur_file, 'r') as f:\n",
    "    for l in f.readlines():\n",
    "        uid, dur = l.split()\n",
    "        utt2dur.append([uid, float(dur)])\n",
    "        \n",
    "dur = np.array([x[1] for x in utt2dur])\n",
    "plt.hist(dur)\n",
    "plt.rcParams['font.sans-serif'] = ['SimHei'] # 步骤一（替换sans-serif字体）\n",
    "plt.rcParams['axes.unicode_minus'] = False\n",
    "plt.xlabel(u'时间(秒)')\n",
    "plt.ylabel(u'数量(条)')\n",
    "plt.xlim(0,40)"
   ]
  },
  {
   "cell_type": "code",
   "execution_count": 14,
   "metadata": {},
   "outputs": [
    {
     "name": "stdout",
     "output_type": "stream",
     "text": [
      "********** 可用的字体 **********\n",
      "LiSu\n",
      "Droid Sans Fallback\n",
      "Microsoft YaHei\n",
      "Yahei Mono\n",
      "YouYuan\n",
      "KaiTi\n",
      "FangSong\n",
      "SimHei\n",
      "YaHei Consolas Hybrid\n"
     ]
    }
   ],
   "source": [
    "from matplotlib.font_manager import FontManager\n",
    "import subprocess\n",
    "\n",
    "fm = FontManager()\n",
    "mat_fonts = set(f.name for f in fm.ttflist)\n",
    "\n",
    "output = subprocess.check_output(\n",
    "    'fc-list :lang=zh -f \"%{family}\\n\"', shell=True)\n",
    "output = output.decode('utf-8')\n",
    "# print '*' * 10, '系统可用的中文字体', '*' * 10\n",
    "# print output\n",
    "zh_fonts = set(f.split(',', 1)[0] for f in output.split('\\n'))\n",
    "available = mat_fonts & zh_fonts\n",
    "\n",
    "print('*' * 10, '可用的字体', '*' * 10)\n",
    "for f in available:\n",
    "    print(f)"
   ]
  },
  {
   "cell_type": "code",
   "execution_count": 13,
   "metadata": {},
   "outputs": [
    {
     "data": {
      "text/plain": [
       "'/home/yangwenhao/anaconda3/envs/py37/lib/python3.7/site-packages/matplotlib/mpl-data/matplotlibrc'"
      ]
     },
     "execution_count": 13,
     "metadata": {},
     "output_type": "execute_result"
    }
   ],
   "source": [
    "import matplotlib\n",
    "matplotlib.matplotlib_fname()"
   ]
  },
  {
   "cell_type": "code",
   "execution_count": null,
   "metadata": {},
   "outputs": [],
   "source": []
  }
 ],
 "metadata": {
  "kernelspec": {
   "display_name": "Python 3",
   "language": "python",
   "name": "python3"
  },
  "language_info": {
   "codemirror_mode": {
    "name": "ipython",
    "version": 3
   },
   "file_extension": ".py",
   "mimetype": "text/x-python",
   "name": "python",
   "nbconvert_exporter": "python",
   "pygments_lexer": "ipython3",
   "version": "3.7.7"
  }
 },
 "nbformat": 4,
 "nbformat_minor": 4
}
