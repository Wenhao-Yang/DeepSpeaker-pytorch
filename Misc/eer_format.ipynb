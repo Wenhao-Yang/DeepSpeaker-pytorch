{
 "cells": [
  {
   "cell_type": "code",
   "execution_count": 2,
   "metadata": {},
   "outputs": [],
   "source": [
    "import librosa\n",
    "import numpy as np\n",
    "import matplotlib.pyplot as plt\n",
    "%matplotlib inline"
   ]
  },
  {
   "cell_type": "code",
   "execution_count": 8,
   "metadata": {},
   "outputs": [
    {
     "data": {
      "image/png": "[encoded data removed]",
      "text/plain": [
       "<Figure size 864x216 with 1 Axes>"
      ]
     },
     "metadata": {
      "needs_background": "light"
     },
     "output_type": "display_data"
    }
   ],
   "source": [
    "# Plot triangle filters\n",
    "melfb = librosa.filters.mel(16000, 400)\n",
    "plt.figure(figsize=(12,3))\n",
    "for i,x in enumerate(melfb):\n",
    "    if i<3:\n",
    "        plt.plot(x[:15])\n",
    "\n",
    "plt.show()"
   ]
  },
  {
   "cell_type": "code",
   "execution_count": 15,
   "metadata": {},
   "outputs": [
    {
     "name": "stdout",
     "output_type": "stream",
     "text": [
      "LoResNet-8-chn16\n",
      "#|     vox1-test     |  4.19±0.08  |             | 0.3688±0.0158 | 0.5157±0.0103 |\n",
      "LoResNet-8-chn16-mel\n",
      "#|   vox1-test-mel   |  4.27±0.07  |             | 0.3742±0.0120 | 0.4820±0.0467 |\n",
      "LoResNet-8-chn16-clean\n",
      "#|  vox1-test-clean  |  4.09±0.02  |             | 0.3620±0.0045 | 0.5199±0.0123 |\n",
      "LoResNet-8-chn16-aug\n",
      "#|   vox1-test-aug   |  4.15±0.09  |             | 0.3530±0.0207 | 0.5044±0.0375 |\n",
      "LoResNet-8-chn16-vox2\n",
      "#|  vox1-test-vox2   |  4.00±0.08  |             | 0.3698±0.0067 | 0.4834±0.0219 |\n",
      "LoResNet-8-chn32\n",
      "#|     vox1-test     |  3.51±0.14  |             | 0.3259±0.0120 | 0.4080±0.0359 |\n",
      "LoResNet-8-chn32-mel\n",
      "#|   vox1-test-mel   |  3.26±0.12  |             | 0.3195±0.0081 | 0.4053±0.0321 |\n",
      "LoResNet-8-chn32-clean\n",
      "#|  vox1-test-clean  |  3.38±0.08  |             | 0.3192±0.0160 | 0.3971±0.0204 |\n",
      "LoResNet-8-chn32-aug\n",
      "#|   vox1-test-aug   |  3.33±0.04  |             | 0.3177±0.0018 | 0.4027±0.0188 |\n",
      "LoResNet-8-chn32-vox2\n",
      "#|  vox1-test-vox2   |  3.37±0.08  |             | 0.3002±0.0029 | 0.4035±0.0423 |\n",
      "LoResNet-8-chn16-kd+emdeddings_cos\n",
      "#|     vox1-test     |  4.19±0.06  |             | 0.3669±0.0166 | 0.5137±0.0044 |\n",
      "LoResNet-8-chn16-emdeddings_cos\n",
      "#|     vox1-test     |  4.13±0.00  |             | 0.3752±0.0167 | 0.4891±0.0306 |\n",
      "LoResNet-8-chn16-kd-kld\n",
      "#|     vox1-test     |  4.14±0.04  |             | 0.3688±0.0094 | 0.4828±0.0501 |\n",
      "LoResNet-8-chn32-kd+emdeddings_cos\n",
      "#|     vox1-test     |  3.39±0.04  |             | 0.3229±0.0058 | 0.3969±0.0256 |\n",
      "LoResNet-8-chn32-kd-kld\n",
      "#|     vox1-test     |  3.46±0.06  |             | 0.3252±0.0301 | 0.4324±0.0251 |\n",
      "LoResNet-8-chn64\n",
      "#|     vox1-test     |  3.28±0.02  |             | 0.2875±0.0144 | 0.3951±0.0311 |\n"
     ]
    }
   ],
   "source": [
    "eer = []\n",
    "mindcf01 = []\n",
    "mindcf001 = []\n",
    "with open('data/loresnet.txt', 'r') as f:\n",
    "    for l in f.readlines():\n",
    "        ls = l.split()\n",
    "        if len(ls) ==0:\n",
    "            continue\n",
    "        elif len(ls)< 10:\n",
    "            print(\"-\".join(ls[1:]))\n",
    "            test_set=''\n",
    "            eer = []\n",
    "            mindcf01 = []\n",
    "            mindcf001 = []\n",
    "            \n",
    "        elif len(ls)>= 10:\n",
    "            eer.append(float(ls[3]))\n",
    "            mindcf01.append(float(ls[7]))\n",
    "            mindcf001.append(float(ls[9]))\n",
    "            test_set=ls[1]\n",
    "        \n",
    "        if len(eer)==3:\n",
    "            print(\"#|{: ^19s}\".format(test_set)+\"|  %.2f±%.2f  |             |\"%(np.mean(eer), np.std(eer)), end=' ')\n",
    "            print(\"%.4f±%.4f\"%(np.mean(mindcf01), np.std(mindcf01)), end=' ')\n",
    "            print(\"| %.4f±%.4f |\"%(np.mean(mindcf001), np.std(mindcf001)))\n",
    "        \n",
    "  "
   ]
  },
  {
   "cell_type": "code",
   "execution_count": 12,
   "metadata": {},
   "outputs": [
    {
     "name": "stdout",
     "output_type": "stream",
     "text": [
      "ResNet-8-chn16\n",
      "#|     vox1-test     |  5.16±0.07  |             | 0.4481±0.0179 | 0.6074±0.0292 |\n",
      "ResNet-8-chn16-attention(rclean)-vox1\n",
      "#|     vox1-test     |  5.12±0.10  |             | 0.4621±0.0071 | 0.5449±0.0284 |\n",
      "chn16-attention3(rclean)-vox1\n",
      "#|  vox1-test-rcle   |  5.16±0.02  |             | 0.4637±0.0093 | 0.5872±0.0136 |\n",
      "ResNet-8-chn16-attention(vox2_rclean)-vox1\n",
      "#|  vox1-test-vox2   |  5.14±0.03  |             | 0.4767±0.0115 | 0.6072±0.0224 |\n",
      "ResNet-8-chn16-attention(rclean)-sitw\n",
      "#|     sitw-test     |  9.69±0.20  |             | 0.6813±0.0016 | 0.8779±0.0069 |\n",
      "ResNet-8-chn16-attention3(rclean)-sitw\n",
      "#|  sitw-test-rcle   |  9.47±0.17  |             | 0.6814±0.0082 | 0.8835±0.0187 |\n",
      "ResNet-8-chn16-attention(vox2_rclean)-sitw\n",
      "#|  sitw-test-vox2   |  9.53±0.11  |             | 0.6822±0.0101 | 0.8696±0.0194 |\n",
      "ResNet-8-chn32\n",
      "#|     vox1-test     |  4.31±0.05  |             | 0.4005±0.0137 | 0.4999±0.0095 |\n",
      "ResNet-8-chn64\n",
      "#|     vox1-test     |  4.01±0.06  |             | 0.3653±0.0092 | 0.4315±0.0262 |\n",
      "ResNet-10\n",
      "#|     vox1-test     |  4.24±0.07  |             | 0.3889±0.0162 | 0.5185±0.0525 |\n",
      "ResNet-10-chn16-attention(rclean)\n",
      "#|  vox1-test-rcle   |  4.20±0.04  |             | 0.3907±0.0083 | 0.5191±0.0248 |\n",
      "ResNet-10-chn16-attention(rclean)-sitw\n",
      "#|  sitw-test-rcle   |  7.93±0.12  |             | 0.5740±0.0034 | 0.7664±0.0134 |\n",
      "ResNet-10-chn16-attention0-(rclean_max)\n",
      "#|  vox1-test-rcle   |  4.17±0.08  |             | 0.3870±0.0301 | 0.4881±0.0359 |\n",
      "ResNet-10-chn16-attention0-(rclean_max)-sitw\n",
      "#|  sitw-test-rcle   |  7.62±0.22  |             | 0.5684±0.0022 | 0.7555±0.0052 |\n",
      "ResNet-18-SAP2\n",
      "#|     vox1-test     |  3.68±0.10  |             | 0.3592±0.0043 | 0.4604±0.0213 |\n",
      "ResNet-18-AVG\n",
      "#|     vox1-test     |  4.60±0.15  |             | 0.4451±0.0142 | 0.5114±0.0321 |\n",
      "ResNet-18-AVG-attention-rclean\n",
      "#|  vox1-test-rcle   |  4.58±0.04  |             | 0.4428±0.0206 | 0.5543±0.0267 |\n",
      "ResNet-18-AVG-sitw\n",
      "#|  sitw-test-rcle   |  9.60±0.36  |             | 0.6083±0.0018 | 0.7975±0.0040 |\n",
      "ResNet-18-AVG-sitw-attention-rclean\n",
      "#|  sitw-test-rcle   |  9.17±0.28  |             | 0.6124±0.0100 | 0.8091±0.0113 |\n",
      "ResNet-18-chn16-attention(rclean)\n",
      "#|  vox1-test-rcle   |  3.72±0.07  |             | 0.3650±0.0096 | 0.4555±0.0395 |\n",
      "ResNet-18-chn16-attention(rclean)\n",
      "#|  sitw-test-rcle   |  7.02±0.17  |             | 0.5136±0.0023 | 0.6977±0.0062 |\n",
      "ResNet-34-SAP2\n",
      "#|     vox1-test     |  3.53±0.05  |             | 0.3498±0.0040 | 0.4261±0.0375 |\n",
      "ResNet-34-avg5-aishell2\n",
      "#|   aishell2-test   |  7.08±0.55  |             | 0.6882±0.0235 | 0.8727±0.0055 |\n",
      "ResNet-34-AVG\n",
      "#|     vox1-test     |  4.07±0.03  |             | 0.4027±0.0124 | 0.5078±0.0588 |\n",
      "ResNet-34-AVG-sitw\n",
      "#|     sitw-test     |  8.57±0.24  |             | 0.5746±0.0072 | 0.7969±0.0228 |\n",
      "ResNet-34-avg5-vox2\n",
      "#|     vox1-test     |  2.08±0.09  |             | 0.1965±0.0011 | 0.3089±0.0059 |\n",
      "ResNet-34-avg5-vox2-sitw\n",
      "#|     sitw-test     |  3.27±0.13  |             | 0.2661±0.0100 | 0.4016±0.0047 |\n",
      "ResNet-34-avg5-vox2-aishell2\n",
      "#|   aishell2-test   |  4.87±0.16  |             | 0.5419±0.0137 | 0.7380±0.0197 |\n"
     ]
    }
   ],
   "source": [
    "eer = []\n",
    "mindcf01 = []\n",
    "mindcf001 = []\n",
    "with open('data/test_resnet_220711.log', 'r') as f:\n",
    "    for l in f.readlines():\n",
    "        ls = l.split()\n",
    "        if len(ls) ==0:\n",
    "            continue\n",
    "        elif len(ls)< 10:\n",
    "            print(\"-\".join(ls[1:]))\n",
    "            test_set=''\n",
    "            eer = []\n",
    "            mindcf01 = []\n",
    "            mindcf001 = []\n",
    "            \n",
    "        elif len(ls)>= 10:\n",
    "            eer.append(float(ls[3]))\n",
    "            mindcf01.append(float(ls[7]))\n",
    "            mindcf001.append(float(ls[9]))\n",
    "            test_set=ls[1]\n",
    "        \n",
    "        if len(eer)==3:\n",
    "            print(\"#|{: ^19s}\".format(test_set)+\"|  %.2f±%.2f  |             |\"%(np.mean(eer), np.std(eer)), end=' ')\n",
    "            print(\"%.4f±%.4f\"%(np.mean(mindcf01), np.std(mindcf01)), end=' ')\n",
    "            print(\"| %.4f±%.4f |\"%(np.mean(mindcf001), np.std(mindcf001)))      "
   ]
  },
  {
   "cell_type": "code",
   "execution_count": 10,
   "metadata": {},
   "outputs": [
    {
     "name": "stdout",
     "output_type": "stream",
     "text": [
      "ResNet8chn16\n",
      "#|     sitw-test     |  9.84~0.04 |             | 0.6933~0.0020 |0.8924~0.0067 |\n",
      "ResNet8chn32\n",
      "#|     sitw-test     |  8.40~0.11 |             | 0.6035~0.0068 |0.7976~0.0112 |\n",
      "ResNet8chn64\n",
      "#|     sitw-test     |  7.97~0.27 |             | 0.5486~0.0070 |0.7329~0.0127 |\n",
      "ResNet10\n",
      "#|     sitw-test     |  8.24~0.17 |             | 0.5871~0.0075 |0.7768~0.0057 |\n",
      "ResNet18\n",
      "#|     sitw-test     |  6.97~0.17 |             | 0.5203~0.0099 |0.7152~0.0083 |\n",
      "ResNet34\n",
      "#|     sitw-test     |  6.27~0.09 |             | 0.4681~0.0061 |0.6555~0.0072 |\n"
     ]
    }
   ],
   "source": [
    "with open('data/test_resnet_sitw_20220713.txt', 'r') as f:\n",
    "    for l in f.readlines():\n",
    "        ls = l.split()\n",
    "        if len(ls) ==0:\n",
    "            continue\n",
    "        elif len(ls)== 3 or len(ls)== 4:\n",
    "            print(\"-\".join(ls[1:]))\n",
    "            test_set=''\n",
    "            eer = []\n",
    "            mindcf01 = []\n",
    "            mindcf001 = []\n",
    "        elif len(ls)>= 10:\n",
    "            eer.append(float(ls[3]))\n",
    "            mindcf01.append(float(ls[7]))\n",
    "            mindcf001.append(float(ls[9]))\n",
    "            test_set=ls[1]\n",
    "        \n",
    "        if len(eer)==3:\n",
    "            print(\"#|{: ^19s}\".format(test_set) + \"|  %.2f±%.2f  |             |\"%(np.mean(eer), np.std(eer)), end=' ')\n",
    "            print(\"%.4f±%.4f\"%(np.mean(mindcf01), np.std(mindcf01)), end=' ')\n",
    "            print(\"| %.4f±%.4f |\"%(np.mean(mindcf001), np.std(mindcf001)))"
   ]
  },
  {
   "cell_type": "code",
   "execution_count": 15,
   "metadata": {},
   "outputs": [
    {
     "name": "stdout",
     "output_type": "stream",
     "text": [
      "TDNN_v5-vox1-klfb40\n",
      "#|     vox1-test     |  4.73±0.05  |             | 0.4881±0.0154 | 0.5986±0.0136 |\n",
      "SlimmableTDNN-1.0-vox1-klfb40\n",
      "#|     vox1-test     |  5.01±0.10  |             | 0.5041±0.0418 | 0.6068±0.0700 |\n",
      "SlimmableTDNN-0.75-vox1-klfb40\n",
      "#|     vox1-test     |  5.00±0.16  |             | 0.4716±0.0230 | 0.5766±0.0314 |\n",
      "SlimmableTDNN-0.5-vox1-klfb40\n",
      "#|     vox1-test     |  4.93±0.14  |             | 0.4987±0.0354 | 0.6291±0.0250 |\n",
      "SlimmableTDNN-0.25-vox1-klfb40\n",
      "#|     vox1-test     |  5.44±0.22  |             | 0.5182±0.0244 | 0.6418±0.0057 |\n"
     ]
    }
   ],
   "source": [
    "eer = []\n",
    "mindcf01 = []\n",
    "mindcf001 = []\n",
    "with open('data/tdnn_slimmable.txt', 'r') as f:\n",
    "    for l in f.readlines():\n",
    "        ls = l.split()\n",
    "        if len(ls) ==0:\n",
    "            continue\n",
    "        elif len(ls)< 10:\n",
    "            print(\"-\".join(ls[1:]))\n",
    "            test_set=''\n",
    "            eer = []\n",
    "            mindcf01 = []\n",
    "            mindcf001 = []\n",
    "            \n",
    "        elif len(ls)>= 10:\n",
    "            eer.append(float(ls[3]))\n",
    "            mindcf01.append(float(ls[7]))\n",
    "            mindcf001.append(float(ls[9]))\n",
    "            test_set=ls[1]\n",
    "        \n",
    "        if len(eer)==3:\n",
    "            print(\"#|{: ^19s}\".format(test_set)+\"|  %.2f±%.2f  |             |\"%(np.mean(eer), np.std(eer)), end=' ')\n",
    "            print(\"%.4f±%.4f\"%(np.mean(mindcf01), np.std(mindcf01)), end=' ')\n",
    "            print(\"| %.4f±%.4f |\"%(np.mean(mindcf001), np.std(mindcf001))) "
   ]
  },
  {
   "cell_type": "code",
   "execution_count": 2,
   "metadata": {},
   "outputs": [
    {
     "name": "stdout",
     "output_type": "stream",
     "text": [
      "LoResNet-8-chn64\n",
      "#|     vox1-test     |  3.31±0.12  |             | 0.3185±0.0173 | 0.4072±0.0169 |\n"
     ]
    }
   ],
   "source": [
    "eer = []\n",
    "mindcf01 = []\n",
    "mindcf001 = []\n",
    "with open('data/lores_es.txt', 'r') as f:\n",
    "    for l in f.readlines():\n",
    "        ls = l.split()\n",
    "        if len(ls) ==0:\n",
    "            continue\n",
    "        elif len(ls)< 10:\n",
    "            print(\"-\".join(ls[1:]))\n",
    "            test_set=''\n",
    "            eer = []\n",
    "            mindcf01 = []\n",
    "            mindcf001 = []\n",
    "            \n",
    "        elif len(ls)>= 10:\n",
    "            eer.append(float(ls[3]))\n",
    "            mindcf01.append(float(ls[7]))\n",
    "            mindcf001.append(float(ls[9]))\n",
    "            test_set=ls[1]\n",
    "        \n",
    "        if len(eer)==3:\n",
    "            print(\"#|{: ^19s}\".format(test_set)+\"|  %.2f±%.2f  |             |\"%(np.mean(eer), np.std(eer)), end=' ')\n",
    "            print(\"%.4f±%.4f\"%(np.mean(mindcf01), np.std(mindcf01)), end=' ')\n",
    "            print(\"| %.4f±%.4f |\"%(np.mean(mindcf001), np.std(mindcf001))) "
   ]
  },
  {
   "cell_type": "code",
   "execution_count": 2,
   "metadata": {},
   "outputs": [],
   "source": [
    "eer = []\n",
    "mindcf01 = []\n",
    "mindcf001 = []\n",
    "\n",
    "result_lst = []\n",
    "result_idx = []\n",
    "with open('data/freq_mask.txt', 'r') as f:\n",
    "    for l in f.readlines():\n",
    "        ls = l.split()\n",
    "        if len(ls) ==0:\n",
    "#             print(\"-\".join(ls[1:]))\n",
    "#             test_set=''\n",
    "            continue\n",
    "        elif len(ls)>= 10:\n",
    "            eer.append(float(ls[3]))\n",
    "            mindcf01.append(float(ls[7]))\n",
    "            mindcf001.append(float(ls[9]))\n",
    "            test_set=int(ls[1].split(',')[1])-1 #vox1-test-0,1\n",
    "            \n",
    "        if len(eer)==3:\n",
    "            result_idx.append(test_set)\n",
    "            result_lst.append([np.mean(eer), np.mean(mindcf01), np.mean(mindcf001)])\n",
    "            eer = []\n",
    "            mindcf01 = []\n",
    "            mindcf001 = []\n",
    "#             print(\"#|{: ^19s}\".format(test_set)+\"|  %.2f±%.2f  |             |\"%(np.mean(eer), np.std(eer)), end=' ')\n",
    "#             print(\"%.4f±%.4f\"%(np.mean(mindcf01), np.std(mindcf01)), end=' ')\n",
    "#             print(\"| %.4f±%.4f |\"%(np.mean(mindcf001), np.std(mindcf001))) "
   ]
  },
  {
   "cell_type": "code",
   "execution_count": 7,
   "metadata": {},
   "outputs": [
    {
     "name": "stdout",
     "output_type": "stream",
     "text": [
      "[4.65713333 0.43203333 0.5529    ] [8.28323333 0.58843333 0.78333333]\n"
     ]
    }
   ],
   "source": [
    "result_lst = np.array(result_lst)\n",
    "result_idx = np.array(result_idx)\n",
    "\n",
    "norm_eer = np.array([4.24, 0.3889, 0.5185])\n",
    "norm_sitw_eer = np.array([8.24, 0.5871, 0.7768])\n",
    "\n",
    "x = np.arange(161) * 8000 / (161 - 1)\n",
    "print(result_lst[0], result_lst[-1])\n"
   ]
  },
  {
   "cell_type": "code",
   "execution_count": 14,
   "metadata": {},
   "outputs": [
    {
     "data": {
      "image/png": "[encoded data removed]",
      "text/plain": [
       "<Figure size 864x288 with 1 Axes>"
      ]
     },
     "metadata": {
      "needs_background": "light"
     },
     "output_type": "display_data"
    }
   ],
   "source": [
    "plt.figure(figsize=(12, 4))\n",
    "\n",
    "for i in range(3):\n",
    "    eer_lift = (result_lst[:161, i]-norm_eer[i])/norm_eer[i]\n",
    "    plt.plot(x, eer_lift, marker = '.')"
   ]
  },
  {
   "cell_type": "code",
   "execution_count": 13,
   "metadata": {},
   "outputs": [
    {
     "data": {
      "image/png": "[encoded data removed]",
      "text/plain": [
       "<Figure size 864x288 with 1 Axes>"
      ]
     },
     "metadata": {
      "needs_background": "light"
     },
     "output_type": "display_data"
    }
   ],
   "source": [
    "plt.figure(figsize=(12, 4))\n",
    "\n",
    "for i in range(3):\n",
    "    eer_lift = (result_lst[161:, i]-norm_sitw_eer[i])/norm_sitw_eer[i]\n",
    "    plt.plot(x, eer_lift, marker = '.')"
   ]
  },
  {
   "cell_type": "code",
   "execution_count": 5,
   "metadata": {},
   "outputs": [
    {
     "name": "stdout",
     "output_type": "stream",
     "text": [
      "ResNet-50-chn16\n",
      "#|     vox1-test     |  3.60±0.06  |             | 0.3696±0.0070 | 0.5131±0.0304 |\n",
      "ResNet-34-chn16\n",
      "#|     vox1-test     |  3.66±0.08  |             | 0.3703±0.0248 | 0.4460±0.0231 |\n",
      "ResNet-18-chn16\n",
      "#|     vox1-test     |  3.89±0.05  |             | 0.3967±0.0145 | 0.4850±0.0160 |\n",
      "ResNet-10-chn16\n",
      "#|     vox1-test     |  4.25±0.10  |             | 0.3914±0.0040 | 0.5287±0.0207 |\n"
     ]
    }
   ],
   "source": [
    "eer = []\n",
    "mindcf01 = []\n",
    "mindcf001 = []\n",
    "with open('data/resnet_fb40.txt', 'r') as f:\n",
    "    for l in f.readlines():\n",
    "        ls = l.split()\n",
    "        if len(ls) ==0:\n",
    "            continue\n",
    "        elif len(ls)< 10:\n",
    "            print(\"-\".join(ls[1:]))\n",
    "            test_set=''\n",
    "            eer = []\n",
    "            mindcf01 = []\n",
    "            mindcf001 = []\n",
    "            \n",
    "        elif len(ls)>= 10:\n",
    "            eer.append(float(ls[3]))\n",
    "            mindcf01.append(float(ls[7]))\n",
    "            mindcf001.append(float(ls[9]))\n",
    "            test_set=ls[1]\n",
    "        \n",
    "        if len(eer)==3:\n",
    "            print(\"#|{: ^19s}\".format(test_set)+\"|  %.2f±%.2f  |             |\"%(np.mean(eer), np.std(eer)), end=' ')\n",
    "            print(\"%.4f±%.4f\"%(np.mean(mindcf01), np.std(mindcf01)), end=' ')\n",
    "            print(\"| %.4f±%.4f |\"%(np.mean(mindcf001), np.std(mindcf001))) "
   ]
  },
  {
   "cell_type": "code",
   "execution_count": 4,
   "metadata": {},
   "outputs": [
    {
     "name": "stdout",
     "output_type": "stream",
     "text": [
      "resnet18_seblcok_red2_astp2-wav-fbank40-baseline\n",
      "#|    aidata-test    |  5.33±0.14  |             | 0.4665±0.0047 | 0.7887±0.0031 |\n",
      "resnet18_seblcok_red2_astp2-wav-fbank40-mixup0_0.2\n",
      "#|    aidata-test    |  5.86±0.13  |             | 0.4554±0.0058 | 0.7793±0.0189 |\n",
      "resnet18_seblcok_red2_astp2-wav-fbank40-clean+half_mixup0_0.2\n",
      "#|    aidata-test    |  5.23±0.16  |             | 0.4232±0.0072 | 0.7721±0.0056 |\n",
      "resnet18_seblcok_red2_astp2-wav-fbank40-clean+half_mixup0_0.5\n",
      "#|    aidata-test    |  5.14±0.02  |             | 0.4364±0.0147 | 0.7679±0.0181 |\n",
      "resnet34_seblcok_red2_k3_astp2-fbank40-baseline-server\n",
      "#|    aidata-test    |  5.10±0.05  |             | 0.4776±0.0072 | 0.8081±0.0163 |\n",
      "resnet34_seblcok_red2_k3_astp2-fbank40-baseline-clean+half_mixup0_0.2\n",
      "#|    aidata-test    |  5.62±0.11  |             | 0.4920±0.0089 | 0.8166±0.0216 |\n",
      "resnet34_seblcok_red2_k3_astp2-fbank40-baseline-clean+half_mixup0_0.5\n",
      "#|    aidata-test    |  14.07±11.67  |             | 0.6608±0.2378 | 0.8756±0.0876 |\n",
      "resnet34_seblcok_red2_k3_astp2-fbank40-baseline-clean+half_mixup0_1\n",
      "#|    aidata-test    |  20.70±10.64  |             | 0.8335±0.2329 | 0.9335±0.0931 |\n",
      "resnet34_seblcok_red2_k3_astp2-fbank40-baseline-clean+half_mixup0_2\n",
      "#|    aidata-test    |  5.56±0.16  |             | 0.4963±0.0160 | 0.7985±0.0114 |\n",
      "resnet34_seblcok_red2_k1_astp2-fbank40-baseline-dist\n",
      "#|    aidata-test    |  5.29±0.09  |             | 0.4862±0.0133 | 0.8015±0.0142 |\n",
      "resnet34_seblcok_red2_k1_astp2-fbank40-baseline-dist-manifold0.2-mani_gamma0.01\n",
      "#|    aidata-test    |  5.10±0.06  |             | 0.4740±0.0082 | 0.8181±0.0083 |\n",
      "resnet34_seblcok_red2_k1_astp2-fbank40-baseline-dist-layer_0,2-manifold2-mani_gamma1\n"
     ]
    }
   ],
   "source": [
    "eer = []\n",
    "mindcf01 = []\n",
    "mindcf001 = []\n",
    "with open('data/aidata.txt', 'r') as f:\n",
    "    for l in f.readlines():\n",
    "        ls = l.split()\n",
    "        if len(ls) ==0:\n",
    "            continue\n",
    "        elif len(ls)< 10:\n",
    "            print(\"-\".join(ls[1:]))\n",
    "            test_set=''\n",
    "            eer = []\n",
    "            mindcf01 = []\n",
    "            mindcf001 = []\n",
    "            \n",
    "        elif len(ls)>= 10:\n",
    "            eer.append(float(ls[3]))\n",
    "            mindcf01.append(float(ls[7]))\n",
    "            mindcf001.append(float(ls[9]))\n",
    "            test_set=ls[1]\n",
    "        \n",
    "        if len(eer)==3:\n",
    "            print(\"#|{: ^19s}\".format(test_set)+\"|  %.2f±%.2f  |             |\"%(np.mean(eer), np.std(eer)), end=' ')\n",
    "            print(\"%.4f±%.4f\"%(np.mean(mindcf01), np.std(mindcf01)), end=' ')\n",
    "            print(\"| %.4f±%.4f |\"%(np.mean(mindcf001), np.std(mindcf001))) "
   ]
  },
  {
   "cell_type": "code",
   "execution_count": 5,
   "metadata": {},
   "outputs": [
    {
     "name": "stdout",
     "output_type": "stream",
     "text": [
      "ResNet18-baseline\n",
      "#|     vox1-test     |  3.75±0.04  |             | 0.3624±0.0090 | 0.4668±0.0187 |\n",
      "attention-mel_mean\n",
      "#|     vox1-test     |  3.59±0.03  |             | 0.3571±0.0121 | 0.4826±0.0274 |\n",
      "ResNet10-baseline-mix2\n",
      "#|     vox1-test     |  4.18±0.07  |             | 0.4039±0.0090 | 0.5165±0.0224 |\n",
      "ResNet18-baseline-mix2\n",
      "#|     vox1-test     |  3.70±0.08  |             | 0.3426±0.0203 | 0.4623±0.0587 |\n",
      "attention-mel_mean-mix2\n",
      "#|     vox1-test     |  3.55±0.02  |             | 0.3497±0.0070 | 0.4450±0.0365 |\n",
      "attention-v2_rclean_gax-mix2\n",
      "#|     vox1-test     |  3.73±0.08  |             | 0.3532±0.0177 | 0.4486±0.0195 |\n",
      "attention-v2_rclean_gean-mix2\n",
      "#|     vox1-test     |  3.58±0.12  |             | 0.3414±0.0088 | 0.4582±0.0248 |\n"
     ]
    }
   ],
   "source": [
    "eer = []\n",
    "mindcf01 = []\n",
    "mindcf001 = []\n",
    "with open('data/resnet18_klsp.txt', 'r') as f:\n",
    "    for l in f.readlines():\n",
    "        ls = l.split()\n",
    "        if len(ls) ==0:\n",
    "            continue\n",
    "        elif len(ls)< 10:\n",
    "            print(\"-\".join(ls[1:]))\n",
    "            test_set=''\n",
    "            eer = []\n",
    "            mindcf01 = []\n",
    "            mindcf001 = []\n",
    "            \n",
    "        elif len(ls)>= 10:\n",
    "            eer.append(float(ls[3]))\n",
    "            mindcf01.append(float(ls[7]))\n",
    "            mindcf001.append(float(ls[9]))\n",
    "            test_set=ls[1]\n",
    "        \n",
    "        if len(eer)==3:\n",
    "            print(\"#|{: ^19s}\".format(test_set)+\"|  %.2f±%.2f  |             |\"%(np.mean(eer), np.std(eer)), end=' ')\n",
    "            print(\"%.4f±%.4f\"%(np.mean(mindcf01), np.std(mindcf01)), end=' ')\n",
    "            print(\"| %.4f±%.4f |\"%(np.mean(mindcf001), np.std(mindcf001))) "
   ]
  },
  {
   "cell_type": "code",
   "execution_count": 4,
   "metadata": {},
   "outputs": [
    {
     "name": "stdout",
     "output_type": "stream",
     "text": [
      "ResNet-34-chn16-baseline-Teacher\n",
      "batch256_seblock_red2_downk3_avg5_ASTP2_em256_dp01_alpha0_none1_wd5e4_vares\n",
      "#|     vox1-test     |  3.66±0.08  |             | 0.3703±0.0248 | 0.4460±0.0231 |\n",
      "ResNet-34-chn32-baseline-Teacher\n",
      "batch128_seblock_red2_downk3_avg5_ASTP2_em256_dp01_alpha0_none1_chn32_wd5e4_varesmix2_bashuf2_dist\n",
      "#|     vox1-test     |  3.53±0.06  |             | 0.3544±0.0158 | 0.4628±0.0317 |\n",
      "ResNet-10-chn16-baseline\n",
      "#|     vox1-test     |  4.25±0.10  |             | 0.3914±0.0040 | 0.5287±0.0207 |\n",
      "ResNet-10-chn16-Student-attention_transfer-1000\n",
      "#|     vox1-test     |  4.05±0.04  |             | 0.3961±0.0076 | 0.4839±0.0299 |\n",
      "ResNet-10-chn16-Student-attention_transfer-1000-frequency\n",
      "#|     vox1-test     |  4.09±0.05  |             | 0.3876±0.0100 | 0.5330±0.0131 |\n",
      "ResNet-10-chn16-Student-attention_transfer-1000-time\n",
      "#|     vox1-test     |  4.26±0.04  |             | 0.4033±0.0139 | 0.4873±0.0125 |\n",
      "ResNet-18-chn16-baseline\n",
      "#|     vox1-test     |  3.89±0.05  |             | 0.3967±0.0145 | 0.4850±0.0160 |\n"
     ]
    }
   ],
   "source": [
    "eer = []\n",
    "mindcf01 = []\n",
    "mindcf001 = []\n",
    "with open('data/resnet_fb40_at.txt', 'r') as f:\n",
    "    for l in f.readlines():\n",
    "        ls = l.split()\n",
    "        if len(ls) ==0:\n",
    "            continue\n",
    "        elif len(ls)< 10:\n",
    "            print(\"-\".join(ls[1:]))\n",
    "            test_set=''\n",
    "            eer = []\n",
    "            mindcf01 = []\n",
    "            mindcf001 = []\n",
    "            \n",
    "        elif len(ls)>= 10:\n",
    "            eer.append(float(ls[3]))\n",
    "            mindcf01.append(float(ls[7]))\n",
    "            mindcf001.append(float(ls[9]))\n",
    "            test_set=ls[1]\n",
    "        \n",
    "        if len(eer)==3:\n",
    "            print(\"#|{: ^19s}\".format(test_set)+\"|  %.2f±%.2f  |             |\"%(np.mean(eer), np.std(eer)), end=' ')\n",
    "            print(\"%.4f±%.4f\"%(np.mean(mindcf01), np.std(mindcf01)), end=' ')\n",
    "            print(\"| %.4f±%.4f |\"%(np.mean(mindcf001), np.std(mindcf001))) "
   ]
  },
  {
   "cell_type": "code",
   "execution_count": 3,
   "metadata": {},
   "outputs": [
    {
     "name": "stdout",
     "output_type": "stream",
     "text": [
      "resnet10-seblock-kernel7,7\n",
      "#|     vox1-test     |  4.16±0.08  |             | 0.3981±0.0078 | 0.4637±0.0178 |\n",
      "resnet34-seblock-kernel7,7\n",
      "#|     vox1-test     |  3.39±0.12  |             | 0.3470±0.0116 | 0.4240±0.0195 |\n"
     ]
    }
   ],
   "source": [
    "eer = []\n",
    "mindcf01 = []\n",
    "mindcf001 = []\n",
    "with open('data/resnet_fb80.txt', 'r') as f:\n",
    "    for l in f.readlines():\n",
    "        ls = l.split()\n",
    "        if len(ls) ==0:\n",
    "            continue\n",
    "        elif len(ls)< 10:\n",
    "            print(\"-\".join(ls[1:]))\n",
    "            test_set=''\n",
    "            eer = []\n",
    "            mindcf01 = []\n",
    "            mindcf001 = []\n",
    "            \n",
    "        elif len(ls)>= 10:\n",
    "            eer.append(float(ls[3]))\n",
    "            mindcf01.append(float(ls[7]))\n",
    "            mindcf001.append(float(ls[9]))\n",
    "            test_set=ls[1]\n",
    "        \n",
    "        if len(eer)==3:\n",
    "            print(\"#|{: ^19s}\".format(test_set)+\"|  %.2f±%.2f  |             |\"%(np.mean(eer), np.std(eer)), end=' ')\n",
    "            print(\"%.4f±%.4f\"%(np.mean(mindcf01), np.std(mindcf01)), end=' ')\n",
    "            print(\"| %.4f±%.4f |\"%(np.mean(mindcf001), np.std(mindcf001))) "
   ]
  },
  {
   "cell_type": "code",
   "execution_count": null,
   "metadata": {},
   "outputs": [],
   "source": []
  }
 ],
 "metadata": {
  "kernelspec": {
   "display_name": "Python 3 (ipykernel)",
   "language": "python",
   "name": "python3"
  },
  "language_info": {
   "codemirror_mode": {
    "name": "ipython",
    "version": 3
   },
   "file_extension": ".py",
   "mimetype": "text/x-python",
   "name": "python",
   "nbconvert_exporter": "python",
   "pygments_lexer": "ipython3",
   "version": "3.8.10"
  }
 },
 "nbformat": 4,
 "nbformat_minor": 4
}
