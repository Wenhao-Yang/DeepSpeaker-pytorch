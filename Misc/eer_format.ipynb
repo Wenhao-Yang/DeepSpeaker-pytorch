{
 "cells": [
  {
   "cell_type": "code",
   "execution_count": 2,
   "metadata": {},
   "outputs": [],
   "source": [
    "import librosa\n",
    "import numpy as np\n",
    "import matplotlib.pyplot as plt\n",
    "%matplotlib inline"
   ]
  },
  {
   "cell_type": "code",
   "execution_count": 8,
   "metadata": {},
   "outputs": [
    {
     "data": {
      "image/png": "[encoded data removed]",
      "text/plain": [
       "<Figure size 864x216 with 1 Axes>"
      ]
     },
     "metadata": {
      "needs_background": "light"
     },
     "output_type": "display_data"
    }
   ],
   "source": [
    "# Plot triangle filters\n",
    "melfb = librosa.filters.mel(16000, 400)\n",
    "plt.figure(figsize=(12,3))\n",
    "for i,x in enumerate(melfb):\n",
    "    if i<3:\n",
    "        plt.plot(x[:15])\n",
    "\n",
    "plt.show()"
   ]
  },
  {
   "cell_type": "code",
   "execution_count": 6,
   "metadata": {},
   "outputs": [
    {
     "name": "stdout",
     "output_type": "stream",
     "text": [
      "LoResNet-8-chn16\n",
      "#|     vox1-test     |  4.19~0.08  |             | 0.3688~0.0158 | 0.5157~0.0103 |\n",
      "LoResNet-8-chn16-mel\n",
      "#|   vox1-test-mel   |  4.27~0.07  |             | 0.3742~0.0120 | 0.4820~0.0467 |\n",
      "LoResNet-8-chn16-clean\n",
      "#|  vox1-test-clean  |  4.09~0.02  |             | 0.3620~0.0045 | 0.5199~0.0123 |\n",
      "LoResNet-8-chn16-aug\n",
      "#|   vox1-test-aug   |  4.15~0.09  |             | 0.3530~0.0207 | 0.5044~0.0375 |\n",
      "LoResNet-8-chn16-vox2\n",
      "#|  vox1-test-vox2   |  4.00~0.08  |             | 0.3698~0.0067 | 0.4834~0.0219 |\n",
      "LoResNet-8-chn32\n",
      "#|     vox1-test     |  3.51~0.14  |             | 0.3259~0.0120 | 0.4080~0.0359 |\n",
      "LoResNet-8-chn32-mel\n",
      "#|   vox1-test-mel   |  3.26~0.12  |             | 0.3195~0.0081 | 0.4053~0.0321 |\n",
      "LoResNet-8-chn32-clean\n",
      "#|  vox1-test-clean  |  3.38~0.08  |             | 0.3192~0.0160 | 0.3971~0.0204 |\n",
      "LoResNet-8-chn32-aug\n",
      "#|   vox1-test-aug   |  3.33~0.04  |             | 0.3177~0.0018 | 0.4027~0.0188 |\n",
      "LoResNet-8-chn32-vox2\n",
      "#|  vox1-test-vox2   |  3.37~0.08  |             | 0.3002~0.0029 | 0.4035~0.0423 |\n",
      "LoResNet-8-chn16-kd+emdeddings_cos\n",
      "#|     vox1-test     |  4.19~0.06  |             | 0.3669~0.0166 | 0.5137~0.0044 |\n",
      "LoResNet-8-chn32-kd+emdeddings_cos\n",
      "#|     vox1-test     |  3.39~0.04  |             | 0.3229~0.0058 | 0.3969~0.0256 |\n",
      "LoResNet-8-chn64\n",
      "#|     vox1-test     |  3.28~0.02  |             | 0.2875~0.0144 | 0.3951~0.0311 |\n"
     ]
    }
   ],
   "source": [
    "eer = []\n",
    "mindcf01 = []\n",
    "mindcf001 = []\n",
    "with open('data/loresnet.txt', 'r') as f:\n",
    "    for l in f.readlines():\n",
    "        ls = l.split()\n",
    "        if len(ls) ==0:\n",
    "            continue\n",
    "        elif len(ls)< 10:\n",
    "            print(\"-\".join(ls[1:]))\n",
    "            test_set=''\n",
    "            eer = []\n",
    "            mindcf01 = []\n",
    "            mindcf001 = []\n",
    "            \n",
    "        elif len(ls)>= 10:\n",
    "            eer.append(float(ls[3]))\n",
    "            mindcf01.append(float(ls[7]))\n",
    "            mindcf001.append(float(ls[9]))\n",
    "            test_set=ls[1]\n",
    "        \n",
    "        if len(eer)==3:\n",
    "            print(\"#|{: ^19s}\".format(test_set)+\"|  %.2f~%.2f  |             |\"%(np.mean(eer), np.std(eer)), end=' ')\n",
    "            print(\"%.4f~%.4f\"%(np.mean(mindcf01), np.std(mindcf01)), end=' ')\n",
    "            print(\"| %.4f~%.4f |\"%(np.mean(mindcf001), np.std(mindcf001)))\n",
    "        \n",
    "  "
   ]
  },
  {
   "cell_type": "code",
   "execution_count": 5,
   "metadata": {},
   "outputs": [
    {
     "name": "stdout",
     "output_type": "stream",
     "text": [
      "ResNet-8-chn16\n",
      "#|     vox1-test     |  5.16~0.07  |             | 0.4481~0.0179 | 0.6074~0.0292 |\n",
      "ResNet-8-chn16-attention(rclean)-vox1\n",
      "#|     vox1-test     |  5.12~0.10  |             | 0.4621~0.0071 | 0.5449~0.0284 |\n",
      "chn16-attention3(rclean)-vox1\n",
      "#|  vox1-test-rcle   |  5.16~0.02  |             | 0.4637~0.0093 | 0.5872~0.0136 |\n",
      "ResNet-8-chn16-attention(vox2_rclean)-vox1\n",
      "#|  vox1-test-vox2   |  5.14~0.03  |             | 0.4767~0.0115 | 0.6072~0.0224 |\n",
      "ResNet-8-chn16-attention(rclean)-sitw\n",
      "#|     sitw-test     |  9.69~0.20  |             | 0.6813~0.0016 | 0.8779~0.0069 |\n",
      "ResNet-8-chn16-attention3(rclean)-sitw\n",
      "#|  sitw-test-rcle   |  9.47~0.17  |             | 0.6814~0.0082 | 0.8835~0.0187 |\n",
      "ResNet-8-chn16-attention(vox2_rclean)-sitw\n",
      "#|  sitw-test-vox2   |  9.53~0.11  |             | 0.6822~0.0101 | 0.8696~0.0194 |\n",
      "ResNet-8-chn32\n",
      "#|     vox1-test     |  4.31~0.05  |             | 0.4005~0.0137 | 0.4999~0.0095 |\n",
      "ResNet-8-chn64\n",
      "#|     vox1-test     |  4.01~0.06  |             | 0.3653~0.0092 | 0.4315~0.0262 |\n",
      "ResNet-10\n",
      "#|     vox1-test     |  4.24~0.07  |             | 0.3889~0.0162 | 0.5185~0.0525 |\n",
      "ResNet-10-chn16-attention(rclean)\n",
      "#|  vox1-test-rcle   |  4.20~0.04  |             | 0.3907~0.0083 | 0.5191~0.0248 |\n",
      "ResNet-10-chn16-attention(rclean)\n",
      "#|  sitw-test-rcle   |  7.93~0.12  |             | 0.5740~0.0034 | 0.7664~0.0134 |\n",
      "ResNet-18\n",
      "#|     vox1-test     |  3.68~0.10  |             | 0.3592~0.0043 | 0.4604~0.0213 |\n",
      "ResNet-18-chn16-attention(rclean)\n",
      "#|  vox1-test-rcle   |  3.72~0.07  |             | 0.3650~0.0096 | 0.4555~0.0395 |\n",
      "ResNet-18-chn16-attention(rclean)\n",
      "#|  sitw-test-rcle   |  7.02~0.17  |             | 0.5136~0.0023 | 0.6977~0.0062 |\n",
      "ResNet-34\n",
      "#|     vox1-test     |  3.53~0.05  |             | 0.3498~0.0040 | 0.4261~0.0375 |\n",
      "ResNet-34-avg5-vox2\n",
      "#|     vox1-test     |  2.08~0.09  |             | 0.1965~0.0011 | 0.3089~0.0059 |\n",
      "ResNet-34-avg5-vox2-sitw\n",
      "#|     sitw-test     |  3.27~0.13  |             | 0.2661~0.0100 | 0.4016~0.0047 |\n"
     ]
    }
   ],
   "source": [
    "eer = []\n",
    "mindcf01 = []\n",
    "mindcf001 = []\n",
    "with open('data/test_resnet_220711.log', 'r') as f:\n",
    "    for l in f.readlines():\n",
    "        ls = l.split()\n",
    "        if len(ls) ==0:\n",
    "            continue\n",
    "        elif len(ls)< 10:\n",
    "            print(\"-\".join(ls[1:]))\n",
    "            test_set=''\n",
    "            eer = []\n",
    "            mindcf01 = []\n",
    "            mindcf001 = []\n",
    "            \n",
    "        elif len(ls)>= 10:\n",
    "            eer.append(float(ls[3]))\n",
    "            mindcf01.append(float(ls[7]))\n",
    "            mindcf001.append(float(ls[9]))\n",
    "            test_set=ls[1]\n",
    "        \n",
    "        if len(eer)==3:\n",
    "            print(\"#|{: ^19s}\".format(test_set)+\"|  %.2f~%.2f  |             |\"%(np.mean(eer), np.std(eer)), end=' ')\n",
    "            print(\"%.4f~%.4f\"%(np.mean(mindcf01), np.std(mindcf01)), end=' ')\n",
    "            print(\"| %.4f~%.4f |\"%(np.mean(mindcf001), np.std(mindcf001)))\n",
    "        \n",
    "            "
   ]
  },
  {
   "cell_type": "code",
   "execution_count": 10,
   "metadata": {},
   "outputs": [
    {
     "name": "stdout",
     "output_type": "stream",
     "text": [
      "ResNet8chn16\n",
      "#|     sitw-test     |  9.84~0.04 |             | 0.6933~0.0020 |0.8924~0.0067 |\n",
      "ResNet8chn32\n",
      "#|     sitw-test     |  8.40~0.11 |             | 0.6035~0.0068 |0.7976~0.0112 |\n",
      "ResNet8chn64\n",
      "#|     sitw-test     |  7.97~0.27 |             | 0.5486~0.0070 |0.7329~0.0127 |\n",
      "ResNet10\n",
      "#|     sitw-test     |  8.24~0.17 |             | 0.5871~0.0075 |0.7768~0.0057 |\n",
      "ResNet18\n",
      "#|     sitw-test     |  6.97~0.17 |             | 0.5203~0.0099 |0.7152~0.0083 |\n",
      "ResNet34\n",
      "#|     sitw-test     |  6.27~0.09 |             | 0.4681~0.0061 |0.6555~0.0072 |\n"
     ]
    }
   ],
   "source": [
    "with open('data/test_resnet_sitw_20220713.txt', 'r') as f:\n",
    "    for l in f.readlines():\n",
    "        ls = l.split()\n",
    "        if len(ls) ==0:\n",
    "            continue\n",
    "        elif len(ls)== 3 or len(ls)== 4:\n",
    "            print(\"-\".join(ls[1:]))\n",
    "            test_set=''\n",
    "            eer = []\n",
    "            mindcf01 = []\n",
    "            mindcf001 = []\n",
    "        elif len(ls)>= 10:\n",
    "            eer.append(float(ls[3]))\n",
    "            mindcf01.append(float(ls[7]))\n",
    "            mindcf001.append(float(ls[9]))\n",
    "            test_set=ls[1]\n",
    "        \n",
    "        if len(eer)==3:\n",
    "            print(\"#|{: ^19s}\".format(test_set) + \"|  %.2f~%.2f  |             |\"%(np.mean(eer), np.std(eer)), end=' ')\n",
    "            print(\"%.4f~%.4f\"%(np.mean(mindcf01), np.std(mindcf01)), end=' ')\n",
    "            print(\"| %.4f~%.4f |\"%(np.mean(mindcf001), np.std(mindcf001)))\n",
    "        \n",
    "  "
   ]
  },
  {
   "cell_type": "code",
   "execution_count": null,
   "metadata": {},
   "outputs": [],
   "source": []
  }
 ],
 "metadata": {
  "kernelspec": {
   "display_name": "Python 3",
   "language": "python",
   "name": "python3"
  },
  "language_info": {
   "codemirror_mode": {
    "name": "ipython",
    "version": 3
   },
   "file_extension": ".py",
   "mimetype": "text/x-python",
   "name": "python",
   "nbconvert_exporter": "python",
   "pygments_lexer": "ipython3",
   "version": "3.7.7"
  }
 },
 "nbformat": 4,
 "nbformat_minor": 4
}
