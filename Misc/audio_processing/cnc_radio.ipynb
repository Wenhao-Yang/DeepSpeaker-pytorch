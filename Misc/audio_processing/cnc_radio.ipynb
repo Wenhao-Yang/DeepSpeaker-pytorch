{
 "cells": [
  {
   "cell_type": "code",
   "execution_count": 4,
   "id": "96050a3a-fec2-46e9-bc92-bdf6e77afdb3",
   "metadata": {
    "tags": []
   },
   "outputs": [],
   "source": [
    "import soundfile as sf\n",
    "import os\n",
    "from tqdm import tqdm"
   ]
  },
  {
   "cell_type": "code",
   "execution_count": 5,
   "id": "ecbb5c50-c0b7-45dd-8c7d-6d4e85cfa875",
   "metadata": {
    "tags": []
   },
   "outputs": [
    {
     "name": "stderr",
     "output_type": "stream",
     "text": [
      "100%|██████| 17973/17973 [01:45<00:00, 169.71it/s]\n"
     ]
    }
   ],
   "source": [
    "wav_scp =  '/home/yangwenhao/project/lstm_speaker_verification/data/cnceleb/test/wav.scp'\n",
    "\n",
    "with open(wav_scp, 'r') as f:\n",
    "    for l in tqdm(f.readlines(), ncols=50):\n",
    "        lst = l.split()\n",
    "        upath = lst[4]\n",
    "        if os.path.exists(upath):\n",
    "            wav, sr = sf.read(upath)\n",
    "            new_upath = upath.replace('/eval/', '/eval_wav/')\n",
    "            new_upath = new_upath.replace('flac', 'wav')\n",
    "            new_dir = os.path.dirname(new_upath)\n",
    "            \n",
    "            if not os.path.exists(new_dir):\n",
    "                os.makedirs(new_dir)\n",
    "            sf.write(new_upath, wav, sr)"
   ]
  },
  {
   "cell_type": "code",
   "execution_count": 6,
   "id": "93645c15-0dbc-4439-bef8-1327c0e05eba",
   "metadata": {
    "tags": []
   },
   "outputs": [
    {
     "name": "stderr",
     "output_type": "stream",
     "text": [
      "100%|███| 17973/17973 [00:00<00:00, 153806.44it/s]\n"
     ]
    }
   ],
   "source": [
    "wav_scp =  '/home/yangwenhao/project/lstm_speaker_verification/data/cnceleb/test/wav.scp'\n",
    "\n",
    "new_lines = []\n",
    "with open(wav_scp, 'r') as f:\n",
    "    for l in tqdm(f.readlines(), ncols=50):\n",
    "        lst = l.split()\n",
    "        uid = lst[0]\n",
    "        upath = lst[4]\n",
    "        if os.path.exists(upath):\n",
    "            new_upath = upath.replace('/eval/', '/eval_wav/')\n",
    "            new_upath = new_upath.replace('flac', 'wav')\n",
    "            new_lines.append(uid + ' ' + new_upath)"
   ]
  },
  {
   "cell_type": "code",
   "execution_count": 7,
   "id": "f6449504-3a6e-4466-9020-982707050197",
   "metadata": {
    "tags": []
   },
   "outputs": [
    {
     "data": {
      "text/plain": [
       "['id00800-enroll /home/yangwenhao/dataset/CN-Celeb/eval_wav/enroll/id00800-enroll.wav']"
      ]
     },
     "execution_count": 7,
     "metadata": {},
     "output_type": "execute_result"
    }
   ],
   "source": [
    "new_lines[:1]"
   ]
  },
  {
   "cell_type": "code",
   "execution_count": 8,
   "id": "75dc8c0d-6576-46c4-97c7-be27c05079aa",
   "metadata": {
    "tags": []
   },
   "outputs": [],
   "source": [
    "wav_scp =  '/home/yangwenhao/project/lstm_speaker_verification/data/cnceleb/test/cnc1.test.wav.scp'\n",
    "\n",
    "with open(wav_scp, 'w') as f:\n",
    "    for l in new_lines:\n",
    "        f.write(l + '\\n')"
   ]
  },
  {
   "cell_type": "code",
   "execution_count": null,
   "id": "d762109b-8458-4d47-b31a-9ee435c6f3ad",
   "metadata": {},
   "outputs": [],
   "source": []
  }
 ],
 "metadata": {
  "kernelspec": {
   "display_name": "Python 3",
   "language": "python",
   "name": "python3"
  },
  "language_info": {
   "codemirror_mode": {
    "name": "ipython",
    "version": 3
   },
   "file_extension": ".py",
   "mimetype": "text/x-python",
   "name": "python",
   "nbconvert_exporter": "python",
   "pygments_lexer": "ipython3",
   "version": "3.8.16"
  }
 },
 "nbformat": 4,
 "nbformat_minor": 5
}
