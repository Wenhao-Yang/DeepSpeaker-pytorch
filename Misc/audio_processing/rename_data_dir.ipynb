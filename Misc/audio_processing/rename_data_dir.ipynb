{
 "cells": [
  {
   "cell_type": "code",
   "execution_count": 1,
   "id": "88f17633-3dd7-45a6-82a2-99cfbda49d38",
   "metadata": {
    "tags": []
   },
   "outputs": [],
   "source": [
    "import numpy as np\n",
    "import matplotlib.pyplot as plt\n",
    "import soundfile as sf\n",
    "from tqdm import tqdm\n",
    "import os"
   ]
  },
  {
   "cell_type": "code",
   "execution_count": 2,
   "id": "60db9ac3-01da-46e4-80ef-402d920e628b",
   "metadata": {
    "tags": []
   },
   "outputs": [],
   "source": [
    "data_dir = '/home/yangwenhao/project/lstm_speaker_verification'"
   ]
  },
  {
   "cell_type": "markdown",
   "id": "db249f3e-aa43-44f0-88ad-cc60d0ed3f51",
   "metadata": {},
   "source": [
    "### Rename wav.scp path\n"
   ]
  },
  {
   "cell_type": "code",
   "execution_count": 3,
   "id": "73d2476e-5c46-4e9c-98ed-44d6e293ec92",
   "metadata": {
    "tags": []
   },
   "outputs": [],
   "source": [
    "all_sid = set([])\n",
    "with open(data_dir + '/data/vox2/dev/spk2utt', 'r') as f:\n",
    "    for l in f.readlines():\n",
    "        all_sid.add(l.split()[0])\n",
    "        \n",
    "with open(data_dir + '/data/vox2/dev/spk2gender_all', 'r') as f, \\\n",
    "     open(data_dir + '/data/vox2/dev/spk2gender', 'w') as f1:\n",
    "    for l in f.readlines():\n",
    "        sid, g = l.split()\n",
    "        if sid in all_sid:\n",
    "            f1.write(sid + ' ' + g + '\\n')"
   ]
  },
  {
   "cell_type": "code",
   "execution_count": 11,
   "id": "3400fe87-40dd-4eff-bc29-a2806c23583f",
   "metadata": {
    "tags": []
   },
   "outputs": [
    {
     "name": "stdout",
     "output_type": "stream",
     "text": [
      "id10001-1zcIwhmdeo4-00001-radsnr0 /home/yangwenhao/dataset/voxceleb1/voxceleb1_wav/vox1_dev_wav/wav_nb_randsnr0/id10001/1zcIwhmdeo4/00001.wav\n",
      "id10001-1zcIwhmdeo4-00001-radsnr2 /home/yangwenhao/dataset/voxceleb1/voxceleb1_wav/vox1_dev_wav/wav_nb_randsnr2/id10001/1zcIwhmdeo4/00001.wav\n",
      "id10001-1zcIwhmdeo4-00001-radsnr5 /home/yangwenhao/dataset/voxceleb1/voxceleb1_wav/vox1_dev_wav/wav_nb_randsnr5/id10001/1zcIwhmdeo4/00001.wav\n"
     ]
    }
   ],
   "source": [
    "# dataset = 'vox2'\n",
    "# subset_name = 'all_radsnr05' #'radio/test_chn2_dist3' #'all_wb_radsnr2' #test_radio_chn2 test_radchn2_dist1 test_radsnr5\n",
    "# wavstr = '/aac/'\n",
    "# new_wavstr = '/aac_nb_randsnr05/' #'/wav_radio_chn2/' #'/wav_wb_randsnr2/' #'/wav_radchn2_dist1/' wav_nb_randsnr5\n",
    "# resets = [['radio/dev_radsnr05', '/aac_nb_randsnr05/']]\n",
    "\n",
    "dataset = 'vox1'\n",
    "# resets = [['radio/dev_radsnr1', '/wav_nb_radsnr1/']]\n",
    "# resets = [['radio/test_radsnr1', '/wav_nb_radsnr1/']]\n",
    "resets = [['all_radsnr0', '/wav_nb_randsnr0/'],\n",
    "         ['all_radsnr2', '/wav_nb_randsnr2/'],\n",
    "         ['all_radsnr5', '/wav_nb_randsnr5/']] #['all_radsnr05', '/wav_nb_radsnr05/']\n",
    "\n",
    "wavstr = '/wav/'\n",
    "\n",
    "for subset_name,new_wavstr in resets:\n",
    "    uid2path = []\n",
    "\n",
    "    wav_scp = data_dir + '/data/%s/%s/wav.scp'%(dataset, subset_name)\n",
    "\n",
    "    with open(wav_scp, 'r') as f:\n",
    "        for l in f.readlines():\n",
    "            uid, upath = l.split()\n",
    "            upath = upath.replace(wavstr, new_wavstr)\n",
    "            uid2path.append(' '.join([uid, upath]))\n",
    "\n",
    "    print(uid2path[0])\n",
    "\n",
    "    with open(wav_scp, 'w') as f:\n",
    "        for l in uid2path:\n",
    "            f.write(l + '\\n')"
   ]
  },
  {
   "cell_type": "markdown",
   "id": "c824930b-3dfb-4c5f-aaa0-2c597c2e80f4",
   "metadata": {},
   "source": [
    "### utt2dur valid"
   ]
  },
  {
   "cell_type": "code",
   "execution_count": 5,
   "id": "441626e2-2eda-47b9-bec5-a5a02fe9085c",
   "metadata": {
    "tags": []
   },
   "outputs": [],
   "source": [
    "utt2dur_d = {}\n",
    "# with open(data_dir + '/data/vox2/dev/utt2dur', 'r') as f:\n",
    "with open(data_dir + '/data/vox1/klfb/dev_fb40/utt2dur', 'r') as f:\n",
    "    for l in f.readlines():\n",
    "        uid, dur = l.split()\n",
    "        utt2dur_d[uid] = float(dur)   "
   ]
  },
  {
   "cell_type": "code",
   "execution_count": 12,
   "id": "3262afb3-8aee-4d2a-a067-a6756e316f1c",
   "metadata": {
    "tags": []
   },
   "outputs": [
    {
     "name": "stderr",
     "output_type": "stream",
     "text": [
      "  0%|          | 28/153516 [00:15<23:20:09,  1.83it/s]\n",
      "\n",
      "KeyboardInterrupt\n",
      "\n"
     ]
    }
   ],
   "source": [
    "# subset_name = 'radio/dev_radsnr05'\n",
    "# wav_scp = data_dir + '/data/vox2/%s/wav.scp'%(subset_name)\n",
    "\n",
    "# subset_name = 'radio/dev_radsnr1'\n",
    "subset_name = 'all_radsnr0'\n",
    "\n",
    "wav_scp = data_dir + '/data/vox1/%s/wav.scp'%(subset_name)\n",
    "\n",
    "with open(wav_scp, 'r') as f:\n",
    "    for l in tqdm(f.readlines()):\n",
    "        uid, upath = l.split()\n",
    "        original_uid = '-'.join(uid.split('-')[:-1])\n",
    "        \n",
    "        assert os.path.exists(upath), print(upath)\n",
    "        wav, sr = sf.read(upath)\n",
    "        if np.abs(len(wav)/sr - utt2dur_d[original_uid])>4:\n",
    "            print(uid, upath)"
   ]
  },
  {
   "cell_type": "code",
   "execution_count": 7,
   "id": "bab18a40-f52a-4185-b193-50b9d7ad00bb",
   "metadata": {
    "tags": []
   },
   "outputs": [],
   "source": [
    "miss_wav = ['/home/yangwenhao/dataset/voxceleb2/dev/aac_nb_randsnr05/id08704/ysOE7E4PrEk/00479.wav', '/home/yangwenhao/dataset/voxceleb2/dev/aac_nb_randsnr05/id08704/ysOE7E4PrEk/00485.wav', '/home/yangwenhao/dataset/voxceleb2/dev/aac_nb_randsnr05/id08704/ysOE7E4PrEk/00487.wav', '/home/yangwenhao/dataset/voxceleb2/dev/aac_nb_randsnr05/id08705/4fpMW5neR2k/00012.wav', '/home/yangwenhao/dataset/voxceleb2/dev/aac_nb_randsnr05/id08705/4fpMW5neR2k/00013.wav', '/home/yangwenhao/dataset/voxceleb2/dev/aac_nb_randsnr05/id08705/50rey47PJr8/00029.wav', '/home/yangwenhao/dataset/voxceleb2/dev/aac_nb_randsnr05/id08705/50rey47PJr8/00031.wav', '/home/yangwenhao/dataset/voxceleb2/dev/aac_nb_randsnr05/id08705/5GRjAGUa-5o/00033.wav', '/home/yangwenhao/dataset/voxceleb2/dev/aac_nb_randsnr05/id08705/5GRjAGUa-5o/00035.wav', '/home/yangwenhao/dataset/voxceleb2/dev/aac_nb_randsnr05/id08705/A5mdQ43dycE/00039.wav', '/home/yangwenhao/dataset/voxceleb2/dev/aac_nb_randsnr05/id08705/A5mdQ43dycE/00045.wav', '/home/yangwenhao/dataset/voxceleb2/dev/aac_nb_randsnr05/id08705/A5mdQ43dycE/00046.wav'\n",
    "]\n",
    "\n",
    "for w in miss_wav:\n",
    "    os.remove(w)"
   ]
  },
  {
   "cell_type": "code",
   "execution_count": 10,
   "id": "92512029-a2c9-4b80-9fb1-a112392b7780",
   "metadata": {
    "tags": []
   },
   "outputs": [
    {
     "name": "stderr",
     "output_type": "stream",
     "text": [
      "100%|██████████| 1092009/1092009 [33:52<00:00, 537.33it/s]\n"
     ]
    }
   ],
   "source": [
    "subset_name = 'all_radsnr05' #'radio/test_chn2_dist3' #'all_wb_radsnr2' #test_radio_chn2 test_radchn2_dist1 test_radsnr5\n",
    "wavstr = '/aac/'\n",
    "new_wavstr = '/aac_nb_randsnr05/' #'/wav_radio_chn2/' #'/wav_wb_randsnr2/' #'/wav_radchn2_dist1/' wav_nb_randsnr5\n",
    "resets = ['radio/dev_radsnr05']\n",
    "\n",
    "\n",
    "# resets = [['radio/dev_radsnr1', '/wav_nb_radsnr1/']]\n",
    "# wavstr = '/wav/'\n",
    "\n",
    "for subset_name in resets:\n",
    "    uid2path = []\n",
    "\n",
    "    wav_scp = data_dir + '/data/vox2/%s/wav.scp'%(subset_name)\n",
    "\n",
    "    with open(wav_scp, 'r') as f1, \\\n",
    "        open(data_dir + '/data/vox2/%s/utt2dur'%(subset_name), 'w') as f2:\n",
    "        for l in tqdm(f1.readlines()):\n",
    "            uid, upath = l.split()\n",
    "            wav, sr = sf.read(upath)\n",
    "            dur = len(wav) / sr\n",
    "            \n",
    "            f2.write(uid + ' {:.4f}'.format(dur) + '\\n')"
   ]
  },
  {
   "cell_type": "markdown",
   "id": "118f3d1b-61b8-4676-97f8-5cc94a1ad4ab",
   "metadata": {},
   "source": [
    "### Rename tirals uid siffix"
   ]
  },
  {
   "cell_type": "code",
   "execution_count": 7,
   "id": "e6c7c85f-c791-4efb-bb17-188fac7c3018",
   "metadata": {},
   "outputs": [],
   "source": [
    "# \n",
    "# for s in ['easy', 'hard', 'female', 'male']:\n",
    "s = 'original'#'radsnr5'\n",
    "trials_f = '/home/yangwenhao/project/lstm_speaker_verification/data/vox1/test/trials' #_%s'%(s)\n",
    "suffix = '-radsnr5' #'-rd2dist1' #-radchn2\n",
    "# test_resets = [['radio/test_chn4', '-radchn4'],\n",
    "#               ['radio/test_chn5', '-radchn5'],\n",
    "#               ['radio/test_chn6', '-radchn5']]\n",
    "\n",
    "# test_resets = [['radio/test_chn22', '-radchn22'],\n",
    "#               ['radio/test_chn1', '-radchn1'],]\n",
    "\n",
    "# test_resets = [['radio/test_chna', '-radchna'],\n",
    "#               ['radio/test_chn0', '-radchn0'],]\n",
    "# test_resets = [['radio/test_wb_chn2', '-radwbchn2'],\n",
    "#               ['radio/test_wb_chn4', '-radwbchn4'],]\n",
    "# test_resets = [['radio/test_radsnr1', '-radsnr1']]\n",
    "# test_resets = [['all_radsnr1', '-radsnr1']]\n",
    "test_resets = [['all_radsnr05', '-radsnr05']]\n",
    "\n",
    "for subset_name, suffix in test_resets:\n",
    "    # trials_f = '/home/yangwenhao/project/lstm_speaker_verification/data/vox1/test/trials' #_%s'%(s)\n",
    "    for trials_name in ['original', 'easy', 'hard']:\n",
    "        trials = []\n",
    "        trials_f = '/home/yangwenhao/project/lstm_speaker_verification/data/vox1/all/trials_%s'%(trials_name)\n",
    "        with open(trials_f, 'r') as f:\n",
    "            for l in f.readlines():\n",
    "                a, b, c = l.split()\n",
    "                trials.append(' '.join([a + suffix, b + suffix, c]))\n",
    "\n",
    "        # trials_name = 'trials_{}'.format(s)\n",
    "        trials_f = '/home/yangwenhao/project/lstm_speaker_verification/data/vox1/%s/trials_%s'%(subset_name, trials_name)\n",
    "        with open(trials_f, 'w') as f:\n",
    "            for l in trials:\n",
    "                f.write(l + '\\n')"
   ]
  },
  {
   "cell_type": "code",
   "execution_count": null,
   "id": "56fbc99f-e0ce-456d-8620-c39cd8697ddd",
   "metadata": {},
   "outputs": [],
   "source": []
  },
  {
   "cell_type": "markdown",
   "id": "546afb5b-5abd-4a73-8f89-faf6342f6258",
   "metadata": {},
   "source": [
    "### utt2dur"
   ]
  },
  {
   "cell_type": "code",
   "execution_count": 14,
   "id": "d30563c6-b822-4cf4-8de8-fe13d87001cd",
   "metadata": {
    "tags": []
   },
   "outputs": [
    {
     "name": "stdout",
     "output_type": "stream",
     "text": [
      "dev\n",
      "Seconds: 8496542.85\n",
      "Minutes: 141609.05\n",
      "Hours:   2360.15\n",
      "dev_64\n",
      "Seconds: 3726305.15\n",
      "Minutes: 62105.09\n",
      "Hours:   1035.08\n",
      "dev_32\n",
      "Seconds: 1493623.81\n",
      "Minutes: 24893.73\n",
      "Hours:   414.90\n",
      "dev_16\n",
      "Seconds: 747998.53\n",
      "Minutes: 12466.64\n",
      "Hours:   207.78\n"
     ]
    }
   ],
   "source": [
    "# subset_name = 'dev_16'\n",
    "subset_names = ['dev', 'dev_64', 'dev_32', 'dev_16']\n",
    "for s in subset_names:\n",
    "    utt2dur_f = data_dir + '/data/vox2/%s/utt2dur'%(s)\n",
    "    total_dur = 0\n",
    "    with open(utt2dur_f, 'r') as f:\n",
    "        for l in f.readlines():\n",
    "            uid, dur = l.split()\n",
    "            total_dur += float(dur)\n",
    "    print(s)\n",
    "    print('Seconds: {:.2f}'.format(total_dur))\n",
    "    print('Minutes: {:.2f}'.format(total_dur / 60 ))\n",
    "    print('Hours:   {:.2f}'.format(total_dur / 60 / 60))\n",
    "    \n",
    "# dev\n",
    "# Seconds: 8496542.85\n",
    "# Minutes: 141609.05\n",
    "# Hours:   2360.15\n",
    "# dev_64\n",
    "# Seconds: 3726305.15\n",
    "# Minutes: 62105.09\n",
    "# Hours:   1035.08\n",
    "# dev_32\n",
    "# Seconds: 1493623.81\n",
    "# Minutes: 24893.73\n",
    "# Hours:   414.90\n",
    "# dev_16\n",
    "# Seconds: 747998.53\n",
    "# Minutes: 12466.64\n",
    "# Hours:   207.78\n",
    "# dev_16_snr05\n",
    "# Seconds: 747447.08\n",
    "# Minutes: 12457.45\n",
    "# Hours:   207.62"
   ]
  },
  {
   "cell_type": "code",
   "execution_count": 21,
   "id": "a48370e1-52b0-4382-a58a-8363ac72c030",
   "metadata": {
    "tags": []
   },
   "outputs": [
    {
     "name": "stderr",
     "output_type": "stream",
     "text": [
      "100%|█████| 95904/95904 [00:47<00:00, 2004.92it/s]"
     ]
    },
    {
     "name": "stdout",
     "output_type": "stream",
     "text": [
      "Seconds: 747447.08\n",
      "Minutes: 12457.45\n",
      "Hours:   207.62\n"
     ]
    },
    {
     "name": "stderr",
     "output_type": "stream",
     "text": [
      "\n"
     ]
    }
   ],
   "source": [
    "wav_f = data_dir + '/data/vox2/radio/dev_16_radsnr05/wav.scp'\n",
    "utt2dur_f = data_dir + '/data/vox2/radio/dev_16_radsnr05/utt2dur.new'\n",
    "\n",
    "total_dur = 0\n",
    "with open(wav_f, 'r') as f, \\\n",
    "    open(utt2dur_f, 'w') as f2:\n",
    "    for l in tqdm(f.readlines(), ncols=50):\n",
    "        uid, upath = l.split()\n",
    "        wav, sr = sf.read(upath)\n",
    "        dur = len(wav)/sr\n",
    "        \n",
    "        f2.write(uid + ' ' + '{:.2f}\\n'.format(dur))\n",
    "        \n",
    "        total_dur += dur\n",
    "\n",
    "print('Seconds: {:.2f}'.format(total_dur))\n",
    "print('Minutes: {:.2f}'.format(total_dur / 60 ))\n",
    "print('Hours:   {:.2f}'.format(total_dur / 60 / 60))"
   ]
  },
  {
   "cell_type": "code",
   "execution_count": 24,
   "id": "1eb4df59-1162-4251-b1a3-bea57c658151",
   "metadata": {
    "tags": []
   },
   "outputs": [
    {
     "data": {
      "text/plain": [
       "1242.6999999999998"
      ]
     },
     "execution_count": 24,
     "metadata": {},
     "output_type": "execute_result"
    }
   ],
   "source": [
    "207.62 + 1035.08"
   ]
  },
  {
   "cell_type": "code",
   "execution_count": 13,
   "id": "e3696538-f8c2-43dc-8fd6-edfef4ea4254",
   "metadata": {
    "tags": []
   },
   "outputs": [
    {
     "data": {
      "text/plain": [
       "191808"
      ]
     },
     "execution_count": 13,
     "metadata": {},
     "output_type": "execute_result"
    }
   ],
   "source": [
    "5994*32"
   ]
  },
  {
   "cell_type": "code",
   "execution_count": 4,
   "id": "ca754fde-8a5a-496f-a726-7986d7214686",
   "metadata": {},
   "outputs": [
    {
     "name": "stderr",
     "output_type": "stream",
     "text": [
      "100%|█| 1092009/1092009 [00:00<00:00, 1421410.80it"
     ]
    },
    {
     "name": "stdout",
     "output_type": "stream",
     "text": [
      "Seconds: 8496542.85\n",
      "Minutes: 141609.05\n",
      "Hours:   2360.15\n"
     ]
    },
    {
     "name": "stderr",
     "output_type": "stream",
     "text": [
      "\n"
     ]
    }
   ],
   "source": [
    "# wav_f = data_dir + '/data/vox2/dev/wav.scp'\n",
    "utt2dur_f = data_dir + '/data/vox2/dev/utt2dur'\n",
    "\n",
    "total_dur = 0\n",
    "with open(utt2dur_f, 'r') as f2:\n",
    "    for l in tqdm(f2.readlines(), ncols=50):\n",
    "        uid, dur = l.split()\n",
    "        dur = float(dur)\n",
    "                \n",
    "        total_dur += dur\n",
    "\n",
    "print('Seconds: {:.2f}'.format(total_dur))\n",
    "print('Minutes: {:.2f}'.format(total_dur / 60 ))\n",
    "print('Hours:   {:.2f}'.format(total_dur / 60 / 60))"
   ]
  },
  {
   "cell_type": "markdown",
   "id": "96a377ce-9192-4b91-9fef-82833911e381",
   "metadata": {},
   "source": [
    "### VoxSRV 2020 2021"
   ]
  },
  {
   "cell_type": "code",
   "execution_count": 5,
   "id": "c96d6b2b-e154-4e6e-9f98-6f13e55edc3e",
   "metadata": {
    "tags": []
   },
   "outputs": [],
   "source": [
    "save_path = '/home/yangwenhao/project/lstm_speaker_verification/data/voxsrc'"
   ]
  },
  {
   "cell_type": "code",
   "execution_count": 8,
   "id": "bc0b8a44-1125-44fb-9547-7fd244ebfe78",
   "metadata": {
    "tags": []
   },
   "outputs": [
    {
     "data": {
      "text/plain": [
       "'voxsrc2020.trials'"
      ]
     },
     "execution_count": 8,
     "metadata": {},
     "output_type": "execute_result"
    }
   ],
   "source": [
    "os.path.basename('/work/2023/yangwenhao/dataset/voxsrc2020.trials')"
   ]
  },
  {
   "cell_type": "code",
   "execution_count": 19,
   "id": "4c297fb6-73ee-43c1-acb2-d7df891e1091",
   "metadata": {
    "tags": []
   },
   "outputs": [],
   "source": [
    "trials_f = ['/work/2023/yangwenhao/dataset/voxsrc2020.trials',\n",
    "           '/work/2023/yangwenhao/dataset/voxsrc2021.trials',\n",
    "           '/work/2023/yangwenhao/dataset/voxsrc2022.trials']"
   ]
  },
  {
   "cell_type": "code",
   "execution_count": 20,
   "id": "854490f7-1104-43b1-8aa6-48e39dc048d1",
   "metadata": {
    "tags": []
   },
   "outputs": [],
   "source": [
    "for t in trials_f:\n",
    "    with open(t, 'r') as f, \\\n",
    "         open(os.path.join(save_path, os.path.basename(t)), 'w') as fw:\n",
    "        for l in f.readlines():\n",
    "            target, uida, uidb = l.split()\n",
    "            uida = '-'.join(uida.split('/')[-3:])[:-4]\n",
    "            uidb = '-'.join(uidb.split('/')[-3:])[:-4]\n",
    "            if target == '1':\n",
    "                target = 'target'\n",
    "            elif target == '0':\n",
    "                target = 'nontarget'\n",
    "            fw.write(uida + ' ' + uidb + ' ' + target + '\\n')"
   ]
  },
  {
   "cell_type": "code",
   "execution_count": 21,
   "id": "599cceb8-961e-4409-8c2a-dc171794a030",
   "metadata": {
    "tags": []
   },
   "outputs": [],
   "source": [
    "trials_uids = {}\n",
    "for t in trials_f:\n",
    "    uids = set([])\n",
    "    with open(t, 'r') as f:\n",
    "        for l in f.readlines():\n",
    "            target, uida, uidb = l.split()\n",
    "            # print(type(target), target == '1')\n",
    "            # break\n",
    "            uida = '-'.join(uida.split('/')[-3:])[:-4]\n",
    "            uidb = '-'.join(uidb.split('/')[-3:])[:-4]\n",
    "            uids.add(uida)\n",
    "            uids.add(uidb)\n",
    "    trials_uids[t] = uids"
   ]
  },
  {
   "cell_type": "code",
   "execution_count": 25,
   "id": "a6db88bb-ce6d-4d80-bb68-6fd6e401545b",
   "metadata": {
    "tags": []
   },
   "outputs": [
    {
     "name": "stdout",
     "output_type": "stream",
     "text": [
      "140185\n",
      "64711\n",
      "110366\n"
     ]
    }
   ],
   "source": [
    "for t in trials_uids:\n",
    "    print(len(trials_uids[t]))"
   ]
  },
  {
   "cell_type": "code",
   "execution_count": 23,
   "id": "0cbe5089-171d-4e46-902e-f6b083422bc3",
   "metadata": {
    "tags": []
   },
   "outputs": [],
   "source": [
    "vox1_uids = set([])\n",
    "with open('/home/yangwenhao/project/lstm_speaker_verification/data/vox1/all/wav.scp',\n",
    "          'r') as f:\n",
    "    for l in f.readlines():\n",
    "        uid = l.split()[0]\n",
    "        vox1_uids.add(uid)"
   ]
  },
  {
   "cell_type": "code",
   "execution_count": 24,
   "id": "c72baa5f-c426-40f8-a259-a5c70840fc36",
   "metadata": {
    "tags": []
   },
   "outputs": [
    {
     "name": "stdout",
     "output_type": "stream",
     "text": [
      "153516\n"
     ]
    }
   ],
   "source": [
    "print(len(vox1_uids))"
   ]
  },
  {
   "cell_type": "code",
   "execution_count": 27,
   "id": "f0038157-b05d-4fbf-9ad3-3c832a6473ae",
   "metadata": {
    "tags": []
   },
   "outputs": [],
   "source": [
    "miss_uids = {}\n",
    "for t in trials_uids:\n",
    "    miss_uids[t] = []\n",
    "    for uid in trials_uids[t]:\n",
    "        if uid not in vox1_uids:\n",
    "            miss_uids[t].append(uid)"
   ]
  },
  {
   "cell_type": "code",
   "execution_count": 29,
   "id": "f370e33b-bc84-4f14-9f3d-bf9a8f53079c",
   "metadata": {
    "tags": []
   },
   "outputs": [
    {
     "name": "stdout",
     "output_type": "stream",
     "text": [
      "/work/2023/yangwenhao/dataset/voxsrc2020.trials 2076\n",
      "/work/2023/yangwenhao/dataset/voxsrc2021.trials 0\n",
      "/work/2023/yangwenhao/dataset/voxsrc2022.trials 6683\n"
     ]
    }
   ],
   "source": [
    "for t in trials_uids:\n",
    "    print(t, len(miss_uids[t]))"
   ]
  },
  {
   "cell_type": "code",
   "execution_count": null,
   "id": "cb618fce-6107-4989-946b-17edd48cb43d",
   "metadata": {
    "tags": []
   },
   "outputs": [],
   "source": [
    "miss_uids['/work/2023/yangwenhao/dataset/voxsrc2022.trials']"
   ]
  },
  {
   "cell_type": "code",
   "execution_count": null,
   "id": "97e97781-8f98-436a-b585-6a82fd5b4323",
   "metadata": {},
   "outputs": [],
   "source": []
  }
 ],
 "metadata": {
  "kernelspec": {
   "display_name": "Python 3",
   "language": "python",
   "name": "python3"
  },
  "language_info": {
   "codemirror_mode": {
    "name": "ipython",
    "version": 3
   },
   "file_extension": ".py",
   "mimetype": "text/x-python",
   "name": "python",
   "nbconvert_exporter": "python",
   "pygments_lexer": "ipython3",
   "version": "3.8.16"
  }
 },
 "nbformat": 4,
 "nbformat_minor": 5
}
