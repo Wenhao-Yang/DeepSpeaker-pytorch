{
 "cells": [
  {
   "cell_type": "code",
   "execution_count": 33,
   "id": "a068c628-dfe1-467e-94b6-da71ed314b0d",
   "metadata": {},
   "outputs": [],
   "source": [
    "import os\n",
    "import torch\n",
    "import soundfile as sf\n",
    "import matplotlib.pyplot as plt\n",
    "import numpy as np\n",
    "import IPython\n",
    "from tqdm import tqdm\n",
    "\n",
    "# 数据生成\n",
    "from scipy import stats\n",
    "from fitter import Fitter\n",
    "\n",
    "from Process_Data.audio_processing import read_WaveInt\n",
    "from Define_Model.model import create_model, load_model_args, create_classifier\n",
    "from Define_Model.SoftmaxLoss import AdditiveMarginLinear"
   ]
  },
  {
   "cell_type": "code",
   "execution_count": 63,
   "id": "cb88abd6-09c1-4018-a479-d2135093d93e",
   "metadata": {},
   "outputs": [],
   "source": [
    "from Process_Data.Datasets.SelectDataset import cost_func\n",
    "from geomloss import SamplesLoss\n"
   ]
  },
  {
   "cell_type": "code",
   "execution_count": 16,
   "id": "918b2154-b1b1-4b88-85b9-db4ecef1bb21",
   "metadata": {},
   "outputs": [],
   "source": [
    "import torch.nn.functional as F"
   ]
  },
  {
   "cell_type": "code",
   "execution_count": 2,
   "id": "2c689cf9-d3d0-4636-8149-8d2c5c03f4e8",
   "metadata": {},
   "outputs": [],
   "source": [
    "lstm_path = '/home/yangwenhao/project/lstm_speaker_verification'\n",
    "root_path='/home/yangwenhao/project/SpeakerVerification-pytorch'"
   ]
  },
  {
   "cell_type": "code",
   "execution_count": 3,
   "id": "e402b824-343d-4043-9a06-0071af767adb",
   "metadata": {},
   "outputs": [],
   "source": [
    "model_dir = 'ECAPA_brain/Mean_batch48_SASP2_em192_official_2s/arcsoft_adam_cyclic/vox1/wave_fb80_inst_aug53_mix/1234'\n",
    "train_set = 'vox1'\n",
    "check_path = root_path +  '/Data/checkpoint/' + model_dir\n",
    "check_yaml = check_path + '/model.2024.03.15.yaml'"
   ]
  },
  {
   "cell_type": "code",
   "execution_count": 4,
   "id": "0c97a72a-91f5-4276-bbdf-8388a054411e",
   "metadata": {},
   "outputs": [],
   "source": [
    "model_kwargs = load_model_args(check_yaml)\n",
    "if 'embedding_model' in model_kwargs:\n",
    "    model = model_kwargs['embedding_model']\n",
    "    if 'classifier' in model_kwargs:\n",
    "        model.classifier = model_kwargs['classifier']\n",
    "# model.classifier = AdditiveMarginLinear\n",
    "create_classifier(model, **model_kwargs)"
   ]
  },
  {
   "cell_type": "code",
   "execution_count": 5,
   "id": "d7edc03a-57a3-4867-94d3-3f85a98121b1",
   "metadata": {},
   "outputs": [],
   "source": [
    "resume_path = check_path + '/checkpoint_{}.pth'\n",
    "# ep = 24 # Load model from Checkpoint file\n",
    "ep = 'avg3' # Load model from Checkpoint file\n",
    "\n",
    "if os.path.isfile(resume_path.format(ep)):\n",
    "    checkpoint = torch.load(resume_path.format(ep))\n",
    "    checkpoint_state_dict = checkpoint['state_dict']\n",
    "    if isinstance(checkpoint_state_dict, tuple):\n",
    "        checkpoint_state_dict = checkpoint_state_dict[0]\n",
    "\n",
    "    filtered = {k: v for k, v in checkpoint_state_dict.items() if 'num_batches_tracked' not in k}\n",
    "    if list(filtered.keys())[0].startswith('module'):\n",
    "        new_state_dict = OrderedDict()\n",
    "        for k, v in filtered.items():\n",
    "            name = k[7:]  # remove `module.`，表面从第7个key值字符取到最后一个字符，去掉module.\n",
    "            new_state_dict[name] = v  # 新字典的key值对应的value为一一对应的值。\n",
    "        model.load_state_dict(new_state_dict)\n",
    "    else:\n",
    "        model_dict = model.state_dict()\n",
    "        model_dict.update(filtered)\n",
    "        model.load_state_dict(model_dict)"
   ]
  },
  {
   "cell_type": "code",
   "execution_count": 6,
   "id": "3847ae3d-d308-487e-b864-0acced9ac1d7",
   "metadata": {},
   "outputs": [],
   "source": [
    "model = model.eval()"
   ]
  },
  {
   "cell_type": "markdown",
   "id": "551062fa-d97b-45c9-95b5-18d85f0dfa5e",
   "metadata": {},
   "source": [
    "#### Data loaders"
   ]
  },
  {
   "cell_type": "code",
   "execution_count": 52,
   "id": "7d7abb11-0def-44f2-9b58-71524ba96dcb",
   "metadata": {},
   "outputs": [
    {
     "name": "stderr",
     "output_type": "stream",
     "text": [
      " 12%|▍   | 18189/148642 [00:13<01:36, 1356.84it/s]\n"
     ]
    }
   ],
   "source": [
    "audio_uids = []\n",
    "total_utts = 2000\n",
    "\n",
    "np.random.seed(1234)\n",
    "with open('/home/yangwenhao/project/lstm_speaker_verification/data/vox1/dev/wav.scp', 'r') as f:\n",
    "    for l in tqdm(f.readlines(), ncols=50):\n",
    "        if np.random.uniform(0,1) <= 0.2:\n",
    "            uid, upath = l.split()\n",
    "            wav, sr = sf.read(upath)\n",
    "            dur = float(len(wav)/sr)\n",
    "\n",
    "            if dur >= 6 :\n",
    "                # uid[7] = '/'\n",
    "                # uid[-6] = '/'\n",
    "                uid_path = '/'.join(upath.split('/')[-3:])[:-4]\n",
    "                # uid_path = uid.replace('-', '/')\n",
    "                # id10270-5r0dWxy17C8-00010\n",
    "                audio_uids.append(uid_path)\n",
    "\n",
    "            if len(audio_uids) >= total_utts:\n",
    "                break"
   ]
  },
  {
   "cell_type": "code",
   "execution_count": null,
   "id": "ba37eeec-c486-4129-9c12-c0e1848c6e77",
   "metadata": {},
   "outputs": [
    {
     "name": "stderr",
     "output_type": "stream",
     "text": [
      "  8%|▊         | 155/2000 [02:39<16:06,  1.91it/s]"
     ]
    }
   ],
   "source": [
    "audios = []\n",
    "\n",
    "common_path = '/home/yangwenhao/dataset/voxceleb1/voxceleb1_wav/vox1_dev_wav'\n",
    "duration = 32000\n",
    "\n",
    "for uid in tqdm(audio_uids, ncols=50):\n",
    "    # upath = '/home/yangwenhao/dataset/voxceleb1/voxceleb1_wav/vox1_test_wav/wav/{}.wav'.format(uid)\n",
    "    # upath_radio_dist0 = '/home/yangwenhao/dataset/voxceleb1/voxceleb1_wav/vox1_test_wav/wav_radchn2/{}.wav'.format(uid)\n",
    "    upath = '{}/wav/{}.wav'.format(common_path, uid)\n",
    "    upath_radio = '{}/wav_nb_radsnr1/{}.wav'.format(common_path, uid)\n",
    "    \n",
    "    paths = [upath, upath_radio]\n",
    "    paths.extend(['{}/{}/{}.wav'.format(common_path, s, uid) for s in \\\n",
    "                  ['wav_nb_randsnr0', 'wav_nb_radsnr05', 'wav_nb_randsnr2', 'wav_nb_randsnr5', ]])\n",
    "    this_audio = [torch.tensor(read_WaveInt(paths[0],\n",
    "                                  start=20000, stop=20000+duration)).reshape(1,1,-1)]\n",
    "    for u in paths[1:]:\n",
    "        this_audio.append(torch.tensor(read_WaveInt(u,\n",
    "                                  start=16000, stop=16000+duration)).reshape(1,1,-1))\n",
    "\n",
    "    audios.append(torch.cat(this_audio, dim=0))"
   ]
  },
  {
   "cell_type": "markdown",
   "id": "dc53cbb4-05c3-4d1a-a0a7-5d50ecfe0aa4",
   "metadata": {},
   "source": [
    "### feature mappings"
   ]
  },
  {
   "cell_type": "code",
   "execution_count": 149,
   "id": "ab2281ef-c026-49e5-98c2-e31a2a2abfde",
   "metadata": {},
   "outputs": [
    {
     "name": "stderr",
     "output_type": "stream",
     "text": [
      "100%|█████████| 8000/8000 [02:02<00:00, 65.45it/s]\n"
     ]
    }
   ],
   "source": [
    "torch.cuda.set_device(1)\n",
    "device = 'cuda:1'\n",
    "\n",
    "fms = []\n",
    "\n",
    "model = model.cuda()\n",
    "with torch.no_grad():\n",
    "    for x in tqdm(audios, ncols=50):\n",
    "        fb_x = model.input_mask(x.cuda())\n",
    "        if len(fb_x.shape) == 4:\n",
    "            fb_x = fb_x.squeeze(1).float()\n",
    "        fb_x = fb_x.transpose(1, 2)\n",
    "\n",
    "        x1 = model.blocks[0](fb_x)\n",
    "        x2 = model.blocks[1](x1)\n",
    "        x3 = model.blocks[2](x2)\n",
    "        x4 = model.blocks[3](x3)\n",
    "        \n",
    "        # xs.append(torch.stack([x1, x2, x3, x4,]))\n",
    "        x5 = torch.cat([x2, x3, x4], dim=1)\n",
    "        x6 = model.mfa(x5)\n",
    "        x7 = model.asp(x6, lengths=None)\n",
    "        x8 = model.asp_bn(x7)\n",
    "        \n",
    "        embeddings = model.fc(x8)\n",
    "        \n",
    "        fms.append([x1.detach().cpu(), x2.detach().cpu(), x3.detach().cpu(),\n",
    "                    x4.detach().cpu(), x5.detach().cpu(), x6.detach().cpu(),\n",
    "                    x7.detach().cpu(), x8.detach().cpu(), embeddings.detach().cpu()])\n",
    "        \n",
    "# xs = torch.stack(xs)"
   ]
  },
  {
   "cell_type": "markdown",
   "id": "cc0c2066-9f2f-4b3e-b64a-826a193811d3",
   "metadata": {},
   "source": [
    "#### distance function"
   ]
  },
  {
   "cell_type": "code",
   "execution_count": 134,
   "id": "399afbde-8b14-41a1-9bbf-375d33ea51b5",
   "metadata": {},
   "outputs": [],
   "source": [
    "akld_fn = lambda a,b: (torch.log((a.std(dim=0)+1e-6)/(b.std(dim=0)+1e-6)) + (a.var(dim=0) + (a.mean(dim=0)-b.mean(dim=0))**2)/(2*b.var(dim=0)+1e-6) - 0.5).mean()"
   ]
  },
  {
   "cell_type": "markdown",
   "id": "dcf8ffed-d69b-4cde-ab0a-6b7320a13fd3",
   "metadata": {},
   "source": [
    "#### akld from IBN-Net"
   ]
  },
  {
   "cell_type": "code",
   "execution_count": 141,
   "id": "50a0ec19-4f7d-416a-b094-81f3655aa575",
   "metadata": {},
   "outputs": [],
   "source": [
    "def kld_fn(a, b):\n",
    "    a = a.reshape(-1, a.shape[1])\n",
    "    b = b.reshape(-1, b.shape[1])\n",
    "    return (torch.log((a.std(dim=0)+1e-6)/(b.std(dim=0)+1e-6)) + (a.var(dim=0) + (a.mean(dim=0)-b.mean(dim=0))**2)/(2*b.var(dim=0)+1e-6) - 0.5).mean()\n",
    "\n",
    "akld_fn = lambda a,b: kld_fn(a, b) + kld_fn(b, a)"
   ]
  },
  {
   "cell_type": "code",
   "execution_count": 96,
   "id": "5e875c1e-15f4-47c9-b211-2881692ec154",
   "metadata": {},
   "outputs": [
    {
     "data": {
      "text/plain": [
       "tensor(0.1679)"
      ]
     },
     "execution_count": 96,
     "metadata": {},
     "output_type": "execute_result"
    }
   ],
   "source": [
    "kld(torch.randn(12,2,4), torch.randn(12,2,4)).mean()"
   ]
  },
  {
   "cell_type": "markdown",
   "id": "1593a383-915f-4c2e-be69-f72000c945e6",
   "metadata": {},
   "source": [
    "#### KLD loss"
   ]
  },
  {
   "cell_type": "code",
   "execution_count": 62,
   "id": "ed802de3-ea9f-40c3-a9db-dea9d3707199",
   "metadata": {},
   "outputs": [],
   "source": [
    "kld_fn = torch.nn.KLDivLoss()\n",
    "kld_dist_fn = lambda a,b: kld_fn(F.log_softmax(a, dim=1), F.softmax(b)) + kld_fn(F.log_softmax(b, dim=1), F.softmax(a))"
   ]
  },
  {
   "cell_type": "code",
   "execution_count": 98,
   "id": "3756816c-8aa3-4e39-b0e2-19ea63464c18",
   "metadata": {},
   "outputs": [],
   "source": [
    "akld_fn = lambda a,b: (torch.log(a.std(dim=0)/b.std(dim=0)) + a.var(dim=0) + (a.mean(dim=0)-b.mean(dim=0))**2/(2*b.var(dim=0)) - 0.5).mean()"
   ]
  },
  {
   "cell_type": "markdown",
   "id": "2a8905c6-008a-4679-82c4-420ae41d50f2",
   "metadata": {},
   "source": [
    "#### Sinkhorn distance"
   ]
  },
  {
   "cell_type": "code",
   "execution_count": 79,
   "id": "8203c36b-9214-4382-a5c4-e385758b3e72",
   "metadata": {},
   "outputs": [],
   "source": [
    "sinkhorn_fn = SamplesLoss(\"sinkhorn\", p=2, blur=0.05, cost=lambda a, b: cost_func(a, b, p=2, metric='cosine'))\n",
    "# opt_dist_fn = lambda a,b: sinkhorn_fn(a.transpose(0,1), b.transpose(0,1))\n",
    "opt_dist_fn = lambda a,b: sinkhorn_fn(a, b)"
   ]
  },
  {
   "cell_type": "code",
   "execution_count": 11,
   "id": "bcc836eb-8e31-4d17-abad-c01956ca3d90",
   "metadata": {},
   "outputs": [
    {
     "data": {
      "text/plain": [
       "torch.Size([2, 256, 401])"
      ]
     },
     "execution_count": 11,
     "metadata": {},
     "output_type": "execute_result"
    }
   ],
   "source": [
    "fms[0][0].shape"
   ]
  },
  {
   "cell_type": "code",
   "execution_count": 14,
   "id": "827bf022-6061-429e-8c04-fad398c02517",
   "metadata": {},
   "outputs": [
    {
     "name": "stderr",
     "output_type": "stream",
     "text": [
      "/home/yangwenhao/anaconda3/envs/py38_torch12/lib/python3.8/site-packages/torch/nn/functional.py:2904: UserWarning: reduction: 'mean' divides the total loss by both the batch size and the support size.'batchmean' divides only by the batch size, and aligns with the KL div math definition.'mean' will be changed to behave the same as 'batchmean' in the next major release.\n",
      "  warnings.warn(\n"
     ]
    },
    {
     "data": {
      "text/plain": [
       "tensor(-0.1222)"
      ]
     },
     "execution_count": 14,
     "metadata": {},
     "output_type": "execute_result"
    }
   ],
   "source": [
    "loss_fn(fms[0][0][0], fms[0][0][1])"
   ]
  },
  {
   "cell_type": "code",
   "execution_count": 150,
   "id": "7e9764bf-ea33-4ce6-92a7-9b8b28605203",
   "metadata": {},
   "outputs": [
    {
     "name": "stderr",
     "output_type": "stream",
     "text": [
      "100%|█████████████| 40/40 [03:31<00:00,  5.29s/it]\n"
     ]
    }
   ],
   "source": [
    "dist = []\n",
    "dist_base = []\n",
    "\n",
    "dist_fn = opt_dist_fn\n",
    "batch_size = 200\n",
    "# total_utts // batch_size\n",
    "\n",
    "for i in tqdm(range(total_utts // batch_size), ncols=50):\n",
    "    fm = fms[i*batch_size:(i+1)*batch_size]\n",
    "    \n",
    "    this_d = []\n",
    "    this_bd = []\n",
    "    \n",
    "    for j in range(len(fm[0])):\n",
    "        this_f = torch.stack([f[j] for f in fm], dim=0)\n",
    "        f0 = this_f[:, 0].cuda()\n",
    "        f1 = this_f[:, 1].cuda()\n",
    "        \n",
    "        # if len(f0.shape) >=3:\n",
    "        #     f0 = f0.transpose_(0, 1).contiguous()\n",
    "        #     f1 = f1.transpose_(0, 1).contiguous()\n",
    "        \n",
    "        idx = np.arange(len(f1))\n",
    "        np.random.shuffle(idx)\n",
    "        \n",
    "        # print(f0.transpose(0,1).shape, f1.transpose(0,1).shape)\n",
    "        l = float(dist_fn(f0, f1[idx]).mean())\n",
    "        if np.isnan(l):\n",
    "            print(i, j)\n",
    "            \n",
    "        this_d.append(l)\n",
    "        \n",
    "        idx = np.arange(len(f0))\n",
    "        np.random.shuffle(idx)\n",
    "        l = float(dist_fn(f0, f0[idx]).mean())\n",
    "        this_bd.append(l)\n",
    "        \n",
    "        # print(l, f0.shape, f1.shape)\n",
    "    dist.append(this_d)\n",
    "    dist_base.append(this_bd)\n",
    "    # break\n",
    "        \n",
    "# for fm in tqdm(fms, ncols=50):\n",
    "#     dist.append([float(loss_fn(F.log_softmax(f[0].cuda(), dim=-1), F.softmax(f[1].cuda(), dim=-1)) + \\\n",
    "#                        loss_fn(F.log_softmax(f[1].cuda(), dim=-1), F.softmax(f[0].cuda(), dim=-1))) for f in fm])"
   ]
  },
  {
   "cell_type": "code",
   "execution_count": 117,
   "id": "df9d9803-9074-4c6e-a1e6-774219722189",
   "metadata": {},
   "outputs": [],
   "source": [
    "this_f = torch.stack([f[4] for f in fm], dim=0)\n",
    "\n",
    "f0 = this_f[:, 0].cuda()\n",
    "f1 = this_f[:, 1].cuda()"
   ]
  },
  {
   "cell_type": "code",
   "execution_count": 118,
   "id": "1a456f2f-fb5f-47a2-83c6-df8c2edc192d",
   "metadata": {},
   "outputs": [
    {
     "data": {
      "text/plain": [
       "tensor(nan, device='cuda:1')"
      ]
     },
     "execution_count": 118,
     "metadata": {},
     "output_type": "execute_result"
    }
   ],
   "source": [
    "dist_fn(f0, f1[idx])"
   ]
  },
  {
   "cell_type": "code",
   "execution_count": 130,
   "id": "933bb72b-10e5-4278-9451-664086e09935",
   "metadata": {},
   "outputs": [
    {
     "name": "stdout",
     "output_type": "stream",
     "text": [
      "tensor(0.0786, device='cuda:1')\n",
      "tensor(0.7334, device='cuda:1')\n"
     ]
    }
   ],
   "source": [
    "a = f0\n",
    "b = f1[idx]\n",
    "\n",
    "print(torch.log(((a.std(dim=0)+1e-6)/(b.std(dim=0)+1e-6))).mean())\n",
    "print(((a.var(dim=0) + (a.mean(dim=0)-b.mean(dim=0))**2)/(2*b.var(dim=0)+1e-6)).mean())"
   ]
  },
  {
   "cell_type": "code",
   "execution_count": 125,
   "id": "c115d3b2-71ff-48bb-93dd-ade86ff7055a",
   "metadata": {},
   "outputs": [
    {
     "data": {
      "text/plain": [
       "tensor(nan, device='cuda:1')"
      ]
     },
     "execution_count": 125,
     "metadata": {},
     "output_type": "execute_result"
    }
   ],
   "source": [
    "(a.std(dim=0)/b.std(dim=0)).min()"
   ]
  },
  {
   "cell_type": "code",
   "execution_count": 151,
   "id": "e397c44c-9d4e-4940-af00-595a68ac0302",
   "metadata": {},
   "outputs": [
    {
     "data": {
      "image/png": "[encoded data removed]",
      "text/plain": [
       "<Figure size 1200x600 with 1 Axes>"
      ]
     },
     "metadata": {
      "needs_background": "light"
     },
     "output_type": "display_data"
    }
   ],
   "source": [
    "ticks_font = 12\n",
    "plt.figure(figsize=(8,4), dpi=150)\n",
    "\n",
    "#'tdnn-1', \n",
    "x = ['tdnn-0', 'res2net-1', 'res2net-2', 'res2net-3', 'concat', 'mfa', 'asp', 'asp_bn', 'embeddings',]\n",
    "\n",
    "plt.plot(x, np.mean(dist_base, axis=0), marker='s')\n",
    "plt.plot(x, np.mean(dist, axis=0), marker='s')\n",
    "\n",
    "# plt.yscale('log')\n",
    "plt.legend(['clean_clean', 'clean_radio'])\n",
    "_=plt.xticks(fontsize=ticks_font, rotation=30)\n",
    "_=plt.yticks(fontsize=ticks_font)\n",
    "plt.grid(linestyle='--')\n",
    "plt.tight_layout()\n",
    "\n",
    "plt.savefig('imgs/opt_shuffle_radio_clean_{}_dev{}_batch{}.png'.format(train_set, total_utts, batch_size))"
   ]
  },
  {
   "cell_type": "code",
   "execution_count": 152,
   "id": "911b9896-1b20-4bae-982a-ef5ae71f74ab",
   "metadata": {},
   "outputs": [
    {
     "ename": "TypeError",
     "evalue": "can only concatenate list (not \"int\") to list",
     "output_type": "error",
     "traceback": [
      "\u001b[0;31m---------------------------------------------------------------------------\u001b[0m",
      "\u001b[0;31mTypeError\u001b[0m                                 Traceback (most recent call last)",
      "Cell \u001b[0;32mIn[152], line 1\u001b[0m\n\u001b[0;32m----> 1\u001b[0m \u001b[43m[\u001b[49m\u001b[38;5;241;43m1\u001b[39;49m\u001b[43m]\u001b[49m\u001b[38;5;241;43m*\u001b[39;49m\u001b[38;5;241;43m1\u001b[39;49m\u001b[38;5;241;43m+\u001b[39;49m\u001b[38;5;241;43m2\u001b[39;49m\n",
      "\u001b[0;31mTypeError\u001b[0m: can only concatenate list (not \"int\") to list"
     ]
    }
   ],
   "source": [
    "[1]*1+2"
   ]
  },
  {
   "cell_type": "code",
   "execution_count": 49,
   "id": "a4023f0d-a89b-44d5-b786-446d9d0b9f57",
   "metadata": {},
   "outputs": [],
   "source": [
    "idx = np.arange(10)\n",
    "np.random.shuffle(idx)"
   ]
  },
  {
   "cell_type": "code",
   "execution_count": 50,
   "id": "0029514c-58b3-427c-b386-1e03fbe306a8",
   "metadata": {},
   "outputs": [
    {
     "data": {
      "text/plain": [
       "array([2, 5, 7, 1, 4, 8, 6, 0, 9, 3])"
      ]
     },
     "execution_count": 50,
     "metadata": {},
     "output_type": "execute_result"
    }
   ],
   "source": [
    "idx"
   ]
  },
  {
   "cell_type": "code",
   "execution_count": 158,
   "id": "0e3643fb-0ab4-4b1b-b5a6-90aec4368a13",
   "metadata": {},
   "outputs": [],
   "source": [
    "inst = torch.nn.InstanceNorm1d(25)\n",
    "bath = torch.nn.BatchNorm1d(25,affine=False)"
   ]
  },
  {
   "cell_type": "code",
   "execution_count": 159,
   "id": "41331c7b-256f-44f8-9adb-69816ebcd67e",
   "metadata": {},
   "outputs": [],
   "source": [
    "x = torch.randn(12, 25)"
   ]
  },
  {
   "cell_type": "code",
   "execution_count": 157,
   "id": "909d6051-b1dc-48a6-aa7d-18507eb2294c",
   "metadata": {},
   "outputs": [
    {
     "data": {
      "text/plain": [
       "(torch.Size([12, 25]), torch.Size([12, 25]))"
      ]
     },
     "execution_count": 157,
     "metadata": {},
     "output_type": "execute_result"
    }
   ],
   "source": [
    "inst(x).shape, bath(x).shape"
   ]
  },
  {
   "cell_type": "code",
   "execution_count": 161,
   "id": "46dc8ad2-d05f-4197-95b2-f8b86d867c79",
   "metadata": {},
   "outputs": [
    {
     "data": {
      "text/plain": [
       "tensor([[False, False, False, False, False, False, False, False, False, False,\n",
       "         False, False, False, False, False, False, False, False, False, False,\n",
       "         False, False, False, False, False],\n",
       "        [False, False, False, False, False, False, False, False, False, False,\n",
       "         False, False, False, False, False, False, False, False, False, False,\n",
       "         False, False, False, False, False],\n",
       "        [False, False, False, False, False, False, False, False, False, False,\n",
       "         False, False, False, False, False, False, False, False, False, False,\n",
       "         False, False, False, False, False],\n",
       "        [False, False, False, False, False, False, False, False, False, False,\n",
       "         False, False, False, False, False, False, False, False, False, False,\n",
       "         False, False, False, False, False],\n",
       "        [False, False, False, False, False, False, False, False, False, False,\n",
       "         False, False, False, False, False, False, False, False, False, False,\n",
       "         False, False, False, False, False],\n",
       "        [False, False, False, False, False, False, False, False, False, False,\n",
       "         False, False, False, False, False, False, False, False, False, False,\n",
       "         False, False, False, False, False],\n",
       "        [False, False, False, False, False, False, False, False, False, False,\n",
       "         False, False, False, False, False, False, False, False, False, False,\n",
       "         False, False, False, False, False],\n",
       "        [False, False, False, False, False, False, False, False, False, False,\n",
       "         False, False, False, False, False, False, False, False, False, False,\n",
       "         False, False, False, False, False],\n",
       "        [False, False, False, False, False, False, False, False, False, False,\n",
       "         False, False, False, False, False, False, False, False, False, False,\n",
       "         False, False, False, False, False],\n",
       "        [False, False, False, False, False, False, False, False, False, False,\n",
       "         False, False, False, False, False, False, False, False, False, False,\n",
       "         False, False, False, False, False],\n",
       "        [False, False, False, False, False, False, False, False, False, False,\n",
       "         False, False, False, False, False, False, False, False, False, False,\n",
       "         False, False, False, False, False],\n",
       "        [False, False, False, False, False, False, False, False, False, False,\n",
       "         False, False, False, False, False, False, False, False, False, False,\n",
       "         False, False, False, False, False]])"
      ]
     },
     "execution_count": 161,
     "metadata": {},
     "output_type": "execute_result"
    }
   ],
   "source": [
    "inst(x) == bath(x)"
   ]
  },
  {
   "cell_type": "code",
   "execution_count": 47,
   "id": "44c1aaf3-0856-4f03-b079-14cb701f4658",
   "metadata": {},
   "outputs": [],
   "source": [
    "x = torch.randn(384, 768)"
   ]
  },
  {
   "cell_type": "code",
   "execution_count": 48,
   "id": "f86ee363-6ef7-4527-bfd7-976dbadd67af",
   "metadata": {},
   "outputs": [
    {
     "data": {
      "text/plain": [
       "BatchNorm1d(768, eps=1e-05, momentum=0.1, affine=False, track_running_stats=True)"
      ]
     },
     "execution_count": 48,
     "metadata": {},
     "output_type": "execute_result"
    }
   ],
   "source": [
    "inst = torch.nn.InstanceNorm1d(768, affine=False)\n",
    "bn = torch.nn.BatchNorm1d(768, affine=False)\n",
    "\n",
    "inst.train()\n",
    "bn.train()"
   ]
  },
  {
   "cell_type": "code",
   "execution_count": 51,
   "id": "ee0cef0c-a615-490f-aa12-700987091c2c",
   "metadata": {},
   "outputs": [
    {
     "data": {
      "text/plain": [
       "tensor([[ 0.0647,  0.2246,  0.0582,  ...,  0.0238,  0.0406,  0.0593],\n",
       "        [ 0.0665,  0.0405,  0.0150,  ...,  0.0076,  0.0798,  0.0530],\n",
       "        [-0.1153, -0.0009, -0.1283,  ..., -0.1484, -0.1353, -0.0301],\n",
       "        ...,\n",
       "        [ 0.0162, -0.1097, -0.0527,  ..., -0.0494, -0.0317, -0.0238],\n",
       "        [ 0.0530,  0.0310,  0.0721,  ..., -0.0211,  0.0342,  0.0398],\n",
       "        [-0.0613, -0.0584, -0.0040,  ..., -0.0814,  0.0453,  0.0079]])"
      ]
     },
     "execution_count": 51,
     "metadata": {},
     "output_type": "execute_result"
    }
   ],
   "source": [
    "inst(x) - bn(x)"
   ]
  },
  {
   "cell_type": "code",
   "execution_count": null,
   "id": "0c49c924-63ab-42fd-ab4f-92417261855d",
   "metadata": {},
   "outputs": [],
   "source": []
  }
 ],
 "metadata": {
  "kernelspec": {
   "display_name": "Python 3",
   "language": "python",
   "name": "python3"
  },
  "language_info": {
   "codemirror_mode": {
    "name": "ipython",
    "version": 3
   },
   "file_extension": ".py",
   "mimetype": "text/x-python",
   "name": "python",
   "nbconvert_exporter": "python",
   "pygments_lexer": "ipython3",
   "version": "3.8.16"
  }
 },
 "nbformat": 4,
 "nbformat_minor": 5
}
