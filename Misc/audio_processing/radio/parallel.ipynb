{
 "cells": [
  {
   "cell_type": "code",
   "execution_count": 28,
   "id": "bc50e24e-a41a-467e-8750-4750bd98f405",
   "metadata": {
    "tags": []
   },
   "outputs": [],
   "source": [
    "import torch\n",
    "import os\n",
    "import json\n",
    "from tqdm import tqdm \n",
    "\n",
    "from Lime.cams import read_hdf5\n",
    "from Define_Model.ParallelBlocks import Parallel, gumbel_softmax\n",
    "from Define_Model.TDNN.ECAPA_brain import ECAPA_TDNN, Classifier"
   ]
  },
  {
   "cell_type": "code",
   "execution_count": 9,
   "id": "8b1a13be-e784-49a3-ad38-2798abdf0a79",
   "metadata": {
    "tags": []
   },
   "outputs": [],
   "source": [
    "root_dir = '/home/yangwenhao/project/SpeakerVerification-pytorch'\n",
    "grad_dir = root_dir + '/Data/gradient'"
   ]
  },
  {
   "cell_type": "code",
   "execution_count": 4,
   "id": "efae6d5a-12fc-411c-a337-4360413e17e5",
   "metadata": {},
   "outputs": [],
   "source": [
    "embedding_model = ECAPA_TDNN(filter=\"fbank\",\n",
    "  sr=16000,\n",
    "  feat_dim=80,\n",
    "  input_dim=80,\n",
    "  input_norm='Mean', num_classes=5994)"
   ]
  },
  {
   "cell_type": "code",
   "execution_count": 5,
   "id": "344fba93-2464-4d09-9d99-554a94b2cb8c",
   "metadata": {},
   "outputs": [],
   "source": [
    "embedding_model.classifier = Classifier(input_size=192,\n",
    "  lin_neurons=192,\n",
    "  out_neurons=5994)"
   ]
  },
  {
   "cell_type": "code",
   "execution_count": 7,
   "id": "6621aef0-763f-4549-8bc0-d494606710bc",
   "metadata": {
    "tags": []
   },
   "outputs": [],
   "source": [
    "model = Parallel(embedding_model, layers=4, agent_model=None)"
   ]
  },
  {
   "cell_type": "code",
   "execution_count": 8,
   "id": "641fc74c-cc89-4d26-a3af-5f54d251a316",
   "metadata": {},
   "outputs": [],
   "source": [
    "resume = root_dir + '/Data/checkpoint/ECAPA_brain/Mean_batch48_SASP2_em192_official_2sesmix8/arcsoft_adam_cyclic/vox2/wave_fb80_dist_fine16pspot_onelayer/123456/checkpoint_12.pth'\n",
    "\n",
    "checkpoint = torch.load(resume)\n",
    "\n",
    "checkpoint_state_dict = checkpoint['state_dict']\n",
    "if isinstance(checkpoint_state_dict, tuple):\n",
    "    checkpoint_state_dict = checkpoint_state_dict[0]\n",
    "\n",
    "filtered = {k: v for k, v in checkpoint_state_dict.items() if 'num_batches_tracked' not in k}\n",
    "\n",
    "if list(filtered.keys())[0].startswith('module'):\n",
    "    new_state_dict = OrderedDict()\n",
    "    for k, v in filtered.items():\n",
    "        new_state_dict[k[7:]] = v  # 新字典的key值对应的value为一一对应的值。\n",
    "\n",
    "    model.load_state_dict(new_state_dict)\n",
    "    del new_state_dict\n",
    "else:\n",
    "    model_dict = model.state_dict()\n",
    "    model_dict.update(filtered)\n",
    "    model.load_state_dict(model_dict)\n",
    "    del model_dict"
   ]
  },
  {
   "cell_type": "code",
   "execution_count": 14,
   "id": "dee3b677-062a-4733-9e2d-c376db1a2997",
   "metadata": {
    "tags": []
   },
   "outputs": [],
   "source": [
    "input_path = grad_dir + '/ThinResNet34_ser07/Mean_batch128_cbam_downk5_avg0_SAP2_em256_dp01_alpha0_none1_chn32_wde4_varesmix8/arcsoft_sgd_rop/vox2/wave_sp161_dist/123456/vox2_dev4'"
   ]
  },
  {
   "cell_type": "code",
   "execution_count": 17,
   "id": "80736386-c96f-4f9e-8d31-73c10e8ec8f8",
   "metadata": {
    "tags": []
   },
   "outputs": [
    {
     "name": "stdout",
     "output_type": "stream",
     "text": [
      "Length of data:  11988\n"
     ]
    }
   ],
   "source": [
    "# load selected input uids\n",
    "data_reader = input_path + '/data.h5py'\n",
    "assert os.path.exists(data_reader), print(data_reader)\n",
    "\n",
    "uid_reader = input_path + '/uid_idx.json'\n",
    "assert os.path.exists(uid_reader)\n",
    "with open(uid_reader, 'r') as f:\n",
    "    uididx = json.load(f)\n",
    "    \n",
    "some_data = set([uid for uid,idx in uididx])\n",
    "print(\"Length of data: \", len(some_data))"
   ]
  },
  {
   "cell_type": "code",
   "execution_count": null,
   "id": "c9a9d5ea-6723-4497-8971-747c07150568",
   "metadata": {
    "tags": []
   },
   "outputs": [],
   "source": [
    "model.eval()"
   ]
  },
  {
   "cell_type": "code",
   "execution_count": null,
   "id": "1588119a-eddd-4a79-a4c7-6f9aa8f4b45c",
   "metadata": {
    "tags": []
   },
   "outputs": [],
   "source": [
    "policys = []\n",
    "\n",
    "for uid in tqdm(some_data, ncols=50):\n",
    "    data = read_hdf5(data_reader, uid)\n",
    "    data = torch.tensor(data).float().unsqueeze(0).unsqueeze(0)\n",
    "    \n",
    "    x = model.model.input_mask(data)\n",
    "    policy, _ = model.agent_model(x)\n",
    "    \n",
    "    policy = gumbel_softmax(policy.cuda())\n",
    "    policys.append(policy[0].cpu())\n",
    "    # break"
   ]
  },
  {
   "cell_type": "code",
   "execution_count": 34,
   "id": "fe3694c5-6029-465b-aca8-c579777fc1f3",
   "metadata": {
    "tags": []
   },
   "outputs": [],
   "source": [
    "a = torch.randn(12, 192,23)"
   ]
  },
  {
   "cell_type": "code",
   "execution_count": 37,
   "id": "b3779d42-1f5e-4ce1-948c-c4b8c88c9c9c",
   "metadata": {
    "tags": []
   },
   "outputs": [],
   "source": [
    "b = torch.randn(12,1,1)"
   ]
  },
  {
   "cell_type": "code",
   "execution_count": 38,
   "id": "5c23b1b3-3b77-498d-88a9-4ba75d3ce97c",
   "metadata": {
    "tags": []
   },
   "outputs": [
    {
     "data": {
      "text/plain": [
       "tensor([[[ 4.7388e-01,  1.1668e+00, -6.9824e-01,  ...,  1.5910e+00,\n",
       "           1.1053e+00, -1.0082e+00],\n",
       "         [-1.1910e-01, -3.9314e-01, -9.9971e-01,  ..., -3.9227e-01,\n",
       "           8.7295e-01,  6.7731e-02],\n",
       "         [-2.8258e-01, -1.4829e+00,  9.5587e-01,  ..., -4.5215e-01,\n",
       "           1.4841e+00, -9.4898e-03],\n",
       "         ...,\n",
       "         [-4.0878e-01,  1.0492e-01,  5.6134e-01,  ..., -1.3302e+00,\n",
       "           3.5066e-01, -4.2690e-01],\n",
       "         [ 4.6019e-01, -1.3650e+00, -6.3043e-01,  ...,  1.9371e-01,\n",
       "           3.4028e-01, -1.1978e+00],\n",
       "         [-3.3661e-01,  6.6808e-01, -1.8488e-01,  ..., -2.7147e-01,\n",
       "          -8.8073e-02, -1.4807e-03]],\n",
       "\n",
       "        [[-5.9109e-02, -3.7060e-02, -1.9911e-01,  ...,  4.3472e-03,\n",
       "           5.4537e-02, -9.8661e-02],\n",
       "         [-1.4320e-02, -1.6565e-01, -1.0048e-01,  ..., -1.3820e-02,\n",
       "           8.4347e-02, -1.6191e-01],\n",
       "         [ 4.6202e-02, -1.2334e-01,  3.2102e-02,  ..., -2.7667e-02,\n",
       "          -9.1732e-02, -6.6295e-02],\n",
       "         ...,\n",
       "         [-7.0280e-02, -4.9138e-02,  3.9702e-02,  ..., -2.4853e-02,\n",
       "          -8.2442e-02, -6.5404e-02],\n",
       "         [-8.0780e-02, -8.4537e-02,  7.1821e-02,  ...,  3.2453e-02,\n",
       "           1.6585e-01,  4.0811e-02],\n",
       "         [-1.7253e-01,  2.3757e-02,  1.4838e-02,  ...,  2.2214e-02,\n",
       "          -3.7430e-02,  1.2072e-03]],\n",
       "\n",
       "        [[-2.7378e-02,  3.8625e-02, -3.9042e-02,  ..., -8.3205e-02,\n",
       "          -3.5006e-02,  3.4167e-02],\n",
       "         [-4.0533e-02, -6.0933e-02, -9.2107e-03,  ..., -7.9895e-03,\n",
       "           4.1979e-02,  3.1118e-02],\n",
       "         [-8.7053e-03,  3.3002e-02,  7.0150e-02,  ..., -2.5875e-02,\n",
       "           3.1977e-03,  4.0479e-03],\n",
       "         ...,\n",
       "         [ 3.5482e-03, -1.2398e-03, -1.3784e-02,  ..., -7.5210e-03,\n",
       "          -2.6340e-02,  1.5779e-02],\n",
       "         [-4.6813e-03,  3.5175e-03,  2.6236e-02,  ...,  2.6161e-02,\n",
       "          -1.5524e-02,  5.5117e-03],\n",
       "         [-2.4843e-02,  1.0799e-02,  6.5503e-02,  ...,  1.1203e-02,\n",
       "          -2.2422e-02, -3.8311e-02]],\n",
       "\n",
       "        ...,\n",
       "\n",
       "        [[-1.6517e-01, -5.3554e-01, -1.0279e+00,  ...,  2.8075e-01,\n",
       "          -7.7062e-01, -1.0752e+00],\n",
       "         [-9.6578e-01, -1.2780e-01, -1.4272e-01,  ...,  5.2144e-01,\n",
       "           1.0290e+00, -7.1055e-01],\n",
       "         [-1.3125e+00, -8.3352e-01,  1.6206e+00,  ...,  2.2969e+00,\n",
       "          -5.8120e-01,  9.7429e-01],\n",
       "         ...,\n",
       "         [-5.7489e-02, -5.3254e-01,  5.0612e-01,  ...,  5.0189e-01,\n",
       "           5.8859e-02, -3.6372e-01],\n",
       "         [-1.2931e+00,  1.4326e-01,  1.0958e+00,  ...,  5.9886e-01,\n",
       "          -8.4086e-01, -1.5348e-01],\n",
       "         [ 2.4761e-01, -2.1127e-01,  8.0007e-01,  ...,  5.4077e-01,\n",
       "           1.6772e+00,  1.2312e+00]],\n",
       "\n",
       "        [[-3.6189e-02,  3.5313e-03, -5.7447e-02,  ...,  1.5585e-01,\n",
       "          -9.6059e-02,  1.3583e-01],\n",
       "         [-4.3231e-02,  2.7480e-02, -1.0016e-01,  ...,  7.0785e-02,\n",
       "           3.1063e-04,  5.6945e-02],\n",
       "         [ 1.4437e-02,  1.8262e-02, -4.7874e-02,  ..., -6.8940e-02,\n",
       "          -1.2732e-02, -1.1717e-02],\n",
       "         ...,\n",
       "         [-2.5835e-03, -4.2208e-03,  1.2765e-01,  ..., -1.0677e-01,\n",
       "          -1.9096e-02, -6.2138e-02],\n",
       "         [ 1.0784e-02,  1.1617e-01, -2.9404e-02,  ...,  7.5367e-02,\n",
       "           1.5858e-02, -2.9139e-02],\n",
       "         [ 9.3705e-02,  9.3177e-02,  5.4544e-02,  ..., -1.7711e-02,\n",
       "           1.0091e-01, -6.2284e-02]],\n",
       "\n",
       "        [[-1.9049e-01,  1.2052e-01,  3.6134e-01,  ..., -4.7218e-01,\n",
       "          -5.4037e-01,  6.5898e-01],\n",
       "         [ 9.6209e-02,  8.1924e-01,  1.2891e-01,  ...,  5.9232e-01,\n",
       "           5.5573e-01,  5.5380e-01],\n",
       "         [ 6.9480e-01, -1.5751e+00, -1.3114e+00,  ...,  1.2344e-01,\n",
       "          -3.2368e-01, -3.0303e-01],\n",
       "         ...,\n",
       "         [-3.3330e-01,  7.9846e-01, -1.0202e+00,  ...,  1.1258e+00,\n",
       "          -2.5525e+00, -1.3444e+00],\n",
       "         [ 7.6061e-01,  4.8845e-01,  2.3518e+00,  ..., -1.4290e+00,\n",
       "          -1.1529e+00, -2.3462e-01],\n",
       "         [ 2.3295e+00, -1.9699e-01,  1.8751e-01,  ..., -2.6380e-01,\n",
       "           2.5576e-01,  2.7669e-01]]])"
      ]
     },
     "execution_count": 38,
     "metadata": {},
     "output_type": "execute_result"
    }
   ],
   "source": [
    "a*b"
   ]
  },
  {
   "cell_type": "code",
   "execution_count": null,
   "id": "92a37815-3561-43ad-aba8-ad8726c55f41",
   "metadata": {},
   "outputs": [],
   "source": []
  }
 ],
 "metadata": {
  "kernelspec": {
   "display_name": "Python 3",
   "language": "python",
   "name": "python3"
  },
  "language_info": {
   "codemirror_mode": {
    "name": "ipython",
    "version": 3
   },
   "file_extension": ".py",
   "mimetype": "text/x-python",
   "name": "python",
   "nbconvert_exporter": "python",
   "pygments_lexer": "ipython3",
   "version": "3.8.16"
  }
 },
 "nbformat": 4,
 "nbformat_minor": 5
}
