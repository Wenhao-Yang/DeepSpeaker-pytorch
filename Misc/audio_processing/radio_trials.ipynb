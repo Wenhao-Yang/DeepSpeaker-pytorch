{
 "cells": [
  {
   "cell_type": "code",
   "execution_count": null,
   "id": "6307c369-866c-4600-9eb7-a163a4172673",
   "metadata": {},
   "outputs": [],
   "source": []
  },
  {
   "cell_type": "code",
   "execution_count": 1,
   "id": "f3fb6967-47e6-44cc-b4f0-2041893bf53b",
   "metadata": {
    "tags": []
   },
   "outputs": [],
   "source": [
    "trials = set([])\n",
    "trials_f = '/home/yangwenhao/project/lstm_speaker_verification/data/vox1/test/trials'\n",
    "\n",
    "with open(trials_f, 'r') as f:\n",
    "    for l in f.readlines():\n",
    "        a, b,c = l.split()\n",
    "        trials.add(' '.join([a + '-radchn2', b, c]))   \n",
    "        trials.add(' '.join([a, b+'-radchn2', c]))"
   ]
  },
  {
   "cell_type": "code",
   "execution_count": 2,
   "id": "40aa85f7-0e4a-4de3-96af-73b36764f2d8",
   "metadata": {
    "tags": []
   },
   "outputs": [],
   "source": [
    "trials_f = '/home/yangwenhao/project/lstm_speaker_verification/data/vox1/test_orgchn2/trials_cross'\n",
    "\n",
    "with open(trials_f, 'w') as f:\n",
    "    for l in trials:\n",
    "        f.write(l + '\\n')"
   ]
  },
  {
   "cell_type": "code",
   "execution_count": 3,
   "id": "ec61504f-d26d-4420-ac1f-f8e3198ae4fa",
   "metadata": {
    "tags": []
   },
   "outputs": [],
   "source": [
    "trials = set([])\n",
    "trials_f = '/home/yangwenhao/project/lstm_speaker_verification/data/vox1/test/trials'\n",
    "\n",
    "with open(trials_f, 'r') as f:\n",
    "    for l in f.readlines():\n",
    "        a, b,c = l.split()\n",
    "        trials.add(' '.join([a + '-radchn2', b+ '-radchn2', c]))   \n",
    "        \n",
    "trials_f = '/home/yangwenhao/project/lstm_speaker_verification/data/vox1/test_orgchn2/trials_radio'\n",
    "\n",
    "with open(trials_f, 'w') as f:\n",
    "    for l in trials:\n",
    "        f.write(l + '\\n')"
   ]
  },
  {
   "cell_type": "code",
   "execution_count": null,
   "id": "788d9113-f2a8-49ea-bfe1-f5510ee41771",
   "metadata": {},
   "outputs": [],
   "source": []
  }
 ],
 "metadata": {
  "kernelspec": {
   "display_name": "Python 3",
   "language": "python",
   "name": "python3"
  },
  "language_info": {
   "codemirror_mode": {
    "name": "ipython",
    "version": 3
   },
   "file_extension": ".py",
   "mimetype": "text/x-python",
   "name": "python",
   "nbconvert_exporter": "python",
   "pygments_lexer": "ipython3",
   "version": "3.8.16"
  }
 },
 "nbformat": 4,
 "nbformat_minor": 5
}
