{
 "cells": [
  {
   "cell_type": "code",
   "execution_count": 1,
   "id": "2d608c13-f441-438c-9d63-5890f58f032d",
   "metadata": {
    "tags": []
   },
   "outputs": [
    {
     "name": "stderr",
     "output_type": "stream",
     "text": [
      "2023-10-08 17:06:21,214 - modelscope - INFO - PyTorch version 2.0.1 Found.\n",
      "2023-10-08 17:06:21,223 - modelscope - INFO - Loading ast index from /home/yangwenhao/.cache/modelscope/ast_indexer\n",
      "2023-10-08 17:06:21,478 - modelscope - INFO - Loading done! Current index file version is 1.9.0, with md5 2fd7920946625a585615c128019784ec and a total number of 921 components indexed\n",
      "/home/yangwenhao/anaconda3/envs/model/lib/python3.8/site-packages/tqdm/auto.py:21: TqdmWarning: IProgress not found. Please update jupyter and ipywidgets. See https://ipywidgets.readthedocs.io/en/stable/user_install.html\n",
      "  from .autonotebook import tqdm as notebook_tqdm\n"
     ]
    }
   ],
   "source": [
    "from modelscope.pipelines import pipeline\n",
    "from modelscope.utils.constant import Tasks\n",
    "import os\n",
    "import torch"
   ]
  },
  {
   "cell_type": "code",
   "execution_count": null,
   "id": "b29fef28-be32-4f9e-9763-66699202529e",
   "metadata": {},
   "outputs": [],
   "source": [
    "# cam_pp\n",
    "sv_pipeline = pipeline(\n",
    "    task=Tasks.speaker_verification,\n",
    "    model='damo/speech_campplus_sv_en_voxceleb_16k'\n",
    ")"
   ]
  },
  {
   "cell_type": "code",
   "execution_count": 2,
   "id": "72290a7b-e84b-4418-80b8-c3ab159cd8d5",
   "metadata": {
    "tags": []
   },
   "outputs": [
    {
     "name": "stderr",
     "output_type": "stream",
     "text": [
      "2023-10-08 17:06:26,047 - modelscope - INFO - Model revision not specified, use the latest revision: v1.0.1\n",
      "2023-10-08 17:06:26,589 - modelscope - INFO - initiate model from /home/yangwenhao/.cache/modelscope/hub/damo/speech_ecapa-tdnn_sv_en_voxceleb_16k\n",
      "2023-10-08 17:06:26,590 - modelscope - INFO - initiate model from location /home/yangwenhao/.cache/modelscope/hub/damo/speech_ecapa-tdnn_sv_en_voxceleb_16k.\n",
      "2023-10-08 17:06:26,592 - modelscope - INFO - initialize model from /home/yangwenhao/.cache/modelscope/hub/damo/speech_ecapa-tdnn_sv_en_voxceleb_16k\n"
     ]
    },
    {
     "name": "stdout",
     "output_type": "stream",
     "text": [
      "cuda:1\n"
     ]
    },
    {
     "name": "stderr",
     "output_type": "stream",
     "text": [
      "2023-10-08 17:06:33,584 - modelscope - WARNING - No preprocessor field found in cfg.\n",
      "2023-10-08 17:06:33,586 - modelscope - WARNING - No val key and type key found in preprocessor domain of configuration.json file.\n",
      "2023-10-08 17:06:33,587 - modelscope - WARNING - Cannot find available config to build preprocessor at mode inference, current config: {'model_dir': '/home/yangwenhao/.cache/modelscope/hub/damo/speech_ecapa-tdnn_sv_en_voxceleb_16k'}. trying to build by task and model information.\n",
      "2023-10-08 17:06:33,588 - modelscope - WARNING - No preprocessor key ('ecapa-tdnn-sv', 'speaker-verification') found in PREPROCESSOR_MAP, skip building preprocessor.\n"
     ]
    }
   ],
   "source": [
    "# ecapa-tdnn\n",
    "sv_pipeline = pipeline(\n",
    "    task='speaker-verification',\n",
    "    model='damo/speech_ecapa-tdnn_sv_en_voxceleb_16k',\n",
    "    device='cuda:1'\n",
    ")"
   ]
  },
  {
   "cell_type": "code",
   "execution_count": 8,
   "id": "80f16021-b09b-4a55-8d31-6da7a5fdbd8a",
   "metadata": {
    "tags": []
   },
   "outputs": [
    {
     "data": {
      "text/plain": [
       "SpeakerVerificationECAPATDNN(\n",
       "  (embedding_model): ECAPA_TDNN(\n",
       "    (blocks): ModuleList(\n",
       "      (0): TDNNBlock(\n",
       "        (conv): Conv1d(\n",
       "          (conv): Conv1d(80, 1024, kernel_size=(5,), stride=(1,))\n",
       "        )\n",
       "        (activation): ReLU()\n",
       "        (norm): BatchNorm1d(\n",
       "          (norm): BatchNorm1d(1024, eps=1e-05, momentum=0.1, affine=True, track_running_stats=True)\n",
       "        )\n",
       "      )\n",
       "      (1): SERes2NetBlock(\n",
       "        (tdnn1): TDNNBlock(\n",
       "          (conv): Conv1d(\n",
       "            (conv): Conv1d(1024, 1024, kernel_size=(1,), stride=(1,))\n",
       "          )\n",
       "          (activation): ReLU()\n",
       "          (norm): BatchNorm1d(\n",
       "            (norm): BatchNorm1d(1024, eps=1e-05, momentum=0.1, affine=True, track_running_stats=True)\n",
       "          )\n",
       "        )\n",
       "        (res2net_block): Res2NetBlock(\n",
       "          (blocks): ModuleList(\n",
       "            (0-6): 7 x TDNNBlock(\n",
       "              (conv): Conv1d(\n",
       "                (conv): Conv1d(128, 128, kernel_size=(3,), stride=(1,), dilation=(2,))\n",
       "              )\n",
       "              (activation): ReLU()\n",
       "              (norm): BatchNorm1d(\n",
       "                (norm): BatchNorm1d(128, eps=1e-05, momentum=0.1, affine=True, track_running_stats=True)\n",
       "              )\n",
       "            )\n",
       "          )\n",
       "        )\n",
       "        (tdnn2): TDNNBlock(\n",
       "          (conv): Conv1d(\n",
       "            (conv): Conv1d(1024, 1024, kernel_size=(1,), stride=(1,))\n",
       "          )\n",
       "          (activation): ReLU()\n",
       "          (norm): BatchNorm1d(\n",
       "            (norm): BatchNorm1d(1024, eps=1e-05, momentum=0.1, affine=True, track_running_stats=True)\n",
       "          )\n",
       "        )\n",
       "        (se_block): SEBlock(\n",
       "          (conv1): Conv1d(\n",
       "            (conv): Conv1d(1024, 128, kernel_size=(1,), stride=(1,))\n",
       "          )\n",
       "          (relu): ReLU(inplace=True)\n",
       "          (conv2): Conv1d(\n",
       "            (conv): Conv1d(128, 1024, kernel_size=(1,), stride=(1,))\n",
       "          )\n",
       "          (sigmoid): Sigmoid()\n",
       "        )\n",
       "      )\n",
       "      (2): SERes2NetBlock(\n",
       "        (tdnn1): TDNNBlock(\n",
       "          (conv): Conv1d(\n",
       "            (conv): Conv1d(1024, 1024, kernel_size=(1,), stride=(1,))\n",
       "          )\n",
       "          (activation): ReLU()\n",
       "          (norm): BatchNorm1d(\n",
       "            (norm): BatchNorm1d(1024, eps=1e-05, momentum=0.1, affine=True, track_running_stats=True)\n",
       "          )\n",
       "        )\n",
       "        (res2net_block): Res2NetBlock(\n",
       "          (blocks): ModuleList(\n",
       "            (0-6): 7 x TDNNBlock(\n",
       "              (conv): Conv1d(\n",
       "                (conv): Conv1d(128, 128, kernel_size=(3,), stride=(1,), dilation=(3,))\n",
       "              )\n",
       "              (activation): ReLU()\n",
       "              (norm): BatchNorm1d(\n",
       "                (norm): BatchNorm1d(128, eps=1e-05, momentum=0.1, affine=True, track_running_stats=True)\n",
       "              )\n",
       "            )\n",
       "          )\n",
       "        )\n",
       "        (tdnn2): TDNNBlock(\n",
       "          (conv): Conv1d(\n",
       "            (conv): Conv1d(1024, 1024, kernel_size=(1,), stride=(1,))\n",
       "          )\n",
       "          (activation): ReLU()\n",
       "          (norm): BatchNorm1d(\n",
       "            (norm): BatchNorm1d(1024, eps=1e-05, momentum=0.1, affine=True, track_running_stats=True)\n",
       "          )\n",
       "        )\n",
       "        (se_block): SEBlock(\n",
       "          (conv1): Conv1d(\n",
       "            (conv): Conv1d(1024, 128, kernel_size=(1,), stride=(1,))\n",
       "          )\n",
       "          (relu): ReLU(inplace=True)\n",
       "          (conv2): Conv1d(\n",
       "            (conv): Conv1d(128, 1024, kernel_size=(1,), stride=(1,))\n",
       "          )\n",
       "          (sigmoid): Sigmoid()\n",
       "        )\n",
       "      )\n",
       "      (3): SERes2NetBlock(\n",
       "        (tdnn1): TDNNBlock(\n",
       "          (conv): Conv1d(\n",
       "            (conv): Conv1d(1024, 1024, kernel_size=(1,), stride=(1,))\n",
       "          )\n",
       "          (activation): ReLU()\n",
       "          (norm): BatchNorm1d(\n",
       "            (norm): BatchNorm1d(1024, eps=1e-05, momentum=0.1, affine=True, track_running_stats=True)\n",
       "          )\n",
       "        )\n",
       "        (res2net_block): Res2NetBlock(\n",
       "          (blocks): ModuleList(\n",
       "            (0-6): 7 x TDNNBlock(\n",
       "              (conv): Conv1d(\n",
       "                (conv): Conv1d(128, 128, kernel_size=(3,), stride=(1,), dilation=(4,))\n",
       "              )\n",
       "              (activation): ReLU()\n",
       "              (norm): BatchNorm1d(\n",
       "                (norm): BatchNorm1d(128, eps=1e-05, momentum=0.1, affine=True, track_running_stats=True)\n",
       "              )\n",
       "            )\n",
       "          )\n",
       "        )\n",
       "        (tdnn2): TDNNBlock(\n",
       "          (conv): Conv1d(\n",
       "            (conv): Conv1d(1024, 1024, kernel_size=(1,), stride=(1,))\n",
       "          )\n",
       "          (activation): ReLU()\n",
       "          (norm): BatchNorm1d(\n",
       "            (norm): BatchNorm1d(1024, eps=1e-05, momentum=0.1, affine=True, track_running_stats=True)\n",
       "          )\n",
       "        )\n",
       "        (se_block): SEBlock(\n",
       "          (conv1): Conv1d(\n",
       "            (conv): Conv1d(1024, 128, kernel_size=(1,), stride=(1,))\n",
       "          )\n",
       "          (relu): ReLU(inplace=True)\n",
       "          (conv2): Conv1d(\n",
       "            (conv): Conv1d(128, 1024, kernel_size=(1,), stride=(1,))\n",
       "          )\n",
       "          (sigmoid): Sigmoid()\n",
       "        )\n",
       "      )\n",
       "    )\n",
       "    (mfa): TDNNBlock(\n",
       "      (conv): Conv1d(\n",
       "        (conv): Conv1d(3072, 3072, kernel_size=(1,), stride=(1,))\n",
       "      )\n",
       "      (activation): ReLU()\n",
       "      (norm): BatchNorm1d(\n",
       "        (norm): BatchNorm1d(3072, eps=1e-05, momentum=0.1, affine=True, track_running_stats=True)\n",
       "      )\n",
       "    )\n",
       "    (asp): AttentiveStatisticsPooling(\n",
       "      (tdnn): TDNNBlock(\n",
       "        (conv): Conv1d(\n",
       "          (conv): Conv1d(9216, 128, kernel_size=(1,), stride=(1,))\n",
       "        )\n",
       "        (activation): ReLU()\n",
       "        (norm): BatchNorm1d(\n",
       "          (norm): BatchNorm1d(128, eps=1e-05, momentum=0.1, affine=True, track_running_stats=True)\n",
       "        )\n",
       "      )\n",
       "      (tanh): Tanh()\n",
       "      (conv): Conv1d(\n",
       "        (conv): Conv1d(128, 3072, kernel_size=(1,), stride=(1,))\n",
       "      )\n",
       "    )\n",
       "    (asp_bn): BatchNorm1d(\n",
       "      (norm): BatchNorm1d(6144, eps=1e-05, momentum=0.1, affine=True, track_running_stats=True)\n",
       "    )\n",
       "    (fc): Conv1d(\n",
       "      (conv): Conv1d(6144, 192, kernel_size=(1,), stride=(1,))\n",
       "    )\n",
       "  )\n",
       ")"
      ]
     },
     "execution_count": 8,
     "metadata": {},
     "output_type": "execute_result"
    }
   ],
   "source": [
    "sv_pipeline.model "
   ]
  },
  {
   "cell_type": "code",
   "execution_count": null,
   "id": "5706a357-cc44-4f6b-bec8-1de266800781",
   "metadata": {
    "tags": []
   },
   "outputs": [],
   "source": [
    "from modelscope.pipelines import pipeline\n",
    "sv_pipeline = pipeline(\n",
    "    task='speaker-verification',\n",
    "    model='damo/speech_campplus_sv_zh-cn_16k-common',\n",
    "    model_revision='v1.0.0'\n",
    ")"
   ]
  },
  {
   "cell_type": "code",
   "execution_count": 3,
   "id": "9b778d68-ee7f-4e4f-963b-0f9fe8e21267",
   "metadata": {
    "tags": []
   },
   "outputs": [],
   "source": [
    "from tqdm import tqdm\n",
    "import h5py\n",
    "import torch\n",
    "import soundfile as sf\n",
    "from Eval.eval_metrics import evaluate_kaldi_eer, evaluate_kaldi_mindcf\n",
    "\n",
    "def read_hdf5(reader, key):\n",
    "    with h5py.File(reader, 'r') as r:\n",
    "        data_flat = r.get(key)[:]\n",
    "        return data_flat"
   ]
  },
  {
   "cell_type": "code",
   "execution_count": 4,
   "id": "5b9100d1-a09b-404f-989b-5e34c09285f9",
   "metadata": {
    "tags": []
   },
   "outputs": [
    {
     "name": "stderr",
     "output_type": "stream",
     "text": [
      "100%|███████| 14622/14622 [03:57<00:00, 61.67it/s]\n"
     ]
    }
   ],
   "source": [
    "test_subset = 'test_orgchn2dist3' # 'test_orgchn2dist1' 'test_orgchn2' # test_orgchn2band\n",
    "\n",
    "save_dir    = 'radio/data/ecapa/radiodist3_2/' #\n",
    "if not os.path.exists(save_dir):\n",
    "    os.makedirs(save_dir)\n",
    "        \n",
    "wav_scp     = '/home/yangwenhao/project/lstm_speaker_verification/data/vox1/%s/wav.scp'%(test_subset)\n",
    "\n",
    "uid2path = {}\n",
    "emb_file = save_dir + 'xvector.h5py'\n",
    "\n",
    "with  h5py.File(emb_file, 'w') as gf:\n",
    "    with open(wav_scp, 'r') as f:\n",
    "        for l in tqdm(f.readlines(), ncols=50):\n",
    "            uid, upath = l.split()\n",
    "            uid2path[uid] = upath\n",
    "            wav, sr = sf.read(upath)\n",
    "            if 'radchn2_dist1' in upath:\n",
    "                wav = wav + 0.072346\n",
    "\n",
    "            result = sv_pipeline(in_audios=[wav], output_emb=True)\n",
    "            emb    = result[1]\n",
    "\n",
    "            gf.create_dataset(uid, data=emb, compression=\"gzip\")"
   ]
  },
  {
   "cell_type": "code",
   "execution_count": 5,
   "id": "90021470-15c2-44dc-8945-3988e1dccd8e",
   "metadata": {
    "tags": []
   },
   "outputs": [],
   "source": [
    "dist_fn = torch.nn.CosineSimilarity()"
   ]
  },
  {
   "cell_type": "code",
   "execution_count": 6,
   "id": "c272d7e5-a646-48b2-ab41-11251b13714b",
   "metadata": {
    "tags": []
   },
   "outputs": [
    {
     "name": "stderr",
     "output_type": "stream",
     "text": [
      "100%|██████| 37720/37720 [00:50<00:00, 740.74it/s]\n"
     ]
    },
    {
     "name": "stdout",
     "output_type": "stream",
     "text": [
      "rdist3      :  EER(%): 6.18  MinDCF: 0.5804\n"
     ]
    },
    {
     "name": "stderr",
     "output_type": "stream",
     "text": [
      "100%|██████| 75440/75440 [01:45<00:00, 717.84it/s]\n"
     ]
    },
    {
     "name": "stdout",
     "output_type": "stream",
     "text": [
      "rdist3cross :  EER(%): 5.54  MinDCF: 0.4722\n"
     ]
    },
    {
     "name": "stderr",
     "output_type": "stream",
     "text": [
      "100%|██████| 75440/75440 [01:40<00:00, 748.85it/s]\n"
     ]
    },
    {
     "name": "stdout",
     "output_type": "stream",
     "text": [
      "radiodist3  :  EER(%): 5.41  MinDCF: 0.5143\n"
     ]
    }
   ],
   "source": [
    "# for subs in ['bandpass', 'bandcross', 'bandradio']:\n",
    "# for subs in ['original', 'radio', 'radiocross', 'bandpass', 'bandcross', 'bandradio']:\n",
    "# for subs in ['rdist1', 'rdist1cross', 'radiodist1']:\n",
    "for subs in ['rdist3', 'rdist3cross', 'radiodist3']:\n",
    "    \n",
    "    trials = '/home/yangwenhao/project/lstm_speaker_verification/data/vox1/%s/trials_%s'%(test_subset, subs)\n",
    "    distances = []\n",
    "    labels = []\n",
    "    with open(trials, 'r') as f:\n",
    "        for l in tqdm(f.readlines(), ncols=50):\n",
    "            a,b,target = l.split()\n",
    "            a = torch.tensor(read_hdf5(emb_file, a))\n",
    "            b = torch.tensor(read_hdf5(emb_file, b))\n",
    "            d = dist_fn(a, b)\n",
    "            distances.append(d[0])\n",
    "\n",
    "            if target == 'target':\n",
    "                labels.append(True)\n",
    "            else:\n",
    "                labels.append(False)\n",
    "\n",
    "    eer, eer_threshold, accuracy = evaluate_kaldi_eer(\n",
    "            distances, labels, cos=True, re_thre=True)\n",
    "    mindcf_01, mindcf_001 = evaluate_kaldi_mindcf(distances, labels)\n",
    "\n",
    "    print('{:<12s}:  EER(%): {:.2f}  MinDCF: {:.4f}'.format(subs, eer*100, mindcf_01))\n",
    "    \n",
    "# cam_pp vox2\n",
    "# original    :  EER(%): 0.89  MinDCF: 0.0938\n",
    "# radio       :  EER(%): 2.35  MinDCF: 0.3141\n",
    "# radiocross  :  EER(%): 2.10  MinDCF: 0.2678\n",
    "\n",
    "# ECAPA-TDNN vox2\n",
    "# original    :  EER(%): 1.00  MinDCF: 0.1021\n",
    "# radio       :  EER(%): 2.70  MinDCF: 0.3496\n",
    "# radiocross  :  EER(%): 2.31  MinDCF: 0.3055\n",
    "# bandpass    :  EER(%): 3.05  MinDCF: 0.3696\n",
    "# bandcross   :  EER(%): 2.31  MinDCF: 0.3072\n",
    "# bandradio   :  EER(%): 3.36  MinDCF: 0.4165\n",
    "\n",
    "# dist_1 radio test\n",
    "# rdist1      :  EER(%): 5.20  MinDCF: 0.4724\n",
    "# rdist1cross :  EER(%): 4.35  MinDCF: 0.3779\n",
    "# radiodist1  :  EER(%): 4.44  MinDCF: 0.4451\n",
    "\n",
    "# dist_1 radio test wav_norm\n",
    "# rdist1      :  EER(%): 5.20  MinDCF: 0.4724\n",
    "# rdist1cross :  EER(%): 4.35  MinDCF: 0.3780\n",
    "# radiodist1  :  EER(%): 4.44  MinDCF: 0.4451\n",
    "\n",
    "# dist_1 radio test wav + const\n",
    "# rdist1      :  EER(%): 5.20  MinDCF: 0.4723\n",
    "# rdist1cross :  EER(%): 4.35  MinDCF: 0.3779\n",
    "# radiodist1  :  EER(%): 4.44  MinDCF: 0.4451\n",
    "\n",
    "# rdist3      :  EER(%): 6.18  MinDCF: 0.5804\n",
    "# rdist3cross :  EER(%): 5.54  MinDCF: 0.4722\n",
    "# radiodist3  :  EER(%): 5.41  MinDCF: 0.5143\n",
    "\n",
    "# cam_pp 3d-zh\n",
    "# original    :  EER(%): 7.88  MinDCF: 0.6422\n",
    "# radio       :  EER(%): 21.27  MinDCF: 0.9945\n",
    "# radiocross  :  EER(%): 24.14  MinDCF: 0.9264\n",
    "# bandpass    :  EER(%): 17.62  MinDCF: 0.8550\n",
    "# bandcross   :  EER(%): 17.66  MinDCF: 0.9662\n",
    "# bandradio   :  EER(%): 26.63  MinDCF: 0.9773"
   ]
  },
  {
   "cell_type": "code",
   "execution_count": null,
   "id": "4ba48fe4-8c70-4ce3-b96c-483ca046ec22",
   "metadata": {},
   "outputs": [],
   "source": []
  }
 ],
 "metadata": {
  "kernelspec": {
   "display_name": "model",
   "language": "python",
   "name": "model"
  },
  "language_info": {
   "codemirror_mode": {
    "name": "ipython",
    "version": 3
   },
   "file_extension": ".py",
   "mimetype": "text/x-python",
   "name": "python",
   "nbconvert_exporter": "python",
   "pygments_lexer": "ipython3",
   "version": "3.8.17"
  }
 },
 "nbformat": 4,
 "nbformat_minor": 5
}
