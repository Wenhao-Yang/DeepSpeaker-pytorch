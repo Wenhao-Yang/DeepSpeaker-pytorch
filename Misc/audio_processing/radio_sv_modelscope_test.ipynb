{
 "cells": [
  {
   "cell_type": "code",
   "execution_count": 1,
   "id": "2d608c13-f441-438c-9d63-5890f58f032d",
   "metadata": {
    "tags": []
   },
   "outputs": [
    {
     "name": "stderr",
     "output_type": "stream",
     "text": [
      "2023-10-08 19:38:29,594 - modelscope - INFO - PyTorch version 2.0.1 Found.\n",
      "2023-10-08 19:38:29,597 - modelscope - INFO - Loading ast index from /home/yangwenhao/.cache/modelscope/ast_indexer\n",
      "2023-10-08 19:38:29,706 - modelscope - INFO - Loading done! Current index file version is 1.9.0, with md5 2fd7920946625a585615c128019784ec and a total number of 921 components indexed\n",
      "/home/yangwenhao/anaconda3/envs/model/lib/python3.8/site-packages/tqdm/auto.py:21: TqdmWarning: IProgress not found. Please update jupyter and ipywidgets. See https://ipywidgets.readthedocs.io/en/stable/user_install.html\n",
      "  from .autonotebook import tqdm as notebook_tqdm\n"
     ]
    }
   ],
   "source": [
    "from modelscope.pipelines import pipeline\n",
    "from modelscope.utils.constant import Tasks\n",
    "import os\n",
    "import torch\n",
    "import time\n",
    "\n",
    "from tqdm import tqdm\n",
    "import h5py\n",
    "import torch\n",
    "import soundfile as sf\n",
    "from Eval.eval_metrics import evaluate_kaldi_eer, evaluate_kaldi_mindcf"
   ]
  },
  {
   "cell_type": "code",
   "execution_count": null,
   "id": "b29fef28-be32-4f9e-9763-66699202529e",
   "metadata": {},
   "outputs": [],
   "source": [
    "# cam_pp\n",
    "sv_pipeline = pipeline(\n",
    "    task=Tasks.speaker_verification,\n",
    "    model='damo/speech_campplus_sv_en_voxceleb_16k'\n",
    ")"
   ]
  },
  {
   "cell_type": "code",
   "execution_count": 2,
   "id": "72290a7b-e84b-4418-80b8-c3ab159cd8d5",
   "metadata": {
    "tags": []
   },
   "outputs": [
    {
     "name": "stderr",
     "output_type": "stream",
     "text": [
      "2023-10-08 19:38:31,454 - modelscope - INFO - Model revision not specified, use the latest revision: v1.0.1\n",
      "2023-10-08 19:38:31,771 - modelscope - INFO - initiate model from /home/yangwenhao/.cache/modelscope/hub/damo/speech_ecapa-tdnn_sv_en_voxceleb_16k\n",
      "2023-10-08 19:38:31,772 - modelscope - INFO - initiate model from location /home/yangwenhao/.cache/modelscope/hub/damo/speech_ecapa-tdnn_sv_en_voxceleb_16k.\n",
      "2023-10-08 19:38:31,774 - modelscope - INFO - initialize model from /home/yangwenhao/.cache/modelscope/hub/damo/speech_ecapa-tdnn_sv_en_voxceleb_16k\n"
     ]
    },
    {
     "name": "stdout",
     "output_type": "stream",
     "text": [
      "cuda:1\n"
     ]
    },
    {
     "name": "stderr",
     "output_type": "stream",
     "text": [
      "2023-10-08 19:38:33,838 - modelscope - WARNING - No preprocessor field found in cfg.\n",
      "2023-10-08 19:38:33,842 - modelscope - WARNING - No val key and type key found in preprocessor domain of configuration.json file.\n",
      "2023-10-08 19:38:33,843 - modelscope - WARNING - Cannot find available config to build preprocessor at mode inference, current config: {'model_dir': '/home/yangwenhao/.cache/modelscope/hub/damo/speech_ecapa-tdnn_sv_en_voxceleb_16k'}. trying to build by task and model information.\n",
      "2023-10-08 19:38:33,844 - modelscope - WARNING - No preprocessor key ('ecapa-tdnn-sv', 'speaker-verification') found in PREPROCESSOR_MAP, skip building preprocessor.\n"
     ]
    }
   ],
   "source": [
    "# ecapa-tdnn\n",
    "sv_pipeline = pipeline(\n",
    "    task='speaker-verification',\n",
    "    model='damo/speech_ecapa-tdnn_sv_en_voxceleb_16k',\n",
    "    device='cuda:1'\n",
    ")"
   ]
  },
  {
   "cell_type": "code",
   "execution_count": 6,
   "id": "80f16021-b09b-4a55-8d31-6da7a5fdbd8a",
   "metadata": {
    "tags": []
   },
   "outputs": [
    {
     "data": {
      "text/plain": [
       "ECAPA_TDNN(\n",
       "  (blocks): ModuleList(\n",
       "    (0): TDNNBlock(\n",
       "      (conv): Conv1d(\n",
       "        (conv): Conv1d(80, 1024, kernel_size=(5,), stride=(1,))\n",
       "      )\n",
       "      (activation): ReLU()\n",
       "      (norm): BatchNorm1d(\n",
       "        (norm): BatchNorm1d(1024, eps=1e-05, momentum=0.1, affine=True, track_running_stats=True)\n",
       "      )\n",
       "    )\n",
       "    (1): SERes2NetBlock(\n",
       "      (tdnn1): TDNNBlock(\n",
       "        (conv): Conv1d(\n",
       "          (conv): Conv1d(1024, 1024, kernel_size=(1,), stride=(1,))\n",
       "        )\n",
       "        (activation): ReLU()\n",
       "        (norm): BatchNorm1d(\n",
       "          (norm): BatchNorm1d(1024, eps=1e-05, momentum=0.1, affine=True, track_running_stats=True)\n",
       "        )\n",
       "      )\n",
       "      (res2net_block): Res2NetBlock(\n",
       "        (blocks): ModuleList(\n",
       "          (0-6): 7 x TDNNBlock(\n",
       "            (conv): Conv1d(\n",
       "              (conv): Conv1d(128, 128, kernel_size=(3,), stride=(1,), dilation=(2,))\n",
       "            )\n",
       "            (activation): ReLU()\n",
       "            (norm): BatchNorm1d(\n",
       "              (norm): BatchNorm1d(128, eps=1e-05, momentum=0.1, affine=True, track_running_stats=True)\n",
       "            )\n",
       "          )\n",
       "        )\n",
       "      )\n",
       "      (tdnn2): TDNNBlock(\n",
       "        (conv): Conv1d(\n",
       "          (conv): Conv1d(1024, 1024, kernel_size=(1,), stride=(1,))\n",
       "        )\n",
       "        (activation): ReLU()\n",
       "        (norm): BatchNorm1d(\n",
       "          (norm): BatchNorm1d(1024, eps=1e-05, momentum=0.1, affine=True, track_running_stats=True)\n",
       "        )\n",
       "      )\n",
       "      (se_block): SEBlock(\n",
       "        (conv1): Conv1d(\n",
       "          (conv): Conv1d(1024, 128, kernel_size=(1,), stride=(1,))\n",
       "        )\n",
       "        (relu): ReLU(inplace=True)\n",
       "        (conv2): Conv1d(\n",
       "          (conv): Conv1d(128, 1024, kernel_size=(1,), stride=(1,))\n",
       "        )\n",
       "        (sigmoid): Sigmoid()\n",
       "      )\n",
       "    )\n",
       "    (2): SERes2NetBlock(\n",
       "      (tdnn1): TDNNBlock(\n",
       "        (conv): Conv1d(\n",
       "          (conv): Conv1d(1024, 1024, kernel_size=(1,), stride=(1,))\n",
       "        )\n",
       "        (activation): ReLU()\n",
       "        (norm): BatchNorm1d(\n",
       "          (norm): BatchNorm1d(1024, eps=1e-05, momentum=0.1, affine=True, track_running_stats=True)\n",
       "        )\n",
       "      )\n",
       "      (res2net_block): Res2NetBlock(\n",
       "        (blocks): ModuleList(\n",
       "          (0-6): 7 x TDNNBlock(\n",
       "            (conv): Conv1d(\n",
       "              (conv): Conv1d(128, 128, kernel_size=(3,), stride=(1,), dilation=(3,))\n",
       "            )\n",
       "            (activation): ReLU()\n",
       "            (norm): BatchNorm1d(\n",
       "              (norm): BatchNorm1d(128, eps=1e-05, momentum=0.1, affine=True, track_running_stats=True)\n",
       "            )\n",
       "          )\n",
       "        )\n",
       "      )\n",
       "      (tdnn2): TDNNBlock(\n",
       "        (conv): Conv1d(\n",
       "          (conv): Conv1d(1024, 1024, kernel_size=(1,), stride=(1,))\n",
       "        )\n",
       "        (activation): ReLU()\n",
       "        (norm): BatchNorm1d(\n",
       "          (norm): BatchNorm1d(1024, eps=1e-05, momentum=0.1, affine=True, track_running_stats=True)\n",
       "        )\n",
       "      )\n",
       "      (se_block): SEBlock(\n",
       "        (conv1): Conv1d(\n",
       "          (conv): Conv1d(1024, 128, kernel_size=(1,), stride=(1,))\n",
       "        )\n",
       "        (relu): ReLU(inplace=True)\n",
       "        (conv2): Conv1d(\n",
       "          (conv): Conv1d(128, 1024, kernel_size=(1,), stride=(1,))\n",
       "        )\n",
       "        (sigmoid): Sigmoid()\n",
       "      )\n",
       "    )\n",
       "    (3): SERes2NetBlock(\n",
       "      (tdnn1): TDNNBlock(\n",
       "        (conv): Conv1d(\n",
       "          (conv): Conv1d(1024, 1024, kernel_size=(1,), stride=(1,))\n",
       "        )\n",
       "        (activation): ReLU()\n",
       "        (norm): BatchNorm1d(\n",
       "          (norm): BatchNorm1d(1024, eps=1e-05, momentum=0.1, affine=True, track_running_stats=True)\n",
       "        )\n",
       "      )\n",
       "      (res2net_block): Res2NetBlock(\n",
       "        (blocks): ModuleList(\n",
       "          (0-6): 7 x TDNNBlock(\n",
       "            (conv): Conv1d(\n",
       "              (conv): Conv1d(128, 128, kernel_size=(3,), stride=(1,), dilation=(4,))\n",
       "            )\n",
       "            (activation): ReLU()\n",
       "            (norm): BatchNorm1d(\n",
       "              (norm): BatchNorm1d(128, eps=1e-05, momentum=0.1, affine=True, track_running_stats=True)\n",
       "            )\n",
       "          )\n",
       "        )\n",
       "      )\n",
       "      (tdnn2): TDNNBlock(\n",
       "        (conv): Conv1d(\n",
       "          (conv): Conv1d(1024, 1024, kernel_size=(1,), stride=(1,))\n",
       "        )\n",
       "        (activation): ReLU()\n",
       "        (norm): BatchNorm1d(\n",
       "          (norm): BatchNorm1d(1024, eps=1e-05, momentum=0.1, affine=True, track_running_stats=True)\n",
       "        )\n",
       "      )\n",
       "      (se_block): SEBlock(\n",
       "        (conv1): Conv1d(\n",
       "          (conv): Conv1d(1024, 128, kernel_size=(1,), stride=(1,))\n",
       "        )\n",
       "        (relu): ReLU(inplace=True)\n",
       "        (conv2): Conv1d(\n",
       "          (conv): Conv1d(128, 1024, kernel_size=(1,), stride=(1,))\n",
       "        )\n",
       "        (sigmoid): Sigmoid()\n",
       "      )\n",
       "    )\n",
       "  )\n",
       "  (mfa): TDNNBlock(\n",
       "    (conv): Conv1d(\n",
       "      (conv): Conv1d(3072, 3072, kernel_size=(1,), stride=(1,))\n",
       "    )\n",
       "    (activation): ReLU()\n",
       "    (norm): BatchNorm1d(\n",
       "      (norm): BatchNorm1d(3072, eps=1e-05, momentum=0.1, affine=True, track_running_stats=True)\n",
       "    )\n",
       "  )\n",
       "  (asp): AttentiveStatisticsPooling(\n",
       "    (tdnn): TDNNBlock(\n",
       "      (conv): Conv1d(\n",
       "        (conv): Conv1d(9216, 128, kernel_size=(1,), stride=(1,))\n",
       "      )\n",
       "      (activation): ReLU()\n",
       "      (norm): BatchNorm1d(\n",
       "        (norm): BatchNorm1d(128, eps=1e-05, momentum=0.1, affine=True, track_running_stats=True)\n",
       "      )\n",
       "    )\n",
       "    (tanh): Tanh()\n",
       "    (conv): Conv1d(\n",
       "      (conv): Conv1d(128, 3072, kernel_size=(1,), stride=(1,))\n",
       "    )\n",
       "  )\n",
       "  (asp_bn): BatchNorm1d(\n",
       "    (norm): BatchNorm1d(6144, eps=1e-05, momentum=0.1, affine=True, track_running_stats=True)\n",
       "  )\n",
       "  (fc): Conv1d(\n",
       "    (conv): Conv1d(6144, 192, kernel_size=(1,), stride=(1,))\n",
       "  )\n",
       ")"
      ]
     },
     "execution_count": 6,
     "metadata": {},
     "output_type": "execute_result"
    }
   ],
   "source": [
    "sv_pipeline.model.embedding_model  "
   ]
  },
  {
   "cell_type": "code",
   "execution_count": null,
   "id": "5706a357-cc44-4f6b-bec8-1de266800781",
   "metadata": {
    "tags": []
   },
   "outputs": [],
   "source": [
    "from modelscope.pipelines import pipeline\n",
    "sv_pipeline = pipeline(\n",
    "    task='speaker-verification',\n",
    "    model='damo/speech_campplus_sv_zh-cn_16k-common',\n",
    "    model_revision='v1.0.0'\n",
    ")"
   ]
  },
  {
   "cell_type": "code",
   "execution_count": 3,
   "id": "9b778d68-ee7f-4e4f-963b-0f9fe8e21267",
   "metadata": {
    "tags": []
   },
   "outputs": [],
   "source": []
  },
  {
   "cell_type": "code",
   "execution_count": 4,
   "id": "5b9100d1-a09b-404f-989b-5e34c09285f9",
   "metadata": {
    "tags": []
   },
   "outputs": [
    {
     "name": "stderr",
     "output_type": "stream",
     "text": [
      "100%|███████| 14622/14622 [03:57<00:00, 61.67it/s]\n"
     ]
    }
   ],
   "source": [
    "test_subset = 'test_orgchn2dist3' # 'test_orgchn2dist1' 'test_orgchn2' # test_orgchn2band\n",
    "\n",
    "save_dir    = 'radio/data/ecapa/radiodist3_2/' #\n",
    "if not os.path.exists(save_dir):\n",
    "    os.makedirs(save_dir)\n",
    "        \n",
    "wav_scp     = '/home/yangwenhao/project/lstm_speaker_verification/data/vox1/%s/wav.scp'%(test_subset)\n",
    "\n",
    "uid2path = {}\n",
    "emb_file = save_dir + 'xvector.h5py'\n",
    "\n",
    "with  h5py.File(emb_file, 'w') as gf:\n",
    "    with open(wav_scp, 'r') as f:\n",
    "        for l in tqdm(f.readlines(), ncols=50):\n",
    "            uid, upath = l.split()\n",
    "            uid2path[uid] = upath\n",
    "            wav, sr = sf.read(upath)\n",
    "            if 'radchn2_dist1' in upath:\n",
    "                wav = wav + 0.072346\n",
    "\n",
    "            result = sv_pipeline(in_audios=[wav], output_emb=True)\n",
    "            emb    = result[1]\n",
    "\n",
    "            gf.create_dataset(uid, data=emb, compression=\"gzip\")"
   ]
  },
  {
   "cell_type": "code",
   "execution_count": 38,
   "id": "90021470-15c2-44dc-8945-3988e1dccd8e",
   "metadata": {
    "tags": []
   },
   "outputs": [],
   "source": [
    "dist_fn = torch.nn.CosineSimilarity()"
   ]
  },
  {
   "cell_type": "code",
   "execution_count": 6,
   "id": "c272d7e5-a646-48b2-ab41-11251b13714b",
   "metadata": {
    "tags": []
   },
   "outputs": [
    {
     "name": "stderr",
     "output_type": "stream",
     "text": [
      "100%|██████| 37720/37720 [00:50<00:00, 740.74it/s]\n"
     ]
    },
    {
     "name": "stdout",
     "output_type": "stream",
     "text": [
      "rdist3      :  EER(%): 6.18  MinDCF: 0.5804\n"
     ]
    },
    {
     "name": "stderr",
     "output_type": "stream",
     "text": [
      "100%|██████| 75440/75440 [01:45<00:00, 717.84it/s]\n"
     ]
    },
    {
     "name": "stdout",
     "output_type": "stream",
     "text": [
      "rdist3cross :  EER(%): 5.54  MinDCF: 0.4722\n"
     ]
    },
    {
     "name": "stderr",
     "output_type": "stream",
     "text": [
      "100%|██████| 75440/75440 [01:40<00:00, 748.85it/s]\n"
     ]
    },
    {
     "name": "stdout",
     "output_type": "stream",
     "text": [
      "radiodist3  :  EER(%): 5.41  MinDCF: 0.5143\n"
     ]
    }
   ],
   "source": [
    "# for subs in ['bandpass', 'bandcross', 'bandradio']:\n",
    "# for subs in ['original', 'radio', 'radiocross', 'bandpass', 'bandcross', 'bandradio']:\n",
    "# for subs in ['rdist1', 'rdist1cross', 'radiodist1']:\n",
    "for subs in ['rdist3', 'rdist3cross', 'radiodist3']:\n",
    "    \n",
    "    trials = '/home/yangwenhao/project/lstm_speaker_verification/data/vox1/%s/trials_%s'%(test_subset, subs)\n",
    "    distances = []\n",
    "    labels = []\n",
    "    with open(trials, 'r') as f:\n",
    "        for l in tqdm(f.readlines(), ncols=50):\n",
    "            a,b,target = l.split()\n",
    "            a = torch.tensor(read_hdf5(emb_file, a))\n",
    "            b = torch.tensor(read_hdf5(emb_file, b))\n",
    "            d = dist_fn(a, b)\n",
    "            distances.append(d[0])\n",
    "\n",
    "            if target == 'target':\n",
    "                labels.append(True)\n",
    "            else:\n",
    "                labels.append(False)\n",
    "\n",
    "    eer, eer_threshold, accuracy = evaluate_kaldi_eer(\n",
    "            distances, labels, cos=True, re_thre=True)\n",
    "    mindcf_01, mindcf_001 = evaluate_kaldi_mindcf(distances, labels)\n",
    "\n",
    "    print('{:<12s}:  EER(%): {:.2f}  MinDCF: {:.4f}'.format(subs, eer*100, mindcf_01))\n",
    "    \n",
    "# cam_pp vox2\n",
    "# original    :  EER(%): 0.89  MinDCF: 0.0938\n",
    "# radio       :  EER(%): 2.35  MinDCF: 0.3141\n",
    "# radiocross  :  EER(%): 2.10  MinDCF: 0.2678\n",
    "\n",
    "# ECAPA-TDNN vox2\n",
    "# original    :  EER(%): 1.00  MinDCF: 0.1021\n",
    "# radio       :  EER(%): 2.70  MinDCF: 0.3496\n",
    "# radiocross  :  EER(%): 2.31  MinDCF: 0.3055\n",
    "# bandpass    :  EER(%): 3.05  MinDCF: 0.3696\n",
    "# bandcross   :  EER(%): 2.31  MinDCF: 0.3072\n",
    "# bandradio   :  EER(%): 3.36  MinDCF: 0.4165\n",
    "\n",
    "# dist_1 radio test\n",
    "# rdist1      :  EER(%): 5.20  MinDCF: 0.4724\n",
    "# rdist1cross :  EER(%): 4.35  MinDCF: 0.3779\n",
    "# radiodist1  :  EER(%): 4.44  MinDCF: 0.4451\n",
    "\n",
    "# dist_1 radio test wav_norm\n",
    "# rdist1      :  EER(%): 5.20  MinDCF: 0.4724\n",
    "# rdist1cross :  EER(%): 4.35  MinDCF: 0.3780\n",
    "# radiodist1  :  EER(%): 4.44  MinDCF: 0.4451\n",
    "\n",
    "# dist_1 radio test wav + const\n",
    "# rdist1      :  EER(%): 5.20  MinDCF: 0.4723\n",
    "# rdist1cross :  EER(%): 4.35  MinDCF: 0.3779\n",
    "# radiodist1  :  EER(%): 4.44  MinDCF: 0.4451\n",
    "\n",
    "# rdist3      :  EER(%): 6.18  MinDCF: 0.5804\n",
    "# rdist3cross :  EER(%): 5.54  MinDCF: 0.4722\n",
    "# radiodist3  :  EER(%): 5.41  MinDCF: 0.5143\n",
    "\n",
    "# cam_pp 3d-zh\n",
    "# original    :  EER(%): 7.88  MinDCF: 0.6422\n",
    "# radio       :  EER(%): 21.27  MinDCF: 0.9945\n",
    "# radiocross  :  EER(%): 24.14  MinDCF: 0.9264\n",
    "# bandpass    :  EER(%): 17.62  MinDCF: 0.8550\n",
    "# bandcross   :  EER(%): 17.66  MinDCF: 0.9662\n",
    "# bandradio   :  EER(%): 26.63  MinDCF: 0.9773"
   ]
  },
  {
   "cell_type": "markdown",
   "id": "a8b919fa-9d32-4f9a-92d9-57d48eba715d",
   "metadata": {},
   "source": [
    "### Mask test in Pre-trained Models"
   ]
  },
  {
   "cell_type": "code",
   "execution_count": 3,
   "id": "c2171f64-ab04-42b7-bcbe-cc61cf743573",
   "metadata": {
    "tags": []
   },
   "outputs": [],
   "source": [
    "from Define_Model.FilterLayer import FreqMaskIndexLayer\n",
    "import h5py\n",
    "from tqdm import tqdm\n",
    "import soundfile as sf\n",
    "from Misc.analysis import read_hdf5"
   ]
  },
  {
   "cell_type": "code",
   "execution_count": 7,
   "id": "a5892b33-e614-4994-b210-2c138d145f49",
   "metadata": {
    "tags": []
   },
   "outputs": [],
   "source": [
    "import torchaudio.compliance.kaldi as Kaldi\n",
    "\n",
    "def extract_feature(audio):\n",
    "    features = []\n",
    "    for au in audio:\n",
    "        feature = Kaldi.fbank(\n",
    "            au.unsqueeze(0), num_mel_bins=80)\n",
    "        feature = feature - feature.mean(dim=0, keepdim=True)\n",
    "        features.append(feature.unsqueeze(0))\n",
    "    features = torch.cat(features)\n",
    "    return features"
   ]
  },
  {
   "cell_type": "code",
   "execution_count": 8,
   "id": "f430ee3e-87db-4378-b186-b84126b9ad4f",
   "metadata": {
    "tags": []
   },
   "outputs": [
    {
     "name": "stderr",
     "output_type": "stream",
     "text": [
      "100%|█████████| 4214/4214 [00:51<00:00, 81.37it/s]\n"
     ]
    },
    {
     "name": "stdout",
     "output_type": "stream",
     "text": [
      "| dev_spk40-0             |         0.9759  |        0.3785  |          0.1138  |          0.1788  |   20231008 19:49:08  |\n"
     ]
    },
    {
     "name": "stderr",
     "output_type": "stream",
     "text": [
      "100%|█████████| 4214/4214 [00:51<00:00, 82.31it/s]\n"
     ]
    },
    {
     "name": "stdout",
     "output_type": "stream",
     "text": [
      "| dev_spk40-1             |         0.9847  |        0.3782  |          0.1147  |          0.1852  |   20231008 19:57:37  |\n"
     ]
    },
    {
     "name": "stderr",
     "output_type": "stream",
     "text": [
      "100%|█████████| 4214/4214 [00:51<00:00, 82.57it/s]\n"
     ]
    },
    {
     "name": "stdout",
     "output_type": "stream",
     "text": [
      "| dev_spk40-2             |         0.9935  |        0.3781  |          0.1179  |          0.1839  |   20231008 20:06:05  |\n"
     ]
    },
    {
     "name": "stderr",
     "output_type": "stream",
     "text": [
      "100%|█████████| 4214/4214 [00:51<00:00, 81.29it/s]\n"
     ]
    },
    {
     "name": "stdout",
     "output_type": "stream",
     "text": [
      "| dev_spk40-3             |         1.0022  |        0.3802  |          0.1163  |          0.1826  |   20231008 20:14:35  |\n"
     ]
    },
    {
     "name": "stderr",
     "output_type": "stream",
     "text": [
      "100%|█████████| 4214/4214 [00:51<00:00, 82.09it/s]\n"
     ]
    },
    {
     "name": "stdout",
     "output_type": "stream",
     "text": [
      "| dev_spk40-4             |         1.0022  |        0.3814  |          0.1173  |          0.1869  |   20231008 20:23:02  |\n"
     ]
    },
    {
     "name": "stderr",
     "output_type": "stream",
     "text": [
      "100%|█████████| 4214/4214 [00:52<00:00, 80.77it/s]\n"
     ]
    },
    {
     "name": "stdout",
     "output_type": "stream",
     "text": [
      "| dev_spk40-5             |         1.0374  |        0.3812  |          0.1205  |          0.1957  |   20231008 20:31:32  |\n"
     ]
    },
    {
     "name": "stderr",
     "output_type": "stream",
     "text": [
      "100%|█████████| 4214/4214 [00:52<00:00, 80.44it/s]\n"
     ]
    },
    {
     "name": "stdout",
     "output_type": "stream",
     "text": [
      "| dev_spk40-6             |         1.1429  |        0.3797  |          0.1232  |          0.1906  |   20231008 20:40:07  |\n"
     ]
    },
    {
     "name": "stderr",
     "output_type": "stream",
     "text": [
      "100%|█████████| 4214/4214 [00:51<00:00, 81.79it/s]\n"
     ]
    },
    {
     "name": "stdout",
     "output_type": "stream",
     "text": [
      "| dev_spk40-7             |         1.0814  |        0.3816  |          0.1184  |          0.1718  |   20231008 20:48:31  |\n"
     ]
    },
    {
     "name": "stderr",
     "output_type": "stream",
     "text": [
      "100%|█████████| 4214/4214 [00:53<00:00, 79.19it/s]\n"
     ]
    },
    {
     "name": "stdout",
     "output_type": "stream",
     "text": [
      "| dev_spk40-8             |         1.0198  |        0.3811  |          0.1169  |          0.1875  |   20231008 20:56:57  |\n"
     ]
    },
    {
     "name": "stderr",
     "output_type": "stream",
     "text": [
      "100%|█████████| 4214/4214 [00:53<00:00, 79.02it/s]\n"
     ]
    },
    {
     "name": "stdout",
     "output_type": "stream",
     "text": [
      "| dev_spk40-9             |         1.0022  |        0.3806  |          0.1156  |          0.1927  |   20231008 21:05:26  |\n"
     ]
    },
    {
     "name": "stderr",
     "output_type": "stream",
     "text": [
      "100%|█████████| 4214/4214 [00:52<00:00, 79.72it/s]\n"
     ]
    },
    {
     "name": "stdout",
     "output_type": "stream",
     "text": [
      "| dev_spk40-10            |         1.0198  |        0.3752  |          0.1197  |          0.1890  |   20231008 21:14:07  |\n"
     ]
    },
    {
     "name": "stderr",
     "output_type": "stream",
     "text": [
      "100%|█████████| 4214/4214 [00:53<00:00, 78.17it/s]\n"
     ]
    },
    {
     "name": "stdout",
     "output_type": "stream",
     "text": [
      "| dev_spk40-11            |         1.0550  |        0.3756  |          0.1175  |          0.1842  |   20231008 21:22:49  |\n"
     ]
    },
    {
     "name": "stderr",
     "output_type": "stream",
     "text": [
      "100%|█████████| 4214/4214 [00:51<00:00, 82.28it/s]\n"
     ]
    },
    {
     "name": "stdout",
     "output_type": "stream",
     "text": [
      "| dev_spk40-12            |         1.0374  |        0.3752  |          0.1147  |          0.1683  |   20231008 21:31:15  |\n"
     ]
    },
    {
     "name": "stderr",
     "output_type": "stream",
     "text": [
      "100%|█████████| 4214/4214 [00:51<00:00, 82.62it/s]\n"
     ]
    },
    {
     "name": "stdout",
     "output_type": "stream",
     "text": [
      "| dev_spk40-13            |         1.0110  |        0.3752  |          0.1082  |          0.1851  |   20231008 21:39:40  |\n"
     ]
    },
    {
     "name": "stderr",
     "output_type": "stream",
     "text": [
      "100%|█████████| 4214/4214 [00:51<00:00, 82.61it/s]\n"
     ]
    },
    {
     "name": "stdout",
     "output_type": "stream",
     "text": [
      "| dev_spk40-14            |         1.0374  |        0.3753  |          0.1129  |          0.1753  |   20231008 21:48:03  |\n"
     ]
    },
    {
     "name": "stderr",
     "output_type": "stream",
     "text": [
      "100%|█████████| 4214/4214 [00:51<00:00, 82.05it/s]\n"
     ]
    },
    {
     "name": "stdout",
     "output_type": "stream",
     "text": [
      "| dev_spk40-15            |         1.0374  |        0.3776  |          0.1188  |          0.1782  |   20231008 21:56:28  |\n"
     ]
    },
    {
     "name": "stderr",
     "output_type": "stream",
     "text": [
      "100%|█████████| 4214/4214 [00:50<00:00, 82.87it/s]\n"
     ]
    },
    {
     "name": "stdout",
     "output_type": "stream",
     "text": [
      "| dev_spk40-16            |         1.0374  |        0.3780  |          0.1206  |          0.1667  |   20231008 22:04:50  |\n"
     ]
    },
    {
     "name": "stderr",
     "output_type": "stream",
     "text": [
      "100%|█████████| 4214/4214 [00:51<00:00, 82.28it/s]\n"
     ]
    },
    {
     "name": "stdout",
     "output_type": "stream",
     "text": [
      "| dev_spk40-17            |         1.0374  |        0.3792  |          0.1204  |          0.1889  |   20231008 22:13:14  |\n"
     ]
    },
    {
     "name": "stderr",
     "output_type": "stream",
     "text": [
      "100%|█████████| 4214/4214 [00:50<00:00, 82.64it/s]\n"
     ]
    },
    {
     "name": "stdout",
     "output_type": "stream",
     "text": [
      "| dev_spk40-18            |         1.0550  |        0.3794  |          0.1209  |          0.1910  |   20231008 22:21:41  |\n"
     ]
    },
    {
     "name": "stderr",
     "output_type": "stream",
     "text": [
      "100%|█████████| 4214/4214 [00:50<00:00, 83.00it/s]\n"
     ]
    },
    {
     "name": "stdout",
     "output_type": "stream",
     "text": [
      "| dev_spk40-19            |         1.0462  |        0.3785  |          0.1170  |          0.1944  |   20231008 22:30:04  |\n"
     ]
    },
    {
     "name": "stderr",
     "output_type": "stream",
     "text": [
      "100%|█████████| 4214/4214 [00:50<00:00, 82.71it/s]\n"
     ]
    },
    {
     "name": "stdout",
     "output_type": "stream",
     "text": [
      "| dev_spk40-20            |         1.0110  |        0.3827  |          0.1145  |          0.1908  |   20231008 22:38:24  |\n"
     ]
    },
    {
     "name": "stderr",
     "output_type": "stream",
     "text": [
      "100%|█████████| 4214/4214 [00:50<00:00, 82.90it/s]\n"
     ]
    },
    {
     "name": "stdout",
     "output_type": "stream",
     "text": [
      "| dev_spk40-21            |         1.0286  |        0.3866  |          0.1130  |          0.1881  |   20231008 22:46:52  |\n"
     ]
    },
    {
     "name": "stderr",
     "output_type": "stream",
     "text": [
      "100%|█████████| 4214/4214 [00:53<00:00, 78.19it/s]\n"
     ]
    },
    {
     "name": "stdout",
     "output_type": "stream",
     "text": [
      "| dev_spk40-22            |         1.0550  |        0.3841  |          0.1200  |          0.1810  |   20231008 22:55:26  |\n"
     ]
    },
    {
     "name": "stderr",
     "output_type": "stream",
     "text": [
      "100%|█████████| 4214/4214 [00:52<00:00, 80.10it/s]\n"
     ]
    },
    {
     "name": "stdout",
     "output_type": "stream",
     "text": [
      "| dev_spk40-23            |         1.0726  |        0.3827  |          0.1181  |          0.1797  |   20231008 23:03:59  |\n"
     ]
    },
    {
     "name": "stderr",
     "output_type": "stream",
     "text": [
      "100%|█████████| 4214/4214 [00:53<00:00, 78.20it/s]\n"
     ]
    },
    {
     "name": "stdout",
     "output_type": "stream",
     "text": [
      "| dev_spk40-24            |         1.0462  |        0.3791  |          0.1189  |          0.1839  |   20231008 23:12:35  |\n"
     ]
    },
    {
     "name": "stderr",
     "output_type": "stream",
     "text": [
      "100%|█████████| 4214/4214 [00:53<00:00, 79.07it/s]\n"
     ]
    },
    {
     "name": "stdout",
     "output_type": "stream",
     "text": [
      "| dev_spk40-25            |         1.0550  |        0.3770  |          0.1206  |          0.1903  |   20231008 23:21:10  |\n"
     ]
    },
    {
     "name": "stderr",
     "output_type": "stream",
     "text": [
      "100%|█████████| 4214/4214 [00:50<00:00, 83.91it/s]\n"
     ]
    },
    {
     "name": "stdout",
     "output_type": "stream",
     "text": [
      "| dev_spk40-26            |         1.0374  |        0.3745  |          0.1217  |          0.2029  |   20231008 23:29:36  |\n"
     ]
    },
    {
     "name": "stderr",
     "output_type": "stream",
     "text": [
      "100%|█████████| 4214/4214 [00:50<00:00, 83.20it/s]\n"
     ]
    },
    {
     "name": "stdout",
     "output_type": "stream",
     "text": [
      "| dev_spk40-27            |         1.0022  |        0.3762  |          0.1218  |          0.2170  |   20231008 23:38:12  |\n"
     ]
    },
    {
     "name": "stderr",
     "output_type": "stream",
     "text": [
      "100%|█████████| 4214/4214 [00:50<00:00, 83.26it/s]\n"
     ]
    },
    {
     "name": "stdout",
     "output_type": "stream",
     "text": [
      "| dev_spk40-28            |         0.9759  |        0.3780  |          0.1180  |          0.1958  |   20231008 23:46:37  |\n"
     ]
    },
    {
     "name": "stderr",
     "output_type": "stream",
     "text": [
      "100%|█████████| 4214/4214 [00:51<00:00, 82.00it/s]\n"
     ]
    },
    {
     "name": "stdout",
     "output_type": "stream",
     "text": [
      "| dev_spk40-29            |         0.9759  |        0.3783  |          0.1176  |          0.1899  |   20231008 23:55:01  |\n"
     ]
    },
    {
     "name": "stderr",
     "output_type": "stream",
     "text": [
      "100%|█████████| 4214/4214 [00:50<00:00, 82.81it/s]\n"
     ]
    },
    {
     "name": "stdout",
     "output_type": "stream",
     "text": [
      "| dev_spk40-30            |         0.9583  |        0.3793  |          0.1122  |          0.1896  |   20231009 00:03:25  |\n"
     ]
    },
    {
     "name": "stderr",
     "output_type": "stream",
     "text": [
      "100%|█████████| 4214/4214 [00:50<00:00, 83.05it/s]\n"
     ]
    },
    {
     "name": "stdout",
     "output_type": "stream",
     "text": [
      "| dev_spk40-31            |         0.9759  |        0.3796  |          0.1114  |          0.1868  |   20231009 00:11:47  |\n"
     ]
    },
    {
     "name": "stderr",
     "output_type": "stream",
     "text": [
      "100%|█████████| 4214/4214 [00:51<00:00, 82.11it/s]\n"
     ]
    },
    {
     "name": "stdout",
     "output_type": "stream",
     "text": [
      "| dev_spk40-32            |         1.0374  |        0.3790  |          0.1141  |          0.1846  |   20231009 00:20:12  |\n"
     ]
    },
    {
     "name": "stderr",
     "output_type": "stream",
     "text": [
      "100%|█████████| 4214/4214 [00:51<00:00, 81.96it/s]\n"
     ]
    },
    {
     "name": "stdout",
     "output_type": "stream",
     "text": [
      "| dev_spk40-33            |         1.0374  |        0.3800  |          0.1161  |          0.1900  |   20231009 00:28:37  |\n"
     ]
    },
    {
     "name": "stderr",
     "output_type": "stream",
     "text": [
      "100%|█████████| 4214/4214 [00:52<00:00, 80.86it/s]\n"
     ]
    },
    {
     "name": "stdout",
     "output_type": "stream",
     "text": [
      "| dev_spk40-34            |         1.0110  |        0.3795  |          0.1139  |          0.1897  |   20231009 00:37:07  |\n"
     ]
    },
    {
     "name": "stderr",
     "output_type": "stream",
     "text": [
      "100%|█████████| 4214/4214 [00:50<00:00, 82.69it/s]\n"
     ]
    },
    {
     "name": "stdout",
     "output_type": "stream",
     "text": [
      "| dev_spk40-35            |         0.9847  |        0.3819  |          0.1106  |          0.1974  |   20231009 00:45:39  |\n"
     ]
    },
    {
     "name": "stderr",
     "output_type": "stream",
     "text": [
      "100%|█████████| 4214/4214 [00:53<00:00, 78.45it/s]\n"
     ]
    },
    {
     "name": "stdout",
     "output_type": "stream",
     "text": [
      "| dev_spk40-36            |         0.9759  |        0.3803  |          0.1111  |          0.1775  |   20231009 00:54:19  |\n"
     ]
    },
    {
     "name": "stderr",
     "output_type": "stream",
     "text": [
      "100%|█████████| 4214/4214 [00:52<00:00, 80.31it/s]\n"
     ]
    },
    {
     "name": "stdout",
     "output_type": "stream",
     "text": [
      "| dev_spk40-37            |         1.0110  |        0.3783  |          0.1136  |          0.1683  |   20231009 01:02:58  |\n"
     ]
    },
    {
     "name": "stderr",
     "output_type": "stream",
     "text": [
      "100%|█████████| 4214/4214 [00:52<00:00, 80.26it/s]\n"
     ]
    },
    {
     "name": "stdout",
     "output_type": "stream",
     "text": [
      "| dev_spk40-38            |         1.0374  |        0.3786  |          0.1192  |          0.1861  |   20231009 01:11:31  |\n"
     ]
    },
    {
     "name": "stderr",
     "output_type": "stream",
     "text": [
      "100%|█████████| 4214/4214 [00:52<00:00, 80.60it/s]\n"
     ]
    },
    {
     "name": "stdout",
     "output_type": "stream",
     "text": [
      "| dev_spk40-39            |         1.0022  |        0.3796  |          0.1207  |          0.2011  |   20231009 01:20:00  |\n"
     ]
    },
    {
     "name": "stderr",
     "output_type": "stream",
     "text": [
      "100%|█████████| 4214/4214 [00:50<00:00, 82.65it/s]\n"
     ]
    },
    {
     "name": "stdout",
     "output_type": "stream",
     "text": [
      "| dev_spk40-40            |         0.9935  |        0.3796  |          0.1219  |          0.2052  |   20231009 01:28:31  |\n"
     ]
    },
    {
     "name": "stderr",
     "output_type": "stream",
     "text": [
      "100%|█████████| 4214/4214 [00:51<00:00, 82.21it/s]\n"
     ]
    },
    {
     "name": "stdout",
     "output_type": "stream",
     "text": [
      "| dev_spk40-41            |         1.0022  |        0.3777  |          0.1202  |          0.1945  |   20231009 01:37:02  |\n"
     ]
    },
    {
     "name": "stderr",
     "output_type": "stream",
     "text": [
      "100%|█████████| 4214/4214 [00:51<00:00, 82.15it/s]\n"
     ]
    },
    {
     "name": "stdout",
     "output_type": "stream",
     "text": [
      "| dev_spk40-42            |         1.0198  |        0.3755  |          0.1184  |          0.1937  |   20231009 01:45:29  |\n"
     ]
    },
    {
     "name": "stderr",
     "output_type": "stream",
     "text": [
      "100%|█████████| 4214/4214 [00:51<00:00, 81.79it/s]\n"
     ]
    },
    {
     "name": "stdout",
     "output_type": "stream",
     "text": [
      "| dev_spk40-43            |         1.0462  |        0.3754  |          0.1213  |          0.1883  |   20231009 01:53:57  |\n"
     ]
    },
    {
     "name": "stderr",
     "output_type": "stream",
     "text": [
      "100%|█████████| 4214/4214 [00:50<00:00, 82.86it/s]\n"
     ]
    },
    {
     "name": "stdout",
     "output_type": "stream",
     "text": [
      "| dev_spk40-44            |         1.0286  |        0.3782  |          0.1206  |          0.1898  |   20231009 02:02:20  |\n"
     ]
    },
    {
     "name": "stderr",
     "output_type": "stream",
     "text": [
      "100%|█████████| 4214/4214 [00:51<00:00, 81.76it/s]\n"
     ]
    },
    {
     "name": "stdout",
     "output_type": "stream",
     "text": [
      "| dev_spk40-45            |         0.9935  |        0.3807  |          0.1133  |          0.1964  |   20231009 02:10:44  |\n"
     ]
    },
    {
     "name": "stderr",
     "output_type": "stream",
     "text": [
      "100%|█████████| 4214/4214 [00:51<00:00, 82.44it/s]\n"
     ]
    },
    {
     "name": "stdout",
     "output_type": "stream",
     "text": [
      "| dev_spk40-46            |         0.9671  |        0.3821  |          0.1082  |          0.2009  |   20231009 02:19:09  |\n"
     ]
    },
    {
     "name": "stderr",
     "output_type": "stream",
     "text": [
      "100%|█████████| 4214/4214 [00:50<00:00, 83.17it/s]\n"
     ]
    },
    {
     "name": "stdout",
     "output_type": "stream",
     "text": [
      "| dev_spk40-47            |         0.9935  |        0.3810  |          0.1119  |          0.1907  |   20231009 02:27:37  |\n"
     ]
    },
    {
     "name": "stderr",
     "output_type": "stream",
     "text": [
      "100%|█████████| 4214/4214 [00:51<00:00, 82.56it/s]\n"
     ]
    },
    {
     "name": "stdout",
     "output_type": "stream",
     "text": [
      "| dev_spk40-48            |         1.0374  |        0.3785  |          0.1190  |          0.1934  |   20231009 02:36:06  |\n"
     ]
    },
    {
     "name": "stderr",
     "output_type": "stream",
     "text": [
      "100%|█████████| 4214/4214 [00:50<00:00, 82.72it/s]\n"
     ]
    },
    {
     "name": "stdout",
     "output_type": "stream",
     "text": [
      "| dev_spk40-49            |         1.0902  |        0.3764  |          0.1267  |          0.1904  |   20231009 02:44:42  |\n"
     ]
    },
    {
     "name": "stderr",
     "output_type": "stream",
     "text": [
      "100%|█████████| 4214/4214 [00:53<00:00, 78.20it/s]\n"
     ]
    },
    {
     "name": "stdout",
     "output_type": "stream",
     "text": [
      "| dev_spk40-50            |         1.1165  |        0.3750  |          0.1198  |          0.1895  |   20231009 02:53:21  |\n"
     ]
    },
    {
     "name": "stderr",
     "output_type": "stream",
     "text": [
      "100%|█████████| 4214/4214 [00:52<00:00, 79.75it/s]\n"
     ]
    },
    {
     "name": "stdout",
     "output_type": "stream",
     "text": [
      "| dev_spk40-51            |         1.0814  |        0.3776  |          0.1149  |          0.1852  |   20231009 03:02:00  |\n"
     ]
    },
    {
     "name": "stderr",
     "output_type": "stream",
     "text": [
      "100%|█████████| 4214/4214 [00:52<00:00, 79.89it/s]\n"
     ]
    },
    {
     "name": "stdout",
     "output_type": "stream",
     "text": [
      "| dev_spk40-52            |         1.0726  |        0.3785  |          0.1130  |          0.1936  |   20231009 03:10:34  |\n"
     ]
    },
    {
     "name": "stderr",
     "output_type": "stream",
     "text": [
      "100%|█████████| 4214/4214 [00:52<00:00, 79.86it/s]\n"
     ]
    },
    {
     "name": "stdout",
     "output_type": "stream",
     "text": [
      "| dev_spk40-53            |         1.0902  |        0.3779  |          0.1200  |          0.1990  |   20231009 03:19:07  |\n"
     ]
    },
    {
     "name": "stderr",
     "output_type": "stream",
     "text": [
      "100%|█████████| 4214/4214 [00:50<00:00, 82.64it/s]\n"
     ]
    },
    {
     "name": "stdout",
     "output_type": "stream",
     "text": [
      "| dev_spk40-54            |         1.0990  |        0.3784  |          0.1235  |          0.1984  |   20231009 03:27:34  |\n"
     ]
    },
    {
     "name": "stderr",
     "output_type": "stream",
     "text": [
      "100%|█████████| 4214/4214 [00:50<00:00, 82.82it/s]\n"
     ]
    },
    {
     "name": "stdout",
     "output_type": "stream",
     "text": [
      "| dev_spk40-55            |         1.1429  |        0.3805  |          0.1277  |          0.2009  |   20231009 03:36:04  |\n"
     ]
    },
    {
     "name": "stderr",
     "output_type": "stream",
     "text": [
      "100%|█████████| 4214/4214 [00:51<00:00, 82.27it/s]\n"
     ]
    },
    {
     "name": "stdout",
     "output_type": "stream",
     "text": [
      "| dev_spk40-56            |         1.1165  |        0.3813  |          0.1206  |          0.1895  |   20231009 03:44:33  |\n"
     ]
    },
    {
     "name": "stderr",
     "output_type": "stream",
     "text": [
      "100%|█████████| 4214/4214 [00:50<00:00, 82.84it/s]\n"
     ]
    },
    {
     "name": "stdout",
     "output_type": "stream",
     "text": [
      "| dev_spk40-57            |         1.0814  |        0.3797  |          0.1190  |          0.1881  |   20231009 03:53:03  |\n"
     ]
    },
    {
     "name": "stderr",
     "output_type": "stream",
     "text": [
      "100%|█████████| 4214/4214 [00:51<00:00, 82.19it/s]\n"
     ]
    },
    {
     "name": "stdout",
     "output_type": "stream",
     "text": [
      "| dev_spk40-58            |         1.0462  |        0.3785  |          0.1135  |          0.1936  |   20231009 04:01:36  |\n"
     ]
    },
    {
     "name": "stderr",
     "output_type": "stream",
     "text": [
      "100%|█████████| 4214/4214 [00:50<00:00, 83.69it/s]\n"
     ]
    },
    {
     "name": "stdout",
     "output_type": "stream",
     "text": [
      "| dev_spk40-59            |         1.0374  |        0.3774  |          0.1141  |          0.2096  |   20231009 04:10:03  |\n"
     ]
    },
    {
     "name": "stderr",
     "output_type": "stream",
     "text": [
      "100%|█████████| 4214/4214 [00:51<00:00, 81.46it/s]\n"
     ]
    },
    {
     "name": "stdout",
     "output_type": "stream",
     "text": [
      "| dev_spk40-60            |         1.0550  |        0.3780  |          0.1198  |          0.2022  |   20231009 04:18:28  |\n"
     ]
    },
    {
     "name": "stderr",
     "output_type": "stream",
     "text": [
      "100%|█████████| 4214/4214 [00:50<00:00, 83.30it/s]\n"
     ]
    },
    {
     "name": "stdout",
     "output_type": "stream",
     "text": [
      "| dev_spk40-61            |         1.0990  |        0.3782  |          0.1272  |          0.2082  |   20231009 04:26:51  |\n"
     ]
    },
    {
     "name": "stderr",
     "output_type": "stream",
     "text": [
      "100%|█████████| 4214/4214 [00:50<00:00, 82.80it/s]\n"
     ]
    },
    {
     "name": "stdout",
     "output_type": "stream",
     "text": [
      "| dev_spk40-62            |         1.0902  |        0.3826  |          0.1282  |          0.2173  |   20231009 04:35:14  |\n"
     ]
    },
    {
     "name": "stderr",
     "output_type": "stream",
     "text": [
      "100%|█████████| 4214/4214 [00:50<00:00, 83.06it/s]\n"
     ]
    },
    {
     "name": "stdout",
     "output_type": "stream",
     "text": [
      "| dev_spk40-63            |         1.0814  |        0.3819  |          0.1275  |          0.2180  |   20231009 04:43:38  |\n"
     ]
    },
    {
     "name": "stderr",
     "output_type": "stream",
     "text": [
      "100%|█████████| 4214/4214 [00:52<00:00, 80.34it/s]\n"
     ]
    },
    {
     "name": "stdout",
     "output_type": "stream",
     "text": [
      "| dev_spk40-64            |         1.0814  |        0.3822  |          0.1453  |          0.2480  |   20231009 04:52:10  |\n"
     ]
    },
    {
     "name": "stderr",
     "output_type": "stream",
     "text": [
      "100%|█████████| 4214/4214 [00:52<00:00, 79.76it/s]\n"
     ]
    },
    {
     "name": "stdout",
     "output_type": "stream",
     "text": [
      "| dev_spk40-65            |         1.0902  |        0.3808  |          0.1485  |          0.2575  |   20231009 05:00:39  |\n"
     ]
    },
    {
     "name": "stderr",
     "output_type": "stream",
     "text": [
      "100%|█████████| 4214/4214 [00:52<00:00, 80.17it/s]\n"
     ]
    },
    {
     "name": "stdout",
     "output_type": "stream",
     "text": [
      "| dev_spk40-66            |         1.0638  |        0.3787  |          0.1418  |          0.2241  |   20231009 05:09:10  |\n"
     ]
    },
    {
     "name": "stderr",
     "output_type": "stream",
     "text": [
      "100%|█████████| 4214/4214 [00:52<00:00, 79.93it/s]\n"
     ]
    },
    {
     "name": "stdout",
     "output_type": "stream",
     "text": [
      "| dev_spk40-67            |         1.0462  |        0.3791  |          0.1275  |          0.2002  |   20231009 05:17:45  |\n"
     ]
    },
    {
     "name": "stderr",
     "output_type": "stream",
     "text": [
      "100%|█████████| 4214/4214 [00:50<00:00, 83.12it/s]\n"
     ]
    },
    {
     "name": "stdout",
     "output_type": "stream",
     "text": [
      "| dev_spk40-68            |         1.0374  |        0.3761  |          0.1210  |          0.1878  |   20231009 05:26:15  |\n"
     ]
    },
    {
     "name": "stderr",
     "output_type": "stream",
     "text": [
      "100%|█████████| 4214/4214 [00:51<00:00, 81.84it/s]\n"
     ]
    },
    {
     "name": "stdout",
     "output_type": "stream",
     "text": [
      "| dev_spk40-69            |         1.0462  |        0.3754  |          0.1188  |          0.1904  |   20231009 05:34:44  |\n"
     ]
    },
    {
     "name": "stderr",
     "output_type": "stream",
     "text": [
      "100%|█████████| 4214/4214 [00:51<00:00, 81.76it/s]\n"
     ]
    },
    {
     "name": "stdout",
     "output_type": "stream",
     "text": [
      "| dev_spk40-70            |         1.0462  |        0.3780  |          0.1161  |          0.1866  |   20231009 05:43:16  |\n"
     ]
    },
    {
     "name": "stderr",
     "output_type": "stream",
     "text": [
      "100%|█████████| 4214/4214 [00:51<00:00, 81.46it/s]\n"
     ]
    },
    {
     "name": "stdout",
     "output_type": "stream",
     "text": [
      "| dev_spk40-71            |         1.0550  |        0.3775  |          0.1194  |          0.1842  |   20231009 05:51:50  |\n"
     ]
    },
    {
     "name": "stderr",
     "output_type": "stream",
     "text": [
      "100%|█████████| 4214/4214 [00:51<00:00, 81.51it/s]\n"
     ]
    },
    {
     "name": "stdout",
     "output_type": "stream",
     "text": [
      "| dev_spk40-72            |         1.0902  |        0.3778  |          0.1199  |          0.1879  |   20231009 06:00:23  |\n"
     ]
    },
    {
     "name": "stderr",
     "output_type": "stream",
     "text": [
      "100%|█████████| 4214/4214 [00:51<00:00, 81.92it/s]\n"
     ]
    },
    {
     "name": "stdout",
     "output_type": "stream",
     "text": [
      "| dev_spk40-73            |         1.1077  |        0.3812  |          0.1342  |          0.2222  |   20231009 06:09:01  |\n"
     ]
    },
    {
     "name": "stderr",
     "output_type": "stream",
     "text": [
      "100%|█████████| 4214/4214 [00:50<00:00, 82.74it/s]\n"
     ]
    },
    {
     "name": "stdout",
     "output_type": "stream",
     "text": [
      "| dev_spk40-74            |         1.0638  |        0.3812  |          0.1316  |          0.2070  |   20231009 06:17:42  |\n"
     ]
    },
    {
     "name": "stderr",
     "output_type": "stream",
     "text": [
      "100%|█████████| 4214/4214 [00:51<00:00, 81.94it/s]\n"
     ]
    },
    {
     "name": "stdout",
     "output_type": "stream",
     "text": [
      "| dev_spk40-75            |         1.0198  |        0.3851  |          0.1295  |          0.2281  |   20231009 06:26:21  |\n"
     ]
    },
    {
     "name": "stderr",
     "output_type": "stream",
     "text": [
      "100%|█████████| 4214/4214 [00:51<00:00, 81.79it/s]\n"
     ]
    },
    {
     "name": "stdout",
     "output_type": "stream",
     "text": [
      "| dev_spk40-76            |         1.0638  |        0.3889  |          0.1262  |          0.2170  |   20231009 06:34:50  |\n"
     ]
    },
    {
     "name": "stderr",
     "output_type": "stream",
     "text": [
      "100%|█████████| 4214/4214 [00:51<00:00, 81.22it/s]\n"
     ]
    },
    {
     "name": "stdout",
     "output_type": "stream",
     "text": [
      "| dev_spk40-77            |         0.9847  |        0.3829  |          0.1121  |          0.1868  |   20231009 06:43:18  |\n"
     ]
    },
    {
     "name": "stderr",
     "output_type": "stream",
     "text": [
      "100%|█████████| 4214/4214 [00:52<00:00, 80.25it/s]\n"
     ]
    },
    {
     "name": "stdout",
     "output_type": "stream",
     "text": [
      "| dev_spk40-78            |         1.0814  |        0.3886  |          0.1376  |          0.1971  |   20231009 06:51:53  |\n"
     ]
    },
    {
     "name": "stderr",
     "output_type": "stream",
     "text": [
      "100%|█████████| 4214/4214 [00:52<00:00, 79.89it/s]\n"
     ]
    },
    {
     "name": "stdout",
     "output_type": "stream",
     "text": [
      "| dev_spk40-79            |         1.1165  |        0.3671  |          0.1368  |          0.2163  |   20231009 07:00:27  |\n"
     ]
    }
   ],
   "source": [
    "test_subset = 'dev_spk40'\n",
    "trials = '/home/yangwenhao/project/lstm_speaker_verification/data/vox1/%s/trials'%(test_subset)\n",
    "\n",
    "dist_fn = torch.nn.CosineSimilarity()\n",
    "with open('data/trials_spk40_16w/mask_v1_dev_fb80.txt', 'w') as resf:\n",
    "    \n",
    "    for i in range(80):\n",
    "        mask = FreqMaskIndexLayer(start=i, mask_len=1)\n",
    "\n",
    "        save_dir    = 'radio/data/ecapa/dev_spk40/' #\n",
    "        if not os.path.exists(save_dir):\n",
    "            os.makedirs(save_dir)\n",
    "\n",
    "        wav_scp     = '/home/yangwenhao/project/lstm_speaker_verification/data/vox1/%s/wav.scp'%(test_subset)\n",
    "\n",
    "        uid2path = {}\n",
    "        emb_file = save_dir + 'xvector.h5py'\n",
    "\n",
    "        with  h5py.File(emb_file, 'w') as gf:\n",
    "            with open(wav_scp, 'r') as f:\n",
    "                for l in tqdm(f.readlines(), ncols=50):\n",
    "                # for l in f.readlines():\n",
    "                    uid, upath = l.split()\n",
    "                    uid2path[uid] = upath\n",
    "                    wav, sr = sf.read(upath)\n",
    "                    feat = extract_feature([torch.tensor(wav).float()])\n",
    "                    # print(feat.shape)\n",
    "                    # break\n",
    "                    feat = mask(feat)\n",
    "\n",
    "                    result = sv_pipeline.model.embedding_model(feat.to(sv_pipeline.model.device)).detach().cpu()\n",
    "\n",
    "                    emb    = result[0]\n",
    "\n",
    "                    gf.create_dataset(uid, data=emb, compression=\"gzip\")\n",
    "\n",
    "        distances = []\n",
    "        labels = []\n",
    "        with open(trials, 'r') as f:\n",
    "            em_a,em_b,labs = [],[],[]\n",
    "\n",
    "            # for l in tqdm(f.readlines(), ncols=50):\n",
    "            for l in f.readlines():\n",
    "                a,b,target = l.split()\n",
    "\n",
    "                a = torch.tensor(read_hdf5(emb_file, a))\n",
    "                b = torch.tensor(read_hdf5(emb_file, b))\n",
    "\n",
    "                if len(a.shape) ==1:\n",
    "                    a = a.unsqueeze(0)\n",
    "                if len(b.shape) ==1:\n",
    "                    b = b.unsqueeze(0)\n",
    "\n",
    "                if len(em_a) < 200:\n",
    "                    em_a.append(a)\n",
    "                    em_b.append(b)\n",
    "                    if target == 'target':\n",
    "                        labs.append(True)\n",
    "                    else:\n",
    "                        labs.append(False)\n",
    "                else:\n",
    "                    em_a = torch.cat(em_a, dim=0)\n",
    "                    em_b = torch.cat(em_b, dim=0)\n",
    "\n",
    "                    d = dist_fn(em_a, em_b)\n",
    "\n",
    "                    distances.extend(d.tolist())\n",
    "\n",
    "                    labels.extend(labs)\n",
    "\n",
    "                    em_a,em_b,labs = [],[],[]\n",
    "\n",
    "                # if len(distances) > 10000:\n",
    "                #     break\n",
    "        eer, eer_threshold, accuracy = evaluate_kaldi_eer(\n",
    "                distances, labels, cos=True, re_thre=True)\n",
    "        mindcf_01, mindcf_001 = evaluate_kaldi_mindcf(distances, labels)\n",
    "\n",
    "        test_set_name = '-'.join((test_subset, str(i)))\n",
    "        eer_str = '{:.4f}'.format(eer * 100.)\n",
    "        threshold = '{:.4f}'.format(eer_threshold)\n",
    "        mindcf_01 = '{:.4f}'.format(mindcf_01)\n",
    "        mindcf_001 = '{:.4f}'.format(mindcf_001)\n",
    "        date = time.strftime(\"%Y%m%d %H:%M:%S\", time.localtime())\n",
    "\n",
    "        result_str = '| {: <23s} |  {: >13s}  | {: >13s}  | {: >15s}  | {: >15s}  | {: >19s}  |'.format(test_set_name,\n",
    "                                                                                       eer_str,\n",
    "                                                                                       threshold,\n",
    "                                                                                       mindcf_01,\n",
    "                                                                                       mindcf_001,\n",
    "                                                                                       date)\n",
    "        print(result_str)\n",
    "        resf.write(result_str + '\\n')"
   ]
  },
  {
   "cell_type": "code",
   "execution_count": 5,
   "id": "4ba48fe4-8c70-4ce3-b96c-483ca046ec22",
   "metadata": {},
   "outputs": [],
   "source": []
  },
  {
   "cell_type": "code",
   "execution_count": null,
   "id": "f8e1435e-ced9-40d7-ae7d-ba850a08cbc6",
   "metadata": {
    "tags": []
   },
   "outputs": [],
   "source": [
    "test_set_name = '-'.join((test_subset, str(i)))\n",
    "eer = '{:.4f}'.format(eer * 100.)\n",
    "threshold = '{:.4f}'.format(eer_threshold)\n",
    "mindcf_01 = '{:.4f}'.format(mindcf_01)\n",
    "mindcf_001 = '{:.4f}'.format(mindcf_001)\n",
    "date = time.strftime(\"%Y%m%d %H:%M:%S\", time.localtime())\n",
    "\n",
    "result_str = '| {: <23s} |  {: >13s}  | {: >13s}  | {: >15s}  | {: >15s}  | {: >19s}  |'.format(test_set_name,\n",
    "                                                                               eer,\n",
    "                                                                               threshold,\n",
    "                                                                               mindcf_01,\n",
    "                                                                               mindcf_001,\n",
    "                                                                               date)"
   ]
  },
  {
   "cell_type": "code",
   "execution_count": 63,
   "id": "90155991-c0c2-4777-9e01-827fbdac44ad",
   "metadata": {
    "tags": []
   },
   "outputs": [],
   "source": [
    "result_str = '| {: <23s} |  {: >13s}  | {: >13s}  | {: >15s}  | {: >15s}  | {: >19s}  |'.format(test_set_name,\n",
    "                                                                               eer_str,\n",
    "                                                                               threshold,\n",
    "                                                                               mindcf_01,\n",
    "                                                                               mindcf_001,\n",
    "                                                                               date)"
   ]
  },
  {
   "cell_type": "code",
   "execution_count": 64,
   "id": "429c0900-23df-48e1-b542-243e4e5bb308",
   "metadata": {
    "tags": []
   },
   "outputs": [
    {
     "name": "stdout",
     "output_type": "stream",
     "text": [
      "| dev_spk40-0             |         0.8505  |        0.3735  |          0.0699  |          0.0752  |   20231008 19:33:28  |\n"
     ]
    }
   ],
   "source": [
    "print(result_str)"
   ]
  },
  {
   "cell_type": "code",
   "execution_count": null,
   "id": "b07467a1-6843-4af3-8484-9b9343ba6789",
   "metadata": {},
   "outputs": [],
   "source": []
  }
 ],
 "metadata": {
  "kernelspec": {
   "display_name": "model",
   "language": "python",
   "name": "model"
  },
  "language_info": {
   "codemirror_mode": {
    "name": "ipython",
    "version": 3
   },
   "file_extension": ".py",
   "mimetype": "text/x-python",
   "name": "python",
   "nbconvert_exporter": "python",
   "pygments_lexer": "ipython3",
   "version": "3.8.17"
  }
 },
 "nbformat": 4,
 "nbformat_minor": 5
}
