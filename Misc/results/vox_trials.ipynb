{
 "cells": [
  {
   "cell_type": "code",
   "execution_count": 4,
   "metadata": {},
   "outputs": [],
   "source": [
    "lst_path = '/home/work2020/yangwenhao/project/lstm_speaker_verification/data/vox1/dev'\n",
    "\n",
    "# for lst in ['list_test_hard.txt', 'list_test_all.txt']\n",
    "\n",
    "lst = 'list_test_hard.txt'\n",
    "with open(lst_path+'/'+lst, 'r') as f, open(lst_path+'/'+'trials_hard', 'w') as f1:\n",
    "    for l in f.readlines():\n",
    "        target, enroll_id, eval_id = l.split() # 1 id10001/Y8hIVOBuels/00001.wav id10001/utrA-v8pPm4/00001.wav\n",
    "        enroll_uid = '-'.join(enroll_id.rstrip('.wav').split('/'))\n",
    "        eval_uid = '-'.join(eval_id.rstrip('.wav').split('/'))\n",
    "\n",
    "        if target == '1':\n",
    "            target_str = 'target'\n",
    "        elif target == '0':\n",
    "            target_str = 'nontarget'\n",
    "        \n",
    "        f1.write(enroll_uid + ' ' + eval_uid + ' ' + target_str + '\\n')\n",
    "        # id10224-4ivjaIuPQG4-00001 id10224-4ivjaIuPQG4-00005 target\n",
    "        \n",
    "lst = 'list_test_all.txt'\n",
    "with open(lst_path+'/'+lst, 'r') as f, open(lst_path+'/'+'trials_easy', 'w') as f1:\n",
    "    for l in f.readlines():\n",
    "        target, enroll_id, eval_id = l.split() # 1 id10001/Y8hIVOBuels/00001.wav id10001/utrA-v8pPm4/00001.wav\n",
    "        enroll_uid = '-'.join(enroll_id.rstrip('.wav').split('/'))\n",
    "        eval_uid = '-'.join(eval_id.rstrip('.wav').split('/'))\n",
    "\n",
    "        if target == '1':\n",
    "            target_str = 'target'\n",
    "        elif target == '0':\n",
    "            target_str = 'nontarget'\n",
    "        \n",
    "        f1.write(enroll_uid + ' ' + eval_uid + ' ' + target_str + '\\n')\n"
   ]
  },
  {
   "cell_type": "code",
   "execution_count": 5,
   "metadata": {},
   "outputs": [],
   "source": [
    "import torch"
   ]
  },
  {
   "cell_type": "code",
   "execution_count": 9,
   "metadata": {},
   "outputs": [],
   "source": [
    "ckp = torch.load('../Data/checkpoint/LoResNet8/vox1/klsp_egs_attention/123457/arcsoft_sgd_rop/Mean_cbam_None_dp20_alpha0_em256_clean_chn32_wd5e4_var/checkpoint_50.pth')"
   ]
  },
  {
   "cell_type": "code",
   "execution_count": 10,
   "metadata": {},
   "outputs": [
    {
     "name": "stdout",
     "output_type": "stream",
     "text": [
      "['mask_layer.w', 'mask_layer.b', 'mask_layer.drop_p', 'conv1.weight', 'conv1.bias', 'bn1.weight', 'bn1.bias', 'bn1.running_mean', 'bn1.running_var', 'bn1.num_batches_tracked', 'layer1.0.conv1.weight', 'layer1.0.bn1.weight', 'layer1.0.bn1.bias', 'layer1.0.bn1.running_mean', 'layer1.0.bn1.running_var', 'layer1.0.bn1.num_batches_tracked', 'layer1.0.conv2.weight', 'layer1.0.bn2.weight', 'layer1.0.bn2.bias', 'layer1.0.bn2.running_mean', 'layer1.0.bn2.running_var', 'layer1.0.bn2.num_batches_tracked', 'layer1.0.CBAM_layer.cov_t.weight', 'layer1.0.CBAM_layer.cov_t.bias', 'layer1.0.CBAM_layer.cov_f.weight', 'layer1.0.CBAM_layer.cov_f.bias', 'conv2.weight', 'bn2.weight', 'bn2.bias', 'bn2.running_mean', 'bn2.running_var', 'bn2.num_batches_tracked', 'layer2.0.conv1.weight', 'layer2.0.bn1.weight', 'layer2.0.bn1.bias', 'layer2.0.bn1.running_mean', 'layer2.0.bn1.running_var', 'layer2.0.bn1.num_batches_tracked', 'layer2.0.conv2.weight', 'layer2.0.bn2.weight', 'layer2.0.bn2.bias', 'layer2.0.bn2.running_mean', 'layer2.0.bn2.running_var', 'layer2.0.bn2.num_batches_tracked', 'layer2.0.CBAM_layer.cov_t.weight', 'layer2.0.CBAM_layer.cov_t.bias', 'layer2.0.CBAM_layer.cov_f.weight', 'layer2.0.CBAM_layer.cov_f.bias', 'conv3.weight', 'bn3.weight', 'bn3.bias', 'bn3.running_mean', 'bn3.running_var', 'bn3.num_batches_tracked', 'layer3.0.conv1.weight', 'layer3.0.bn1.weight', 'layer3.0.bn1.bias', 'layer3.0.bn1.running_mean', 'layer3.0.bn1.running_var', 'layer3.0.bn1.num_batches_tracked', 'layer3.0.conv2.weight', 'layer3.0.bn2.weight', 'layer3.0.bn2.bias', 'layer3.0.bn2.running_mean', 'layer3.0.bn2.running_var', 'layer3.0.bn2.num_batches_tracked', 'layer3.0.CBAM_layer.cov_t.weight', 'layer3.0.CBAM_layer.cov_t.bias', 'layer3.0.CBAM_layer.cov_f.weight', 'layer3.0.CBAM_layer.cov_f.bias', 'fc.0.weight', 'fc.0.bias', 'fc.1.weight', 'fc.1.bias', 'fc.1.running_mean', 'fc.1.running_var', 'fc.1.num_batches_tracked', 'classifier.W']\n"
     ]
    }
   ],
   "source": [
    "print(list(ckp['state_dict'].keys()))"
   ]
  },
  {
   "cell_type": "code",
   "execution_count": null,
   "metadata": {},
   "outputs": [],
   "source": []
  }
 ],
 "metadata": {
  "kernelspec": {
   "display_name": "Python 3 (ipykernel)",
   "language": "python",
   "name": "python3"
  },
  "language_info": {
   "codemirror_mode": {
    "name": "ipython",
    "version": 3
   },
   "file_extension": ".py",
   "mimetype": "text/x-python",
   "name": "python",
   "nbconvert_exporter": "python",
   "pygments_lexer": "ipython3",
   "version": "3.8.10"
  }
 },
 "nbformat": 4,
 "nbformat_minor": 4
}
