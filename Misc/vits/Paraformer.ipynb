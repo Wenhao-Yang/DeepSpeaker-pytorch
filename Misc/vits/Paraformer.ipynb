{
 "cells": [
  {
   "cell_type": "code",
   "execution_count": 1,
   "id": "29f62d9f-5ed4-4e9a-b539-94e797a14a3a",
   "metadata": {},
   "outputs": [
    {
     "name": "stderr",
     "output_type": "stream",
     "text": [
      "2023-05-04 10:57:17,344 - modelscope - INFO - PyTorch version 1.8.1 Found.\n",
      "2023-05-04 10:57:17,346 - modelscope - INFO - Loading ast index from /home/yangwenhao/.cache/modelscope/ast_indexer\n",
      "2023-05-04 10:57:17,364 - modelscope - INFO - Loading done! Current index file version is 1.5.2, with md5 c5a43dc1cfbe78c3cd5963d04e20ef8f and a total number of 860 components indexed\n"
     ]
    }
   ],
   "source": [
    "from modelscope.pipelines import pipeline\n",
    "from modelscope.utils.constant import Tasks"
   ]
  },
  {
   "cell_type": "code",
   "execution_count": 3,
   "id": "24409ed5-d30a-42ed-a514-3d0c1ce3141f",
   "metadata": {},
   "outputs": [
    {
     "name": "stderr",
     "output_type": "stream",
     "text": [
      "2023-05-04 10:57:53,563 - modelscope - INFO - Model revision not specified, use the latest revision: v1.1.8\n",
      "2023-05-04 10:57:53,563 (api:458) INFO: Model revision not specified, use the latest revision: v1.1.8\n",
      "2023-05-04 10:57:54,000 - modelscope - INFO - initiate model from /home/yangwenhao/.cache/modelscope/hub/damo/speech_paraformer_asr_nat-zh-cn-16k-common-vocab8358-tensorflow1\n",
      "2023-05-04 10:57:54,000 (base:49) INFO: initiate model from /home/yangwenhao/.cache/modelscope/hub/damo/speech_paraformer_asr_nat-zh-cn-16k-common-vocab8358-tensorflow1\n",
      "2023-05-04 10:57:54,003 - modelscope - INFO - initiate model from location /home/yangwenhao/.cache/modelscope/hub/damo/speech_paraformer_asr_nat-zh-cn-16k-common-vocab8358-tensorflow1.\n",
      "2023-05-04 10:57:54,003 (base:51) INFO: initiate model from location /home/yangwenhao/.cache/modelscope/hub/damo/speech_paraformer_asr_nat-zh-cn-16k-common-vocab8358-tensorflow1.\n",
      "2023-05-04 10:57:54,008 - modelscope - INFO - initialize model from /home/yangwenhao/.cache/modelscope/hub/damo/speech_paraformer_asr_nat-zh-cn-16k-common-vocab8358-tensorflow1\n",
      "2023-05-04 10:57:54,008 (base_model:118) INFO: initialize model from /home/yangwenhao/.cache/modelscope/hub/damo/speech_paraformer_asr_nat-zh-cn-16k-common-vocab8358-tensorflow1\n",
      "2023-05-04 10:57:54,010 - modelscope - WARNING - No preprocessor field found in cfg.\n",
      "2023-05-04 10:57:54,010 (base:283) WARNING: No preprocessor field found in cfg.\n",
      "2023-05-04 10:57:54,011 - modelscope - WARNING - No val key and type key found in preprocessor domain of configuration.json file.\n",
      "2023-05-04 10:57:54,011 (base:292) WARNING: No val key and type key found in preprocessor domain of configuration.json file.\n",
      "2023-05-04 10:57:54,011 - modelscope - WARNING - Cannot find available config to build preprocessor at mode inference, current config: {'model_dir': '/home/yangwenhao/.cache/modelscope/hub/damo/speech_paraformer_asr_nat-zh-cn-16k-common-vocab8358-tensorflow1'}. trying to build by task and model information.\n",
      "2023-05-04 10:57:54,011 (base:311) WARNING: Cannot find available config to build preprocessor at mode inference, current config: {'model_dir': '/home/yangwenhao/.cache/modelscope/hub/damo/speech_paraformer_asr_nat-zh-cn-16k-common-vocab8358-tensorflow1'}. trying to build by task and model information.\n",
      "2023-05-04 10:57:54,012 - modelscope - WARNING - No preprocessor key ('generic-asr', 'auto-speech-recognition') found in PREPROCESSOR_MAP, skip building preprocessor.\n",
      "2023-05-04 10:57:54,012 (base:325) WARNING: No preprocessor key ('generic-asr', 'auto-speech-recognition') found in PREPROCESSOR_MAP, skip building preprocessor.\n",
      "2023-05-04 10:57:55,492 - modelscope - INFO - Decoding with wav files ...\n",
      "2023-05-04 10:57:55,492 (asr_inference_pipeline:514) INFO: Decoding with wav files ...\n",
      "2023-05-04 10:57:55,555 - modelscope - INFO - Computing the result of ASR ...\n",
      "2023-05-04 10:57:55,555 (asr_inference_pipeline:549) INFO: Computing the result of ASR ...\n"
     ]
    },
    {
     "name": "stdout",
     "output_type": "stream",
     "text": [
      "{'text': '时光总是慢慢地偷走我们的熔颜渐渐地有些人终将离我们而远去'}\n"
     ]
    }
   ],
   "source": [
    "inference_pipeline = pipeline(\n",
    "    task=Tasks.auto_speech_recognition,\n",
    "    model='damo/speech_paraformer_asr_nat-zh-cn-16k-common-vocab8358-tensorflow1')\n",
    "\n",
    "rec_result = inference_pipeline(audio_in='/home/work2020/yangwenhao/project/vits_chinese/vits_infer_out/bert_vits_2.wav')\n",
    "print(rec_result)"
   ]
  },
  {
   "cell_type": "code",
   "execution_count": null,
   "id": "118d7818-166f-4dee-a975-c1934d4c10e1",
   "metadata": {},
   "outputs": [],
   "source": []
  }
 ],
 "metadata": {
  "kernelspec": {
   "display_name": "Python 3 (ipykernel)",
   "language": "python",
   "name": "python3"
  },
  "language_info": {
   "codemirror_mode": {
    "name": "ipython",
    "version": 3
   },
   "file_extension": ".py",
   "mimetype": "text/x-python",
   "name": "python",
   "nbconvert_exporter": "python",
   "pygments_lexer": "ipython3",
   "version": "3.8.10"
  }
 },
 "nbformat": 4,
 "nbformat_minor": 5
}
