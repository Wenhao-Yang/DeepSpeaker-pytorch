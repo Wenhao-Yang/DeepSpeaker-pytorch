{
 "cells": [
  {
   "cell_type": "code",
   "execution_count": 1,
   "id": "29f62d9f-5ed4-4e9a-b539-94e797a14a3a",
   "metadata": {},
   "outputs": [
    {
     "name": "stderr",
     "output_type": "stream",
     "text": [
      "2023-05-10 00:48:43,216 - modelscope - INFO - PyTorch version 1.8.1 Found.\n",
      "2023-05-10 00:48:43,218 - modelscope - INFO - Loading ast index from /home/yangwenhao/.cache/modelscope/ast_indexer\n",
      "2023-05-10 00:48:43,279 - modelscope - INFO - Loading done! Current index file version is 1.5.2, with md5 c5a43dc1cfbe78c3cd5963d04e20ef8f and a total number of 860 components indexed\n"
     ]
    }
   ],
   "source": [
    "from modelscope.pipelines import pipeline\n",
    "from modelscope.utils.constant import Tasks"
   ]
  },
  {
   "cell_type": "code",
   "execution_count": 2,
   "id": "24409ed5-d30a-42ed-a514-3d0c1ce3141f",
   "metadata": {},
   "outputs": [
    {
     "name": "stderr",
     "output_type": "stream",
     "text": [
      "2023-05-10 00:48:44,788 - modelscope - INFO - initiate model from damo/speech_paraformer_asr_nat-zh-cn-16k-common-vocab8358-tensorflow1\n",
      "2023-05-10 00:48:44,790 - modelscope - INFO - initiate model from location damo/speech_paraformer_asr_nat-zh-cn-16k-common-vocab8358-tensorflow1.\n",
      "2023-05-10 00:48:44,794 - modelscope - INFO - initialize model from damo/speech_paraformer_asr_nat-zh-cn-16k-common-vocab8358-tensorflow1\n",
      "2023-05-10 00:48:44,797 - modelscope - WARNING - No preprocessor field found in cfg.\n",
      "2023-05-10 00:48:44,797 - modelscope - WARNING - No val key and type key found in preprocessor domain of configuration.json file.\n",
      "2023-05-10 00:48:44,798 - modelscope - WARNING - Cannot find available config to build preprocessor at mode inference, current config: {'model_dir': 'damo/speech_paraformer_asr_nat-zh-cn-16k-common-vocab8358-tensorflow1'}. trying to build by task and model information.\n",
      "2023-05-10 00:48:44,798 - modelscope - WARNING - No preprocessor key ('generic-asr', 'auto-speech-recognition') found in PREPROCESSOR_MAP, skip building preprocessor.\n"
     ]
    }
   ],
   "source": [
    "inference_pipeline = pipeline(\n",
    "    task=Tasks.auto_speech_recognition,\n",
    "    model='damo/speech_paraformer_asr_nat-zh-cn-16k-common-vocab8358-tensorflow1')"
   ]
  },
  {
   "cell_type": "code",
   "execution_count": null,
   "id": "49bbc616-751e-453d-85fd-398d1ac696e7",
   "metadata": {},
   "outputs": [],
   "source": [
    "inference_pipeline = pipeline(\n",
    "    task=Tasks.auto_speech_recognition,\n",
    "    model='damo/speech_paraformer-large_asr_nat-zh-cn-16k-common-vocab8404-pytorch',\n",
    "    vad_model='damo/speech_fsmn_vad_zh-cn-16k-common-pytorch',\n",
    "    punc_model='damo/punc_ct-transformer_zh-cn-common-vocab272727-pytorch',\n",
    ")"
   ]
  },
  {
   "cell_type": "code",
   "execution_count": null,
   "id": "118d7818-166f-4dee-a975-c1934d4c10e1",
   "metadata": {},
   "outputs": [],
   "source": [
    "rec_result = inference_pipeline(audio_in='../mipi/20230510000744.wav')\n",
    "print(rec_result)"
   ]
  },
  {
   "cell_type": "code",
   "execution_count": 3,
   "id": "af951d31-a0f5-49a2-b159-9cfb76e2fd13",
   "metadata": {},
   "outputs": [],
   "source": [
    "import soundfile as sf\n",
    "from pydub import AudioSegment"
   ]
  },
  {
   "cell_type": "code",
   "execution_count": 11,
   "id": "41f895ae-4d57-4c58-aa20-77bc78aa6b36",
   "metadata": {},
   "outputs": [],
   "source": [
    "song = AudioSegment.from_file('../mipi/20230510000744.aac')\n",
    "song.export(\"../mipi/20230510000744.wav\", format='wav')"
   ]
  },
  {
   "cell_type": "code",
   "execution_count": 5,
   "id": "b3e49563-c8df-4b58-972f-c36b45ffa474",
   "metadata": {},
   "outputs": [],
   "source": [
    "sam, sr = sf.read('../mipi/20230510000744.wav')"
   ]
  },
  {
   "cell_type": "code",
   "execution_count": 6,
   "id": "0ff49550-3a14-422b-90ce-d48375a26a45",
   "metadata": {},
   "outputs": [
    {
     "name": "stdout",
     "output_type": "stream",
     "text": [
      "(19488768, 2)\n"
     ]
    }
   ],
   "source": [
    "seg = int(len(sam)/20)\n",
    "print(sam.shape)"
   ]
  },
  {
   "cell_type": "code",
   "execution_count": 16,
   "id": "4adfddff-de7c-4c1e-b868-b9670b6c3e4b",
   "metadata": {},
   "outputs": [
    {
     "name": "stderr",
     "output_type": "stream",
     "text": [
      "2023-05-10 10:56:14,427 - modelscope - INFO - Decoding with pcm files ...\n",
      "2023-05-10 10:56:14,427 (asr_inference_pipeline:514) INFO: Decoding with pcm files ...\n",
      "2023-05-10 10:56:14,992 - modelscope - INFO - Computing the result of ASR ...\n",
      "2023-05-10 10:56:14,992 (asr_inference_pipeline:549) INFO: Computing the result of ASR ...\n",
      "2023-05-10 10:56:14,993 - modelscope - INFO - Decoding with pcm files ...\n",
      "2023-05-10 10:56:14,993 (asr_inference_pipeline:514) INFO: Decoding with pcm files ...\n",
      "2023-05-10 10:56:15,377 - modelscope - INFO - Computing the result of ASR ...\n",
      "2023-05-10 10:56:15,377 (asr_inference_pipeline:549) INFO: Computing the result of ASR ...\n",
      "2023-05-10 10:56:15,378 - modelscope - INFO - Decoding with pcm files ...\n",
      "2023-05-10 10:56:15,378 (asr_inference_pipeline:514) INFO: Decoding with pcm files ...\n",
      "2023-05-10 10:56:15,722 - modelscope - INFO - Computing the result of ASR ...\n",
      "2023-05-10 10:56:15,722 (asr_inference_pipeline:549) INFO: Computing the result of ASR ...\n",
      "2023-05-10 10:56:15,722 - modelscope - INFO - Decoding with pcm files ...\n",
      "2023-05-10 10:56:15,722 (asr_inference_pipeline:514) INFO: Decoding with pcm files ...\n",
      "2023-05-10 10:56:16,489 - modelscope - INFO - Computing the result of ASR ...\n",
      "2023-05-10 10:56:16,489 (asr_inference_pipeline:549) INFO: Computing the result of ASR ...\n",
      "2023-05-10 10:56:16,490 - modelscope - INFO - Decoding with pcm files ...\n",
      "2023-05-10 10:56:16,490 (asr_inference_pipeline:514) INFO: Decoding with pcm files ...\n",
      "2023-05-10 10:56:17,010 - modelscope - INFO - Computing the result of ASR ...\n",
      "2023-05-10 10:56:17,010 (asr_inference_pipeline:549) INFO: Computing the result of ASR ...\n",
      "2023-05-10 10:56:17,011 - modelscope - INFO - Decoding with pcm files ...\n",
      "2023-05-10 10:56:17,011 (asr_inference_pipeline:514) INFO: Decoding with pcm files ...\n",
      "2023-05-10 10:56:17,588 - modelscope - INFO - Computing the result of ASR ...\n",
      "2023-05-10 10:56:17,588 (asr_inference_pipeline:549) INFO: Computing the result of ASR ...\n",
      "2023-05-10 10:56:17,589 - modelscope - INFO - Decoding with pcm files ...\n",
      "2023-05-10 10:56:17,589 (asr_inference_pipeline:514) INFO: Decoding with pcm files ...\n",
      "2023-05-10 10:56:17,989 - modelscope - INFO - Computing the result of ASR ...\n",
      "2023-05-10 10:56:17,989 (asr_inference_pipeline:549) INFO: Computing the result of ASR ...\n",
      "2023-05-10 10:56:17,990 - modelscope - INFO - Decoding with pcm files ...\n",
      "2023-05-10 10:56:17,990 (asr_inference_pipeline:514) INFO: Decoding with pcm files ...\n",
      "2023-05-10 10:56:18,547 - modelscope - INFO - Computing the result of ASR ...\n",
      "2023-05-10 10:56:18,547 (asr_inference_pipeline:549) INFO: Computing the result of ASR ...\n",
      "2023-05-10 10:56:18,547 - modelscope - INFO - Decoding with pcm files ...\n",
      "2023-05-10 10:56:18,547 (asr_inference_pipeline:514) INFO: Decoding with pcm files ...\n",
      "2023-05-10 10:56:19,121 - modelscope - INFO - Computing the result of ASR ...\n",
      "2023-05-10 10:56:19,121 (asr_inference_pipeline:549) INFO: Computing the result of ASR ...\n",
      "2023-05-10 10:56:19,122 - modelscope - INFO - Decoding with pcm files ...\n",
      "2023-05-10 10:56:19,122 (asr_inference_pipeline:514) INFO: Decoding with pcm files ...\n",
      "2023-05-10 10:56:19,770 - modelscope - INFO - Computing the result of ASR ...\n",
      "2023-05-10 10:56:19,770 (asr_inference_pipeline:549) INFO: Computing the result of ASR ...\n",
      "2023-05-10 10:56:19,771 - modelscope - INFO - Decoding with pcm files ...\n",
      "2023-05-10 10:56:19,771 (asr_inference_pipeline:514) INFO: Decoding with pcm files ...\n",
      "2023-05-10 10:56:20,538 - modelscope - INFO - Computing the result of ASR ...\n",
      "2023-05-10 10:56:20,538 (asr_inference_pipeline:549) INFO: Computing the result of ASR ...\n",
      "2023-05-10 10:56:20,539 - modelscope - INFO - Decoding with pcm files ...\n",
      "2023-05-10 10:56:20,539 (asr_inference_pipeline:514) INFO: Decoding with pcm files ...\n",
      "2023-05-10 10:56:21,061 - modelscope - INFO - Computing the result of ASR ...\n",
      "2023-05-10 10:56:21,061 (asr_inference_pipeline:549) INFO: Computing the result of ASR ...\n",
      "2023-05-10 10:56:21,062 - modelscope - INFO - Decoding with pcm files ...\n",
      "2023-05-10 10:56:21,062 (asr_inference_pipeline:514) INFO: Decoding with pcm files ...\n",
      "2023-05-10 10:56:21,711 - modelscope - INFO - Computing the result of ASR ...\n",
      "2023-05-10 10:56:21,711 (asr_inference_pipeline:549) INFO: Computing the result of ASR ...\n",
      "2023-05-10 10:56:21,712 - modelscope - INFO - Decoding with pcm files ...\n",
      "2023-05-10 10:56:21,712 (asr_inference_pipeline:514) INFO: Decoding with pcm files ...\n",
      "2023-05-10 10:56:22,375 - modelscope - INFO - Computing the result of ASR ...\n",
      "2023-05-10 10:56:22,375 (asr_inference_pipeline:549) INFO: Computing the result of ASR ...\n",
      "2023-05-10 10:56:22,376 - modelscope - INFO - Decoding with pcm files ...\n",
      "2023-05-10 10:56:22,376 (asr_inference_pipeline:514) INFO: Decoding with pcm files ...\n",
      "2023-05-10 10:56:22,812 - modelscope - INFO - Computing the result of ASR ...\n",
      "2023-05-10 10:56:22,812 (asr_inference_pipeline:549) INFO: Computing the result of ASR ...\n",
      "2023-05-10 10:56:22,813 - modelscope - INFO - Decoding with pcm files ...\n",
      "2023-05-10 10:56:22,813 (asr_inference_pipeline:514) INFO: Decoding with pcm files ...\n",
      "2023-05-10 10:56:23,284 - modelscope - INFO - Computing the result of ASR ...\n",
      "2023-05-10 10:56:23,284 (asr_inference_pipeline:549) INFO: Computing the result of ASR ...\n",
      "2023-05-10 10:56:23,284 - modelscope - INFO - Decoding with pcm files ...\n",
      "2023-05-10 10:56:23,284 (asr_inference_pipeline:514) INFO: Decoding with pcm files ...\n",
      "2023-05-10 10:56:23,880 - modelscope - INFO - Computing the result of ASR ...\n",
      "2023-05-10 10:56:23,880 (asr_inference_pipeline:549) INFO: Computing the result of ASR ...\n",
      "2023-05-10 10:56:23,880 - modelscope - INFO - Decoding with pcm files ...\n",
      "2023-05-10 10:56:23,880 (asr_inference_pipeline:514) INFO: Decoding with pcm files ...\n",
      "2023-05-10 10:56:24,632 - modelscope - INFO - Computing the result of ASR ...\n",
      "2023-05-10 10:56:24,632 (asr_inference_pipeline:549) INFO: Computing the result of ASR ...\n",
      "2023-05-10 10:56:24,633 - modelscope - INFO - Decoding with pcm files ...\n",
      "2023-05-10 10:56:24,633 (asr_inference_pipeline:514) INFO: Decoding with pcm files ...\n",
      "2023-05-10 10:56:25,169 - modelscope - INFO - Computing the result of ASR ...\n",
      "2023-05-10 10:56:25,169 (asr_inference_pipeline:549) INFO: Computing the result of ASR ...\n",
      "2023-05-10 10:56:25,170 - modelscope - INFO - Decoding with pcm files ...\n",
      "2023-05-10 10:56:25,170 (asr_inference_pipeline:514) INFO: Decoding with pcm files ...\n",
      "2023-05-10 10:56:25,671 - modelscope - INFO - Computing the result of ASR ...\n",
      "2023-05-10 10:56:25,671 (asr_inference_pipeline:549) INFO: Computing the result of ASR ...\n"
     ]
    }
   ],
   "source": [
    "result = []\n",
    "for i in range(20):\n",
    "    start = i*seg\n",
    "    end = start + seg\n",
    "    sample = sam[start:end]\n",
    "    rec_result = inference_pipeline(audio_in=sample[:, 0])\n",
    "    result.append(rec_result['text'])"
   ]
  },
  {
   "cell_type": "code",
   "execution_count": 17,
   "id": "4f079ddd-18d3-4d5e-b543-dceefd8f698a",
   "metadata": {},
   "outputs": [],
   "source": [
    "results = \"\".join(result)"
   ]
  },
  {
   "cell_type": "code",
   "execution_count": 18,
   "id": "71653c7e-0b51-4e48-beba-7c1012092476",
   "metadata": {},
   "outputs": [
    {
     "data": {
      "text/plain": [
       "'嗯嗯，听得到嗯嗯嗯。你嗯嗯。嗯。哎，嗯，好了，好，那你是希望怎样？我这么说吧，我会这么发，其实就是就很像我觉得这个东西我当时发这个东西就很像我之前给你分享那种心态的，完全我敢保证一点，可能一点别的什么都没有，可能也没有考虑到说要不是你跟我说当时在床上这个问题，我都没有想过，我都没有想到这个点，我完全是没有想到这个点的，不是他嗯。当时就这年，那你的你你你是希望怎样啊？嗯，没有，我现在不过我现在想想好像怪我吧，大概是我自己。行吧，开心行了嗯，你说吧，嗯，是您呢嗯。要不你就答应后面，要不你就当以后没有这个朋友了吧，然后然后那个。这样吧，我那天就就就挺难过我，我就为什么不舒服，就我觉得就你心里已经选择。哎呀，我不知道你选他吧。他是什么时候跟你说这些话的，就我那天那个头发之后嘛，我不知道那个头发啥时候忘记了，我也不知道哪一天五一五一之前吗？那你五一就不该再给我发那些东西，以后慢慢就习惯，我不知道。好了，我只能说换位置，我只能说换位思考他的所有他所有顾虑他他那些其实我都能理解。如果因为如果换成是我自己，我也会嗯是的啊，你懂啊，那你删我微信吧，游戏也可以，你自己决定吧。不需要我当我当初之所以在第一次那个情况下，我同意第二次押回来，主要是因为我真的特别珍惜。然后现在就像就已经让我觉得已经没有没有那个，反正上次那个我就我就有有点感觉到了，那就没有必要了，就已经不是我我原来原来我们我们那种关系了，已经不是那样子了，我不知道是不是，反正我。我就觉得，所以那那天那句，但是口气也不是很合适，说你变了这句话，但是确实是我觉得我我感受到了这个。因为什么不会算？因为什么不会算？嗯，没有那个也没关系，因为因为支付宝还在嘛，我刚刚就想跟你说这个那个也没关系，能不能你能不能再缓两个月两次两次就就微信接过一次，然后。嗯，这个这个领倒不用担心，真的是坑。最近现在嗯这个不管你删不删，只要那个支付宝还在，我肯定会会给你的。虽然有这些这些不愉快，但是这个起码你应该相信我啊什么嗯，知道，那那不然还是等我给你之后再上吧。就挺后悔的吧，就感觉我应该是真的在你这里是把你当成很在意的朋友，然后大概是我。本来也没什么，我觉得你不需要知道的，因为我已经不想跟你分享了呀，那你第二次了。还有其实之前他也挺介意的，可是大肠可是我我把我心里真正的想法告诉他呀，在没有他之前我我就认识你啊，包括我别的朋友啊，最后他全部都接受啊，接受你们你们可以在我心里存在啊，但是这个每当然当然这个每个人做法不一样，这个没什么好对比的，我只能我只能说我。嗯，需要我只能说其他就没什么好说，我就就就怪我自己吧。我之前就觉得可能在你这里我是挺重要的一个位置，大概就会相差了。可能可能是我自己的错觉吧。好了没事了，没事了，该干嘛干嘛去吧，过两天就好了，我确实要我确实很难过，并且确实刚才有点控制不住自己。然后我觉得你确实确实对不起，我确实对不起我我我认为我们的友情确实对不起，我就我觉得很奇怪，突然奇不飘飘，一句道歉，就让我觉得好像之前跟我认识的那个，你根本就不是你。睡吧睡吧睡吧，尤件汉棒，可能吧，我睡我睡了不清。'"
      ]
     },
     "execution_count": 18,
     "metadata": {},
     "output_type": "execute_result"
    }
   ],
   "source": [
    "results"
   ]
  },
  {
   "cell_type": "code",
   "execution_count": 12,
   "id": "b19ded06-943e-4aef-b846-8d9b27234e72",
   "metadata": {},
   "outputs": [
    {
     "name": "stderr",
     "output_type": "stream",
     "text": [
      "2023-05-10 00:52:40,863 - modelscope - INFO - Use user-specified model revision: v1.1.7\n",
      "2023-05-10 00:52:40,863 (api:470) INFO: Use user-specified model revision: v1.1.7\n",
      "2023-05-10 00:52:41,194 - modelscope - INFO - initiate model from /home/yangwenhao/.cache/modelscope/hub/damo/punc_ct-transformer_zh-cn-common-vocab272727-pytorch\n",
      "2023-05-10 00:52:41,194 (base:49) INFO: initiate model from /home/yangwenhao/.cache/modelscope/hub/damo/punc_ct-transformer_zh-cn-common-vocab272727-pytorch\n",
      "2023-05-10 00:52:41,198 - modelscope - INFO - initiate model from location /home/yangwenhao/.cache/modelscope/hub/damo/punc_ct-transformer_zh-cn-common-vocab272727-pytorch.\n",
      "2023-05-10 00:52:41,198 (base:51) INFO: initiate model from location /home/yangwenhao/.cache/modelscope/hub/damo/punc_ct-transformer_zh-cn-common-vocab272727-pytorch.\n",
      "2023-05-10 00:52:41,201 - modelscope - INFO - initialize model from /home/yangwenhao/.cache/modelscope/hub/damo/punc_ct-transformer_zh-cn-common-vocab272727-pytorch\n",
      "2023-05-10 00:52:41,201 (base_model:118) INFO: initialize model from /home/yangwenhao/.cache/modelscope/hub/damo/punc_ct-transformer_zh-cn-common-vocab272727-pytorch\n",
      "2023-05-10 00:52:41,204 - modelscope - WARNING - No preprocessor field found in cfg.\n",
      "2023-05-10 00:52:41,204 (base:283) WARNING: No preprocessor field found in cfg.\n",
      "2023-05-10 00:52:41,205 - modelscope - WARNING - No val key and type key found in preprocessor domain of configuration.json file.\n",
      "2023-05-10 00:52:41,205 (base:292) WARNING: No val key and type key found in preprocessor domain of configuration.json file.\n",
      "2023-05-10 00:52:41,205 - modelscope - WARNING - Cannot find available config to build preprocessor at mode inference, current config: {'model_dir': '/home/yangwenhao/.cache/modelscope/hub/damo/punc_ct-transformer_zh-cn-common-vocab272727-pytorch'}. trying to build by task and model information.\n",
      "2023-05-10 00:52:41,205 (base:311) WARNING: Cannot find available config to build preprocessor at mode inference, current config: {'model_dir': '/home/yangwenhao/.cache/modelscope/hub/damo/punc_ct-transformer_zh-cn-common-vocab272727-pytorch'}. trying to build by task and model information.\n",
      "2023-05-10 00:52:41,205 - modelscope - WARNING - No preprocessor key ('generic-punc', 'punctuation') found in PREPROCESSOR_MAP, skip building preprocessor.\n",
      "2023-05-10 00:52:41,205 (base:325) WARNING: No preprocessor key ('generic-punc', 'punctuation') found in PREPROCESSOR_MAP, skip building preprocessor.\n"
     ]
    }
   ],
   "source": [
    "word_refine_pipline = pipeline(\n",
    "    task=Tasks.punctuation,\n",
    "    model='damo/punc_ct-transformer_zh-cn-common-vocab272727-pytorch',\n",
    "    vad_model='damo/speech_fsmn_vad_zh-cn-16k-common-pytorch',\n",
    "    punc_model='damo/punc_ct-transformer_zh-cn-common-vocab272727-pytorch',\n",
    "    model_revision=\"v1.1.7\")"
   ]
  },
  {
   "cell_type": "code",
   "execution_count": 13,
   "id": "0e72a38e-016b-47c2-b344-8e76f7c4761c",
   "metadata": {},
   "outputs": [
    {
     "name": "stderr",
     "output_type": "stream",
     "text": [
      "2023-05-10 00:53:20,272 - modelscope - INFO - Punctuation Processing: 嗯听得到嗯嗯嗯嗯嗯嗯哎嗯好了那也是希望怎样这么说吧我会这么发其实就是就很像我觉得这个东西我当时发这个东西就很像我之前跟你分享那种心态的完全我敢保证一点可能一点别的什么都没有可能也没有考虑到说要不是你跟我说当时在床上这个问题我都没有想过我都没有想到这个点我完全是没有想到这个点的但是他嗯当时就这年了那你的你你是希望望望怎样啊没有我现在通过我现在想想好像我吧大概是我自己行吧还得怎么了嗯你说吧嗯什么呢要不你就当以后面要不你就当以后没有这个朋友了吧然后然后那个这样样吧我那天就就就挺难过我我就为什么不舒服就我觉得就你心里已经选择哎呀我知知道不觉得他是什么时候跟你说这些话的就我那天那个头发之后嘛我不知道那个头发啥时候忘记了我也不知道哪一天五一五一之前吗那你五一就不该再给我发那些东西以后慢慢就习惯忘记了我只能说换位思我只能说换位思考他的所有他所有顾虑他他那些其实我都能理解如果因为如果换成是我自己我也会可以也可以只我都我微信吧游戏也可以自己决定吧不需要我当我当初之所以在第一次那个情况下我同意第二次压回来主要是因为我真的特别珍惜然后现在就上就已经让我觉得已经没有没有那个反正上次那个我就我就有有点感觉到了反正没们必要了就已经不是我原来反正我们我们那种关系了已经不是那样子了反正上次是不是反正我是觉得所以那那天那句那个口气也不是很合适说你变了这句话但是确实是我觉得我我感受到了这个因为什么不会删因为什么不会删没有那个也没关系因为因为支付宝还在嘛我刚刚就想跟你说这个那个也没关系能不能能不能再还两个月没次两次就就微信接过一次呢这个这个你倒不用担心其实是可最近这个不管你删不删只要那个支付宝还在我肯定会会给你的虽然有这些这些不愉快但是这个起码你应该相信我啊什么嗯知道那那不然还是等我给你之后再删吧就挺后悔的吧就我感觉我应该是真的在你这里真把你当成很在意的朋友就大概是我好了你没什么我觉得你不需要指导了我觉觉得不不想跟你分享了呀我没什么了还有其实之前他也挺接受啊可是他成可是我我把我心里真正的想法告诉他呀在没有他之前我我就认识你啊包括别的朋友了最后他全部都接受啊接受你们你们可以在我心里存在啊最后他接受每当然当然这个每个人做法不一样这个没什么好对比的但只能我只能说我说我只能说其他就没什么好事了我就就就在我自己吧我自己就觉得可能在你这里我是挺重要的一个位置大概就会相差了可能可能是我自己错觉了吧可能没事了事事哎干嘛干嘛去吧挺重差就好了我确实有我确实很难过并且是干自己吧我挺控制住自己然后我觉得你确实确实对不起我确实对不起我我我认为我们的友情确实对不起我就我觉得很奇怪突然然飘飘飘一道道歉让我觉得好像之前跟我认识的那个你跟我就不是你睡吧睡吧睡吧有这样吧可能吧不是吧我睡吧 ...\n",
      "2023-05-10 00:53:20,272 (punctuation_processing_pipeline:150) INFO: Punctuation Processing: 嗯听得到嗯嗯嗯嗯嗯嗯哎嗯好了那也是希望怎样这么说吧我会这么发其实就是就很像我觉得这个东西我当时发这个东西就很像我之前跟你分享那种心态的完全我敢保证一点可能一点别的什么都没有可能也没有考虑到说要不是你跟我说当时在床上这个问题我都没有想过我都没有想到这个点我完全是没有想到这个点的但是他嗯当时就这年了那你的你你是希望望望怎样啊没有我现在通过我现在想想好像我吧大概是我自己行吧还得怎么了嗯你说吧嗯什么呢要不你就当以后面要不你就当以后没有这个朋友了吧然后然后那个这样样吧我那天就就就挺难过我我就为什么不舒服就我觉得就你心里已经选择哎呀我知知道不觉得他是什么时候跟你说这些话的就我那天那个头发之后嘛我不知道那个头发啥时候忘记了我也不知道哪一天五一五一之前吗那你五一就不该再给我发那些东西以后慢慢就习惯忘记了我只能说换位思我只能说换位思考他的所有他所有顾虑他他那些其实我都能理解如果因为如果换成是我自己我也会可以也可以只我都我微信吧游戏也可以自己决定吧不需要我当我当初之所以在第一次那个情况下我同意第二次压回来主要是因为我真的特别珍惜然后现在就上就已经让我觉得已经没有没有那个反正上次那个我就我就有有点感觉到了反正没们必要了就已经不是我原来反正我们我们那种关系了已经不是那样子了反正上次是不是反正我是觉得所以那那天那句那个口气也不是很合适说你变了这句话但是确实是我觉得我我感受到了这个因为什么不会删因为什么不会删没有那个也没关系因为因为支付宝还在嘛我刚刚就想跟你说这个那个也没关系能不能能不能再还两个月没次两次就就微信接过一次呢这个这个你倒不用担心其实是可最近这个不管你删不删只要那个支付宝还在我肯定会会给你的虽然有这些这些不愉快但是这个起码你应该相信我啊什么嗯知道那那不然还是等我给你之后再删吧就挺后悔的吧就我感觉我应该是真的在你这里真把你当成很在意的朋友就大概是我好了你没什么我觉得你不需要指导了我觉觉得不不想跟你分享了呀我没什么了还有其实之前他也挺接受啊可是他成可是我我把我心里真正的想法告诉他呀在没有他之前我我就认识你啊包括别的朋友了最后他全部都接受啊接受你们你们可以在我心里存在啊最后他接受每当然当然这个每个人做法不一样这个没什么好对比的但只能我只能说我说我只能说其他就没什么好事了我就就就在我自己吧我自己就觉得可能在你这里我是挺重要的一个位置大概就会相差了可能可能是我自己错觉了吧可能没事了事事哎干嘛干嘛去吧挺重差就好了我确实有我确实很难过并且是干自己吧我挺控制住自己然后我觉得你确实确实对不起我确实对不起我我我认为我们的友情确实对不起我就我觉得很奇怪突然然飘飘飘一道道歉让我觉得好像之前跟我认识的那个你跟我就不是你睡吧睡吧睡吧有这样吧可能吧不是吧我睡吧 ...\n"
     ]
    }
   ],
   "source": [
    "results_p = word_refine_pipline(text_in=results)"
   ]
  },
  {
   "cell_type": "code",
   "execution_count": 14,
   "id": "7363955d-74de-483a-a457-65e0cfe29d6f",
   "metadata": {},
   "outputs": [
    {
     "data": {
      "text/plain": [
       "{'text': '嗯，听得到。嗯嗯嗯嗯嗯嗯，哎嗯，好了，那也是希望怎样这么说吧，我会这么发，其实就是就很像我觉得这个东西我当时发这个东西就很像我之前跟你分享那种心态的，完全我敢保证一点，可能一点别的什么都没有，可能也没有考虑到说要不是你跟我说当时在床上这个问题，我都没有想过，我都没有想到这个点，我完全是没有想到这个点的。但是他嗯当时就这年了，那你的你你是希望望望怎样啊？没有，我现在通过，我现在想想，好像我吧，大概是我自己行吧，还得怎么了。嗯，你说吧嗯什么呢？要不你就当以后面，要不你就当以后没有这个朋友了吧。然后然后那个这样样吧，我那天就就就挺难过我，我就为什么不舒服，就我觉得就你心里已经选择。哎呀，我知知道不觉得他是什么时候跟你说这些话的，就我那天那个头发之后嘛，我不知道那个头发啥时候忘记了，我也不知道哪一天五一五一之前吗？那你五一就不该再给我发那些东西以后，慢慢就习惯忘记了。我只能说换位思，我只能说换位思考他的所有他所有顾虑他他那些其实我都能理解。如果因为如果换成是我自己，我也会可以，也可以，只我都我微信吧，游戏也可以自己决定吧，不需要我。当我当初之所以在第一次那个情况下，我同意第二次压回来，主要是因为我真的特别珍惜，然后现在就上就已经让我觉得已经没有没有那个，反正上次那个我就我就有有点感觉到了，反正没们必要了，就已经不是我原来反正我们我们那种关系了，已经不是那样子了，反正上次是不是？反正我是觉得。所以那那天那句那个口气也不是很合适，说你变了这句话，但是确实是我觉得我我感受到了这个，因为什么不会删，因为什么不会删，没有那个也没关系，因为因为支付宝还在嘛，我刚刚就想跟你说，这个那个也没关系，能不能能不能再还两个月，没次两次就就微信接过一次呢。这个这个你倒不用担心，其实是可最近这个不管你删不删，只要那个支付宝还在，我肯定会会给你的。虽然有这些这些不愉快，但是这个起码你应该相信我啊什么嗯，知道，那那不然还是等我给你之后再删吧，就挺后悔的吧。就我感觉我应该是真的在你这里真把你当成很在意的朋友，就大概是我好了。你没什么，我觉得你不需要指导了，我觉觉得不不想跟你分享了呀，我没什么了。还有其实之前他也挺接受啊，可是他成可是我我把我心里真正的想法告诉他呀，在没有他之前我我就认识你啊，包括别的朋友了，最后他全部都接受啊，接受你们你们可以在我心里存在啊，最后他接受每当然当然这个每个人做法不一样，这个没什么好对比的。但只能我只能说，我说我只能说其他就没什么好事了，我就就就在我自己吧，我自己就觉得可能在你这里我是挺重要的一个位置，大概就会相差了。可能可能是我自己错觉了吧，可能没事了，事事哎，干嘛干嘛去吧，挺重差就好了。我确实有我确实很难过，并且是干自己吧，我挺控制住自己。然后我觉得你确实确实对不起，我确实对不起我我我认为我们的友情确实对不起，我就我觉得很奇怪，突然然飘飘飘一道道歉，让我觉得好像之前跟我认识的那个，你跟我就不是你睡吧，睡吧，睡吧，有这样吧，可能吧，不是吧，我睡吧。'}"
      ]
     },
     "execution_count": 14,
     "metadata": {},
     "output_type": "execute_result"
    }
   ],
   "source": [
    "results_p"
   ]
  },
  {
   "cell_type": "code",
   "execution_count": null,
   "id": "db66ee58-aa14-4d37-b694-076fccc135a8",
   "metadata": {},
   "outputs": [],
   "source": []
  }
 ],
 "metadata": {
  "kernelspec": {
   "display_name": "Python 3 (ipykernel)",
   "language": "python",
   "name": "python3"
  },
  "language_info": {
   "codemirror_mode": {
    "name": "ipython",
    "version": 3
   },
   "file_extension": ".py",
   "mimetype": "text/x-python",
   "name": "python",
   "nbconvert_exporter": "python",
   "pygments_lexer": "ipython3",
   "version": "3.8.10"
  }
 },
 "nbformat": 4,
 "nbformat_minor": 5
}
