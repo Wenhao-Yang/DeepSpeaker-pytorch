{
 "cells": [
  {
   "cell_type": "code",
   "execution_count": 1,
   "id": "4ee19913-aeab-436c-8ccd-3e295a095c89",
   "metadata": {},
   "outputs": [
    {
     "name": "stderr",
     "output_type": "stream",
     "text": [
      "2023-05-04 10:50:21,625 - modelscope - INFO - PyTorch version 1.8.1 Found.\n",
      "2023-05-04 10:50:21,626 - modelscope - INFO - Loading ast index from /home/yangwenhao/.cache/modelscope/ast_indexer\n",
      "2023-05-04 10:50:21,643 - modelscope - INFO - Loading done! Current index file version is 1.5.2, with md5 c5a43dc1cfbe78c3cd5963d04e20ef8f and a total number of 860 components indexed\n"
     ]
    }
   ],
   "source": [
    "from modelscope.outputs import OutputKeys\n",
    "from modelscope.pipelines import pipeline\n",
    "from modelscope.utils.constant import Tasks"
   ]
  },
  {
   "cell_type": "code",
   "execution_count": 4,
   "id": "e1f522a2-567b-42f1-81c7-a4a9d62a5c6f",
   "metadata": {},
   "outputs": [
    {
     "name": "stderr",
     "output_type": "stream",
     "text": [
      "2023-05-04 11:06:20,694 - modelscope - INFO - Model revision not specified, use the latest revision: v1.0.1\n",
      "Downloading: 100%|██████████████████████████████████████████████████████████████████████████████████████████████████████████████████████████████████████████████████████████████████████████████████████████| 487/487 [00:00<00:00, 324kB/s]\n",
      "Downloading: 100%|███████████████████████████████████████████████████████████████████████████████████████████████████████████████████████████████████████████████████████████████████████████████████████| 866M/866M [01:32<00:00, 9.77MB/s]\n",
      "Downloading: 100%|███████████████████████████████████████████████████████████████████████████████████████████████████████████████████████████████████████████████████████████████████████████████████████| 866M/866M [01:32<00:00, 9.76MB/s]\n",
      "Downloading: 100%|███████████████████████████████████████████████████████████████████████████████████████████████████████████████████████████████████████████████████████████████████████████████████████| 143M/143M [00:14<00:00, 10.6MB/s]\n",
      "Downloading: 100%|███████████████████████████████████████████████████████████████████████████████████████████████████████████████████████████████████████████████████████████████████████████████████████| 143M/143M [00:15<00:00, 9.87MB/s]\n",
      "Downloading: 100%|█████████████████████████████████████████████████████████████████████████████████████████████████████████████████████████████████████████████████████████████████████████████████████| 3.68k/3.68k [00:00<00:00, 6.06MB/s]\n",
      "Downloading: 100%|█████████████████████████████████████████████████████████████████████████████████████████████████████████████████████████████████████████████████████████████████████████████████████| 2.38k/2.38k [00:00<00:00, 3.79MB/s]\n",
      "Downloading: 100%|█████████████████████████████████████████████████████████████████████████████████████████████████████████████████████████████████████████████████████████████████████████████████████| 2.38k/2.38k [00:00<00:00, 3.97MB/s]\n",
      "Downloading: 100%|█████████████████████████████████████████████████████████████████████████████████████████████████████████████████████████████████████████████████████████████████████████████████████| 3.68k/3.68k [00:00<00:00, 6.77MB/s]\n",
      "Downloading: 100%|██████████████████████████████████████████████████████████████████████████████████████████████████████████████████████████████████████████████████████████████████████████████████████████| 220/220 [00:00<00:00, 432kB/s]\n",
      "Downloading: 100%|███████████████████████████████████████████████████████████████████████████████████████████████████████████████████████████████████████████████████████████████████████████████████████| 10.0/10.0 [00:00<00:00, 8.13kB/s]\n",
      "Downloading: 100%|█████████████████████████████████████████████████████████████████████████████████████████████████████████████████████████████████████████████████████████████████████████████████████| 51.3k/51.3k [00:00<00:00, 3.09MB/s]\n",
      "Downloading: 100%|█████████████████████████████████████████████████████████████████████████████████████████████████████████████████████████████████████████████████████████████████████████████████████| 17.2k/17.2k [00:00<00:00, 2.25MB/s]\n",
      "Downloading: 100%|█████████████████████████████████████████████████████████████████████████████████████████████████████████████████████████████████████████████████████████████████████████████████████| 2.20k/2.20k [00:00<00:00, 3.72MB/s]\n",
      "Downloading: 100%|█████████████████████████████████████████████████████████████████████████████████████████████████████████████████████████████████████████████████████████████████████████████████████| 7.29k/7.29k [00:00<00:00, 4.23MB/s]\n",
      "Downloading: 100%|█████████████████████████████████████████████████████████████████████████████████████████████████████████████████████████████████████████████████████████████████████████████████████| 6.40k/6.40k [00:00<00:00, 1.94MB/s]\n",
      "Downloading: 100%|███████████████████████████████████████████████████████████████████████████████████████████████████████████████████████████████████████████████████████████████████████████████████████| 236M/236M [00:24<00:00, 10.2MB/s]\n",
      "Downloading: 100%|█████████████████████████████████████████████████████████████████████████████████████████████████████████████████████████████████████████████████████████████████████████████████████| 67.1k/67.1k [00:00<00:00, 2.59MB/s]\n",
      "Downloading: 100%|███████████████████████████████████████████████████████████████████████████████████████████████████████████████████████████████████████████████████████████████████████████████████████| 13.0/13.0 [00:00<00:00, 23.2kB/s]\n",
      "Downloading: 100%|█████████████████████████████████████████████████████████████████████████████████████████████████████████████████████████████████████████████████████████████████████████████████████| 63.6k/63.6k [00:00<00:00, 2.81MB/s]\n",
      "Downloading: 100%|███████████████████████████████████████████████████████████████████████████████████████████████████████████████████████████████████████████████████████████████████████████████████████| 31.0/31.0 [00:00<00:00, 44.0kB/s]\n",
      "2023-05-04 11:10:28,806 - modelscope - INFO - initiate model from /home/yangwenhao/.cache/modelscope/hub/speech_tts/speech_sambert-hifigan_tts_chuangirl_Sichuan_16k\n",
      "2023-05-04 11:10:28,806 - modelscope - INFO - initiate model from location /home/yangwenhao/.cache/modelscope/hub/speech_tts/speech_sambert-hifigan_tts_chuangirl_Sichuan_16k.\n",
      "2023-05-04 11:10:28,807 - modelscope - INFO - initialize model from /home/yangwenhao/.cache/modelscope/hub/speech_tts/speech_sambert-hifigan_tts_chuangirl_Sichuan_16k\n",
      "2023-05-04 11:10:28,808 - modelscope - INFO - am_config=/home/yangwenhao/.cache/modelscope/hub/speech_tts/speech_sambert-hifigan_tts_chuangirl_Sichuan_16k/voices/F7/am/config.yaml voc_config=/home/yangwenhao/.cache/modelscope/hub/speech_tts/speech_sambert-hifigan_tts_chuangirl_Sichuan_16k/voices/F7/voc/config.yaml\n",
      "2023-05-04 11:10:28,808 - modelscope - INFO - audio_config=/home/yangwenhao/.cache/modelscope/hub/speech_tts/speech_sambert-hifigan_tts_chuangirl_Sichuan_16k/voices/F7/audio_config.yaml\n",
      "2023-05-04 11:10:28,808 - modelscope - INFO - am_ckpts=OrderedDict([(980000, '/home/yangwenhao/.cache/modelscope/hub/speech_tts/speech_sambert-hifigan_tts_chuangirl_Sichuan_16k/voices/F7/am/ckpt/checkpoint_980000.pth')])\n",
      "2023-05-04 11:10:28,809 - modelscope - INFO - voc_ckpts=OrderedDict([(340000, '/home/yangwenhao/.cache/modelscope/hub/speech_tts/speech_sambert-hifigan_tts_chuangirl_Sichuan_16k/voices/F7/voc/ckpt/checkpoint_340000.pth')])\n",
      "2023-05-04 11:10:28,809 - modelscope - INFO - se_path=/home/yangwenhao/.cache/modelscope/hub/speech_tts/speech_sambert-hifigan_tts_chuangirl_Sichuan_16k/voices/F7/am/se.npy se_model_path=/home/yangwenhao/.cache/modelscope/hub/speech_tts/speech_sambert-hifigan_tts_chuangirl_Sichuan_16k/voices/F7/se/ckpt/se.onnx\n",
      "2023-05-04 11:10:28,809 - modelscope - INFO - mvn_path=/home/yangwenhao/.cache/modelscope/hub/speech_tts/speech_sambert-hifigan_tts_chuangirl_Sichuan_16k/voices/F7/am/mvn.npy\n",
      "festival_initialize() called more than once\n",
      "2023-05-04 11:10:31,312 - modelscope - WARNING - No preprocessor field found in cfg.\n",
      "2023-05-04 11:10:31,313 - modelscope - WARNING - No val key and type key found in preprocessor domain of configuration.json file.\n",
      "2023-05-04 11:10:31,313 - modelscope - WARNING - Cannot find available config to build preprocessor at mode inference, current config: {'model_dir': '/home/yangwenhao/.cache/modelscope/hub/speech_tts/speech_sambert-hifigan_tts_chuangirl_Sichuan_16k'}. trying to build by task and model information.\n",
      "2023-05-04 11:10:31,313 - modelscope - WARNING - No preprocessor key ('sambert-hifigan', 'text-to-speech') found in PREPROCESSOR_MAP, skip building preprocessor.\n"
     ]
    },
    {
     "name": "stdout",
     "output_type": "stream",
     "text": [
      "Load pinyin_en_mix_dict failed\n",
      "Load pinyin_en_mix_dict failed\n",
      "Load pinyin_en_mix_dict failed\n",
      "Load pinyin_en_mix_dict failed\n",
      "Load pinyin_en_mix_dict failed\n",
      "Load pinyin_en_mix_dict failed\n",
      "Load pinyin_en_mix_dict failed\n",
      "Load pinyin_en_mix_dict failed\n",
      "Load pinyin_en_mix_dict failed\n",
      "Load pinyin_en_mix_dict failed\n",
      "Load pinyin_en_mix_dict failed\n",
      "Load pinyin_en_mix_dict failed\n",
      "Load pinyin_en_mix_dict failed\n",
      "Load pinyin_en_mix_dict failed\n",
      "Load pinyin_en_mix_dict failed\n",
      "Load pinyin_en_mix_dict failed\n",
      "Removing weight norm...\n"
     ]
    }
   ],
   "source": [
    "text = '背影。我与父亲不相见已二年余了，我最不能忘记的是他的背影。那年冬天，祖母死了，父亲的差使也交卸了，正是祸不单行的日子。我从北京到徐州，打算跟着父亲奔丧回家。到徐州见着父亲，看见满院狼藉的东西，又想起祖母，不禁簌簌地流下眼泪。父亲说：“事已如此，不必难过，好在天无绝人之路！” 回家变卖典质，父亲还了亏空；又借钱办了丧事。'\n",
    "\n",
    "# model_id = 'speech_tts/speech_sambert-hifigan_tts_zh-cn_multisp_pretrain_16k'\n",
    "model_id = 'speech_tts/speech_sambert-hifigan_tts_chuangirl_Sichuan_16k'\n",
    "sambert_hifigan_tts = pipeline(task=Tasks.text_to_speech, model=model_id)\n",
    "output = sambert_hifigan_tts(input=text)\n",
    "wav = output[OutputKeys.OUTPUT_WAV]\n",
    "with open('output.wav', 'wb') as f:\n",
    "    f.write(wav)"
   ]
  },
  {
   "cell_type": "code",
   "execution_count": null,
   "id": "fa2e3d7b-bc64-4eed-89ab-e8268e216d88",
   "metadata": {},
   "outputs": [],
   "source": []
  }
 ],
 "metadata": {
  "kernelspec": {
   "display_name": "Python 3 (ipykernel)",
   "language": "python",
   "name": "python3"
  },
  "language_info": {
   "codemirror_mode": {
    "name": "ipython",
    "version": 3
   },
   "file_extension": ".py",
   "mimetype": "text/x-python",
   "name": "python",
   "nbconvert_exporter": "python",
   "pygments_lexer": "ipython3",
   "version": "3.8.10"
  }
 },
 "nbformat": 4,
 "nbformat_minor": 5
}
