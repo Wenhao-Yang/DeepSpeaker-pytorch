{
 "cells": [
  {
   "cell_type": "code",
   "execution_count": 2,
   "id": "a7269553-6a1f-43bb-b545-53859633e709",
   "metadata": {
    "tags": []
   },
   "outputs": [],
   "source": [
    "from transformers import BertForSequenceClassification\n",
    "from transformers import BertTokenizer\n",
    "import torch\n",
    "from tqdm import tqdm\n",
    "import pandas as pd\n",
    "import json\n",
    "import numpy as np"
   ]
  },
  {
   "cell_type": "code",
   "execution_count": 11,
   "id": "c1ecb3b1-44e2-4738-a65b-69a253af418b",
   "metadata": {
    "tags": []
   },
   "outputs": [],
   "source": [
    "torch.cuda.set_device(1)"
   ]
  },
  {
   "cell_type": "code",
   "execution_count": 2,
   "id": "7b73e714-33a5-48cb-a67e-9edd5ccc5cba",
   "metadata": {
    "tags": []
   },
   "outputs": [
    {
     "data": {
      "application/vnd.jupyter.widget-view+json": {
       "model_id": "202cdf107e9f4967849ceebde4777c98",
       "version_major": 2,
       "version_minor": 0
      },
      "text/plain": [
       "Downloading (…)solve/main/vocab.txt:   0%|          | 0.00/110k [00:00<?, ?B/s]"
      ]
     },
     "metadata": {},
     "output_type": "display_data"
    },
    {
     "data": {
      "application/vnd.jupyter.widget-view+json": {
       "model_id": "19f770d6d8b54156abd4215eb07dcb00",
       "version_major": 2,
       "version_minor": 0
      },
      "text/plain": [
       "Downloading (…)lve/main/config.json:   0%|          | 0.00/785 [00:00<?, ?B/s]"
      ]
     },
     "metadata": {},
     "output_type": "display_data"
    },
    {
     "data": {
      "application/vnd.jupyter.widget-view+json": {
       "model_id": "3cb1288882514a83ae081a440d30696c",
       "version_major": 2,
       "version_minor": 0
      },
      "text/plain": [
       "Downloading pytorch_model.bin:   0%|          | 0.00/409M [00:00<?, ?B/s]"
      ]
     },
     "metadata": {},
     "output_type": "display_data"
    }
   ],
   "source": [
    "tokenizer=BertTokenizer.from_pretrained('IDEA-CCNL/Erlangshen-Roberta-110M-Sentiment')\n",
    "model=BertForSequenceClassification.from_pretrained('IDEA-CCNL/Erlangshen-Roberta-110M-Sentiment')"
   ]
  },
  {
   "cell_type": "code",
   "execution_count": 3,
   "id": "a912a7b1-5e0b-4a08-85d7-8dad148ffe31",
   "metadata": {
    "tags": []
   },
   "outputs": [
    {
     "name": "stdout",
     "output_type": "stream",
     "text": [
      "tensor([[0.9551, 0.0449]], grad_fn=<SoftmaxBackward0>)\n"
     ]
    }
   ],
   "source": [
    "text='今天心情不好'\n",
    "\n",
    "output=model(torch.tensor([tokenizer.encode(text)]))\n",
    "print(torch.nn.functional.softmax(output.logits,dim=-1))"
   ]
  },
  {
   "cell_type": "code",
   "execution_count": 5,
   "id": "aacf57b1-46ae-44da-85c0-fcf8cc80acad",
   "metadata": {
    "tags": []
   },
   "outputs": [],
   "source": [
    "ta = pd.read_excel('Tourist_Attraction.xlsx')"
   ]
  },
  {
   "cell_type": "code",
   "execution_count": 6,
   "id": "cff49359-1819-449b-a027-71393796595b",
   "metadata": {
    "tags": []
   },
   "outputs": [
    {
     "data": {
      "text/html": [
       "<div>\n",
       "<style scoped>\n",
       "    .dataframe tbody tr th:only-of-type {\n",
       "        vertical-align: middle;\n",
       "    }\n",
       "\n",
       "    .dataframe tbody tr th {\n",
       "        vertical-align: top;\n",
       "    }\n",
       "\n",
       "    .dataframe thead th {\n",
       "        text-align: right;\n",
       "    }\n",
       "</style>\n",
       "<table border=\"1\" class=\"dataframe\">\n",
       "  <thead>\n",
       "    <tr style=\"text-align: right;\">\n",
       "      <th></th>\n",
       "      <th>相关地点数量</th>\n",
       "      <th>微博id</th>\n",
       "      <th>微博主页</th>\n",
       "      <th>文本</th>\n",
       "      <th>日期</th>\n",
       "      <th>图片</th>\n",
       "      <th>转发数</th>\n",
       "      <th>评论数</th>\n",
       "      <th>点赞数</th>\n",
       "      <th>地点</th>\n",
       "      <th>FID</th>\n",
       "      <th>经度</th>\n",
       "      <th>纬度</th>\n",
       "    </tr>\n",
       "  </thead>\n",
       "  <tbody>\n",
       "    <tr>\n",
       "      <th>0</th>\n",
       "      <td>1.0</td>\n",
       "      <td>想做一個小朋友n_</td>\n",
       "      <td>https://weibo.com/1963539801?refer_flag=100103...</td>\n",
       "      <td>#第五届中国天津国际直升机博览会# 冒雨看飞行表演，大部分都是刚参见完70周年，看完更爱我的...</td>\n",
       "      <td>2019年10月13日 16:54</td>\n",
       "      <td>75093d59ly1g7wmzauecjj20u012dgun.jpg 75093d59l...</td>\n",
       "      <td>0.0</td>\n",
       "      <td>2.0</td>\n",
       "      <td>0.0</td>\n",
       "      <td>爱飞客</td>\n",
       "      <td>59871.0</td>\n",
       "      <td>117.444581</td>\n",
       "      <td>39.109729</td>\n",
       "    </tr>\n",
       "    <tr>\n",
       "      <th>1</th>\n",
       "      <td>1.0</td>\n",
       "      <td>鬼鬼滴答滴</td>\n",
       "      <td>https://weibo.com/1652859077?refer_flag=100103...</td>\n",
       "      <td>#天津国际直升机博览会# 大饱眼福，不虚此行 2天津·爱飞客(天津)航空俱乐部有限公司</td>\n",
       "      <td>2019年10月13日 16:26</td>\n",
       "      <td>6284a0c5ly1g7wmtg7nguj20u00u0wko.jpg 6284a0c5l...</td>\n",
       "      <td>0.0</td>\n",
       "      <td>2.0</td>\n",
       "      <td>2.0</td>\n",
       "      <td>爱飞客</td>\n",
       "      <td>59871.0</td>\n",
       "      <td>117.444581</td>\n",
       "      <td>39.109729</td>\n",
       "    </tr>\n",
       "  </tbody>\n",
       "</table>\n",
       "</div>"
      ],
      "text/plain": [
       "   相关地点数量       微博id                                               微博主页   \n",
       "0     1.0  想做一個小朋友n_  https://weibo.com/1963539801?refer_flag=100103...  \\\n",
       "1     1.0      鬼鬼滴答滴  https://weibo.com/1652859077?refer_flag=100103...   \n",
       "\n",
       "                                                  文本                 日期   \n",
       "0  #第五届中国天津国际直升机博览会# 冒雨看飞行表演，大部分都是刚参见完70周年，看完更爱我的...  2019年10月13日 16:54  \\\n",
       "1        #天津国际直升机博览会# 大饱眼福，不虚此行 2天津·爱飞客(天津)航空俱乐部有限公司  2019年10月13日 16:26   \n",
       "\n",
       "                                                  图片  转发数  评论数  点赞数   地点   \n",
       "0  75093d59ly1g7wmzauecjj20u012dgun.jpg 75093d59l...  0.0  2.0  0.0  爱飞客  \\\n",
       "1  6284a0c5ly1g7wmtg7nguj20u00u0wko.jpg 6284a0c5l...  0.0  2.0  2.0  爱飞客   \n",
       "\n",
       "       FID          经度         纬度  \n",
       "0  59871.0  117.444581  39.109729  \n",
       "1  59871.0  117.444581  39.109729  "
      ]
     },
     "execution_count": 6,
     "metadata": {},
     "output_type": "execute_result"
    }
   ],
   "source": [
    "ta.head(2)"
   ]
  },
  {
   "cell_type": "code",
   "execution_count": 8,
   "id": "aa4722af-72cb-4887-9a78-5ef4b84a559c",
   "metadata": {
    "tags": []
   },
   "outputs": [],
   "source": [
    "texts = ta.文本"
   ]
  },
  {
   "cell_type": "code",
   "execution_count": 14,
   "id": "ee421fdf-2355-4849-8dff-7213af163746",
   "metadata": {
    "tags": []
   },
   "outputs": [],
   "source": [
    "model = model.cuda()"
   ]
  },
  {
   "cell_type": "code",
   "execution_count": null,
   "id": "9b2f8206-5cef-497e-9d3b-069673d79e4a",
   "metadata": {
    "tags": []
   },
   "outputs": [],
   "source": [
    "sentiment = []\n",
    "with torch.no_grad():\n",
    "    for i, t in tqdm(enumerate(texts.items()), total=len(texts), ncols=50):\n",
    "        the_text = t[1]\n",
    "        \n",
    "        # for text in the_text.split():\n",
    "        output = model(torch.tensor([tokenizer.encode(the_text)]).cuda())\n",
    "        predicts = torch.nn.functional.softmax(output.logits,dim=-1).cpu().numpy()\n",
    "        sentiment.append([i, predicts[0]])"
   ]
  },
  {
   "cell_type": "code",
   "execution_count": 46,
   "id": "dd324449-d0bf-4a3b-b249-b430669df933",
   "metadata": {
    "tags": []
   },
   "outputs": [],
   "source": [
    "with open('sentiment.json', 'w') as f:\n",
    "    json.dump([[i, p.tolist()] for i, p in sentiment], f)"
   ]
  },
  {
   "cell_type": "code",
   "execution_count": 49,
   "id": "6ca38052-5bb2-4599-a5c7-e661fe767a2a",
   "metadata": {
    "tags": []
   },
   "outputs": [],
   "source": [
    "np_se = np.array([p for i, p in sentiment])"
   ]
  },
  {
   "cell_type": "code",
   "execution_count": 50,
   "id": "3280750d-2c8f-49ac-9ed5-3a98aaac3d73",
   "metadata": {
    "tags": []
   },
   "outputs": [],
   "source": [
    "import matplotlib.pyplot as plt"
   ]
  },
  {
   "cell_type": "code",
   "execution_count": 56,
   "id": "d2ef6fd5-7a9c-4e18-bc3e-9b44f02eedd5",
   "metadata": {
    "tags": []
   },
   "outputs": [
    {
     "data": {
      "image/png": "[encoded data removed]",
      "text/plain": [
       "<Figure size 900x400 with 2 Axes>"
      ]
     },
     "metadata": {},
     "output_type": "display_data"
    }
   ],
   "source": [
    "plt.figure(figsize=(9, 4))\n",
    "\n",
    "plt.subplot(1,2,1)\n",
    "_ = plt.hist(np_se[:,0], bins=20)\n",
    "\n",
    "plt.subplot(1,2,2)\n",
    "_ = plt.hist(np_se[:,1], bins=20)\n",
    "# plt.scatter(np_se[:,0], np_se[:,1])"
   ]
  },
  {
   "cell_type": "code",
   "execution_count": 22,
   "id": "2e7a3857-3fdc-4e2b-9d8c-ab4ea5982842",
   "metadata": {
    "tags": []
   },
   "outputs": [
    {
     "data": {
      "text/plain": [
       "['#第五届中国天津国际直升机博览会#', '冒雨看飞行表演，大部分都是刚参见完70周年，看完更爱我的祖国', '2天津·爱飞客(天津)航空俱乐部有限公司']"
      ]
     },
     "execution_count": 22,
     "metadata": {},
     "output_type": "execute_result"
    }
   ],
   "source": [
    "t = '#第五届中国天津国际直升机博览会# 冒雨看飞行表演，大部分都是刚参见完70周年，看完更爱我的祖国 2天津·爱飞客(天津)航空俱乐部有限公司'\n",
    "t.split()"
   ]
  },
  {
   "cell_type": "code",
   "execution_count": 25,
   "id": "53e53848-9de1-4422-90b4-d72ca51d9b28",
   "metadata": {
    "tags": []
   },
   "outputs": [],
   "source": [
    "from transformers import AutoModelForSequenceClassification\n"
   ]
  },
  {
   "cell_type": "code",
   "execution_count": null,
   "id": "79fe83a0-95eb-4aac-aa1a-02097c98a39c",
   "metadata": {
    "tags": []
   },
   "outputs": [],
   "source": [
    "tokenizer = BertTokenizer.from_pretrained('IDEA-CCNL/Erlangshen-MegatronBert-1.3B-Sentiment')\n",
    "model = AutoModelForSequenceClassification.from_pretrained('IDEA-CCNL/Erlangshen-MegatronBert-1.3B-Sentiment')"
   ]
  },
  {
   "cell_type": "code",
   "execution_count": null,
   "id": "8954a08f-1a90-43ea-9dd5-c814cd55d9ae",
   "metadata": {
    "tags": []
   },
   "outputs": [],
   "source": [
    "tokenizer = BertTokenizer.from_pretrained('IDEA-CCNL/Erlangshen-Roberta-330M-Sentiment')\n",
    "model = BertForSequenceClassification.from_pretrained('IDEA-CCNL/Erlangshen-Roberta-330M-Sentiment')"
   ]
  },
  {
   "cell_type": "code",
   "execution_count": 3,
   "id": "09347c17-849c-45f6-b2da-0a7b53f5b9fa",
   "metadata": {},
   "outputs": [],
   "source": [
    "with open('sentiment.json', 'r') as f:\n",
    "    sents = json.load(f)"
   ]
  },
  {
   "cell_type": "code",
   "execution_count": 9,
   "id": "40fd2f4a-e852-4b20-bb8b-a8bb8c60bc49",
   "metadata": {
    "tags": []
   },
   "outputs": [],
   "source": [
    "sents_p = np.array([p for i, p in sents])"
   ]
  },
  {
   "cell_type": "code",
   "execution_count": 12,
   "id": "2074f0c1-c76d-4167-923c-9b5756024f89",
   "metadata": {
    "tags": []
   },
   "outputs": [
    {
     "data": {
      "text/plain": [
       "0        0.319660\n",
       "1        0.014750\n",
       "2        0.824251\n",
       "3        0.233719\n",
       "4        0.257978\n",
       "           ...   \n",
       "14500    0.013328\n",
       "14501    0.001435\n",
       "14502    0.002241\n",
       "14503    0.001694\n",
       "14504    0.003835\n",
       "Length: 14505, dtype: float64"
      ]
     },
     "execution_count": 12,
     "metadata": {},
     "output_type": "execute_result"
    }
   ],
   "source": [
    "pd.Series(sents_p[:, 0])"
   ]
  },
  {
   "cell_type": "code",
   "execution_count": 13,
   "id": "846e8edd-04c6-44db-9bcc-425b66adf03b",
   "metadata": {
    "tags": []
   },
   "outputs": [
    {
     "data": {
      "text/plain": [
       "(15309, 13)"
      ]
     },
     "execution_count": 13,
     "metadata": {},
     "output_type": "execute_result"
    }
   ],
   "source": [
    "ta.insert(ta.shape[1], '正面概率', pd.Series(sents_p[:, 0]))"
   ]
  },
  {
   "cell_type": "code",
   "execution_count": 20,
   "id": "853b0dbc-62dc-448b-99d3-9d868cb10b4f",
   "metadata": {
    "tags": []
   },
   "outputs": [],
   "source": [
    "real_ta = ta[:14505]"
   ]
  },
  {
   "cell_type": "code",
   "execution_count": 21,
   "id": "479349bb-b4c3-4f32-989c-4132e469cd77",
   "metadata": {
    "tags": []
   },
   "outputs": [],
   "source": [
    "real_ta.insert(real_ta.shape[1], '正面概率', pd.Series(sents_p[:, 1]))"
   ]
  },
  {
   "cell_type": "code",
   "execution_count": 22,
   "id": "9972a3a8-418a-4732-bda7-a9abd3ca258a",
   "metadata": {
    "tags": []
   },
   "outputs": [],
   "source": [
    "real_ta.insert(real_ta.shape[1], '负面概率', pd.Series(sents_p[:, 0]))"
   ]
  },
  {
   "cell_type": "code",
   "execution_count": 27,
   "id": "d6738a83-97de-42ed-b352-2faf1de63c69",
   "metadata": {
    "tags": []
   },
   "outputs": [],
   "source": [
    "real_ta.to_excel('Tourist_Attraction_sent.xlsx')"
   ]
  },
  {
   "cell_type": "code",
   "execution_count": null,
   "id": "fbed3229-f934-4dcb-beaa-ee50f794db36",
   "metadata": {},
   "outputs": [],
   "source": []
  }
 ],
 "metadata": {
  "kernelspec": {
   "display_name": "vits",
   "language": "python",
   "name": "vits"
  },
  "language_info": {
   "codemirror_mode": {
    "name": "ipython",
    "version": 3
   },
   "file_extension": ".py",
   "mimetype": "text/x-python",
   "name": "python",
   "nbconvert_exporter": "python",
   "pygments_lexer": "ipython3",
   "version": "3.10.11"
  }
 },
 "nbformat": 4,
 "nbformat_minor": 5
}
