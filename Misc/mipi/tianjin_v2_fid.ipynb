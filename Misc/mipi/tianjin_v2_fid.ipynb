{
 "cells": [
  {
   "cell_type": "code",
   "execution_count": 1,
   "id": "bb489c9d-c478-4480-b78d-0ec5a48fbd84",
   "metadata": {},
   "outputs": [],
   "source": [
    "import geopandas\n",
    "import pandas as pd\n",
    "import glob\n",
    "import shapefile\n",
    "from tqdm import tqdm\n",
    "import numpy as np\n",
    "import pickle\n",
    "import xlrd3\n",
    "import os\n",
    "import glob\n",
    "import openpyxl"
   ]
  },
  {
   "cell_type": "code",
   "execution_count": 2,
   "id": "6f21dd00-1520-435e-b993-9911a60d6203",
   "metadata": {},
   "outputs": [],
   "source": [
    "# read poi and locations from shp files\n",
    "poi_file = '/home/yangwenhao/local/project/weibo_filter/app/data/POI_fid.xlsx'\n",
    "full_names = pd.read_excel(poi_file, sheet_name=0)"
   ]
  },
  {
   "cell_type": "code",
   "execution_count": 3,
   "id": "3e790893-e7d2-4cdc-8893-8b3a9117278d",
   "metadata": {},
   "outputs": [],
   "source": [
    "class location(object):\n",
    "    def __init__(self, fid, x, y):\n",
    "        self.fid = fid\n",
    "        self.x = x\n",
    "        self.y = y"
   ]
  },
  {
   "cell_type": "code",
   "execution_count": 5,
   "id": "ea912f02-32c5-4f89-b8d8-bffa6146e0e5",
   "metadata": {},
   "outputs": [],
   "source": [
    "if os.path.exists('names2loc2_fid.pickle'):\n",
    "    with open('names2loc2_fid.pickle', 'rb') as f:\n",
    "        names2loc = pickle.load(f)\n",
    "else:\n",
    "    names2loc = {}\n",
    "    for x in full_names[['FID', '名称', '经度', '纬度']].iterrows():\n",
    "        # print(x)\n",
    "        loc = location(fid=x[1].FID, x=x[1].经度, y=x[1].纬度)\n",
    "        names2loc.setdefault(x[1].名称, []).extend([loc])\n",
    "\n",
    "    with open('names2loc2_fid.pickle', 'wb') as f:\n",
    "        pickle.dump(names2loc, f)"
   ]
  },
  {
   "cell_type": "code",
   "execution_count": null,
   "id": "f47f9a96-01ae-4d75-870f-5f90890025e1",
   "metadata": {},
   "outputs": [],
   "source": [
    "# create place2index files giving tweets and locations\n",
    "# pickle file: [places, sparse_matirx]\n",
    "\n",
    "# sub_names = ['商业娱乐', '文化展览', '科研教育', '体育健身', '住区', '旅游景点', '企业办公', '公共服务', '交通设施', '医养设施']\n",
    "for sht_idx in range(1, 11):\n",
    "    full_names = pd.read_excel(poi_file, sheet_name=sht_idx)\n",
    "    names = full_names.名称\n",
    "    location_names = names\n",
    "    numofprint = 4\n",
    "\n",
    "    for lst in ['list2_img', 'list2_woimg']:\n",
    "        text_csv = 'all_list/' + '%s.csv'%(lst)\n",
    "        if not os.path.exists(text_csv):\n",
    "            data = xlrd3.open_workbook('/home/yangwenhao/local/project/weibo_filter/app/data/' + lst + '.xlsx')\n",
    "            table = data.sheet_by_index(0)#.sheets()[0]          #通过索引顺序获取\n",
    "            # get full-text tweets\n",
    "            texts = []\n",
    "            if lst == 'first_2w':\n",
    "                test_idx = 5\n",
    "            elif lst == 'list2_img':\n",
    "                test_idx = 4\n",
    "            elif lst == 'list2_woimg':\n",
    "                test_idx = 6\n",
    "            else:\n",
    "                test_idx = 6\n",
    "\n",
    "            for i in range(1, table.nrows):\n",
    "                texts.append(table.row(i)[test_idx].value)\n",
    "\n",
    "            texts = pd.DataFrame(texts, columns=['text'])\n",
    "            texts.to_csv('%s.csv'%(lst), index=False)\n",
    "        else:\n",
    "            texts = pd.read_csv(text_csv)\n",
    "        # match all palces for all lines\n",
    "        places,sparse_matirx = [],[]\n",
    "        for idx, i in tqdm(enumerate(location_names.unique()), ncols=50,\n",
    "                           total=len(location_names.unique())): #[297604:]\n",
    "            try:\n",
    "                result = texts.text.str.contains(i) # 12:26:26\n",
    "                if result.to_numpy().sum() > 0:\n",
    "                    places.append(i)\n",
    "                    sparse_matirx.append(result.to_numpy())\n",
    "            except Exception as e:\n",
    "                continue\n",
    "\n",
    "            if (idx+1) == len(location_names.unique()):\n",
    "                print(\"出现的地点数: \", len(places), \" 记录的列数:\", len(sparse_matirx))\n",
    "                with open('all_list3/%d_pla2idx_%s.pickle' % (sht_idx, lst), 'wb') as f:\n",
    "                    pickle.dump([places, sparse_matirx], f)\n",
    "                places,sparse_matirx = [],[]"
   ]
  },
  {
   "cell_type": "code",
   "execution_count": 11,
   "id": "35fcb473-7b49-4751-87fb-9b398d86e50d",
   "metadata": {},
   "outputs": [],
   "source": [
    "def MatchProcess(poi_file, sht_idx, lst):\n",
    "    full_names = pd.read_excel(poi_file, sheet_name=sht_idx)\n",
    "    names = full_names.名称\n",
    "    location_names = names\n",
    "    \n",
    "    text_csv = 'all_list/' + '%s.csv'%(lst)\n",
    "    texts = pd.read_csv(text_csv)\n",
    "    places,sparse_matirx = [],[]\n",
    "    for idx, i in tqdm(enumerate(location_names.unique()), ncols=50,\n",
    "                       total=len(location_names.unique())): #[297604:]\n",
    "        try:\n",
    "            result = texts.text.str.contains(i) # 12:26:26\n",
    "            if result.to_numpy().sum() > 0:\n",
    "                places.append(i)\n",
    "                sparse_matirx.append(result.to_numpy())\n",
    "        except Exception as e:\n",
    "            continue\n",
    "\n",
    "    print(\"sheet: \", sht_idx, \" 出现的地点数: \", len(places), \" 记录的列数:\", len(sparse_matirx))\n",
    "    with open('all_list3/%d_pla2idx_%s.pickle' % (sht_idx, lst), 'wb') as f:\n",
    "        pickle.dump([places, sparse_matirx], f)"
   ]
  },
  {
   "cell_type": "code",
   "execution_count": 12,
   "id": "6450c80a-7b04-42e3-a3f3-69ec00e6e40d",
   "metadata": {},
   "outputs": [
    {
     "name": "stderr",
     "output_type": "stream",
     "text": [
      "100%|███████████| 724/724 [01:15<00:00,  9.55it/s]\n"
     ]
    },
    {
     "name": "stdout",
     "output_type": "stream",
     "text": [
      "sheet:  2  出现的地点数:  161  记录的列数: 161\n"
     ]
    },
    {
     "name": "stderr",
     "output_type": "stream",
     "text": [
      "100%|█████████| 1121/1121 [02:03<00:00,  9.08it/s]\n"
     ]
    },
    {
     "name": "stdout",
     "output_type": "stream",
     "text": [
      "sheet:  8  出现的地点数:  100  记录的列数: 100\n"
     ]
    },
    {
     "name": "stderr",
     "output_type": "stream",
     "text": [
      "100%|█████████| 2590/2590 [04:27<00:00,  9.70it/s]\n"
     ]
    },
    {
     "name": "stdout",
     "output_type": "stream",
     "text": [
      "sheet:  6  出现的地点数:  432  记录的列数: 432\n"
     ]
    },
    {
     "name": "stderr",
     "output_type": "stream",
     "text": [
      "100%|█████████| 4639/4639 [07:45<00:00,  9.97it/s]\n"
     ]
    },
    {
     "name": "stdout",
     "output_type": "stream",
     "text": [
      "sheet:  4  出现的地点数:  228  记录的列数: 228\n"
     ]
    },
    {
     "name": "stderr",
     "output_type": "stream",
     "text": [
      "100%|███████| 12332/12332 [19:47<00:00, 10.38it/s]\n"
     ]
    },
    {
     "name": "stdout",
     "output_type": "stream",
     "text": [
      "sheet: "
     ]
    },
    {
     "name": "stderr",
     "output_type": "stream",
     "text": [
      "  6%|▎   | 12190/193378 [19:23<4:35:18, 10.97it/s]"
     ]
    },
    {
     "name": "stdout",
     "output_type": "stream",
     "text": [
      " 10  出现的地点数:  352  记录的列数: 352\n"
     ]
    },
    {
     "name": "stderr",
     "output_type": "stream",
     "text": [
      "100%|███████| 12897/12897 [20:31<00:00, 10.47it/s]\n"
     ]
    },
    {
     "name": "stdout",
     "output_type": "stream",
     "text": [
      "sheet:  5  出现的地点数:  1702  记录的列数: 1702\n"
     ]
    },
    {
     "name": "stderr",
     "output_type": "stream",
     "text": [
      "100%|███████| 15971/15971 [24:59<00:00, 10.65it/s]\n"
     ]
    },
    {
     "name": "stdout",
     "output_type": "stream",
     "text": [
      "sheet:  3  出现的地点数:  753  记录的列数: 753\n"
     ]
    },
    {
     "name": "stderr",
     "output_type": "stream",
     "text": [
      "100%|███████| 22267/22267 [32:55<00:00, 11.27it/s]\n"
     ]
    },
    {
     "name": "stdout",
     "output_type": "stream",
     "text": [
      "sheet:  9  出现的地点数:  2680  记录的列数: "
     ]
    },
    {
     "name": "stderr",
     "output_type": "stream",
     "text": [
      " 43%|██▉    | 21771/51038 [32:56<42:04, 11.59it/s]"
     ]
    },
    {
     "name": "stdout",
     "output_type": "stream",
     "text": [
      "2680\n"
     ]
    },
    {
     "name": "stderr",
     "output_type": "stream",
     "text": [
      "100%|█████| 51038/51038 [1:09:15<00:00, 12.28it/s]\n"
     ]
    },
    {
     "name": "stdout",
     "output_type": "stream",
     "text": [
      "sheet:  7  出现的地点数:  1457  记录的列数: 1457\n"
     ]
    },
    {
     "name": "stderr",
     "output_type": "stream",
     "text": [
      "100%|███| 193378/193378 [3:47:23<00:00, 14.17it/s]\n"
     ]
    },
    {
     "name": "stdout",
     "output_type": "stream",
     "text": [
      "sheet:  1  出现的地点数:  7309  记录的列数: 7309\n"
     ]
    }
   ],
   "source": [
    "from multiprocessing import Pool\n",
    "pool = Pool(processes=14)  # 创建nj个进程\n",
    "# loc_csv = 'tianjin.csv'\n",
    "lst = 'list2_img'\n",
    "for sht_idx in range(1, 11):\n",
    "    pool.apply_async(MatchProcess, args=(poi_file, sht_idx, lst))\n",
    "pool.close()  # 关闭进程池，表示不能在往进程池中添加进程\n",
    "pool.join()  # 等待进程池中的所有进程执行完毕，必须在close()之后调用"
   ]
  },
  {
   "cell_type": "code",
   "execution_count": 20,
   "id": "afa33d45-d2ec-478c-9421-99d11ce7e343",
   "metadata": {},
   "outputs": [
    {
     "name": "stderr",
     "output_type": "stream",
     "text": [
      "100%|█| 289992/289992 [00:01<00:00, 206590.36it/s]\n"
     ]
    },
    {
     "name": "stdout",
     "output_type": "stream",
     "text": [
      "all_list3/Public_Service.xlsx  completed!\n"
     ]
    },
    {
     "name": "stderr",
     "output_type": "stream",
     "text": [
      "100%|█| 289992/289992 [00:02<00:00, 104027.33it/s]\n"
     ]
    },
    {
     "name": "stdout",
     "output_type": "stream",
     "text": [
      "all_list3/Education.xlsx  completed!\n"
     ]
    },
    {
     "name": "stderr",
     "output_type": "stream",
     "text": [
      "100%|█| 289992/289992 [00:02<00:00, 117812.10it/s]\n"
     ]
    },
    {
     "name": "stdout",
     "output_type": "stream",
     "text": [
      "all_list3/Financial_Office.xlsx  completed!\n"
     ]
    },
    {
     "name": "stderr",
     "output_type": "stream",
     "text": [
      "100%|█| 289992/289992 [00:01<00:00, 171076.79it/s]\n"
     ]
    },
    {
     "name": "stdout",
     "output_type": "stream",
     "text": [
      "all_list3/Cultural_Exhibition.xlsx  completed!\n"
     ]
    },
    {
     "name": "stderr",
     "output_type": "stream",
     "text": [
      "100%|█| 289992/289992 [00:01<00:00, 172334.39it/s]\n"
     ]
    },
    {
     "name": "stdout",
     "output_type": "stream",
     "text": [
      "all_list3/Residential_District.xlsx  completed!\n"
     ]
    },
    {
     "name": "stderr",
     "output_type": "stream",
     "text": [
      "100%|█| 289992/289992 [00:01<00:00, 192329.31it/s]\n"
     ]
    },
    {
     "name": "stdout",
     "output_type": "stream",
     "text": [
      "all_list3/Medical_Facilities.xlsx  completed!\n"
     ]
    },
    {
     "name": "stderr",
     "output_type": "stream",
     "text": [
      "100%|██| 289992/289992 [00:10<00:00, 26454.80it/s]\n"
     ]
    },
    {
     "name": "stdout",
     "output_type": "stream",
     "text": [
      "all_list3/Business_Entertainment.xlsx  completed!\n"
     ]
    },
    {
     "name": "stderr",
     "output_type": "stream",
     "text": [
      "100%|██| 289992/289992 [00:05<00:00, 49774.44it/s]\n"
     ]
    },
    {
     "name": "stdout",
     "output_type": "stream",
     "text": [
      "all_list3/Transport.xlsx  completed!\n"
     ]
    },
    {
     "name": "stderr",
     "output_type": "stream",
     "text": [
      "100%|█| 289992/289992 [00:01<00:00, 156650.19it/s]\n"
     ]
    },
    {
     "name": "stdout",
     "output_type": "stream",
     "text": [
      "all_list3/Tourist_Attraction.xlsx  completed!\n"
     ]
    },
    {
     "name": "stderr",
     "output_type": "stream",
     "text": [
      "100%|█| 289992/289992 [00:02<00:00, 123485.46it/s]\n"
     ]
    },
    {
     "name": "stdout",
     "output_type": "stream",
     "text": [
      "all_list3/Sports.xlsx  completed!\n"
     ]
    }
   ],
   "source": [
    "# save match results with pickle\n",
    "headers = [\"相关地点数量\", \"微博id\", \"微博主页\", \"文本\", \"日期\", \"图片\", \"转发数\", \"评论数\", \"点赞数\"]\n",
    "names2loc_key = set(list(names2loc.keys()))\n",
    "sub_names = ['Business_Entertainment', 'Cultural_Exhibition', 'Education', 'Sports', 'Residential_District', 'Tourist_Attraction', 'Financial_Office', 'Public_Service', 'Transport', 'Medical_Facilities']\n",
    "\n",
    "# for lst in ['list2_img', 'list2_woimg']:\n",
    "for lst in ['list2_img']:\n",
    "    text_csv = 'all_list/' + '%s.csv'%(lst)\n",
    "    text_pickle = 'all_list3/' + '*_pla2idx_%s.pickle'%(lst)\n",
    "    text_pickles = glob.glob(text_pickle)\n",
    "    this_texts = pd.read_csv(text_csv, index_col=0)\n",
    "    \n",
    "    for t in text_pickles:\n",
    "        append_cells = {}\n",
    "        with open(t, 'rb') as f:\n",
    "            [places, sparse_matirx] = pickle.load(f)\n",
    "        places_np = np.array(places)\n",
    "        sparse_np = np.array(sparse_matirx) #.shape\n",
    "        if places_np.shape[0] > 0:\n",
    "            for j, l in zip(this_texts.index, range(sparse_np.shape[1])):\n",
    "                row_cells = []\n",
    "                for i in places_np[np.where(sparse_np[:, l] == True)[0]]:\n",
    "                    if i in names2loc_key:\n",
    "                        i_xy = names2loc[i][0] # for new multi place lists\n",
    "                        row_cells.append([i, i_xy.fid, i_xy.x, i_xy.y])\n",
    "                    # else:\n",
    "                    #     row_cells.append([i, \"\", \"\"])\n",
    "                append_cells[j] = row_cells\n",
    "        else:\n",
    "            print('Skip %s ...'%(t))\n",
    "            continue\n",
    "            \n",
    "        if lst == 'list2_img':\n",
    "            read_cols = [2, 3, 4, 5, 6, 7, 8,  9]\n",
    "        elif lst == 'list2_woimg':\n",
    "            read_cols = [2, 3, 6, 7, 8, 9, 10, 11]\n",
    "\n",
    "        read_lst = r'/home/yangwenhao/local/project/weibo_filter/app/data/' + lst + '.xlsx'\n",
    "        title_name = sub_names[int(t.split('/')[1].split('_')[0])-1]\n",
    "        # print(title_name, \"...\")\n",
    "        save_lst = 'all_list3/' + title_name + '.xlsx' # t.replace('pickle', 'loc) \n",
    "        read_writebook = xlrd3.open_workbook(filename=read_lst)\n",
    "        writebook = openpyxl.Workbook()\n",
    "        # 添加sheet 写入excel, 参数对应 行, 列, 值\n",
    "        sheet      = writebook.create_sheet(title=title_name, index=0)\n",
    "        sht_row = 2 # openpyxl start from 1 instead of 0\n",
    "        # 相关地点数量\t微博id\t微博主页\t文本\t日期\t图片\t转发数\t评论数\t点赞数\n",
    "        for i, h in enumerate(headers):\n",
    "            sheet.cell(1, i+1, h)\n",
    "\n",
    "        # write header\n",
    "        # find the tweet with the largest number of locations\n",
    "        max_los = 1\n",
    "        for i in append_cells:\n",
    "            max_los = max(max_los, len(append_cells[i]))\n",
    "            \n",
    "        for i in range(1, max_los+1):\n",
    "            sheet.cell(1, (i-1)*4+len(headers)+1, '地点提取%d'%i)\n",
    "            sheet.cell(1, (i-1)*4+len(headers)+2, '地点FID%d'%i)\n",
    "            sheet.cell(1, (i-1)*4+len(headers)+3, '经度%d'%i)\n",
    "            sheet.cell(1, (i-1)*4+len(headers)+4, '纬度%d'%i)\n",
    "\n",
    "        read_table = read_writebook.sheet_by_index(0)\n",
    "        nrows = read_table.nrows\n",
    "        assert (nrows-1) == len(append_cells), print(\"rows in excel: \", (nrows-1), \"rows in loc_csv: \", len(append_cells))\n",
    "        \n",
    "        for i in tqdm(range(1, nrows), ncols=50):\n",
    "            this_line = read_table.row_slice(i)\n",
    "            this_locs = append_cells[i-1]\n",
    "            locs_names = [l[0] for l in this_locs]\n",
    "\n",
    "            if len(this_locs) > 0:\n",
    "                this_row = sht_row\n",
    "                sht_row += 1\n",
    "\n",
    "                sheet.cell(this_row, 1, len(this_locs))     \n",
    "                for j, c in enumerate(read_cols):\n",
    "                    sheet.cell(this_row, j+2, this_line[c].value)\n",
    "\n",
    "                for j, (name, fid, x, y) in enumerate(this_locs):\n",
    "                    sheet.cell(this_row, j*4+len(headers)+1,   name)\n",
    "                    sheet.cell(this_row, j*4+len(headers)+2,   fid)\n",
    "                    sheet.cell(this_row, j*4+len(headers)+3,   x)\n",
    "                    sheet.cell(this_row, j*4+len(headers)+4,   y)\n",
    "\n",
    "        writebook.save(save_lst)\n",
    "        print(save_lst, \" completed!\")"
   ]
  },
  {
   "cell_type": "code",
   "execution_count": 15,
   "id": "a448331b-87a9-4890-9227-8e3e0ab9f9c9",
   "metadata": {},
   "outputs": [
    {
     "name": "stdout",
     "output_type": "stream",
     "text": [
      "卝 嚟 "
     ]
    }
   ],
   "source": [
    "for n in names2loc_key:\n",
    "    if len(n) == 1:\n",
    "        print(n, end = ' ')"
   ]
  },
  {
   "cell_type": "code",
   "execution_count": 8,
   "id": "dd43e01c-caae-40b4-a58f-92c9ae698381",
   "metadata": {},
   "outputs": [
    {
     "name": "stderr",
     "output_type": "stream",
     "text": [
      "100%|██| 289992/289992 [00:03<00:00, 84987.73it/s]\n"
     ]
    },
    {
     "name": "stdout",
     "output_type": "stream",
     "text": [
      "all_list3/Tourist_Attraction_multiline.xlsx  completed!\n"
     ]
    }
   ],
   "source": [
    "# save match results with pickle\n",
    "headers = [\"相关地点数量\", \"微博id\", \"微博主页\", \"文本\", \"日期\", \"图片\", \"转发数\", \"评论数\", \"点赞数\"]\n",
    "names2loc_key = set(list(names2loc.keys()))\n",
    "sub_names = ['Business_Entertainment', 'Cultural_Exhibition', 'Education', 'Sports', 'Residential_District', 'Tourist_Attraction', 'Financial_Office', 'Public_Service', 'Transport', 'Medical_Facilities']\n",
    "\n",
    "# for lst in ['list2_img', 'list2_woimg']:\n",
    "for lst in ['list2_img']:\n",
    "    text_csv = 'all_list/' + '%s.csv'%(lst)\n",
    "    text_pickle = 'all_list3/' + '*_pla2idx_%s.pickle'%(lst)\n",
    "    # text_pickles = glob.glob(text_pickle)\n",
    "    text_pickles = ['all_list3/6_pla2idx_list2_img.pickle']\n",
    "    \n",
    "    this_texts = pd.read_csv(text_csv, index_col=0)\n",
    "    \n",
    "    for t in text_pickles:\n",
    "        append_cells = {}\n",
    "        with open(t, 'rb') as f:\n",
    "            [places, sparse_matirx] = pickle.load(f)\n",
    "        places_np = np.array(places)\n",
    "        sparse_np = np.array(sparse_matirx) #.shape\n",
    "        if places_np.shape[0] > 0:\n",
    "            for j, l in zip(this_texts.index, range(sparse_np.shape[1])):\n",
    "                row_cells = []\n",
    "                for i in places_np[np.where(sparse_np[:, l] == True)[0]]:\n",
    "                    if i in names2loc_key:\n",
    "                        i_xy = names2loc[i][0] # for new multi place lists\n",
    "                        row_cells.append([i, i_xy.fid, i_xy.x, i_xy.y])\n",
    "                    # else:\n",
    "                    #     row_cells.append([i, \"\", \"\"])\n",
    "                append_cells[j] = row_cells\n",
    "        else:\n",
    "            print('Skip %s ...'%(t))\n",
    "            continue\n",
    "            \n",
    "        if lst == 'list2_img':\n",
    "            read_cols = [2, 3, 4, 5, 6, 7, 8,  9]\n",
    "        elif lst == 'list2_woimg':\n",
    "            read_cols = [2, 3, 6, 7, 8, 9, 10, 11]\n",
    "\n",
    "        read_lst = r'/home/yangwenhao/local/project/weibo_filter/app/data/' + lst + '.xlsx'\n",
    "        title_name = sub_names[int(t.split('/')[1].split('_')[0])-1]\n",
    "        # print(title_name, \"...\")\n",
    "        save_lst = 'all_list3/' + title_name + '_multiline.xlsx' # t.replace('pickle', 'loc) \n",
    "        read_writebook = xlrd3.open_workbook(filename=read_lst)\n",
    "        writebook = openpyxl.Workbook()\n",
    "        # 添加sheet 写入excel, 参数对应 行, 列, 值\n",
    "        sheet      = writebook.create_sheet(title=title_name, index=0)\n",
    "        sht_row = 2 # openpyxl start from 1 instead of 0\n",
    "        # 相关地点数量\t微博id\t微博主页\t文本\t日期\t图片\t转发数\t评论数\t点赞数\n",
    "        for i, h in enumerate(headers):\n",
    "            sheet.cell(1, i+1, h)\n",
    "\n",
    "        # write header\n",
    "        # find the tweet with the largest number of locations\n",
    "        # max_los = 1\n",
    "        sheet.cell(1, len(headers)+1, '地点')\n",
    "        sheet.cell(1, len(headers)+2, 'FID')\n",
    "        sheet.cell(1, len(headers)+3, '经度')\n",
    "        sheet.cell(1, len(headers)+4, '纬度')\n",
    "\n",
    "        read_table = read_writebook.sheet_by_index(0)\n",
    "        nrows = read_table.nrows\n",
    "        assert (nrows-1) == len(append_cells), print(\"rows in excel: \", (nrows-1), \"rows in loc_csv: \", len(append_cells))\n",
    "        \n",
    "        for i in tqdm(range(1, nrows), ncols=50):\n",
    "            this_line = read_table.row_slice(i)\n",
    "            this_locs = append_cells[i-1]\n",
    "            locs_names = [l[0] for l in this_locs]\n",
    "\n",
    "            if len(this_locs) > 0:\n",
    "                this_row = sht_row\n",
    "\n",
    "                for j, (name, fid, x, y) in enumerate(this_locs):\n",
    "                    sheet.cell(this_row, 1, len(this_locs))     \n",
    "                    for j, c in enumerate(read_cols):\n",
    "                        sheet.cell(this_row, j+2, this_line[c].value)\n",
    "                        \n",
    "                    sheet.cell(this_row, len(headers)+1,   name)\n",
    "                    sheet.cell(this_row, len(headers)+2,   fid)\n",
    "                    sheet.cell(this_row, len(headers)+3,   x)\n",
    "                    sheet.cell(this_row, len(headers)+4,   y)\n",
    "                    \n",
    "                    this_row += 1\n",
    "                    sht_row = this_row\n",
    "                    \n",
    "                    \n",
    "        writebook.save(save_lst)\n",
    "        print(save_lst, \" completed!\")"
   ]
  },
  {
   "cell_type": "code",
   "execution_count": null,
   "id": "1f809ac8-1cb1-45e5-bbf0-8c2106159e17",
   "metadata": {},
   "outputs": [],
   "source": []
  }
 ],
 "metadata": {
  "kernelspec": {
   "display_name": "Python 3 (ipykernel)",
   "language": "python",
   "name": "python3"
  },
  "language_info": {
   "codemirror_mode": {
    "name": "ipython",
    "version": 3
   },
   "file_extension": ".py",
   "mimetype": "text/x-python",
   "name": "python",
   "nbconvert_exporter": "python",
   "pygments_lexer": "ipython3",
   "version": "3.8.10"
  }
 },
 "nbformat": 4,
 "nbformat_minor": 5
}
