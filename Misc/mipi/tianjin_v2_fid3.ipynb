{
 "cells": [
  {
   "cell_type": "code",
   "execution_count": 1,
   "id": "ffeb107f-a02b-4466-b7b0-811cb9ecb06d",
   "metadata": {},
   "outputs": [],
   "source": [
    "import geopandas\n",
    "import pandas as pd\n",
    "import glob\n",
    "import shapefile\n",
    "from tqdm import tqdm\n",
    "import numpy as np\n",
    "import pickle\n",
    "import xlrd3\n",
    "import os\n",
    "import glob\n",
    "import openpyxl"
   ]
  },
  {
   "cell_type": "code",
   "execution_count": 2,
   "id": "aba586f2-ac68-44cd-93b7-17c2f372c94f",
   "metadata": {},
   "outputs": [],
   "source": [
    "# read poi and locations from shp files\n",
    "green_poi_file = '/home/yangwenhao/local/project/weibo_filter/app/data/green_v0.3.xls'\n",
    "full_names = pd.read_excel(green_poi_file, sheet_name=0)"
   ]
  },
  {
   "cell_type": "code",
   "execution_count": 13,
   "id": "37ef0f5e-3877-4b65-ae17-3a3162ea00d8",
   "metadata": {},
   "outputs": [],
   "source": [
    "poi2fid = {}\n",
    "fid2name_area = {}\n",
    "for x in full_names[['FID', 'Name', 'areaaa']].iterrows():\n",
    "    fid = x[1].FID\n",
    "    name = x[1].Name.split('/')\n",
    "    fid2name_area[fid] = [x[1].Name, x[1].areaaa]\n",
    "    \n",
    "    for n in name:\n",
    "        poi2fid[n] = fid"
   ]
  },
  {
   "cell_type": "code",
   "execution_count": 19,
   "id": "3e4dd263-410c-40c1-8a06-b282d47fff0a",
   "metadata": {},
   "outputs": [],
   "source": [
    "poi2fid_key = set(list(poi2fid.keys()))"
   ]
  },
  {
   "cell_type": "code",
   "execution_count": 44,
   "id": "a342d84f-4238-410f-aec2-476d58af91d6",
   "metadata": {},
   "outputs": [
    {
     "name": "stdout",
     "output_type": "stream",
     "text": [
      "Num of Tweet:  176968\n"
     ]
    },
    {
     "name": "stderr",
     "output_type": "stream",
     "text": [
      "100%|███████████| 237/237 [00:10<00:00, 23.69it/s]"
     ]
    },
    {
     "name": "stdout",
     "output_type": "stream",
     "text": [
      "Num of POI:  63\n"
     ]
    },
    {
     "name": "stderr",
     "output_type": "stream",
     "text": [
      "\n"
     ]
    }
   ],
   "source": [
    "# create place2index files giving tweets and locations\n",
    "# pickle file: [places, sparse_matirx]\n",
    "\n",
    "# sub_names = ['商业娱乐', '文化展览', '科研教育', '体育健身', '住区', '旅游景点', '企业办公', '公共服务', '交通设施', '医养设施']\n",
    "for sht_idx in range(0, 1):\n",
    "    # full_names = pd.read_excel(poi_file, sheet_name=sht_idx)\n",
    "    # names = full_names.名称\n",
    "    location_names = set(list(poi2fid.keys()))\n",
    "    numofprint = 4\n",
    "\n",
    "    for lst in  ['list2_woimg']: #['list2_img']:\n",
    "        text_csv = 'all_list/' + '%s.csv'%(lst)\n",
    "        if not os.path.exists(text_csv):\n",
    "            data = xlrd3.open_workbook('/home/yangwenhao/local/project/weibo_filter/app/data/' + lst + '.xlsx')\n",
    "            table = data.sheet_by_index(0)#.sheets()[0]          #通过索引顺序获取\n",
    "            # get full-text tweets\n",
    "            texts = []\n",
    "            if lst == 'first_2w':\n",
    "                test_idx = 5\n",
    "            elif lst == 'list2_img':\n",
    "                test_idx = 4\n",
    "            elif lst == 'list2_woimg':\n",
    "                test_idx = 6\n",
    "            else:\n",
    "                test_idx = 6\n",
    "\n",
    "            for i in range(1, table.nrows):\n",
    "                texts.append(table.row(i)[test_idx].value)\n",
    "\n",
    "            texts = pd.DataFrame(texts, columns=['text'])\n",
    "            texts.to_csv('%s.csv'%(lst), index=False)\n",
    "        else:\n",
    "            texts = pd.read_csv(text_csv, index_col=0)\n",
    "            \n",
    "        # match all palces for all lines\n",
    "        print(\"Num of Tweet: \", len(texts))\n",
    "        places,sparse_matirx = [],[]\n",
    "        for idx, i in tqdm(enumerate(location_names), ncols=50,\n",
    "                           total=len(location_names)): #[297604:]\n",
    "            try:\n",
    "                texts.text\n",
    "                result = texts.text.str.contains(i, na=False) # 12:26:26 na to replace Nan\n",
    "                if result.to_numpy().sum() > 0:\n",
    "                    places.append(i)\n",
    "                    sparse_matirx.append(result.to_numpy())\n",
    "                # else:\n",
    "                #     print(i, end=' ')\n",
    "            except Exception as e:\n",
    "                print(result.to_numpy().sum())\n",
    "                break\n",
    "\n",
    "        # if (idx+1) == len(location_names):\n",
    "        print(\"Num of POI: \", len(places))\n",
    "        with open('all_list3_green/pla2idx_%s.pickle' % (lst), 'wb') as f:\n",
    "            pickle.dump([places, sparse_matirx], f)\n",
    "        places,sparse_matirx = [],[]"
   ]
  },
  {
   "cell_type": "code",
   "execution_count": 57,
   "id": "3fdaf584-a270-4b8b-bb8c-e2fcb4d292d0",
   "metadata": {},
   "outputs": [
    {
     "name": "stdout",
     "output_type": "stream",
     "text": [
      "滨海公园 2\n",
      "绿岛公园 1\n",
      "朝阳公园 3\n",
      "中心广场 3\n",
      "官港森林公园 2\n",
      "航母 83\n",
      "南湖游乐园 1\n",
      "天津文化中心 14\n",
      "北宁公园 17\n",
      "世纪钟广场 3\n",
      "中心公园 6\n",
      "桃花园 3\n",
      "宁园 13\n",
      "七里海国家湿地公园 3\n",
      "睦南公园 8\n",
      "黄崖关长城 20\n",
      "文化公园 5\n",
      "南翠屏公园 5\n",
      "乐园 103\n",
      "怡园 3\n",
      "人民公园 23\n",
      "河西公园 2\n",
      "中山公园 7\n",
      "二宫公园 2\n",
      "桥园公园 1\n",
      "中山门公园 1\n",
      "文化广场 9\n",
      "儿童公园 2\n",
      "秋实园 1\n",
      "国际温泉高尔夫俱乐部 3\n",
      "解放北园 1\n",
      "李叔同故居纪念馆 3\n",
      "紫御园 3\n",
      "海河外滩公园 3\n",
      "南开公园 2\n",
      "人民广场 2\n",
      "蓟县国家地质公园 4\n",
      "热带植物观光园 1\n",
      "河东公园 2\n",
      "金钢公园 1\n",
      "欢乐谷 105\n",
      "长泰园 2\n",
      "水上公园 71\n",
      "翠湖公园 1\n",
      "月牙河公园 4\n",
      "滨海航母主题公园 3\n",
      "东疆建设开发纪念公园 1\n",
      "王串场公园 2\n",
      "玉龙滑雪场 1\n",
      "解放南园 3\n",
      "明珠园 2\n",
      "湿地公园 9\n",
      "泰丰公园 2\n",
      "杨柳青广场 1\n",
      "塘沽森林公园 5\n",
      "河滨公园 3\n",
      "燕园 5\n",
      "动物园 130\n",
      "凯旋王国 2\n",
      "紫云公园 1\n",
      "西沽公园 10\n",
      "月季园 2\n",
      "幸福公园 5\n",
      "741\n"
     ]
    }
   ],
   "source": [
    "# texts = pd.read_csv('all_list/list2_woimg.csv', index_col=0)\n",
    "total = 0\n",
    "for i in poi2fid_key:\n",
    "    this_num = texts.text.fillna(\"\").str.contains(i).to_numpy().sum()\n",
    "    total += this_num\n",
    "    if this_num>0:\n",
    "        print(i, this_num)\n",
    "    \n",
    "print(total)"
   ]
  },
  {
   "cell_type": "code",
   "execution_count": 58,
   "id": "f3a5d11e-0a6a-45d5-979b-768c53c29cd2",
   "metadata": {},
   "outputs": [
    {
     "data": {
      "text/plain": [
       "173"
      ]
     },
     "execution_count": 58,
     "metadata": {},
     "output_type": "execute_result"
    }
   ],
   "source": [
    "texts.text.fillna(\"\").str.contains(\"古文化街\").to_numpy().sum()"
   ]
  },
  {
   "cell_type": "code",
   "execution_count": 51,
   "id": "39ee48fb-3bee-4211-a90e-cfd927d25a33",
   "metadata": {},
   "outputs": [
    {
     "name": "stderr",
     "output_type": "stream",
     "text": [
      "100%|█| 176968/176968 [00:00<00:00, 185930.03it/s]\n"
     ]
    },
    {
     "name": "stdout",
     "output_type": "stream",
     "text": [
      "all_list3_green/list2_woimg_poi.xlsx  completed with 741 lines!\n"
     ]
    }
   ],
   "source": [
    "# save match results with pickle\n",
    "headers = [\"相关地点数量\", \"微博id\", \"微博主页\", \"文本\", \"日期\", \"图片\", \"转发数\", \"评论数\", \"点赞数\"]\n",
    "# names2loc_key = set(list(names2loc.keys()))\n",
    "sub_names = ['Business_Entertainment', 'Cultural_Exhibition', 'Education', 'Sports', 'Residential_District', 'Tourist_Attraction', 'Financial_Office', 'Public_Service', 'Transport', 'Medical_Facilities']\n",
    "\n",
    "# for lst in ['list2_img', 'list2_woimg']:\n",
    "for lst in ['list2_woimg']:\n",
    "    text_csv = 'all_list/' + '%s.csv'%(lst)\n",
    "    text_pickle = 'all_list3_green/' + 'pla2idx_%s.pickle'%(lst)\n",
    "    text_pickles = glob.glob(text_pickle)\n",
    "    this_texts = pd.read_csv(text_csv, index_col=0)\n",
    "    \n",
    "    for t in text_pickles:\n",
    "        append_cells = {}\n",
    "        with open(t, 'rb') as f:\n",
    "            [places, sparse_matirx] = pickle.load(f)\n",
    "        \n",
    "        places_np = np.array(places)\n",
    "        sparse_np = np.array(sparse_matirx) #.shape\n",
    "        \n",
    "        if places_np.shape[0] > 0:\n",
    "            for j, l in zip(this_texts.index, range(sparse_np.shape[1])):\n",
    "                row_cells = set([])\n",
    "                for i in places_np[np.where(sparse_np[:, l] == True)[0]]:\n",
    "                    if i in poi2fid_key:\n",
    "                        fid = poi2fid[i]\n",
    "                        row_cells.add(fid)\n",
    "                        \n",
    "                append_cells[j] = row_cells\n",
    "        else:\n",
    "            print('Skip %s ...'%(t))\n",
    "            continue\n",
    "            \n",
    "        if lst == 'list2_img':\n",
    "            read_cols = [2, 3, 4, 5, 6, 7, 8,  9]\n",
    "        elif lst == 'list2_woimg':\n",
    "            read_cols = [2, 3, 6, 7, 8, 9, 10, 11]\n",
    "\n",
    "        read_lst = r'/home/yangwenhao/local/project/weibo_filter/app/data/' + lst + '.xlsx'\n",
    "        # title_name = sub_names[int(t.split('/')[1].split('_')[0])-1]\n",
    "        # print(title_name, \"...\")\n",
    "        save_lst = 'all_list3_green/' + lst + '_poi.xlsx' # t.replace('pickle', 'loc) \n",
    "        read_writebook = xlrd3.open_workbook(filename=read_lst)\n",
    "        writebook = openpyxl.Workbook()\n",
    "        # 添加sheet 写入excel, 参数对应 行, 列, 值\n",
    "        sheet      = writebook.create_sheet(index=0)\n",
    "        sht_row = 2 # openpyxl start from 1 instead of 0\n",
    "        # 相关地点数量\t微博id\t微博主页\t文本\t日期\t图片\t转发数\t评论数\t点赞数\n",
    "        for i, h in enumerate(headers):\n",
    "            sheet.cell(1, i+1, h)\n",
    "\n",
    "        # write header\n",
    "        # find the tweet with the largest number of locations\n",
    "        max_los = 1\n",
    "        for i in append_cells:\n",
    "            max_los = max(max_los, len(append_cells[i]))\n",
    "            \n",
    "        sheet.cell(1, len(headers)+1, '地点')\n",
    "        sheet.cell(1, len(headers)+2, 'FID')\n",
    "        sheet.cell(1, len(headers)+3, '面积')\n",
    "\n",
    "        read_table = read_writebook.sheet_by_index(0)\n",
    "        nrows = read_table.nrows\n",
    "        assert (nrows-1) == len(append_cells), print(\"rows in excel: \", (nrows-1), \"rows in loc_csv: \", len(append_cells))\n",
    "        \n",
    "        for i in tqdm(range(1, nrows), ncols=50):\n",
    "            this_line = read_table.row_slice(i)\n",
    "            fids = append_cells[i-1]\n",
    "            # locs_names = [l[0] for l in this_locs]\n",
    "\n",
    "            if len(fids) > 0:\n",
    "                this_row = sht_row\n",
    "\n",
    "                for fid in fids:\n",
    "                    sheet.cell(this_row, 1, len(fids))\n",
    "                    \n",
    "                    for j, c in enumerate(read_cols):\n",
    "                        sheet.cell(this_row, j+2, this_line[c].value)\n",
    "                    \n",
    "                    name, area = fid2name_area[fid]   \n",
    "                    sheet.cell(this_row, len(headers)+1,   name)\n",
    "                    sheet.cell(this_row, len(headers)+2,   fid)\n",
    "                    sheet.cell(this_row, len(headers)+3,   area)\n",
    "                    \n",
    "                    this_row += 1\n",
    "                    sht_row = this_row\n",
    "\n",
    "        writebook.save(save_lst)\n",
    "        print(save_lst, \" completed with {} lines!\".format(sht_row))"
   ]
  },
  {
   "cell_type": "code",
   "execution_count": null,
   "id": "7f12e0bf-fbb7-4cfa-a624-0e6ea6b607eb",
   "metadata": {},
   "outputs": [],
   "source": []
  }
 ],
 "metadata": {
  "kernelspec": {
   "display_name": "Python 3 (ipykernel)",
   "language": "python",
   "name": "python3"
  },
  "language_info": {
   "codemirror_mode": {
    "name": "ipython",
    "version": 3
   },
   "file_extension": ".py",
   "mimetype": "text/x-python",
   "name": "python",
   "nbconvert_exporter": "python",
   "pygments_lexer": "ipython3",
   "version": "3.8.16"
  }
 },
 "nbformat": 4,
 "nbformat_minor": 5
}
