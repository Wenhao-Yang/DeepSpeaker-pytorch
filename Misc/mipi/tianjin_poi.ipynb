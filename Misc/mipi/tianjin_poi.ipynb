{
 "cells": [
  {
   "cell_type": "code",
   "execution_count": 7,
   "id": "60bee833-3284-4cd5-8660-a84128879486",
   "metadata": {},
   "outputs": [],
   "source": [
    "import geopandas\n",
    "import pandas\n",
    "import glob"
   ]
  },
  {
   "cell_type": "code",
   "execution_count": null,
   "id": "fd169673-d272-42d8-9809-22aad949baab",
   "metadata": {},
   "outputs": [],
   "source": [
    "shp_files = glob.glob('/home/yangwenhao/local/project/weibo_filter/app/data/tianjin/*.shp')\n",
    "\n",
    "places_names = []\n",
    "for f in shp_files:\n",
    "    x = geopandas.read_file(f)\n",
    "    places_names.append(x.name)"
   ]
  },
  {
   "cell_type": "code",
   "execution_count": 6,
   "id": "cd947ba5-8f45-47ea-9c74-ffd57819e5c7",
   "metadata": {},
   "outputs": [
    {
     "data": {
      "text/plain": [
       "0            太公故里\n",
       "1          东岳庄药王庙\n",
       "2           津门药王庙\n",
       "3             城隍庙\n",
       "4       天津岳飞文化纪念馆\n",
       "          ...    \n",
       "2112           踩福\n",
       "2113         鸣驺入谷\n",
       "2114          环翠亭\n",
       "2115        观音阁塑像\n",
       "2116    东疆湾景区人工沙滩\n",
       "Name: name, Length: 2117, dtype: object"
      ]
     },
     "execution_count": 6,
     "metadata": {},
     "output_type": "execute_result"
    }
   ],
   "source": []
  },
  {
   "cell_type": "code",
   "execution_count": null,
   "id": "c4bbb0be-ad75-4a68-9be6-bb4c4286221a",
   "metadata": {},
   "outputs": [],
   "source": []
  }
 ],
 "metadata": {
  "kernelspec": {
   "display_name": "Python 3 (ipykernel)",
   "language": "python",
   "name": "python3"
  },
  "language_info": {
   "codemirror_mode": {
    "name": "ipython",
    "version": 3
   },
   "file_extension": ".py",
   "mimetype": "text/x-python",
   "name": "python",
   "nbconvert_exporter": "python",
   "pygments_lexer": "ipython3",
   "version": "3.8.10"
  }
 },
 "nbformat": 4,
 "nbformat_minor": 5
}
