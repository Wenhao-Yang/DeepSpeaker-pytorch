{
 "cells": [
  {
   "cell_type": "code",
   "execution_count": 5,
   "id": "60bee833-3284-4cd5-8660-a84128879486",
   "metadata": {},
   "outputs": [],
   "source": [
    "import geopandas\n",
    "import pandas as pd\n",
    "import glob\n",
    "import shapefile\n",
    "from tqdm import tqdm"
   ]
  },
  {
   "cell_type": "code",
   "execution_count": 2,
   "id": "fd169673-d272-42d8-9809-22aad949baab",
   "metadata": {},
   "outputs": [
    {
     "name": "stderr",
     "output_type": "stream",
     "text": [
      "100%|████████████████████████████████████████████████████████████████████████████████████████████████████████████████████████████████████████████████████████████████████████████| 23/23 [00:38<00:00,  1.66s/it]\n"
     ]
    }
   ],
   "source": [
    "shp_files = glob.glob('/home/yangwenhao/local/project/weibo_filter/app/data/tianjin/*.shp')\n",
    "\n",
    "places_names = []\n",
    "for f in tqdm(shp_files):\n",
    "    x = geopandas.read_file(f, engine=\"pyogrio\")\n",
    "    places_names.append(x.name)"
   ]
  },
  {
   "cell_type": "code",
   "execution_count": 6,
   "id": "cd947ba5-8f45-47ea-9c74-ffd57819e5c7",
   "metadata": {},
   "outputs": [],
   "source": [
    "names = pd.concat(places_names, axis=0)"
   ]
  },
  {
   "cell_type": "code",
   "execution_count": 10,
   "id": "a3548e7f-2aec-466b-9c59-881afab3839d",
   "metadata": {},
   "outputs": [
    {
     "data": {
      "text/plain": [
       "0         元记电气焊补胎钣金\n",
       "1            元汇津通卸载\n",
       "2           顺福轮胎修理部\n",
       "3        宏顺汽车维修保养中心\n",
       "4        浩博连接起来汽车维修\n",
       "            ...    \n",
       "15004    扶梯(友谊汉友百货)\n",
       "15005    扶梯(友谊汉友百货)\n",
       "15006    楼梯(友谊汉友百货)\n",
       "15007    客梯(友谊汉友百货)\n",
       "15008    楼梯(友谊汉友百货)\n",
       "Name: name, Length: 758397, dtype: object"
      ]
     },
     "execution_count": 10,
     "metadata": {},
     "output_type": "execute_result"
    }
   ],
   "source": [
    "names"
   ]
  },
  {
   "cell_type": "code",
   "execution_count": 11,
   "id": "c4bbb0be-ad75-4a68-9be6-bb4c4286221a",
   "metadata": {},
   "outputs": [],
   "source": [
    "sf = shapefile.Reader('/home/yangwenhao/local/project/weibo_filter/app/data/tianjin/天津市_公共设施_202209.shp')"
   ]
  },
  {
   "cell_type": "code",
   "execution_count": null,
   "id": "3fa96490-09bb-44f5-bd88-83b9b160ad88",
   "metadata": {},
   "outputs": [],
   "source": [
    "for s in sf:\n",
    "    print(s.record[0])"
   ]
  },
  {
   "cell_type": "code",
   "execution_count": null,
   "id": "7d7549fd-09fe-483e-9722-c91f1d84e1de",
   "metadata": {},
   "outputs": [],
   "source": []
  }
 ],
 "metadata": {
  "kernelspec": {
   "display_name": "Python 3 (ipykernel)",
   "language": "python",
   "name": "python3"
  },
  "language_info": {
   "codemirror_mode": {
    "name": "ipython",
    "version": 3
   },
   "file_extension": ".py",
   "mimetype": "text/x-python",
   "name": "python",
   "nbconvert_exporter": "python",
   "pygments_lexer": "ipython3",
   "version": "3.8.10"
  }
 },
 "nbformat": 4,
 "nbformat_minor": 5
}
