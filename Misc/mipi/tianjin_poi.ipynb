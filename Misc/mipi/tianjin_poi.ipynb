{
 "cells": [
  {
   "cell_type": "code",
   "execution_count": 1,
   "id": "60bee833-3284-4cd5-8660-a84128879486",
   "metadata": {},
   "outputs": [],
   "source": [
    "import geopandas\n",
    "import pandas as pd\n",
    "import glob\n",
    "import shapefile\n",
    "from tqdm import tqdm\n",
    "import numpy as np\n",
    "import pickle\n",
    "import xlrd3"
   ]
  },
  {
   "cell_type": "code",
   "execution_count": 2,
   "id": "fd169673-d272-42d8-9809-22aad949baab",
   "metadata": {},
   "outputs": [
    {
     "name": "stderr",
     "output_type": "stream",
     "text": [
      "100%|████████████████████████████████████████████████████████████████████████████████████████████████████████████████████████████████████████████████████████████████████████████| 23/23 [00:38<00:00,  1.66s/it]\n"
     ]
    }
   ],
   "source": [
    "# read poi from shp files\n",
    "shp_files = glob.glob('/home/yangwenhao/local/project/weibo_filter/app/data/tianjin/*.shp')\n",
    "\n",
    "places_names = []\n",
    "for f in tqdm(shp_files):\n",
    "    x = geopandas.read_file(f, engine=\"pyogrio\")\n",
    "    places_names.append(x.name)\n",
    "    \n",
    "names = pd.concat(places_names, axis=0)\n",
    "\n",
    "names.to_csv('tianjin.csv', index=False)"
   ]
  },
  {
   "cell_type": "code",
   "execution_count": 9,
   "id": "d8b03f67-5502-441b-bb64-dee69b845fef",
   "metadata": {},
   "outputs": [],
   "source": [
    "names = pd.read_csv('tianjin.csv').name"
   ]
  },
  {
   "cell_type": "code",
   "execution_count": null,
   "id": "7dfcda49-97ee-40a5-8de3-39f32895c67b",
   "metadata": {},
   "outputs": [],
   "source": [
    "greenbelt = 'greenbelt'\n",
    "greenbelt_list = pd.read_excel('/home/yangwenhao/local/project/weibo_filter/app/data/' + greenbelt + '.xls')"
   ]
  },
  {
   "cell_type": "code",
   "execution_count": 10,
   "id": "20ece0f1-b6cd-44e6-aaa8-27ce8ef76935",
   "metadata": {},
   "outputs": [
    {
     "data": {
      "text/plain": [
       "0    元记电气焊补胎钣金\n",
       "1       元汇津通卸载\n",
       "Name: name, dtype: object"
      ]
     },
     "execution_count": 10,
     "metadata": {},
     "output_type": "execute_result"
    }
   ],
   "source": [
    "names.head(2)"
   ]
  },
  {
   "cell_type": "code",
   "execution_count": 16,
   "id": "a5d14c45-9cf5-4540-90b2-f4f14fb427e0",
   "metadata": {},
   "outputs": [
    {
     "name": "stderr",
     "output_type": "stream",
     "text": [
      "100%|██████████████████████████████████████████████████████████████████████████████████████████████████████████████████████████████████████████████████████████████████████████| 124/124 [00:00<00:00, 801.17it/s]\n"
     ]
    },
    {
     "name": "stdout",
     "output_type": "stream",
     "text": [
      "22 22\n",
      "天津动物园 : 15\n",
      "天津水上公园 : 15\n",
      "滨海文化中心 : 11\n",
      "水西公园 : 10\n",
      "西沽公园 : 9\n"
     ]
    },
    {
     "name": "stderr",
     "output_type": "stream",
     "text": [
      "100%|██████████████████████████████████████████████████████████████████████████████████████████████████████████████████████████████████████████████████████████████████████████| 124/124 [00:00<00:00, 855.72it/s]"
     ]
    },
    {
     "name": "stdout",
     "output_type": "stream",
     "text": [
      "22 22\n",
      "天津动物园 : 12\n",
      "滨海文化中心 : 9\n",
      "人民公园 : 7\n",
      "天津文化中心 : 5\n",
      "天津水上公园 : 4\n"
     ]
    },
    {
     "name": "stderr",
     "output_type": "stream",
     "text": [
      "\n"
     ]
    }
   ],
   "source": [
    "location_names = greenbelt_list.name # names\n",
    "\n",
    "# 'first_2w'\n",
    "for lst in ['first_2w', 'noimg_6w']:\n",
    "    data = xlrd3.open_workbook('/home/yangwenhao/local/project/weibo_filter/app/data/' + lst + '.xls')\n",
    "    table = data.sheets()[0]          #通过索引顺序获取\n",
    "    \n",
    "    # get full-text tweets\n",
    "    texts = []\n",
    "    test_idx = 5 if lst == 'first_2w' else 6\n",
    "    for i in range(1, table.nrows):\n",
    "        texts.append(table.row(i)[test_idx].value)\n",
    "\n",
    "    texts = pd.DataFrame(texts, columns=['text'])\n",
    "    # texts.insert(1, 'places', pd.Series([[]]*len(texts)))\n",
    "    \n",
    "    # match all palces for all lines\n",
    "    places = []\n",
    "    sparse_matirx = []\n",
    "    for i in tqdm(location_names.unique()): #[297604:]\n",
    "        try:\n",
    "            result = texts.text.str.contains(i)\n",
    "            if result.to_numpy().sum() > 0:\n",
    "                places.append(i)\n",
    "                sparse_matirx.append(result.to_numpy())\n",
    "        except Exception as e:\n",
    "            continue\n",
    "    \n",
    "    # save match results with pickle\n",
    "    print(\"出现的地点数: \", len(places), \" 记录的列数:\", len(sparse_matirx))\n",
    "    with open('place2index_%s_green.pickle' % lst, 'wb') as f:\n",
    "        pickle.dump([places, sparse_matirx], f)\n",
    "        \n",
    "    # print the most places in all tweets\n",
    "    name2num = []\n",
    "    for i,p in enumerate(places):\n",
    "        name2num.append(sparse_matirx[i].sum())\n",
    "\n",
    "    name2num = np.array(name2num)\n",
    "    order_num = np.flip(np.argsort(name2num))\n",
    "    np_places = np.array(places)\n",
    "    numofprint = 5\n",
    "    for p, n in zip(np_places[order_num][:numofprint], name2num[order_num][:numofprint]):\n",
    "        print(p, \":\", n)"
   ]
  }
 ],
 "metadata": {
  "kernelspec": {
   "display_name": "Python 3 (ipykernel)",
   "language": "python",
   "name": "python3"
  },
  "language_info": {
   "codemirror_mode": {
    "name": "ipython",
    "version": 3
   },
   "file_extension": ".py",
   "mimetype": "text/x-python",
   "name": "python",
   "nbconvert_exporter": "python",
   "pygments_lexer": "ipython3",
   "version": "3.8.10"
  }
 },
 "nbformat": 4,
 "nbformat_minor": 5
}
