{
 "cells": [
  {
   "cell_type": "code",
   "execution_count": 103,
   "id": "60bee833-3284-4cd5-8660-a84128879486",
   "metadata": {},
   "outputs": [],
   "source": [
    "import geopandas\n",
    "import pandas as pd\n",
    "import glob\n",
    "import shapefile\n",
    "from tqdm import tqdm\n",
    "import numpy as np\n",
    "import pickle"
   ]
  },
  {
   "cell_type": "code",
   "execution_count": 2,
   "id": "fd169673-d272-42d8-9809-22aad949baab",
   "metadata": {},
   "outputs": [
    {
     "name": "stderr",
     "output_type": "stream",
     "text": [
      "100%|████████████████████████████████████████████████████████████████████████████████████████████████████████████████████████████████████████████████████████████████████████████| 23/23 [00:38<00:00,  1.66s/it]\n"
     ]
    }
   ],
   "source": [
    "shp_files = glob.glob('/home/yangwenhao/local/project/weibo_filter/app/data/tianjin/*.shp')\n",
    "\n",
    "places_names = []\n",
    "for f in tqdm(shp_files):\n",
    "    x = geopandas.read_file(f, engine=\"pyogrio\")\n",
    "    places_names.append(x.name)"
   ]
  },
  {
   "cell_type": "code",
   "execution_count": 6,
   "id": "cd947ba5-8f45-47ea-9c74-ffd57819e5c7",
   "metadata": {},
   "outputs": [],
   "source": [
    "names = pd.concat(places_names, axis=0)"
   ]
  },
  {
   "cell_type": "code",
   "execution_count": 30,
   "id": "20ece0f1-b6cd-44e6-aaa8-27ce8ef76935",
   "metadata": {},
   "outputs": [
    {
     "data": {
      "text/plain": [
       "0    元记电气焊补胎钣金\n",
       "1       元汇津通卸载\n",
       "Name: name, dtype: object"
      ]
     },
     "execution_count": 30,
     "metadata": {},
     "output_type": "execute_result"
    }
   ],
   "source": [
    "names.head(2)"
   ]
  },
  {
   "cell_type": "code",
   "execution_count": 11,
   "id": "a3548e7f-2aec-466b-9c59-881afab3839d",
   "metadata": {},
   "outputs": [],
   "source": [
    "names.to_csv('tianjin.csv', index=False)"
   ]
  },
  {
   "cell_type": "code",
   "execution_count": 11,
   "id": "c4bbb0be-ad75-4a68-9be6-bb4c4286221a",
   "metadata": {},
   "outputs": [],
   "source": [
    "sf = shapefile.Reader('/home/yangwenhao/local/project/weibo_filter/app/data/tianjin/天津市_公共设施_202209.shp')"
   ]
  },
  {
   "cell_type": "code",
   "execution_count": null,
   "id": "3fa96490-09bb-44f5-bd88-83b9b160ad88",
   "metadata": {},
   "outputs": [],
   "source": [
    "for s in sf:\n",
    "    print(s.record[0])"
   ]
  },
  {
   "cell_type": "code",
   "execution_count": 14,
   "id": "7d7549fd-09fe-483e-9722-c91f1d84e1de",
   "metadata": {},
   "outputs": [],
   "source": [
    "import xlrd3"
   ]
  },
  {
   "cell_type": "code",
   "execution_count": 15,
   "id": "a5d14c45-9cf5-4540-90b2-f4f14fb427e0",
   "metadata": {},
   "outputs": [],
   "source": [
    "data = xlrd3.open_workbook('/home/yangwenhao/local/project/weibo_filter/app/data/first_2w.xls')"
   ]
  },
  {
   "cell_type": "code",
   "execution_count": 16,
   "id": "566c6d47-9b13-4f81-976b-5c7cc56e5673",
   "metadata": {},
   "outputs": [],
   "source": [
    "table = data.sheets()[0]          #通过索引顺序获取"
   ]
  },
  {
   "cell_type": "code",
   "execution_count": 78,
   "id": "037e7db2-09ac-48b5-85dc-f956d938192c",
   "metadata": {},
   "outputs": [],
   "source": [
    "texts = []\n",
    "for i in range(1, table.nrows):\n",
    "    texts.append(table.row(i)[5].value)\n",
    "    \n",
    "texts = pd.DataFrame(texts, columns=['text'])\n",
    "texts.insert(1, 'places', pd.Series([[]]*len(texts)))"
   ]
  },
  {
   "cell_type": "code",
   "execution_count": 79,
   "id": "4083d4a8-dae6-44e5-96e7-d7dabbf75300",
   "metadata": {},
   "outputs": [],
   "source": [
    "# i.append('t') for i in texts.head(2).places.to_list()"
   ]
  },
  {
   "cell_type": "code",
   "execution_count": 85,
   "id": "f8cace46-1a08-44b4-ab95-3b88d5199af8",
   "metadata": {},
   "outputs": [
    {
     "name": "stderr",
     "output_type": "stream",
     "text": [
      "  0%|                                                                                                                                                                                 | 0/402578 [00:00<?, ?it/s]/tmp/ipykernel_439577/2576573347.py:7: UserWarning: This pattern has match groups. To actually get the groups, use str.extract.\n",
      "  result = texts.text.str.contains(i)\n",
      "100%|███████████████████████████████████████████████████████████████████████████████████████████████████████████████████████████████████████████████████████████████████| 402578/402578 [09:05<00:00, 738.59it/s]\n"
     ]
    }
   ],
   "source": [
    "places = []\n",
    "sparse_matirx = []\n",
    "\n",
    "for i in tqdm(names.unique()[297604:]):\n",
    "    \n",
    "    try:\n",
    "        result = texts.text.str.contains(i)\n",
    "        if result.to_numpy().sum() > 0:\n",
    "            places.append(i)\n",
    "            sparse_matirx.append(result.to_numpy())\n",
    "    except Exception as e:\n",
    "        continue\n",
    "        # break\n",
    "        # texts[texts.text.str.contains(i)].places = texts[texts.text.str.contains(i)].places.to_list().append(i)"
   ]
  },
  {
   "cell_type": "code",
   "execution_count": 105,
   "id": "598c1052-74b2-4522-8d12-d9a8b7ad4e63",
   "metadata": {},
   "outputs": [
    {
     "name": "stdout",
     "output_type": "stream",
     "text": [
      "816 816\n"
     ]
    }
   ],
   "source": [
    "print(len(places), len(sparse_matirx))\n",
    "with open('place2index.pickle', 'wb') as f:\n",
    "    pickle.dump([places, sparse_matirx], f)"
   ]
  },
  {
   "cell_type": "code",
   "execution_count": 102,
   "id": "fa064fef-e866-4e76-b201-b273eaff9a9d",
   "metadata": {},
   "outputs": [
    {
     "name": "stdout",
     "output_type": "stream",
     "text": [
      "天津 : 6174\n",
      "天津之眼 : 539\n",
      "天津市 : 190\n",
      "滨海 : 173\n",
      "美食 : 167\n",
      "海河 : 160\n",
      "天津大学 : 140\n",
      "天津博物馆 : 121\n",
      "天津站 : 112\n",
      "A+ : 93\n",
      "天津失恋博物馆 : 88\n",
      "图书馆 : 78\n",
      "文化街 : 75\n",
      "古文化街 : 74\n",
      "饭 : 72\n",
      "天津街 : 61\n",
      "摩天轮 : 57\n",
      "和平 : 54\n",
      "瓷房子 : 53\n",
      "滨海新区 : 53\n",
      "滨海国际 : 53\n",
      "过大年 : 50\n",
      "酒店 : 49\n",
      "天津古文化街 : 47\n",
      "天津之眼摩天轮 : 42\n",
      "江道 : 40\n",
      "滨江道 : 39\n",
      "天津西站 : 37\n",
      "解放桥 : 35\n",
      "天津自然博物馆 : 34\n",
      "网红 : 30\n",
      "佛 : 29\n",
      "大胡同 : 29\n",
      "花园 : 29\n",
      "饼果子 : 27\n",
      "河东 : 26\n",
      "体育馆 : 24\n",
      "和平区 : 24\n",
      "天津记忆 : 23\n",
      "南市 : 23\n",
      "星巴克 : 22\n",
      "食堂 : 21\n",
      "河西 : 21\n",
      "大街 : 21\n",
      "天津工业大学 : 19\n",
      "天津外国语大学 : 18\n",
      "天津美术馆 : 18\n",
      "牛肉 : 18\n",
      "鼓楼 : 17\n",
      "天津科技大学 : 17\n",
      "幸福 : 17\n",
      "南开区 : 16\n",
      "解放北路 : 16\n",
      "梅江 : 15\n",
      "恒隆广场 : 15\n",
      "天津水上公园 : 15\n",
      "天津动物园 : 15\n",
      "河西区 : 14\n",
      "和平路 : 14\n",
      "时光 : 14\n",
      "公寓 : 14\n",
      "天津师范大学 : 14\n",
      "河北工业大学 : 13\n",
      "白楼 : 12\n",
      "西青 : 12\n",
      "小白楼 : 12\n",
      "医院 : 12\n",
      "望海楼 : 12\n",
      "河东区 : 12\n",
      "饺 : 11\n",
      "阳光 : 11\n",
      "马场 : 11\n",
      "大理道 : 11\n",
      "休闲 : 11\n",
      "杨柳青古镇 : 11\n",
      "北洋园 : 11\n",
      "冬天 : 11\n",
      "夜色 : 11\n",
      "宅 : 11\n",
      "天津港 : 10\n",
      "水西公园 : 10\n",
      "时节 : 10\n",
      "天津商业大学 : 10\n",
      "天津大剧院 : 10\n",
      "西沽 : 10\n",
      "西青区 : 10\n",
      "天塔 : 10\n",
      "天津滨海国际机场 : 9\n",
      "奶茶 : 9\n",
      "宁园 : 9\n",
      "金融街 : 9\n",
      "津河 : 9\n",
      "鸡蛋 : 9\n",
      "渤海 : 9\n",
      "天津市第四中学 : 9\n",
      "蓟州区 : 9\n",
      "国家海洋博物馆 : 9\n",
      "西沽公园 : 9\n",
      "俱乐部 : 8\n",
      "大王 : 8\n"
     ]
    }
   ],
   "source": [
    "name2num = []\n",
    "for i,p in enumerate(places):\n",
    "    name2num.append(sparse_matirx[i].sum())\n",
    "\n",
    "name2num = np.array(name2num)\n",
    "order_num = np.flip(np.argsort(name2num))\n",
    "np_places = np.array(places)\n",
    "for p, n in zip(np_places[order_num][:100], name2num[order_num][:100]):\n",
    "    print(p, \":\", n)"
   ]
  },
  {
   "cell_type": "code",
   "execution_count": 98,
   "id": "7a78be68-2fe0-41fd-99b6-80a22bc63a96",
   "metadata": {},
   "outputs": [
    {
     "data": {
      "text/plain": [
       "array([['烤红薯', '1'],\n",
       "       ['老豆腐', '1'],\n",
       "       ['美食', '167'],\n",
       "       ...,\n",
       "       ['东疆湾景区', '1'],\n",
       "       ['河东公园', '4'],\n",
       "       ['天津盆景园', '1']], dtype='<U21')"
      ]
     },
     "execution_count": 98,
     "metadata": {},
     "output_type": "execute_result"
    }
   ],
   "source": [
    "name2num"
   ]
  },
  {
   "cell_type": "code",
   "execution_count": 47,
   "id": "e26f9640-883c-48c7-ae71-30204cafd5ee",
   "metadata": {},
   "outputs": [],
   "source": [
    "for i in texts.places.values:\n",
    "    if len(i) > 0:\n",
    "        print(i)"
   ]
  },
  {
   "cell_type": "code",
   "execution_count": 66,
   "id": "ec796556-7fce-437c-9262-758969ff678b",
   "metadata": {},
   "outputs": [
    {
     "ename": "NameError",
     "evalue": "name 'np' is not defined",
     "output_type": "error",
     "traceback": [
      "\u001b[0;31m---------------------------------------------------------------------------\u001b[0m",
      "\u001b[0;31mNameError\u001b[0m                                 Traceback (most recent call last)",
      "\u001b[0;32m/tmp/ipykernel_439577/46703501.py\u001b[0m in \u001b[0;36m<cell line: 1>\u001b[0;34m()\u001b[0m\n\u001b[0;32m----> 1\u001b[0;31m \u001b[0mnp\u001b[0m\u001b[0;34m.\u001b[0m\u001b[0munique\u001b[0m\u001b[0;34m(\u001b[0m\u001b[0mnames\u001b[0m\u001b[0;34m.\u001b[0m\u001b[0mvalues\u001b[0m\u001b[0;34m)\u001b[0m\u001b[0;34m\u001b[0m\u001b[0;34m\u001b[0m\u001b[0m\n\u001b[0m",
      "\u001b[0;31mNameError\u001b[0m: name 'np' is not defined"
     ]
    }
   ],
   "source": [
    "np.unique(names.values)"
   ]
  },
  {
   "cell_type": "code",
   "execution_count": 39,
   "id": "0ae72150-262f-4bb3-a7be-9f8fc64e0c43",
   "metadata": {},
   "outputs": [
    {
     "data": {
      "text/plain": [
       "6174"
      ]
     },
     "execution_count": 39,
     "metadata": {},
     "output_type": "execute_result"
    }
   ],
   "source": [
    "texts.text.str.contains('天津').to_numpy().sum()"
   ]
  },
  {
   "cell_type": "code",
   "execution_count": 65,
   "id": "6476424b-42fb-4043-8c8d-6a0e8d2c752b",
   "metadata": {},
   "outputs": [
    {
     "data": {
      "text/html": [
       "<div>\n",
       "<style scoped>\n",
       "    .dataframe tbody tr th:only-of-type {\n",
       "        vertical-align: middle;\n",
       "    }\n",
       "\n",
       "    .dataframe tbody tr th {\n",
       "        vertical-align: top;\n",
       "    }\n",
       "\n",
       "    .dataframe thead th {\n",
       "        text-align: right;\n",
       "    }\n",
       "</style>\n",
       "<table border=\"1\" class=\"dataframe\">\n",
       "  <thead>\n",
       "    <tr style=\"text-align: right;\">\n",
       "      <th></th>\n",
       "      <th>text</th>\n",
       "      <th>places</th>\n",
       "      <th>维修</th>\n",
       "      <th>公司</th>\n",
       "      <th>工厂</th>\n",
       "      <th>OPPO</th>\n",
       "    </tr>\n",
       "  </thead>\n",
       "  <tbody>\n",
       "    <tr>\n",
       "      <th>0</th>\n",
       "      <td>River lounge opening party @ The St. Regis Tia...</td>\n",
       "      <td>[]</td>\n",
       "      <td>False</td>\n",
       "      <td>False</td>\n",
       "      <td>False</td>\n",
       "      <td>False</td>\n",
       "    </tr>\n",
       "    <tr>\n",
       "      <th>1</th>\n",
       "      <td>&gt; 苏帮袁Sue Cuisine &lt;\\n#汤圆好食##TangYuan's Life#\\n\\...</td>\n",
       "      <td>[]</td>\n",
       "      <td>False</td>\n",
       "      <td>False</td>\n",
       "      <td>False</td>\n",
       "      <td>False</td>\n",
       "    </tr>\n",
       "    <tr>\n",
       "      <th>2</th>\n",
       "      <td>&lt;年轻人&gt;构想前程，&lt;老年人&gt;喜爱回忆。\\n《1956年》&lt;憨厚朴实听话爱干活&gt;，农村刚出来...</td>\n",
       "      <td>[]</td>\n",
       "      <td>False</td>\n",
       "      <td>False</td>\n",
       "      <td>False</td>\n",
       "      <td>False</td>\n",
       "    </tr>\n",
       "    <tr>\n",
       "      <th>3</th>\n",
       "      <td>&lt;锦胜雾森&gt;天津津南区蓝光水果侠喷雾造景项目，景区乐园雾森造雾，人造仙境设备制造公司</td>\n",
       "      <td>[]</td>\n",
       "      <td>False</td>\n",
       "      <td>True</td>\n",
       "      <td>False</td>\n",
       "      <td>False</td>\n",
       "    </tr>\n",
       "    <tr>\n",
       "      <th>4</th>\n",
       "      <td>天津</td>\n",
       "      <td>[]</td>\n",
       "      <td>False</td>\n",
       "      <td>False</td>\n",
       "      <td>False</td>\n",
       "      <td>False</td>\n",
       "    </tr>\n",
       "    <tr>\n",
       "      <th>...</th>\n",
       "      <td>...</td>\n",
       "      <td>...</td>\n",
       "      <td>...</td>\n",
       "      <td>...</td>\n",
       "      <td>...</td>\n",
       "      <td>...</td>\n",
       "    </tr>\n",
       "    <tr>\n",
       "      <th>6237</th>\n",
       "      <td>#春游季##天津动物园#</td>\n",
       "      <td>[]</td>\n",
       "      <td>False</td>\n",
       "      <td>False</td>\n",
       "      <td>False</td>\n",
       "      <td>False</td>\n",
       "    </tr>\n",
       "    <tr>\n",
       "      <th>6238</th>\n",
       "      <td>#春游季##五一放假4天##3月去哪儿玩# 今天气温降低，但是天光大好。春季如何不赏花？——...</td>\n",
       "      <td>[]</td>\n",
       "      <td>False</td>\n",
       "      <td>False</td>\n",
       "      <td>False</td>\n",
       "      <td>False</td>\n",
       "    </tr>\n",
       "    <tr>\n",
       "      <th>6239</th>\n",
       "      <td>#春运正式开启# 天津机场</td>\n",
       "      <td>[]</td>\n",
       "      <td>False</td>\n",
       "      <td>False</td>\n",
       "      <td>False</td>\n",
       "      <td>False</td>\n",
       "    </tr>\n",
       "    <tr>\n",
       "      <th>6240</th>\n",
       "      <td>#春韵##宝宝的少女心# 感谢小天\\n@天津大学 大美校园活动的奖品\\n卡贴好可爱 好多天大...</td>\n",
       "      <td>[]</td>\n",
       "      <td>False</td>\n",
       "      <td>False</td>\n",
       "      <td>False</td>\n",
       "      <td>False</td>\n",
       "    </tr>\n",
       "    <tr>\n",
       "      <th>6241</th>\n",
       "      <td>#春韵##花草#考虑要卖掉这天津的房子，说实在还真舍不得这小区的绿化环境 2天津</td>\n",
       "      <td>[]</td>\n",
       "      <td>False</td>\n",
       "      <td>False</td>\n",
       "      <td>False</td>\n",
       "      <td>False</td>\n",
       "    </tr>\n",
       "  </tbody>\n",
       "</table>\n",
       "<p>6242 rows × 6 columns</p>\n",
       "</div>"
      ],
      "text/plain": [
       "                                                   text places     维修     公司  \\\n",
       "0     River lounge opening party @ The St. Regis Tia...     []  False  False   \n",
       "1     > 苏帮袁Sue Cuisine <\\n#汤圆好食##TangYuan's Life#\\n\\...     []  False  False   \n",
       "2     <年轻人>构想前程，<老年人>喜爱回忆。\\n《1956年》<憨厚朴实听话爱干活>，农村刚出来...     []  False  False   \n",
       "3            <锦胜雾森>天津津南区蓝光水果侠喷雾造景项目，景区乐园雾森造雾，人造仙境设备制造公司     []  False   True   \n",
       "4                                                    天津     []  False  False   \n",
       "...                                                 ...    ...    ...    ...   \n",
       "6237                                       #春游季##天津动物园#     []  False  False   \n",
       "6238  #春游季##五一放假4天##3月去哪儿玩# 今天气温降低，但是天光大好。春季如何不赏花？——...     []  False  False   \n",
       "6239                                      #春运正式开启# 天津机场     []  False  False   \n",
       "6240  #春韵##宝宝的少女心# 感谢小天\\n@天津大学 大美校园活动的奖品\\n卡贴好可爱 好多天大...     []  False  False   \n",
       "6241           #春韵##花草#考虑要卖掉这天津的房子，说实在还真舍不得这小区的绿化环境 2天津     []  False  False   \n",
       "\n",
       "         工厂   OPPO  \n",
       "0     False  False  \n",
       "1     False  False  \n",
       "2     False  False  \n",
       "3     False  False  \n",
       "4     False  False  \n",
       "...     ...    ...  \n",
       "6237  False  False  \n",
       "6238  False  False  \n",
       "6239  False  False  \n",
       "6240  False  False  \n",
       "6241  False  False  \n",
       "\n",
       "[6242 rows x 6 columns]"
      ]
     },
     "execution_count": 65,
     "metadata": {},
     "output_type": "execute_result"
    }
   ],
   "source": [
    "texts"
   ]
  },
  {
   "cell_type": "code",
   "execution_count": null,
   "id": "90cddb61-52a6-462d-a9e2-d53bfa6cd6da",
   "metadata": {},
   "outputs": [],
   "source": []
  }
 ],
 "metadata": {
  "kernelspec": {
   "display_name": "Python 3 (ipykernel)",
   "language": "python",
   "name": "python3"
  },
  "language_info": {
   "codemirror_mode": {
    "name": "ipython",
    "version": 3
   },
   "file_extension": ".py",
   "mimetype": "text/x-python",
   "name": "python",
   "nbconvert_exporter": "python",
   "pygments_lexer": "ipython3",
   "version": "3.8.10"
  }
 },
 "nbformat": 4,
 "nbformat_minor": 5
}
