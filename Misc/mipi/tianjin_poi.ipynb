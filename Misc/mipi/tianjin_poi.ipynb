{
 "cells": [
  {
   "cell_type": "code",
   "execution_count": 22,
   "id": "60bee833-3284-4cd5-8660-a84128879486",
   "metadata": {},
   "outputs": [],
   "source": [
    "import geopandas\n",
    "import pandas\n",
    "import glob\n",
    "import shapefile\n",
    "from tqdm import tqdm"
   ]
  },
  {
   "cell_type": "code",
   "execution_count": null,
   "id": "fd169673-d272-42d8-9809-22aad949baab",
   "metadata": {},
   "outputs": [
    {
     "name": "stderr",
     "output_type": "stream",
     "text": [
      "  0%|                                                                                                                                                                                     | 0/23 [00:00<?, ?it/s]Exception ignored in: <function Collection.__del__ at 0x7fd9891c1b80>\n",
      "Traceback (most recent call last):\n",
      "  File \"/home/yangwenhao/anaconda3/envs/py38/lib/python3.8/site-packages/fiona/collection.py\", line 693, in __del__\n",
      "    def __del__(self):\n",
      "KeyboardInterrupt: \n",
      "  4%|███████▌                                                                                                                                                                     | 1/23 [00:47<17:17, 47.15s/it]"
     ]
    }
   ],
   "source": [
    "shp_files = glob.glob('/home/yangwenhao/local/project/weibo_filter/app/data/tianjin/*.shp')\n",
    "\n",
    "places_names = []\n",
    "for f in tqdm(shp_files):\n",
    "    x = geopandas.read_file(f， engine=“pyogrio”)\n",
    "    places_names.append(x.name)"
   ]
  },
  {
   "cell_type": "code",
   "execution_count": null,
   "id": "cd947ba5-8f45-47ea-9c74-ffd57819e5c7",
   "metadata": {},
   "outputs": [],
   "source": [
    "len(places_names)"
   ]
  },
  {
   "cell_type": "code",
   "execution_count": 11,
   "id": "c4bbb0be-ad75-4a68-9be6-bb4c4286221a",
   "metadata": {},
   "outputs": [],
   "source": [
    "sf = shapefile.Reader('/home/yangwenhao/local/project/weibo_filter/app/data/tianjin/天津市_公共设施_202209.shp')"
   ]
  },
  {
   "cell_type": "code",
   "execution_count": null,
   "id": "3fa96490-09bb-44f5-bd88-83b9b160ad88",
   "metadata": {},
   "outputs": [],
   "source": [
    "for s in sf:\n",
    "    print(s.record[0])"
   ]
  },
  {
   "cell_type": "code",
   "execution_count": null,
   "id": "7d7549fd-09fe-483e-9722-c91f1d84e1de",
   "metadata": {},
   "outputs": [],
   "source": []
  }
 ],
 "metadata": {
  "kernelspec": {
   "display_name": "Python 3 (ipykernel)",
   "language": "python",
   "name": "python3"
  },
  "language_info": {
   "codemirror_mode": {
    "name": "ipython",
    "version": 3
   },
   "file_extension": ".py",
   "mimetype": "text/x-python",
   "name": "python",
   "nbconvert_exporter": "python",
   "pygments_lexer": "ipython3",
   "version": "3.8.10"
  }
 },
 "nbformat": 4,
 "nbformat_minor": 5
}
