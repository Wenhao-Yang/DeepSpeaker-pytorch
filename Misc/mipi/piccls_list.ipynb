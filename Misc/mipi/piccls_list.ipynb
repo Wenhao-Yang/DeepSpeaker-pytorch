{
 "cells": [
  {
   "cell_type": "code",
   "execution_count": 28,
   "id": "1039f6bc-e3d9-4f22-a11a-c2f1083dc8e8",
   "metadata": {
    "tags": []
   },
   "outputs": [],
   "source": [
    "import pandas as pd\n",
    "import json\n",
    "import numpy as np\n",
    "import glob\n",
    "import pickle"
   ]
  },
  {
   "cell_type": "code",
   "execution_count": 29,
   "id": "4bea8347-c679-4657-a6f7-6a9cbdc8c141",
   "metadata": {
    "tags": []
   },
   "outputs": [],
   "source": [
    "ta = pd.read_excel('Tourist_Attraction.xlsx')"
   ]
  },
  {
   "cell_type": "code",
   "execution_count": 33,
   "id": "90900c0a-70d5-43d8-a756-f795d717d86b",
   "metadata": {
    "tags": []
   },
   "outputs": [],
   "source": [
    "ta_part = ta[[\"微博id\",\"微博主页\",\"文本\",\"日期\",\"图片\",\"转发数\",\"评论数\",\"点赞数\",\"地点\",\"FID\",\"经度\",\"纬度\"]]"
   ]
  },
  {
   "cell_type": "code",
   "execution_count": 37,
   "id": "075a15a8-8976-42b0-b98d-e7fe83deb84a",
   "metadata": {
    "tags": []
   },
   "outputs": [],
   "source": [
    "ta_part = ta_part[:14505]"
   ]
  },
  {
   "cell_type": "code",
   "execution_count": 38,
   "id": "3cce2f53-ab42-41bb-a443-405f4f85f6e2",
   "metadata": {
    "tags": []
   },
   "outputs": [],
   "source": [
    "new_lines = []\n",
    "\n",
    "for row in ta_part.to_numpy():\n",
    "    imgs = row[4].split()\n",
    "    empty_row = row\n",
    "    empty_row[4] = ''\n",
    "    for img in imgs:\n",
    "        empty_row[4] = img\n",
    "        new_lines.append(empty_row)"
   ]
  },
  {
   "cell_type": "code",
   "execution_count": 42,
   "id": "911d9ef8-cae6-467c-ba0b-2e909346b0c4",
   "metadata": {
    "tags": []
   },
   "outputs": [],
   "source": [
    "new_pds = pd.DataFrame(new_lines, columns=[\"微博id\",\"微博主页\",\"文本\",\"日期\",\"图片\",\"转发数\",\"评论数\",\"点赞数\",\"地点\",\"FID\",\"经度\",\"纬度\"])"
   ]
  },
  {
   "cell_type": "code",
   "execution_count": 79,
   "id": "29961b47-a0b9-49c7-a32e-bc0fd79cc6d0",
   "metadata": {
    "tags": []
   },
   "outputs": [
    {
     "name": "stderr",
     "output_type": "stream",
     "text": [
      "100%|█████| 70005/70005 [00:38<00:00, 1795.44it/s]\n"
     ]
    }
   ],
   "source": [
    "pic_reg = \"data/Tourist_Attraction_Pickle/*.pickle\"\n",
    "pics = glob.glob(pic_reg)\n",
    "\n",
    "img2supcls = {}\n",
    "\n",
    "for pic_path in tqdm(pics, total=len(pics), ncols=50):\n",
    "    imgid = pic_path.split('/')[-1].split('.')[0]\n",
    "    # if imgid == '7546503fly1g9hidlypomj218y0u0qfk':\n",
    "    with open(pic_path, 'rb') as f:\n",
    "        this_result = pickle.load(f)\n",
    "        # draw_panoptic_segmentation(**this_result)\n",
    "\n",
    "        # print(this_result)\n",
    "        segmentation = this_result['segmentation'].cpu().numpy()\n",
    "        seg_info = this_result['segments_info']\n",
    "        ids = np.array([i['id'] for i in seg_info])\n",
    "        idxs = np.array([i['label_id'] for i in seg_info])\n",
    "        id2idxs = {i['id']: i['label_id'] for i in seg_info}\n",
    "\n",
    "        id2counts = {i:np.sum(segmentation==i) for i in ids}\n",
    "        idx2counts = {i:0 for i in np.unique(idxs)}\n",
    "        for i in id2counts:\n",
    "            idx = id2idxs[i]\n",
    "            idx2counts[idx] += id2counts[i]\n",
    "\n",
    "        this_idxs = np.unique(idxs)\n",
    "        this_counts = np.array([idx2counts[i] for i in this_idxs])\n",
    "\n",
    "        # print(this_counts, np.flip(np.argsort(this_counts)))\n",
    "        sort_ids = this_idxs[np.flip(np.argsort(this_counts))]\n",
    "        # print(sort_ids)\n",
    "        subclss = [idxs2lab[str(i)] for i in sort_ids]\n",
    "\n",
    "        # sort_idxs = [id2idxs[i] for i in sort_ids]\n",
    "        # print(sort_ids)\n",
    "\n",
    "        img2supcls[imgid] = subclss"
   ]
  },
  {
   "cell_type": "code",
   "execution_count": 83,
   "id": "e3d0aa1c-9e53-4118-bf63-4b3a0c97f9ef",
   "metadata": {
    "tags": []
   },
   "outputs": [
    {
     "data": {
      "text/plain": [
       "(77924, 12)"
      ]
     },
     "execution_count": 83,
     "metadata": {},
     "output_type": "execute_result"
    }
   ],
   "source": [
    "new_pds.shape"
   ]
  },
  {
   "cell_type": "code",
   "execution_count": 78,
   "id": "0196281f-3401-4133-841e-8943f7a0543e",
   "metadata": {
    "tags": []
   },
   "outputs": [
    {
     "data": {
      "text/plain": [
       "{'7546503fly1g9hidlypomj218y0u0qfk': ['building-other-merged',\n",
       "  'person',\n",
       "  'floor-other-merged',\n",
       "  'banner']}"
      ]
     },
     "execution_count": 78,
     "metadata": {},
     "output_type": "execute_result"
    }
   ],
   "source": [
    "img2supcls"
   ]
  },
  {
   "cell_type": "code",
   "execution_count": 47,
   "id": "4487411f-6699-472b-bc22-78f1def09b0b",
   "metadata": {
    "tags": []
   },
   "outputs": [],
   "source": [
    "with open('/home/yangwenhao/.cache/huggingface/hub/models--facebook--mask2former-swin-large-coco-panoptic/snapshots/85b535928a783691eaf27467a573b26d543336ea/config.json', 'r') as f:\n",
    "    configs = json.load(f)\n",
    "    \n",
    "idxs2lab = configs['id2label']"
   ]
  },
  {
   "cell_type": "code",
   "execution_count": 51,
   "id": "c6511ad0-05fd-4d8d-8bb7-1646ee87aabe",
   "metadata": {
    "tags": []
   },
   "outputs": [],
   "source": [
    "lab2idxs = {idxs2lab[i]:i for i in idxs2lab}"
   ]
  },
  {
   "cell_type": "code",
   "execution_count": 61,
   "id": "7770982c-ef31-431d-ae15-4ec7fea7aec7",
   "metadata": {
    "tags": []
   },
   "outputs": [],
   "source": [
    "subcls2supcls = {}\n",
    "with open('supcls2subcls.txt', 'r') as f:\n",
    "    for l in f.readlines():\n",
    "        supcls, subclss = l.split(\"：\")\n",
    "        subclss = subclss.rstrip(' |\\n')\n",
    "        for subcls in subclss.split(','):\n",
    "            subcls = subcls.rstrip(' ')\n",
    "            subcls = subcls.lstrip(' ')\n",
    "            subcls2supcls[subcls] = supcls"
   ]
  },
  {
   "cell_type": "code",
   "execution_count": 82,
   "id": "3fedff12-1288-40c1-8ff3-fc8ead061819",
   "metadata": {
    "tags": []
   },
   "outputs": [
    {
     "data": {
      "text/plain": [
       "70005"
      ]
     },
     "execution_count": 82,
     "metadata": {},
     "output_type": "execute_result"
    }
   ],
   "source": [
    "len(img2supcls)"
   ]
  },
  {
   "cell_type": "code",
   "execution_count": 84,
   "id": "03be30f9-b878-431f-b470-85a24ebd8019",
   "metadata": {
    "tags": []
   },
   "outputs": [],
   "source": [
    "tag1 = []\n",
    "tag2 = []\n",
    "tag3 = []\n",
    "tag4 = []\n",
    "miss_imgs = []\n",
    "valid_imgs = set(img2supcls.keys())\n",
    "\n",
    "for i in new_pds.图片.to_list():\n",
    "    imgid = i.split('.')[0]\n",
    "    if imgid not in valid_imgs:\n",
    "        miss_imgs.append(imgid)\n",
    "        img_clss = []\n",
    "    else:\n",
    "        img_clss = img2supcls[imgid]\n",
    "    if len(img_clss) > 0:\n",
    "        tag1.append(img_clss[0])\n",
    "    else:\n",
    "        tag1.append('')\n",
    "        \n",
    "    if len(img_clss) > 1:\n",
    "        tag2.append(img_clss[1])\n",
    "    else:\n",
    "        tag2.append('')\n",
    "\n",
    "    if len(img_clss) > 2:\n",
    "        tag3.append(img_clss[2])\n",
    "    else:\n",
    "        tag3.append('')\n",
    "        \n",
    "    if len(img_clss) > 3:\n",
    "        tag4.append(' '.join(img_clss[3:]))\n",
    "    else:\n",
    "        tag4.append('')\n",
    "        "
   ]
  },
  {
   "cell_type": "code",
   "execution_count": 85,
   "id": "c1b15dfc-ee1d-4676-a213-a7c7abb3c9ea",
   "metadata": {
    "tags": []
   },
   "outputs": [
    {
     "data": {
      "text/plain": [
       "['9cf48bcfly1g6mjpghn7uj20u00k0dkv',\n",
       " '9cf48bcfly1g6mjpghn7uj20u00k0dkv',\n",
       " '9cf48bcfly1g6mjpghn7uj20u00k0dkv',\n",
       " '9cf48bcfly1g6mjpghn7uj20u00k0dkv',\n",
       " '9cf48bcfly1g6mjpghn7uj20u00k0dkv',\n",
       " '9cf48bcfly1g6mjpghn7uj20u00k0dkv',\n",
       " '9cf48bcfly1g6mjpghn7uj20u00k0dkv',\n",
       " '9cf48bcfly1g6mjpghn7uj20u00k0dkv',\n",
       " '9cf48bcfly1g6mjpghn7uj20u00k0dkv']"
      ]
     },
     "execution_count": 85,
     "metadata": {},
     "output_type": "execute_result"
    }
   ],
   "source": [
    "miss_imgs"
   ]
  },
  {
   "cell_type": "code",
   "execution_count": 87,
   "id": "9683f6d9-68ba-489e-9a4e-e7d80e7d6587",
   "metadata": {
    "tags": []
   },
   "outputs": [
    {
     "name": "stdout",
     "output_type": "stream",
     "text": [
      "77924 13273\n"
     ]
    }
   ],
   "source": [
    "img_lst = new_pds.图片.to_list()\n",
    "print(len(img_lst), len(np.unique(img_lst)))"
   ]
  },
  {
   "cell_type": "code",
   "execution_count": null,
   "id": "5478b1d2-5a3a-46f0-886f-7b4dc9798618",
   "metadata": {},
   "outputs": [],
   "source": []
  }
 ],
 "metadata": {
  "kernelspec": {
   "display_name": "vits",
   "language": "python",
   "name": "vits"
  },
  "language_info": {
   "codemirror_mode": {
    "name": "ipython",
    "version": 3
   },
   "file_extension": ".py",
   "mimetype": "text/x-python",
   "name": "python",
   "nbconvert_exporter": "python",
   "pygments_lexer": "ipython3",
   "version": "3.10.11"
  }
 },
 "nbformat": 4,
 "nbformat_minor": 5
}
