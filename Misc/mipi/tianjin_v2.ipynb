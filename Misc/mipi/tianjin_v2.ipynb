{
 "cells": [
  {
   "cell_type": "code",
   "execution_count": 1,
   "id": "bb489c9d-c478-4480-b78d-0ec5a48fbd84",
   "metadata": {},
   "outputs": [],
   "source": [
    "import geopandas\n",
    "import pandas as pd\n",
    "import glob\n",
    "import shapefile\n",
    "from tqdm import tqdm\n",
    "import numpy as np\n",
    "import pickle\n",
    "import xlrd3\n",
    "import os\n",
    "import glob\n",
    "import openpyxl"
   ]
  },
  {
   "cell_type": "code",
   "execution_count": 12,
   "id": "6f21dd00-1520-435e-b993-9911a60d6203",
   "metadata": {},
   "outputs": [],
   "source": [
    "# read poi and locations from shp files\n",
    "full_names = pd.read_excel('/home/yangwenhao/local/project/weibo_filter/app/data/POI_tianjin_0427.xlsx',\n",
    "                              sheet_name=0)\n",
    "\n",
    "# 经度\t纬度\n",
    "# names2loc = {}\n",
    "# for l in places_names_loc.iterrows():\n",
    "#     # print(l[1].values[0], l[1].values[1],)\n",
    "#     names2loc[l[1].values[0]] = l[1].values[1]\n",
    "\n",
    "# with open('names2loc.pickle', 'wb') as f:\n",
    "#     pickle.dump(names2loc, f)"
   ]
  },
  {
   "cell_type": "code",
   "execution_count": 37,
   "id": "3e790893-e7d2-4cdc-8893-8b3a9117278d",
   "metadata": {},
   "outputs": [],
   "source": [
    "class location(object):\n",
    "    def __init__(self, x, y):\n",
    "        self.x = x\n",
    "        self.y = y"
   ]
  },
  {
   "cell_type": "code",
   "execution_count": 39,
   "id": "ea912f02-32c5-4f89-b8d8-bffa6146e0e5",
   "metadata": {},
   "outputs": [],
   "source": [
    "names2loc = {}\n",
    "for x in full_names[['名称', '经度', '纬度']].iterrows():\n",
    "    # print(x)\n",
    "    loc = location(x=x[1].经度, y=x[1].纬度)\n",
    "    names2loc[x[1].名称] = loc\n",
    "    \n",
    "with open('names2loc2.pickle', 'wb') as f:\n",
    "    pickle.dump(names2loc, f)"
   ]
  },
  {
   "cell_type": "code",
   "execution_count": 10,
   "id": "f47f9a96-01ae-4d75-870f-5f90890025e1",
   "metadata": {},
   "outputs": [
    {
     "name": "stderr",
     "output_type": "stream",
     "text": [
      "100%|█| 10028/10028 \n"
     ]
    },
    {
     "name": "stdout",
     "output_type": "stream",
     "text": [
      "出现的地点数:  265  记录的列数: 265\n"
     ]
    },
    {
     "name": "stderr",
     "output_type": "stream",
     "text": [
      "100%|█| 10028/10028 "
     ]
    },
    {
     "name": "stdout",
     "output_type": "stream",
     "text": [
      "出现的地点数:  0  记录的列数: 0\n"
     ]
    },
    {
     "name": "stderr",
     "output_type": "stream",
     "text": [
      "\n"
     ]
    }
   ],
   "source": [
    "# create place2index files giving tweets and locations\n",
    "# pickle file: [places, sparse_matirx]\n",
    "\n",
    "sub_names = ['商业娱乐', '文化展览', '科研教育', '体育健身', '住区', '旅游景点', '企业办公', '公共服务', '交通设施', '医养设施']\n",
    "\n",
    "for sht_idx in range(10, 11):\n",
    "    full_names = pd.read_excel('/home/yangwenhao/local/project/weibo_filter/app/data/POI_tianjin_0427.xlsx',\n",
    "                              sheet_name=sht_idx)\n",
    "    names = full_names.名称\n",
    "    location_names = names\n",
    "    numofprint = 4\n",
    "\n",
    "    for lst in ['list2_img', 'list2_woimg']:\n",
    "        text_csv = 'all_list/' + '%s.csv'%(lst)\n",
    "        if not os.path.exists(text_csv):\n",
    "            data = xlrd3.open_workbook('/home/yangwenhao/local/project/weibo_filter/app/data/' + lst + '.xlsx')\n",
    "            table = data.sheet_by_index(0)#.sheets()[0]          #通过索引顺序获取\n",
    "            # get full-text tweets\n",
    "            texts = []\n",
    "            if lst == 'first_2w':\n",
    "                test_idx = 5\n",
    "            elif lst == 'list2_img':\n",
    "                test_idx = 4\n",
    "            elif lst == 'list2_woimg':\n",
    "                test_idx = 6\n",
    "            else:\n",
    "                test_idx = 6\n",
    "\n",
    "            for i in range(1, table.nrows):\n",
    "                texts.append(table.row(i)[test_idx].value)\n",
    "\n",
    "            texts = pd.DataFrame(texts, columns=['text'])\n",
    "            texts.to_csv('%s.csv'%(lst), index=False)\n",
    "        else:\n",
    "            texts = pd.read_csv(text_csv)\n",
    "        # match all palces for all lines\n",
    "        places,sparse_matirx = [],[]\n",
    "        for idx, i in tqdm(enumerate(location_names.unique()), ncols=50,\n",
    "                           total=len(location_names.unique())): #[297604:]\n",
    "            try:\n",
    "                result = texts.text.str.contains(i) # 12:26:26\n",
    "                if result.to_numpy().sum() > 0:\n",
    "                    places.append(i)\n",
    "                    sparse_matirx.append(result.to_numpy())\n",
    "            except Exception as e:\n",
    "                continue\n",
    "\n",
    "            if (idx+1) % 250000 == 0 or (idx+1) == len(location_names.unique()):\n",
    "                print(\"出现的地点数: \", len(places), \" 记录的列数:\", len(sparse_matirx))\n",
    "                with open('all_list2/%dplace2index_%s_%d.pickle' % (sht_idx, lst, idx), 'wb') as f:\n",
    "                    pickle.dump([places, sparse_matirx], f)\n",
    "                places,sparse_matirx = [],[]"
   ]
  },
  {
   "cell_type": "code",
   "execution_count": null,
   "id": "6450c80a-7b04-42e3-a3f3-69ec00e6e40d",
   "metadata": {},
   "outputs": [],
   "source": [
    "from multiprocessing import Pool\n",
    "\n",
    "pool = Pool(processes=14)  # 创建nj个进程\n",
    "loc_csv = 'tianjin.csv'\n",
    "\n",
    "for tweet_csv in text_csvs:\n",
    "    # MatchProcess(tweet_csv, loc_csv, pickle_path)\n",
    "    pickle_path = tweet_csv.replace('csv', 'pickle')\n",
    "    pool.apply_async(MatchProcess, args=(tweet_csv, loc_csv, pickle_path))\n",
    "    \n",
    "pool.close()  # 关闭进程池，表示不能在往进程池中添加进程\n",
    "pool.join()  # 等待进程池中的所有进程执行完毕，必须在close()之后调用"
   ]
  },
  {
   "cell_type": "code",
   "execution_count": null,
   "id": "15e8eb44-b083-467b-bde1-c16dc1010b68",
   "metadata": {},
   "outputs": [],
   "source": [
    "# create xlsx files giving pickle file: [places, sparse_matirx]\n",
    "sub_names = ['商业娱乐', '文化展览', '科研教育', '体育健身', '住区', '旅游景点', '企业办公', '公共服务', '交通设施', '医养设施']\n",
    "\n",
    "for sht_idx in range(1, 11):\n",
    "    numofprint = 4\n",
    "    for lst in ['list2_img', 'list2_woimg']:\n",
    "        text_csv = 'all_list/' + '%s.csv'%(lst)\n",
    "        if not os.path.exists(text_csv):\n",
    "            data = xlrd3.open_workbook('/home/yangwenhao/local/project/weibo_filter/app/data/' + lst + '.xlsx')\n",
    "            table = data.sheet_by_index(0)#.sheets()[0]          #通过索引顺序获取\n",
    "            # get full-text tweets\n",
    "            texts = []\n",
    "            if lst == 'first_2w':\n",
    "                test_idx = 5\n",
    "            elif lst == 'list2_img':\n",
    "                test_idx = 4\n",
    "            elif lst == 'list2_woimg':\n",
    "                test_idx = 6\n",
    "            else:\n",
    "                test_idx = 6\n",
    "\n",
    "            for i in range(1, table.nrows):\n",
    "                texts.append(table.row(i)[test_idx].value)\n",
    "\n",
    "            texts = pd.DataFrame(texts, columns=['text'])\n",
    "            texts.to_csv('%s.csv'%(lst), index=False)\n",
    "        else:\n",
    "            texts = pd.read_csv(text_csv)\n",
    "        # match all palces for all lines\n",
    "        places,sparse_matirx = [],[]\n",
    "        for idx, i in tqdm(enumerate(location_names.unique()), ncols=50,\n",
    "                           total=len(location_names.unique())): #[297604:]\n",
    "            try:\n",
    "                result = texts.text.str.contains(i) # 12:26:26\n",
    "                if result.to_numpy().sum() > 0:\n",
    "                    places.append(i)\n",
    "                    sparse_matirx.append(result.to_numpy())\n",
    "            except Exception as e:\n",
    "                continue\n",
    "\n",
    "            if (idx+1) % 250000 == 0 or (idx+1) == len(location_names.unique()):\n",
    "                print(\"出现的地点数: \", len(places), \" 记录的列数:\", len(sparse_matirx))\n",
    "                with open('all_list2/%dplace2index_%s_%d.pickle' % (sht_idx, lst, idx), 'wb') as f:\n",
    "                    pickle.dump([places, sparse_matirx], f)\n",
    "                places,sparse_matirx = [],[]"
   ]
  },
  {
   "cell_type": "code",
   "execution_count": 65,
   "id": "895b5c16-e50e-49c2-bc33-3e028d2a005c",
   "metadata": {},
   "outputs": [],
   "source": [
    "invalid_places = set(['内', '顾', '尚', 'R', '简', '锦', '落', '嚟', 'C', 'e', 'f', 'H', 'L', 'n', 'W', '酷', '漫', '品', '陶', '喜', '懿', '银', '渔', '遇', '青', '佛', '中', 'A+', '北京', '入胜', '佛', '英语', '乐高', '球球', '大地', '完美'])"
   ]
  },
  {
   "cell_type": "code",
   "execution_count": null,
   "id": "afa33d45-d2ec-478c-9421-99d11ce7e343",
   "metadata": {},
   "outputs": [
    {
     "name": "stderr",
     "output_type": "stream",
     "text": [
      "100%|███████████████████████████████████████████████████| 289992/289992 [00:02<00:00, 140800.96it/s]\n"
     ]
    },
    {
     "name": "stdout",
     "output_type": "stream",
     "text": [
      "all_list2/体育健身.xlsx  completed!\n"
     ]
    },
    {
     "name": "stderr",
     "output_type": "stream",
     "text": [
      "100%|████████████████████████████████████████████████████| 289992/289992 [00:13<00:00, 21480.75it/s]\n"
     ]
    },
    {
     "name": "stdout",
     "output_type": "stream",
     "text": [
      "all_list2/交通设施.xlsx  completed!\n"
     ]
    },
    {
     "name": "stderr",
     "output_type": "stream",
     "text": [
      "100%|███████████████████████████████████████████████████| 289992/289992 [00:01<00:00, 186582.08it/s]\n"
     ]
    },
    {
     "name": "stdout",
     "output_type": "stream",
     "text": [
      "all_list2/文化展览.xlsx  completed!\n"
     ]
    },
    {
     "name": "stderr",
     "output_type": "stream",
     "text": [
      "100%|████████████████████████████████████████████████████| 289992/289992 [00:17<00:00, 16788.04it/s]\n"
     ]
    }
   ],
   "source": [
    "# save match results with pickle\n",
    "headers = [\"相关地点数量\", \"微博id\", \"微博主页\", \"文本\", \"日期\", \"图片\", \"转发数\", \"评论数\", \"点赞数\"]\n",
    "names2loc_key = set(list(names2loc.keys()))\n",
    "\n",
    "for lst in ['list2_img', 'list2_woimg']:\n",
    "    \n",
    "    text_csv = 'all_list/' + '%s.csv'%(lst)\n",
    "    text_pickle = 'all_list2/' + '*_%s_*.pickle'%(lst)\n",
    "    text_pickles = glob.glob(text_pickle)\n",
    "    this_texts = pd.read_csv(text_csv, index_col=0)\n",
    "    \n",
    "    for t in text_pickles:\n",
    "        append_cells = {}\n",
    "        with open(t, 'rb') as f:\n",
    "            [places, sparse_matirx] = pickle.load(f)\n",
    "        places_np = np.array(places)\n",
    "        sparse_np = np.array(sparse_matirx) #.shape\n",
    "        if places_np.shape[0] > 0:\n",
    "            for j, l in zip(this_texts.index, range(sparse_np.shape[1])):\n",
    "                row_cells = []\n",
    "                for i in places_np[np.where(sparse_np[:, l] == True)[0]]:\n",
    "                    if i in invalid_places: # 过滤奇怪的点\n",
    "                        continue\n",
    "                        \n",
    "                    if i in names2loc_key:\n",
    "                        i_xy = names2loc[i]\n",
    "                        row_cells.append([i, i_xy.x, i_xy.y])\n",
    "                    else:\n",
    "                        row_cells.append([i, \"\", \"\"])\n",
    "                append_cells[j] = row_cells\n",
    "        else:\n",
    "            print('Skip %s ...'%(t))\n",
    "            continue\n",
    "            \n",
    "        if lst == 'list2_img':\n",
    "            read_cols = [2, 3, 4, 5, 6, 7, 8, 9]\n",
    "        elif lst == 'list2_woimg':\n",
    "            read_cols = [2, 3, 6, 7, 8, 9, 10, 11]\n",
    "\n",
    "        read_lst = r'/home/yangwenhao/local/project/weibo_filter/app/data/' + lst + '.xlsx'\n",
    "        if t.split('/')[-1][1].isdigit():\n",
    "            title_name = sub_names[int(t.split('/')[-1][:2])-1]\n",
    "        else:\n",
    "            title_name = sub_names[int(t.split('/')[-1][0])-1]\n",
    "            #title_name = sub_names[int(t.split('/')[-1][0])-1]\n",
    "        \n",
    "        save_lst = 'all_list2/' + title_name + '.xlsx' # t.replace('pickle', 'loc) \n",
    "        read_writebook = xlrd3.open_workbook(filename=read_lst)\n",
    "        writebook = openpyxl.Workbook()\n",
    "        # 添加sheet 写入excel, 参数对应 行, 列, 值\n",
    "        # print(title_name, \"...\", end=' ')\n",
    "        sheet      = writebook.create_sheet(title=title_name, index=0)\n",
    "        sht_row = 2 # openpyxl start from 1 instead of 0\n",
    "        # 相关地点数量\t微博id\t微博主页\t文本\t日期\t图片\t转发数\t评论数\t点赞数\n",
    "        for i, h in enumerate(headers):\n",
    "            sheet.cell(1, i+1, h)\n",
    "\n",
    "        # write header\n",
    "        # find the tweet with the largest number of locations\n",
    "        max_los = 1\n",
    "        for i in append_cells:\n",
    "            max_los = max(max_los, len(append_cells[i]))\n",
    "            \n",
    "        for i in range(1, max_los+1):\n",
    "            sheet.cell(1, (i-1)*3+len(headers)+1, '地点提取%d'%i)\n",
    "            sheet.cell(1, (i-1)*3+len(headers)+2, '经度%d'%i)\n",
    "            sheet.cell(1, (i-1)*3+len(headers)+3, '纬度%d'%i)\n",
    "\n",
    "        read_table = read_writebook.sheet_by_index(0)\n",
    "        nrows = read_table.nrows\n",
    "        assert (nrows-1) == len(append_cells), print(\"rows in excel: \", (nrows-1), \"rows in loc_csv: \", len(append_cells))\n",
    "        \n",
    "        for i in tqdm(range(1, nrows), ncols=100):\n",
    "            this_line = read_table.row_slice(i)\n",
    "            this_locs = append_cells[i-1]\n",
    "            locs_names = [l[0] for l in this_locs]\n",
    "\n",
    "            if len(this_locs) > 0:\n",
    "                this_row = sht_row\n",
    "                sht_row += 1\n",
    "\n",
    "                sheet.cell(this_row, 1, len(this_locs))     \n",
    "                for j, c in enumerate(read_cols):\n",
    "                    sheet.cell(this_row, j+2, this_line[c].value)\n",
    "\n",
    "                for j, (name, x, y) in enumerate(this_locs):\n",
    "                    sheet.cell(this_row, j*3+len(headers)+1,   name)\n",
    "                    sheet.cell(this_row, j*3+len(headers)+2,   x)\n",
    "                    sheet.cell(this_row, j*3+len(headers)+3,   y)\n",
    "\n",
    "        writebook.save(save_lst)\n",
    "        print(save_lst, \" completed!\")"
   ]
  },
  {
   "cell_type": "code",
   "execution_count": 63,
   "id": "4286530f-d7f6-4041-a4b7-cc9fe356cf56",
   "metadata": {},
   "outputs": [],
   "source": [
    "def places_len(places_np):\n",
    "    max_len = 1\n",
    "    min_len = 10\n",
    "    for p in places_np:\n",
    "        max_len = max(len(p), max_len)   \n",
    "        min_len = min(len(p), min_len)   \n",
    "    return (max_len, min_len)\n",
    "\n",
    "def min_places(places_np, min_lenght = 1):\n",
    "    min_p = []\n",
    "    for p in places_np:\n",
    "        if len(p) == min_lenght:\n",
    "            min_p.append(p)\n",
    "            \n",
    "    return min_p"
   ]
  },
  {
   "cell_type": "code",
   "execution_count": 64,
   "id": "f5097795-18ca-4d37-8acc-63063bb089e1",
   "metadata": {},
   "outputs": [
    {
     "name": "stdout",
     "output_type": "stream",
     "text": [
      "        体育健身  max: 13 min: 2 \n",
      "        交通设施  max: 19 min: 1 ['内'] \n",
      "        文化展览  max: 13 min: 2 \n",
      "        商业娱乐  max: 22 min: 1 ['顾', '尚', 'R', '简', '锦', '落', '嚟', 'C', 'e', 'f', 'H', 'L', 'n', 'W', '酷', '漫', '品', '陶', '喜', '懿', '银', '渔', '遇', '青'] \n",
      "        企业办公  max: 17 min: 2 \n",
      "        公共服务  max: 8 min: 2 \n",
      "        旅游景点  max: 16 min: 1 ['佛'] \n",
      "        医养设施  max: 16 min: 1 ['中'] \n",
      "        科研教育  max: 19 min: 2 \n",
      "          住区  max: 14 min: 2 \n"
     ]
    }
   ],
   "source": [
    "# save match results with pickle\n",
    "headers = [\"相关地点数量\", \"微博id\", \"微博主页\", \"文本\", \"日期\", \"图片\", \"转发数\", \"评论数\", \"点赞数\"]\n",
    "names2loc_key = set(list(names2loc.keys()))\n",
    "\n",
    "for lst in ['list2_img']:\n",
    "    \n",
    "    text_csv = 'all_list/' + '%s.csv'%(lst)\n",
    "    text_pickle = 'all_list2/' + '*_%s_*.pickle'%(lst)\n",
    "    text_pickles = glob.glob(text_pickle)\n",
    "    this_texts = pd.read_csv(text_csv, index_col=0)\n",
    "    \n",
    "    for t in text_pickles:\n",
    "        append_cells = {}\n",
    "        with open(t, 'rb') as f:\n",
    "            [places, sparse_matirx] = pickle.load(f)\n",
    "        places_np = np.array(places)\n",
    "        sparse_np = np.array(sparse_matirx) #.shape\n",
    "        if t.split('/')[-1][1].isdigit():\n",
    "            title_name = sub_names[int(t.split('/')[-1][:2])-1]\n",
    "        else:\n",
    "            title_name = sub_names[int(t.split('/')[-1][0])-1]\n",
    "        \n",
    "        print(\"{:>12s}\".format(title_name), \" max: {:2>d} min: {:2>d}\".format(places_len(places_np)[0], places_len(places_np)[1]), end= ' ')\n",
    "        min_ps = min_places(places_np)\n",
    "        if len(min_ps):\n",
    "            print(min_ps, end=' ')\n",
    "        print('')"
   ]
  },
  {
   "cell_type": "code",
   "execution_count": 67,
   "id": "e295c687-ca63-4bdb-8ff5-1a81f79f40c2",
   "metadata": {},
   "outputs": [],
   "source": [
    "full_names = pd.read_excel('/home/yangwenhao/local/project/weibo_filter/app/data/POI_tianjin_0427.xlsx',\n",
    "                              sheet_name=0)\n",
    "\n",
    "jingdu = full_names.经度 \n",
    "weidu = full_names.纬度\n",
    "print(type(jingdu.to_list()[0]))"
   ]
  },
  {
   "cell_type": "code",
   "execution_count": 73,
   "id": "25d563c6-2a33-48df-836d-a4971bb0f5b3",
   "metadata": {},
   "outputs": [],
   "source": [
    "jingwei = []\n",
    "for x,y in zip(jingdu.to_list(), weidu.to_list()):\n",
    "    jingwei.append(str(x) + '_' + str(y))"
   ]
  },
  {
   "cell_type": "code",
   "execution_count": 74,
   "id": "e9f64568-9515-46cc-8009-bbf533ad268c",
   "metadata": {},
   "outputs": [],
   "source": [
    "uniq_jingwei = set(jingwei)"
   ]
  },
  {
   "cell_type": "code",
   "execution_count": 75,
   "id": "2ed56372-1740-4fd8-b659-9524c0d5df92",
   "metadata": {},
   "outputs": [
    {
     "name": "stdout",
     "output_type": "stream",
     "text": [
      "389737 389737\n"
     ]
    }
   ],
   "source": [
    "print(len(jingwei), len(uniq_jingwei))"
   ]
  },
  {
   "cell_type": "code",
   "execution_count": 77,
   "id": "294ec8d7-53f5-4453-ae06-576420ce90b3",
   "metadata": {},
   "outputs": [
    {
     "data": {
      "text/plain": [
       "['116.709156_38.910404',\n",
       " '116.709434_38.910285',\n",
       " '116.709707_38.910545',\n",
       " '116.71021_38.91017',\n",
       " '116.711383_38.91127',\n",
       " '116.71213_38.912131']"
      ]
     },
     "execution_count": 77,
     "metadata": {},
     "output_type": "execute_result"
    }
   ],
   "source": [
    "jingwei.sort()\n",
    "jingwei[:6]"
   ]
  },
  {
   "cell_type": "code",
   "execution_count": null,
   "id": "02ea034b-9f4f-4d53-a566-014822a4c2c6",
   "metadata": {},
   "outputs": [],
   "source": []
  }
 ],
 "metadata": {
  "kernelspec": {
   "display_name": "Python 3 (ipykernel)",
   "language": "python",
   "name": "python3"
  },
  "language_info": {
   "codemirror_mode": {
    "name": "ipython",
    "version": 3
   },
   "file_extension": ".py",
   "mimetype": "text/x-python",
   "name": "python",
   "nbconvert_exporter": "python",
   "pygments_lexer": "ipython3",
   "version": "3.8.10"
  }
 },
 "nbformat": 4,
 "nbformat_minor": 5
}
