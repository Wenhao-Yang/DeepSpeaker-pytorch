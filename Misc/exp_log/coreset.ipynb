{
 "cells": [
  {
   "cell_type": "code",
   "execution_count": 41,
   "id": "acbfc016-c3a8-4279-bef1-8761abc18090",
   "metadata": {},
   "outputs": [],
   "source": [
    "import numpy as np\n",
    "import matplotlib.pyplot as plt\n",
    "plt.rc('font', family='Times New Roman')\n"
   ]
  },
  {
   "cell_type": "raw",
   "id": "ca3af72e-e04e-41dc-a379-1c8ff691d08a",
   "metadata": {},
   "source": [
    "resnet34_seblcok_red2_k1_astp2-fbank40-baseline-dist-coreset-0.25-loss\n",
    "#|    aidata-test    |  5.60±0.15  |             | 0.5301±0.0045 | 0.8789±0.0057 |\n",
    "resnet34_seblcok_red2_k1_astp2-fbank40-baseline-dist-coreset-0.5-loss\n",
    "#|    aidata-test    |  5.27±0.13  |             | 0.4950±0.0040 | 0.8083±0.0147 |\n",
    "resnet34_seblcok_red2_k1_astp2-fbank40-baseline-dist-coreset-0.75-loss\n",
    "#|    aidata-test    |  5.27±0.11  |             | 0.4835±0.0098 | 0.8065±0.0336 |\n",
    "resnet34_seblcok_red2_k1_astp2-fbank40-baseline-dist-coreset-0.25-random\n",
    "#|    aidata-test    |  5.65±0.13  |             | 0.5138±0.0098 | 0.8305±0.0077 |\n",
    "resnet34_seblcok_red2_k1_astp2-fbank40-baseline-dist-coreset-0.5-random\n",
    "#|    aidata-test    |  5.34±0.07  |             | 0.4824±0.0099 | 0.8013±0.0057 |\n",
    "resnet34_seblcok_red2_k1_astp2-fbank40-baseline-dist-coreset-0.75-random\n",
    "#|    aidata-test    |  5.12±0.13  |             | 0.4788±0.0070 | 0.7958±0.0223 |"
   ]
  },
  {
   "cell_type": "code",
   "execution_count": 44,
   "id": "4934f518-9736-45ee-955b-1014e4d25328",
   "metadata": {},
   "outputs": [
    {
     "data": {
      "text/plain": [
       "Text(0, 0.5, 'EER (%) ')"
      ]
     },
     "execution_count": 44,
     "metadata": {},
     "output_type": "execute_result"
    },
    {
     "data": {
      "image/png": "[encoded data removed]",
      "text/plain": [
       "<Figure size 720x288 with 1 Axes>"
      ]
     },
     "metadata": {
      "needs_background": "light"
     },
     "output_type": "display_data"
    }
   ],
   "source": [
    "plt.figure(figsize=(10, 4))\n",
    "plt.title('Performance on aidata with instance balanced subset training', fontsize=18)\n",
    "\n",
    "x = np.array([0.25, 0.5, 0.75]) * 100\n",
    "x2 = np.array([0.15, 0.5, 0.85]) * 100\n",
    "\n",
    "plt.plot(x2, [5.29, 5.29, 5.29], alpha=0.2, linestyle='--')\n",
    "plt.bar(x-2, [5.60, 5.27, 5.27], width=4)#, marker='.')\n",
    "plt.bar(x+2, [5.65, 5.34, 5.12], width=4)#, marker='.')\n",
    "\n",
    "plt.ylim([5, 6])\n",
    "plt.legend(['baseline', 'loss', 'random'], fontsize=14)\n",
    "plt.xticks(fontsize=14)\n",
    "plt.yticks(fontsize=14)\n",
    "plt.xlabel('Percent of Samples (%)', fontsize=14)\n",
    "plt.ylabel('EER (%) ', fontsize=14)"
   ]
  },
  {
   "cell_type": "code",
   "execution_count": 47,
   "id": "724294bc-4886-4067-9887-7f9d4570b396",
   "metadata": {},
   "outputs": [
    {
     "data": {
      "text/plain": [
       "256.0"
      ]
     },
     "execution_count": 47,
     "metadata": {},
     "output_type": "execute_result"
    }
   ],
   "source": [
    "np.ceil(234 / 256) * 256"
   ]
  },
  {
   "cell_type": "code",
   "execution_count": 50,
   "id": "003aefbf-ff28-4543-a992-0533794915fb",
   "metadata": {},
   "outputs": [
    {
     "name": "stdout",
     "output_type": "stream",
     "text": [
      "(256,)\n"
     ]
    }
   ],
   "source": [
    "a = np.arange(234+256)\n",
    "print(a[:-(234 % 256)].shape)"
   ]
  },
  {
   "cell_type": "code",
   "execution_count": null,
   "id": "0c3c1cd0-ecb8-4516-ba35-012ab85f7c34",
   "metadata": {},
   "outputs": [],
   "source": []
  }
 ],
 "metadata": {
  "kernelspec": {
   "display_name": "Python 3 (ipykernel)",
   "language": "python",
   "name": "python3"
  },
  "language_info": {
   "codemirror_mode": {
    "name": "ipython",
    "version": 3
   },
   "file_extension": ".py",
   "mimetype": "text/x-python",
   "name": "python",
   "nbconvert_exporter": "python",
   "pygments_lexer": "ipython3",
   "version": "3.8.10"
  }
 },
 "nbformat": 4,
 "nbformat_minor": 5
}
