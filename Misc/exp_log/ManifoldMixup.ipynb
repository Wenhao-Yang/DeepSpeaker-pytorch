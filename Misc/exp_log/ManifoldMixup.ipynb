{
 "cells": [
  {
   "cell_type": "markdown",
   "id": "42d12e35-6393-4f4b-9035-3c47083932c7",
   "metadata": {},
   "source": [
    "### Manifold Mixup for Speaker Verification"
   ]
  },
  {
   "cell_type": "markdown",
   "id": "204a1a82-bfd8-40d4-aa03-0f9c52afc0a6",
   "metadata": {},
   "source": [
    "#### I. Methold"
   ]
  },
  {
   "cell_type": "markdown",
   "id": "47d71a1f-6781-4e65-948a-5eb76bdc36f5",
   "metadata": {},
   "source": [
    "1. Manifold Mixup Schemes\n",
    "\n",
    "* Input Mixup\n",
    "* Medium Mixup\n",
    "* Embeddings Mixup   ---- Dummy Classifiers ?\n",
    "\n",
    "2. Domain Mixup\n",
    "\n"
   ]
  },
  {
   "cell_type": "markdown",
   "id": "8a91c17f-e589-44c2-9252-14ae9a89a8f0",
   "metadata": {},
   "source": [
    "#### II. Experiment"
   ]
  },
  {
   "cell_type": "markdown",
   "id": "647b3194-60b3-4a9b-a7c5-9f1123159a5f",
   "metadata": {},
   "source": [
    "1. Comparison of **\\alpha** in Beta Distribution \n",
    "\n",
    "* Training set: VoxCeleb1\n",
    "\n",
    "| System      |  Beta(alpha)  |       Testset     |     EER     |    MinDCF08   |    MinDCF10   |\n",
    "| :---------- | :-----------: | :---------------: | ----------: | ------------: | ------------: |\n",
    "|  ResNet34   |   baseline    |     vox1-test     |  3.66±0.08  | 0.3703±0.0248 | 0.4460±0.0231 |\n",
    "|     0.1     |      0.1      |     vox1-test     |  4.05±0.04  | 0.3961±0.0076 | 0.4839±0.0299 |\n",
    "|     0.2     |      0.2      |     vox1-test     |  4.09±0.05  | 0.3876±0.0100 | 0.5330±0.0131 |\n",
    "|     0.5     |      0.5      |     vox1-test     |  4.26±0.04  | 0.4033±0.0139 | 0.4873±0.0125 |\n",
    "|     1.0     |      1.0      |     vox1-test     |  4.26±0.04  | 0.4033±0.0139 | 0.4873±0.0125 |\n",
    "|     2.0     |      2.0      |     vox1-test     |  4.26±0.04  | 0.4033±0.0139 | 0.4873±0.0125 |\n",
    "\n",
    "\n",
    "2. Comparison of Mixup Layers \n",
    "\n",
    "* Training set: VoxCeleb1\n",
    "\n",
    "| System      |  Description  |       Testset     |     EER     |    MinDCF08   |    MinDCF10   |\n",
    "| :---------- | :-----------: | :---------------: | ----------: | ------------: | ------------: |\n",
    "|  ResNet34   |   baseline    |     vox1-test     |  3.66±0.08  | 0.3703±0.0248 | 0.4460±0.0231 |\n",
    "|     {0}     |               |     vox1-test     |  4.05±0.04  | 0.3961±0.0076 | 0.4839±0.0299 |\n",
    "|    {0,1}    |               |     vox1-test     |  4.09±0.05  | 0.3876±0.0100 | 0.5330±0.0131 |\n",
    "|   {0,1,2}   |               |     vox1-test     |  4.26±0.04  | 0.4033±0.0139 | 0.4873±0.0125 |\n",
    "\n",
    "\n",
    "2. Validation on Large-Scale Dataset\n",
    "\n",
    "* Training set: VoxCeleb2\n",
    "\n",
    "| System      |  Description  |       Testset     |     EER     |    MinDCF08   |    MinDCF10   |\n",
    "| :---------- | :-----------: | :---------------: | ----------: | ------------: | ------------: |\n",
    "|  ResNet34   |    baseline   |     vox1-test     |  3.66±0.08  | 0.3703±0.0248 | 0.4460±0.0231 |\n",
    "|             |     Input     |     vox1-test     |  4.25±0.10  | 0.3914±0.0040 | 0.5287±0.0207 |\n",
    "|             |   manifold    |     vox1-test     |  4.05±0.04  | 0.3961±0.0076 | 0.4839±0.0299 |\n",
    "|             |               |     vox1-test     |  4.09±0.05  | 0.3876±0.0100 | 0.5330±0.0131 |\n",
    "|             |               |     vox1-test     |  4.26±0.04  | 0.4033±0.0139 | 0.4873±0.0125 |\n",
    "|    ECAPA    |               |     vox1-test     |  3.66±0.08  | 0.3703±0.0248 | 0.4460±0.0231 |\n",
    "|             |      Input    |     vox1-test     |  4.25±0.10  | 0.3914±0.0040 | 0.5287±0.0207 |\n",
    "|             |   manifold    |     vox1-test     |  4.05±0.04  | 0.3961±0.0076 | 0.4839±0.0299 |\n",
    "|             |               |     vox1-test     |  4.09±0.05  | 0.3876±0.0100 | 0.5330±0.0131 |\n",
    "|             |               |     vox1-test     |  4.26±0.04  | 0.4033±0.0139 | 0.4873±0.0125 |\n",
    " \n",
    "\n",
    "\n"
   ]
  },
  {
   "cell_type": "code",
   "execution_count": 5,
   "id": "ba5c8b13-cdce-4bec-b0fb-256a603ae60e",
   "metadata": {},
   "outputs": [],
   "source": [
    "import numpy as np\n",
    "import matplotlib.pyplot as plt"
   ]
  },
  {
   "cell_type": "code",
   "execution_count": 8,
   "id": "7d96f102-9a3e-467c-b66b-2c1e1d939d35",
   "metadata": {},
   "outputs": [],
   "source": [
    "baseline = 0\n",
    "mixup = []\n",
    "cls_aug = []\n",
    "\n",
    "with open('../data/vox1_cls_mixup.txt', 'r') as f:\n",
    "    for l in f.readlines():\n",
    "        lines = l.split(' ')#| 11.65±0.10 | 0.7656±0.0158 | 0.8312±0.0144 | 9.6848±0.2301 | 7.4172±0.3050 | Mean_batch64_cbam_downk1_avg4_SAP2_em128_dp01_alpha1_none1_wd5e4_mix2_dist_128-baselin\n",
    "        eer = float(lines[1].split('±')[0])\n",
    "        if 'baseline' in lines[-1]:\n",
    "            baseline = eer\n",
    "        elif 'clsaug' in lines[-1]:\n",
    "            cls_aug.append(eer)\n",
    "        else:\n",
    "            mixup.append(eer)"
   ]
  },
  {
   "cell_type": "code",
   "execution_count": 25,
   "id": "2794addb-e489-46e9-b25a-b611010d6bfe",
   "metadata": {},
   "outputs": [
    {
     "data": {
      "text/plain": [
       "Text(0, 0.5, 'EER (%)')"
      ]
     },
     "execution_count": 25,
     "metadata": {},
     "output_type": "execute_result"
    },
    {
     "data": {
      "image/png": "[encoded data removed]",
      "text/plain": [
       "<Figure size 720x432 with 1 Axes>"
      ]
     },
     "metadata": {
      "needs_background": "light"
     },
     "output_type": "display_data"
    }
   ],
   "source": [
    "fig = plt.figure(figsize=(10, 6))\n",
    "\n",
    "x = np.arange(1,9)\n",
    "plt.plot(x, [baseline]*len(x), marker='.', alpha=0.5)\n",
    "plt.plot(x, mixup, marker='.')\n",
    "plt.plot(x, cls_aug, marker='.')\n",
    "plt.legend(['baseline', 'mixup', 'mixup_class'], fontsize=16)\n",
    "plt.ylim([10, 17])\n",
    "plt.xticks(fontsize=12)\n",
    "plt.yticks(fontsize=12)\n",
    "\n",
    "plt.xlabel('Layer', fontsize=14)\n",
    "plt.ylabel('EER (%)', fontsize=14)"
   ]
  },
  {
   "cell_type": "code",
   "execution_count": null,
   "id": "c9aa7ab8-fa0a-4f54-85af-ccd88e132013",
   "metadata": {},
   "outputs": [],
   "source": []
  }
 ],
 "metadata": {
  "kernelspec": {
   "display_name": "Python 3 (ipykernel)",
   "language": "python",
   "name": "python3"
  },
  "language_info": {
   "codemirror_mode": {
    "name": "ipython",
    "version": 3
   },
   "file_extension": ".py",
   "mimetype": "text/x-python",
   "name": "python",
   "nbconvert_exporter": "python",
   "pygments_lexer": "ipython3",
   "version": "3.8.10"
  }
 },
 "nbformat": 4,
 "nbformat_minor": 5
}
