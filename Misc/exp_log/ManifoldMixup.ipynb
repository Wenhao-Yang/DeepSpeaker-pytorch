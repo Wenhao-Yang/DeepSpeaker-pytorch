{
 "cells": [
  {
   "cell_type": "markdown",
   "id": "42d12e35-6393-4f4b-9035-3c47083932c7",
   "metadata": {},
   "source": [
    "### Manifold Mixup for Speaker Verification"
   ]
  },
  {
   "cell_type": "markdown",
   "id": "204a1a82-bfd8-40d4-aa03-0f9c52afc0a6",
   "metadata": {},
   "source": [
    "#### I. Methold"
   ]
  },
  {
   "cell_type": "markdown",
   "id": "47d71a1f-6781-4e65-948a-5eb76bdc36f5",
   "metadata": {},
   "source": [
    "1. Manifold Mixup Schemes\n",
    "\n",
    "* Input Mixup\n",
    "* Medium Mixup\n",
    "* Embeddings Mixup   ---- Dummy Classifiers ?\n",
    "\n",
    "2. Domain Mixup\n",
    "\n"
   ]
  },
  {
   "cell_type": "markdown",
   "id": "8a91c17f-e589-44c2-9252-14ae9a89a8f0",
   "metadata": {},
   "source": [
    "#### II. Experiment"
   ]
  },
  {
   "cell_type": "markdown",
   "id": "647b3194-60b3-4a9b-a7c5-9f1123159a5f",
   "metadata": {},
   "source": [
    "1. Comparison of **\\alpha** in Beta Distribution \n",
    "\n",
    "* Training set: VoxCeleb1\n",
    "\n",
    "| System      |  Beta(alpha)  |       Testset     |     EER     |    MinDCF08   |    MinDCF10   |\n",
    "| :---------- | :-----------: | :---------------: | ----------: | ------------: | ------------: |\n",
    "|  ResNet34   |   baseline    |     vox1-test     |  3.66±0.08  | 0.3703±0.0248 | 0.4460±0.0231 |\n",
    "|     0.1     |      0.1      |     vox1-test     |  4.05±0.04  | 0.3961±0.0076 | 0.4839±0.0299 |\n",
    "|     0.2     |      0.2      |     vox1-test     |  4.09±0.05  | 0.3876±0.0100 | 0.5330±0.0131 |\n",
    "|     0.5     |      0.5      |     vox1-test     |  4.26±0.04  | 0.4033±0.0139 | 0.4873±0.0125 |\n",
    "|     1.0     |      1.0      |     vox1-test     |  4.26±0.04  | 0.4033±0.0139 | 0.4873±0.0125 |\n",
    "|     2.0     |      2.0      |     vox1-test     |  4.26±0.04  | 0.4033±0.0139 | 0.4873±0.0125 |\n",
    "\n",
    "\n",
    "2. Comparison of Mixup Layers \n",
    "\n",
    "* Training set: VoxCeleb1\n",
    "\n",
    "| System      |  Description  |       Testset     |     EER     |    MinDCF08   |    MinDCF10   |\n",
    "| :---------- | :-----------: | :---------------: | ----------: | ------------: | ------------: |\n",
    "|  ResNet34   |   baseline    |     vox1-test     |  3.66±0.08  | 0.3703±0.0248 | 0.4460±0.0231 |\n",
    "|     {0}     |               |     vox1-test     |  4.05±0.04  | 0.3961±0.0076 | 0.4839±0.0299 |\n",
    "|    {0,1}    |               |     vox1-test     |  4.09±0.05  | 0.3876±0.0100 | 0.5330±0.0131 |\n",
    "|   {0,1,2}   |               |     vox1-test     |  4.26±0.04  | 0.4033±0.0139 | 0.4873±0.0125 |\n",
    "\n",
    "\n",
    "2. Validation on Large-Scale Dataset\n",
    "\n",
    "* Training set: VoxCeleb2\n",
    "\n",
    "| System      |  Description  |       Testset     |     EER     |    MinDCF08   |    MinDCF10   |\n",
    "| :---------- | :-----------: | :---------------: | ----------: | ------------: | ------------: |\n",
    "|  ResNet34   |    baseline   |     vox1-test     |  3.66±0.08  | 0.3703±0.0248 | 0.4460±0.0231 |\n",
    "|             |     Input     |     vox1-test     |  4.25±0.10  | 0.3914±0.0040 | 0.5287±0.0207 |\n",
    "|             |   manifold    |     vox1-test     |  4.05±0.04  | 0.3961±0.0076 | 0.4839±0.0299 |\n",
    "|             |               |     vox1-test     |  4.09±0.05  | 0.3876±0.0100 | 0.5330±0.0131 |\n",
    "|             |               |     vox1-test     |  4.26±0.04  | 0.4033±0.0139 | 0.4873±0.0125 |\n",
    "|    ECAPA    |               |     vox1-test     |  3.66±0.08  | 0.3703±0.0248 | 0.4460±0.0231 |\n",
    "|             |      Input    |     vox1-test     |  4.25±0.10  | 0.3914±0.0040 | 0.5287±0.0207 |\n",
    "|             |   manifold    |     vox1-test     |  4.05±0.04  | 0.3961±0.0076 | 0.4839±0.0299 |\n",
    "|             |               |     vox1-test     |  4.09±0.05  | 0.3876±0.0100 | 0.5330±0.0131 |\n",
    "|             |               |     vox1-test     |  4.26±0.04  | 0.4033±0.0139 | 0.4873±0.0125 |\n",
    " \n",
    "\n",
    "\n"
   ]
  },
  {
   "cell_type": "code",
   "execution_count": null,
   "id": "ba5c8b13-cdce-4bec-b0fb-256a603ae60e",
   "metadata": {},
   "outputs": [],
   "source": []
  }
 ],
 "metadata": {
  "kernelspec": {
   "display_name": "Python 3 (ipykernel)",
   "language": "python",
   "name": "python3"
  },
  "language_info": {
   "codemirror_mode": {
    "name": "ipython",
    "version": 3
   },
   "file_extension": ".py",
   "mimetype": "text/x-python",
   "name": "python",
   "nbconvert_exporter": "python",
   "pygments_lexer": "ipython3",
   "version": "3.8.10"
  }
 },
 "nbformat": 4,
 "nbformat_minor": 5
}
