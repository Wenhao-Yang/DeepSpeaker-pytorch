{
 "cells": [
  {
   "cell_type": "markdown",
   "id": "42d12e35-6393-4f4b-9035-3c47083932c7",
   "metadata": {},
   "source": [
    "### Manifold Mixup for Speaker Verification"
   ]
  },
  {
   "cell_type": "markdown",
   "id": "204a1a82-bfd8-40d4-aa03-0f9c52afc0a6",
   "metadata": {},
   "source": [
    "#### Methold"
   ]
  },
  {
   "cell_type": "code",
   "execution_count": null,
   "id": "2a237730-1a40-4924-97fc-9be8e7bcef89",
   "metadata": {},
   "outputs": [],
   "source": []
  },
  {
   "cell_type": "markdown",
   "id": "8a91c17f-e589-44c2-9252-14ae9a89a8f0",
   "metadata": {},
   "source": [
    "#### Experiment"
   ]
  },
  {
   "cell_type": "markdown",
   "id": "647b3194-60b3-4a9b-a7c5-9f1123159a5f",
   "metadata": {},
   "source": [
    "* Comparison"
   ]
  },
  {
   "cell_type": "code",
   "execution_count": null,
   "id": "27d5bcd2-ca82-4ca8-ba24-61d8375eab70",
   "metadata": {},
   "outputs": [],
   "source": []
  }
 ],
 "metadata": {
  "kernelspec": {
   "display_name": "Python 3 (ipykernel)",
   "language": "python",
   "name": "python3"
  },
  "language_info": {
   "codemirror_mode": {
    "name": "ipython",
    "version": 3
   },
   "file_extension": ".py",
   "mimetype": "text/x-python",
   "name": "python",
   "nbconvert_exporter": "python",
   "pygments_lexer": "ipython3",
   "version": "3.8.10"
  }
 },
 "nbformat": 4,
 "nbformat_minor": 5
}
