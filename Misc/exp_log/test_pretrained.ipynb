{
 "cells": [
  {
   "cell_type": "code",
   "execution_count": 34,
   "id": "3c947409-f575-44b0-96ba-5f5c9e4441e8",
   "metadata": {},
   "outputs": [],
   "source": [
    "import torchaudio\n",
    "from speechbrain.pretrained import EncoderClassifier\n",
    "import wespeakerruntime as wespeaker"
   ]
  },
  {
   "cell_type": "code",
   "execution_count": 15,
   "id": "4f65a186-e355-4a83-a1d7-a817345b2657",
   "metadata": {},
   "outputs": [],
   "source": [
    "classifier = EncoderClassifier.from_hparams(source=\"speechbrain/spkrec-ecapa-voxceleb\", run_opts={\"device\":\"cuda:0\"})"
   ]
  },
  {
   "cell_type": "code",
   "execution_count": 28,
   "id": "538c2d68-de49-4a8b-95a0-6eca2555328a",
   "metadata": {},
   "outputs": [],
   "source": [
    "import torch\n",
    "import kaldiio\n",
    "import os\n",
    "from tqdm import tqdm\n",
    "from kaldi_io import read_vec_flt\n",
    "from Process_Data.Datasets.KaldiDataset import ScriptVerifyDataset\n",
    "from TrainAndTest.common_func import verification_test"
   ]
  },
  {
   "cell_type": "code",
   "execution_count": 37,
   "id": "b6185eb6-57bf-48ed-8756-ffef9328d088",
   "metadata": {},
   "outputs": [],
   "source": [
    "def speechbrain_ecapa(upath, classifier):\n",
    "    signal, fs = torchaudio.load(upath)\n",
    "    embeddings = classifier.encode_batch(signal)\n",
    "    return embeddings.squeeze().detach().cpu().numpy()\n",
    "\n",
    "def wespeaker_resnet(wav_file, speaker, lang='chs'):\n",
    "    ans = speaker.extract_embedding(wav_file).squeeze()\n",
    "    return ans"
   ]
  },
  {
   "cell_type": "code",
   "execution_count": 3,
   "id": "a4fbbe91-5019-4ba1-8484-a4f786e08de7",
   "metadata": {},
   "outputs": [],
   "source": [
    "lstm_dir  = '/home/yangwenhao/project/lstm_speaker_verification'\n",
    "root_path ='/home/yangwenhao/project/SpeakerVerification-pytorch/'"
   ]
  },
  {
   "cell_type": "code",
   "execution_count": 41,
   "id": "afc8b8d9-d6c6-468a-a0fe-575704020b09",
   "metadata": {},
   "outputs": [],
   "source": [
    "test_set = 'cnceleb'\n",
    "# test_set = 'aishell2'\n",
    "# test_set = 'aidata'"
   ]
  },
  {
   "cell_type": "code",
   "execution_count": 42,
   "id": "b3c40ece-85f9-4853-a51d-5333fca29dba",
   "metadata": {},
   "outputs": [],
   "source": [
    "wav_scp = lstm_dir + '/data/{}/test/wav.scp'.format(test_set)\n",
    "trials  = lstm_dir + '/data/{}/test/trials'.format(test_set)\n",
    "\n",
    "xvector_dir = 'data/resnet_test/{}'.format(test_set)\n",
    "if not os.path.exists(xvector_dir):\n",
    "    os.makedirs(xvector_dir)\n",
    "\n",
    "scp_file = xvector_dir + '/xvectors.scp'\n",
    "ark_file = xvector_dir + '/xvectors.ark'\n",
    "writer = kaldiio.WriteHelper('ark,scp:%s,%s' % (ark_file, scp_file))"
   ]
  },
  {
   "cell_type": "code",
   "execution_count": 46,
   "id": "7d9b1501-b85a-469b-91c7-af9137d21923",
   "metadata": {},
   "outputs": [
    {
     "name": "stderr",
     "output_type": "stream",
     "text": [
      "100%|███████| 17973/17973 [12:46<00:00, 23.45it/s]\n"
     ]
    }
   ],
   "source": [
    "with open(wav_scp, 'r') as f:\n",
    "    for l in tqdm(f.readlines(), ncols=50):\n",
    "        \n",
    "        lst = l.split()\n",
    "        if len(lst) == 2:\n",
    "            uid, upath = lst\n",
    "        else:\n",
    "            uid, upath = lst[0], lst[4]\n",
    "        # signal, fs = torchaudio.load(upath)\n",
    "        # embeddings = classifier.encode_batch(signal)\n",
    "        embeddings = speechbrain_ecapa(upath, classifier)\n",
    "        # embeddings = wespeaker_resnet(upath, speaker)\n",
    "        writer(str(uid), embeddings)"
   ]
  },
  {
   "cell_type": "code",
   "execution_count": null,
   "id": "ff79473a-32f0-439e-b0a5-024022a7ec69",
   "metadata": {},
   "outputs": [],
   "source": [
    "verify_dir = ScriptVerifyDataset(dir=lstm_dir + '/data/{}/test'.format(test_set), trials_file='trials',\n",
    "                                     xvectors_dir=xvector_dir,\n",
    "                                     loader=read_vec_flt)\n",
    "\n",
    "kwargs = {'num_workers': 4, 'pin_memory': False}\n",
    "verify_loader = torch.utils.data.DataLoader(verify_dir, batch_size=128, shuffle=False, **kwargs)\n",
    "\n",
    "eer, eer_threshold, mindcf_01, mindcf_001 = verification_test(test_loader=verify_loader,\n",
    "                                                              dist_type='cos',\n",
    "                                                              log_interval=10,\n",
    "                                                              xvector_dir=xvector_dir,\n",
    "                                                              epoch=12)"
   ]
  },
  {
   "cell_type": "code",
   "execution_count": 48,
   "id": "61dbd4dd-aed3-42f9-bf9d-37f1a1d5dced",
   "metadata": {},
   "outputs": [
    {
     "name": "stdout",
     "output_type": "stream",
     "text": [
      "          \u001b[91mTrain EER: 15.2781%, Threshold: 0.2710, mindcf-0.01: 0.6522, mindcf-0.001: 0.7755, mix2,3: 11.8482, 7.7278. \u001b[0m\n"
     ]
    }
   ],
   "source": [
    "mix3 = 100. * eer * mindcf_01 * mindcf_001\n",
    "mix2 = 100. * eer * mindcf_001\n",
    "mix8 = 100. * eer * mindcf_01\n",
    "\n",
    "print('          \\33[91mTrain EER: {:.4f}%, Threshold: {:.4f}, '\n",
    "      'mindcf-0.01: {:.4f}, mindcf-0.001: {:.4f}, mix2,3: {:.4f}, {:.4f}. \\33[0m'.format(100. * eer,\n",
    "                                                                                         eer_threshold,\n",
    "                                                                                         mindcf_01, mindcf_001, mix2, mix3))\n",
    "# ecapa-tdnn vox2\n",
    "# aishell2\n",
    "# Train EER: 7.8288%, Threshold: 0.3257, mindcf-0.01: 0.6036, mindcf-0.001: 0.7667, mix2,3: 6.0026, 3.6231.\n",
    "\n",
    "# aidata\n",
    "# Train EER: 8.8043%, Threshold: 0.3393, mindcf-0.01: 0.6619, mindcf-0.001: 0.9150, mix2,3: 8.0558, 5.3321.\n",
    "\n",
    "# cnceleb\n",
    "# Train EER: 15.2781%, Threshold: 0.2710, mindcf-0.01: 0.6522, mindcf-0.001: 0.7755, mix2,3: 11.8482, 7.7278"
   ]
  },
  {
   "cell_type": "code",
   "execution_count": 9,
   "id": "ec1eec0e-daeb-4308-9172-d236fe5942b6",
   "metadata": {},
   "outputs": [],
   "source": [
    "signal, fs = torchaudio.load('/home/yangwenhao/dataset/AISHELL-2/iOS/data/wav/C0005/IC0005W0004.wav')\n",
    "embeddings = classifier.encode_batch(signal)"
   ]
  },
  {
   "cell_type": "code",
   "execution_count": 35,
   "id": "ebb3ccf7-e0eb-4000-8568-cad86824e11e",
   "metadata": {},
   "outputs": [
    {
     "name": "stdout",
     "output_type": "stream",
     "text": [
      "Downloading https://wespeaker-1256283475.cos.ap-shanghai.myqcloud.com/models/cnceleb/cnceleb_resnet34_LM.onnx to /home/yangwenhao/.wespeaker/chs\n"
     ]
    },
    {
     "name": "stderr",
     "output_type": "stream",
     "text": [
      "cnceleb_resnet34_LM.onnx: 100%|████████████████████████████████████████████████████████████████████████████████████████████████████████████████████████| 25.3M/25.3M [00:02<00:00, 11.9MB/s]\n"
     ]
    }
   ],
   "source": [
    "speaker = wespeaker.Speaker(lang='chs')\n",
    "ans = speaker.extract_embedding('/home/yangwenhao/dataset/AISHELL-2/iOS/data/wav/C0005/IC0005W0004.wav')"
   ]
  },
  {
   "cell_type": "code",
   "execution_count": 45,
   "id": "00fd091a-6b36-42da-8710-039cfcc4837f",
   "metadata": {},
   "outputs": [
    {
     "data": {
      "text/plain": [
       "(tensor([[0., 0., 0.,  ..., 0., 0., 0.]]), 16000)"
      ]
     },
     "execution_count": 45,
     "metadata": {},
     "output_type": "execute_result"
    }
   ],
   "source": [
    "torchaudio.load('/home/yangwenhao/dataset/CN-Celeb/eval/test/id00800-singing-01-001.flac')"
   ]
  },
  {
   "cell_type": "code",
   "execution_count": null,
   "id": "b6387273-0941-47ec-8fef-446ca044c3a9",
   "metadata": {},
   "outputs": [],
   "source": []
  }
 ],
 "metadata": {
  "kernelspec": {
   "display_name": "Python 3",
   "language": "python",
   "name": "python3"
  },
  "language_info": {
   "codemirror_mode": {
    "name": "ipython",
    "version": 3
   },
   "file_extension": ".py",
   "mimetype": "text/x-python",
   "name": "python",
   "nbconvert_exporter": "python",
   "pygments_lexer": "ipython3",
   "version": "3.8.16"
  }
 },
 "nbformat": 4,
 "nbformat_minor": 5
}
