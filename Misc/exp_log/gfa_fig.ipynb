{
 "cells": [
  {
   "cell_type": "code",
   "execution_count": 1,
   "id": "f79b2608-5540-4c25-aea7-13472518b34b",
   "metadata": {},
   "outputs": [],
   "source": [
    "import librosa\n",
    "import numpy as np\n",
    "import os\n",
    "import matplotlib.pyplot as plt\n",
    "import Process_Data.constants as c\n",
    "from scipy import interpolate\n",
    "\n",
    "from Misc.analysis import format_eer_file, read_eer_file, format_eer_file_train, format_eer_file_eval\n",
    "%matplotlib inline"
   ]
  },
  {
   "cell_type": "code",
   "execution_count": 19,
   "id": "7831fb7d-93e3-4f42-b2d3-2e931bd1d3d7",
   "metadata": {},
   "outputs": [],
   "source": [
    "frl_result = 'ResNet18\tsgd\t40\t4.31\t0.3779\t0.4570 \\\n",
    "ResNet18\tsgd+frl\t40\t4.43\t0.3826\t0.4707 \\\n",
    "ResNet18\tsgd\t64\t4.31\t0.3779\t0.4570 \\\n",
    "ResNet18\tsgd+frl\t64\t4.43\t0.3826\t0.4707 \\\n",
    "ResNet18\tsgd\t80\t4.02\t0.3877\t0.4784 \\\n",
    "ResNet18\tsgd+frl\t80\t3.90\t0.3449\t0.4216 \\\n",
    "ResNet18\tsgd\t161\t3.71\t0.3433\t0.3821 \\\n",
    "ResNet18\tsgd+frl\t161\t3.74\t0.3257\t0.3442'"
   ]
  },
  {
   "cell_type": "code",
   "execution_count": 20,
   "id": "dda5ccc7-457b-4bf0-9f1c-5d78ebd3fd0a",
   "metadata": {},
   "outputs": [],
   "source": [
    "results = []\n",
    "results_frl = []\n",
    "for l in frl_result.split(' '):\n",
    "    lsplit = l.split()\n",
    "    feat_dim = int(lsplit[2])\n",
    "    eer = float(lsplit[3])\n",
    "    dcf = float(lsplit[4])\n",
    "    \n",
    "    if 'frl' in lsplit[1]:\n",
    "        results_frl.append([feat_dim, eer, dcf])\n",
    "    else:\n",
    "        results.append([feat_dim, eer, dcf])"
   ]
  },
  {
   "cell_type": "code",
   "execution_count": 21,
   "id": "a3795ed4-0f34-4a6d-a58c-ca1c987f9200",
   "metadata": {},
   "outputs": [],
   "source": [
    "results = np.array(results)\n",
    "results_frl = np.array(results_frl)"
   ]
  },
  {
   "cell_type": "code",
   "execution_count": 29,
   "id": "7d03d315-ee1d-4be7-949d-341e5c3a1617",
   "metadata": {},
   "outputs": [
    {
     "data": {
      "image/png": "[encoded data removed]",
      "text/plain": [
       "<Figure size 576x288 with 1 Axes>"
      ]
     },
     "metadata": {
      "needs_background": "light"
     },
     "output_type": "display_data"
    }
   ],
   "source": [
    "plt.figure(figsize=(8, 4))\n",
    "\n",
    "# plt.plot(results[:,0], results[:,2], '--', marker='.')\n",
    "# plt.plot(results_frl[:,0], results_frl[:, 2], '--', marker='.')\n",
    "\n",
    "plt.bar(results[:,0]-2.5, results[:,2], width=5)\n",
    "plt.bar(results_frl[:,0]+2.5, results_frl[:, 2], width=5)\n",
    "\n",
    "plt.xlabel('feat-dim', fontsize=14)\n",
    "plt.ylabel('mindcf', fontsize=14)\n",
    "\n",
    "plt.legend(['baseline', 'frl'], fontsize=14)\n",
    "plt.savefig('gfa/frl.png', bbox_inches='tight')"
   ]
  },
  {
   "cell_type": "code",
   "execution_count": null,
   "id": "cb870f38-c74a-48ec-8c51-fdd190502711",
   "metadata": {},
   "outputs": [],
   "source": []
  }
 ],
 "metadata": {
  "kernelspec": {
   "display_name": "Python 3",
   "language": "python",
   "name": "python3"
  },
  "language_info": {
   "codemirror_mode": {
    "name": "ipython",
    "version": 3
   },
   "file_extension": ".py",
   "mimetype": "text/x-python",
   "name": "python",
   "nbconvert_exporter": "python",
   "pygments_lexer": "ipython3",
   "version": "3.8.16"
  }
 },
 "nbformat": 4,
 "nbformat_minor": 5
}
