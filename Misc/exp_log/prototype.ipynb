{
 "cells": [
  {
   "cell_type": "code",
   "execution_count": 1,
   "id": "3f150889-43bc-460e-8a14-cf597d7a9c07",
   "metadata": {},
   "outputs": [],
   "source": [
    "import numpy as np\n",
    "import kaldiio\n",
    "from kaldiio import ReadHelper\n",
    "import seaborn as sns\n",
    "import os\n",
    "import random\n",
    "import matplotlib.pyplot as plt\n",
    "from matplotlib.collections import PolyCollection\n",
    "\n",
    "from sklearn.manifold import TSNE\n",
    "from sklearn.decomposition import PCA\n",
    "\n",
    "import torch\n",
    "import torch.utils.data as data\n",
    "import torch.nn.utils.rnn as rnn_utils\n",
    "import torch.nn as nn\n",
    "\n",
    "from scipy.interpolate import make_interp_spline\n",
    "from scipy import stats\n",
    "import pandas as pd\n",
    "from tqdm import tqdm"
   ]
  },
  {
   "cell_type": "code",
   "execution_count": 2,
   "id": "1431960c-6dba-4fb8-9565-a0067895d759",
   "metadata": {},
   "outputs": [],
   "source": [
    "from Define_Model.ResNet import ThinResNet\n",
    "from Define_Model.Loss.SoftmaxLoss import AdditiveMarginLinear\n",
    "from Process_Data.audio_processing import read_WaveInt"
   ]
  },
  {
   "cell_type": "code",
   "execution_count": 3,
   "id": "0972a97e-568a-4486-90b4-848faf6c8404",
   "metadata": {},
   "outputs": [],
   "source": [
    "script_dir = '/home/yangwenhao/local/project/SpeakerVerification-pytorch'\n",
    "lstm_dir = '/home/yangwenhao/local/project/lstm_speaker_verification'\n",
    "\n",
    "kwargs = {'num_workers': 8, 'pin_memory': False}\n",
    "checkpoint_path = script_dir + '/Data/checkpoint/ThinResNet18/Mean_batch256_basic_downk3_avg0_SAP2_em256_dp01_alpha0_none1_wde4_esmix2/arcsoft_sgd_rop/vox1/wave_fb40_dist2/123456'"
   ]
  },
  {
   "cell_type": "code",
   "execution_count": 4,
   "id": "d14259b1-b80f-4d0d-8201-5fb60efbb23a",
   "metadata": {},
   "outputs": [],
   "source": [
    "dataset = 'vox1'\n",
    "uid2path  = {}\n",
    "with open(lstm_dir + '/data/%s/dev/wav.scp' % (dataset), 'r') as f:\n",
    "    for l in f.readlines():\n",
    "        uid, upath = l.split()\n",
    "        uid2path[uid] = upath\n",
    "\n",
    "sid2utt  = {} \n",
    "with open(lstm_dir + '/data/%s/dev/spk2utt' % (dataset), 'r') as f:\n",
    "    for l in f.readlines():\n",
    "        s_lst = l.split()\n",
    "        sid2utt[s_lst[0]] = s_lst[1:]\n",
    "\n",
    "spks = list(sid2utt.keys())\n",
    "random.shuffle(spks)\n",
    "numofspk = 10\n",
    "numofutt = 100\n",
    "target_spks = spks[:numofspk]\n",
    "\n",
    "all_data = []\n",
    "for s in target_spks:\n",
    "    for u in sid2utt[s][:numofutt]:\n",
    "        path = uid2path[u]\n",
    "        all_data.append([u, read_WaveInt(path)])"
   ]
  },
  {
   "cell_type": "code",
   "execution_count": 5,
   "id": "8483195e-1943-45ce-b06d-336acc33a3b5",
   "metadata": {},
   "outputs": [],
   "source": [
    "sid2idx = {s:i for i,s in enumerate(target_spks)}"
   ]
  },
  {
   "cell_type": "code",
   "execution_count": null,
   "id": "08e88f78-8570-4c1e-ab92-c1fe966fff21",
   "metadata": {},
   "outputs": [],
   "source": [
    "model = ThinResNet(resnet_size=18, num_classes=1211, \n",
    "                 input_norm='Mean', input_len=300, input_dim=40, \n",
    "                 filter='fbank', feat_dim=40, sr=16000, stretch_ratio=[1.0], win_length=int(0.025*16000),\n",
    "                 nfft=512, kernel_size=5, stride=[2,1], padding=2, first_bias=True, \n",
    "                 block_type='basic', expansion=1, channels=[16, 32, 64, 128], fast='none1', downsample='k3', \n",
    "                 dropout_p=0.1, \n",
    "                 encoder_type='SAP2', time_dim=1, avg_size=0, embedding_size=256, \n",
    "                 alpha=0,\n",
    "                 mask='None', mask_len=[5, 10], init_weight='mel', scale=0.2, weight_p=0.1, weight_norm='max',\n",
    "                 mix='mixup',)\n",
    "model.classifier = AdditiveMarginLinear(feat_dim=256, num_classes=1211)\n",
    "model = model.cuda()\n",
    "model.eval()"
   ]
  },
  {
   "cell_type": "code",
   "execution_count": 6,
   "id": "4fb9f026-e82c-4a0a-9e63-30a7d4c9c162",
   "metadata": {},
   "outputs": [
    {
     "data": {
      "text/plain": [
       "torch.Size([257, 40])"
      ]
     },
     "execution_count": 6,
     "metadata": {},
     "output_type": "execute_result"
    }
   ],
   "source": [
    "model.input_mask[0].t.mel_scale.fb.shape"
   ]
  },
  {
   "cell_type": "code",
   "execution_count": 9,
   "id": "31eaa590-ca5b-46f5-8128-b56641951043",
   "metadata": {},
   "outputs": [
    {
     "name": "stderr",
     "output_type": "stream",
     "text": [
      "100%|███████████████████████████████████████████████████████████████████████████████████████████████████████████████████████████████████████████████████████████████████████████████████████████████████████| 44/44 [02:04<00:00,  2.83s/it]\n"
     ]
    }
   ],
   "source": [
    "all_vectors = {}\n",
    "for epoch in tqdm(range(1, 45)):\n",
    "    vectors = []\n",
    "    checkpoint = checkpoint_path +'/checkpoint_%d.pth'%epoch\n",
    "    if not os.path.exists(checkpoint):\n",
    "        continue\n",
    "        \n",
    "    model.load_state_dict(torch.load(checkpoint)['state_dict'])\n",
    "    # model.eval()\n",
    "    for u, x in all_data:\n",
    "        data = torch.tensor(x).cuda().reshape(1,1,1,-1)\n",
    "        _, embededings = model(data)\n",
    "        vectors.append([u, embededings.detach().cpu().numpy()[0]])\n",
    "    \n",
    "    all_vectors[epoch] = vectors"
   ]
  },
  {
   "cell_type": "code",
   "execution_count": 10,
   "id": "aa24693e-6229-45d0-8d4b-b9f9904dbf23",
   "metadata": {},
   "outputs": [],
   "source": [
    "epochs = list(all_vectors.keys())\n",
    "epochs.sort()\n",
    "\n",
    "labels = np.array([sid2idx[u.split('-')[0]] for u,_ in all_vectors[1]])"
   ]
  },
  {
   "cell_type": "code",
   "execution_count": 11,
   "id": "c993e40c-7fb2-451d-98d3-746a04e8b0c9",
   "metadata": {},
   "outputs": [],
   "source": [
    "indexs = [np.where(labels==i)[0].min() for i in range(10)]\n",
    "indexs.append(len(labels))"
   ]
  },
  {
   "cell_type": "code",
   "execution_count": 12,
   "id": "7bba70e3-3cc6-49a2-a2d2-01f4b81ce7a3",
   "metadata": {},
   "outputs": [
    {
     "name": "stdout",
     "output_type": "stream",
     "text": [
      "(44, 863, 256)\n",
      "torch.Size([10, 44, 256])\n"
     ]
    }
   ],
   "source": [
    "epoch_embeds = []\n",
    "\n",
    "for e in epochs:\n",
    "    embeds = [em for u, em in all_vectors[e]:]\n",
    "    embeds = np.array(embeds)\n",
    "    epoch_embeds.append(embeds)\n",
    "\n",
    "epoch_embeds = np.array(epoch_embeds)\n",
    "print(epoch_embeds.shape)\n",
    "\n",
    "speaker_prototype = []\n",
    "for i in range(1, len(indexs)):\n",
    "    prototype = epoch_embeds[:, indexs[i-1]:indexs[i], :].mean(axis=1)\n",
    "    # print(prototype.shape)\n",
    "    speaker_prototype.append(prototype)\n",
    "    \n",
    "speaker_prototype = torch.tensor(np.array(speaker_prototype))\n",
    "print(speaker_prototype.shape)"
   ]
  },
  {
   "cell_type": "code",
   "execution_count": 19,
   "id": "22329993-94b3-4364-b911-f1f0353142da",
   "metadata": {},
   "outputs": [],
   "source": [
    "dist = torch.nn.CosineSimilarity(dim=-1)\n",
    "\n",
    "relative_dists = dist(speaker_prototype[:, 1:], speaker_prototype[:, :-1]).mean(dim=0)\n",
    "abs_dists = dist(speaker_prototype[:, :-1], speaker_prototype[:, -1].unsqueeze(1).repeat(1,43,1)).mean(dim=0)"
   ]
  },
  {
   "cell_type": "code",
   "execution_count": 48,
   "id": "91c5d13e-b445-4bdd-8af8-357b8b5b9490",
   "metadata": {},
   "outputs": [
    {
     "data": {
      "text/plain": [
       "torch.Size([17])"
      ]
     },
     "execution_count": 48,
     "metadata": {},
     "output_type": "execute_result"
    }
   ],
   "source": [
    "dists.shape"
   ]
  },
  {
   "cell_type": "code",
   "execution_count": 23,
   "id": "57e56ab3-1ac0-4761-a1d2-d9b4af6f2930",
   "metadata": {},
   "outputs": [
    {
     "data": {
      "text/plain": [
       "<matplotlib.legend.Legend at 0x7f7d30670fa0>"
      ]
     },
     "execution_count": 23,
     "metadata": {},
     "output_type": "execute_result"
    },
    {
     "data": {
      "image/png": "[encoded data removed]",
      "text/plain": [
       "<Figure size 576x288 with 1 Axes>"
      ]
     },
     "metadata": {
      "needs_background": "light"
     },
     "output_type": "display_data"
    }
   ],
   "source": [
    "plt.figure(figsize=(8, 4))\n",
    "\n",
    "plt.plot(epochs[1:], dists.arccos())\n",
    "plt.plot(epochs[1:], abs_dists.arccos())\n",
    "plt.legend(['previous', 'last'])"
   ]
  },
  {
   "cell_type": "code",
   "execution_count": 88,
   "id": "b6227186-40e3-435c-b773-1072fc61087b",
   "metadata": {},
   "outputs": [
    {
     "data": {
      "text/plain": [
       "0"
      ]
     },
     "execution_count": 88,
     "metadata": {},
     "output_type": "execute_result"
    }
   ],
   "source": [
    "2 % 1"
   ]
  },
  {
   "cell_type": "code",
   "execution_count": null,
   "id": "1cb51e7e-d37f-4cf6-b30b-3e10492dc54f",
   "metadata": {},
   "outputs": [],
   "source": []
  }
 ],
 "metadata": {
  "kernelspec": {
   "display_name": "Python 3 (ipykernel)",
   "language": "python",
   "name": "python3"
  },
  "language_info": {
   "codemirror_mode": {
    "name": "ipython",
    "version": 3
   },
   "file_extension": ".py",
   "mimetype": "text/x-python",
   "name": "python",
   "nbconvert_exporter": "python",
   "pygments_lexer": "ipython3",
   "version": "3.8.10"
  }
 },
 "nbformat": 4,
 "nbformat_minor": 5
}
