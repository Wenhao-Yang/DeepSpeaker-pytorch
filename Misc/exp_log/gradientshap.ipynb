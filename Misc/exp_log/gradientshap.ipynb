{
 "cells": [
  {
   "cell_type": "code",
   "execution_count": 1,
   "id": "6d4961c3-a076-4c55-b16d-c52b72788d1f",
   "metadata": {
    "tags": []
   },
   "outputs": [],
   "source": [
    "import argparse\n",
    "import json\n",
    "import os\n",
    "import pdb\n",
    "import pickle\n",
    "import random\n",
    "import time\n",
    "from collections import OrderedDict\n",
    "from Process_Data.Datasets.LmdbDataset import Hdf5DelectDataset\n",
    "import Process_Data.constants as c\n",
    "import h5py\n",
    "\n",
    "import numpy as np\n",
    "import torch\n",
    "import torch._utils\n",
    "import torch.backends.cudnn as cudnn\n",
    "import torch.nn as nn\n",
    "import torch.nn.functional as F\n",
    "import torchvision.transforms as transforms\n",
    "from kaldi_io import read_mat\n",
    "from torch.autograd import Variable\n",
    "from torch.utils.data import DataLoader\n",
    "from tqdm import tqdm\n",
    "\n",
    "from Define_Model.SoftmaxLoss import AngleLinear, AdditiveMarginLinear\n",
    "# from Define_Model.model import PairwiseDistance\n",
    "from Process_Data.Datasets.KaldiDataset import ScriptTrainDataset, \\\n",
    "    ScriptTestDataset, ScriptValidDataset\n",
    "from Process_Data.audio_processing import ConcateOrgInput, mvnormal, ConcateVarInput\n",
    "from TrainAndTest.common_func import create_model, load_model_args, args_model, args_parse"
   ]
  },
  {
   "cell_type": "code",
   "execution_count": null,
   "id": "1fa2986e-fcab-477a-a8b2-42bf1ea23972",
   "metadata": {},
   "outputs": [],
   "source": []
  }
 ],
 "metadata": {
  "kernelspec": {
   "display_name": "Python 3 (ipykernel)",
   "language": "python",
   "name": "python3"
  },
  "language_info": {
   "codemirror_mode": {
    "name": "ipython",
    "version": 3
   },
   "file_extension": ".py",
   "mimetype": "text/x-python",
   "name": "python",
   "nbconvert_exporter": "python",
   "pygments_lexer": "ipython3",
   "version": "3.8.16"
  }
 },
 "nbformat": 4,
 "nbformat_minor": 5
}
