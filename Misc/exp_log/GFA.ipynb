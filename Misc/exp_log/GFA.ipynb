{
 "cells": [
  {
   "cell_type": "markdown",
   "id": "9c8e0a06-d1b2-4c4b-87c6-04e1ab5c40aa",
   "metadata": {},
   "source": [
    "### Gradient Frequency Attention"
   ]
  },
  {
   "cell_type": "markdown",
   "id": "868d7609-e95e-4141-9bfa-b7d757b536ac",
   "metadata": {},
   "source": [
    "#### I. Method"
   ]
  },
  {
   "cell_type": "markdown",
   "id": "160a9a71-b531-4d83-9676-b5b9a51b776e",
   "metadata": {},
   "source": [
    "#### II. Comparison"
   ]
  }
 ],
 "metadata": {
  "kernelspec": {
   "display_name": "Python 3 (ipykernel)",
   "language": "python",
   "name": "python3"
  },
  "language_info": {
   "codemirror_mode": {
    "name": "ipython",
    "version": 3
   },
   "file_extension": ".py",
   "mimetype": "text/x-python",
   "name": "python",
   "nbconvert_exporter": "python",
   "pygments_lexer": "ipython3",
   "version": "3.8.10"
  }
 },
 "nbformat": 4,
 "nbformat_minor": 5
}
