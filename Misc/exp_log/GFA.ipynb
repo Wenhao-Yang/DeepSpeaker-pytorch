{
 "cells": [
  {
   "cell_type": "markdown",
   "id": "9c8e0a06-d1b2-4c4b-87c6-04e1ab5c40aa",
   "metadata": {},
   "source": [
    "### Gradient Frequency Attention"
   ]
  },
  {
   "cell_type": "markdown",
   "id": "868d7609-e95e-4141-9bfa-b7d757b536ac",
   "metadata": {},
   "source": [
    "#### I. Method\n",
    "\n",
    "##### 1. Weight Gather\n",
    "\n",
    "\n",
    "1.1 Constant from CAM\n",
    "\n",
    "* Gradient\n",
    "\n",
    "* Grad-CAM\n",
    "\n",
    "* InteGrad\n",
    "\n",
    "\n",
    "1.2 Learnable \n",
    "\n",
    "- [ ] *Frequency importance* with trainable attention layers.\n",
    "\n",
    "\n",
    "1.3 Distribution\n",
    "\n",
    "- [ ] Todo: Extracting different weights from different datasets.\n",
    "\n",
    "\n",
    "##### 2. Application of Weight\n",
    "\n",
    "2.1 Single-level Attention\n",
    "\n",
    "* Multiply\n",
    "\n",
    "Multiply weight in frequency axis to input acoustic features.\n",
    "\n",
    "\n",
    "* Dropout\n",
    "\n",
    "Dropout with weight in frequency axis to input acoustic features.\n",
    "\n",
    "\n",
    "\n",
    "2.2 Multi-level Attention\n",
    "\n",
    "Applying multi-level attention mechanism to multilayer CNN.\n"
   ]
  },
  {
   "cell_type": "markdown",
   "id": "160a9a71-b531-4d83-9676-b5b9a51b776e",
   "metadata": {},
   "source": [
    "#### II. Comparison\n",
    "\n",
    "\n",
    "##### 1. Single-level Attention\n",
    "\n",
    "##### 1. Multi-level Attention\n"
   ]
  },
  {
   "cell_type": "code",
   "execution_count": null,
   "id": "a3919676-4943-4da5-aa41-3e8fc5afbf60",
   "metadata": {},
   "outputs": [],
   "source": []
  }
 ],
 "metadata": {
  "kernelspec": {
   "display_name": "Python 3 (ipykernel)",
   "language": "python",
   "name": "python3"
  },
  "language_info": {
   "codemirror_mode": {
    "name": "ipython",
    "version": 3
   },
   "file_extension": ".py",
   "mimetype": "text/x-python",
   "name": "python",
   "nbconvert_exporter": "python",
   "pygments_lexer": "ipython3",
   "version": "3.8.10"
  }
 },
 "nbformat": 4,
 "nbformat_minor": 5
}
