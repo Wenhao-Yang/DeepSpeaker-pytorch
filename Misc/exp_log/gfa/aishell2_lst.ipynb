{
 "cells": [
  {
   "cell_type": "code",
   "execution_count": null,
   "id": "3f2971a1-cfa5-4927-b11b-5b511c42eda6",
   "metadata": {},
   "outputs": [],
   "source": [
    "import numpy as np"
   ]
  },
  {
   "cell_type": "code",
   "execution_count": 5,
   "id": "ae4cc114-5578-45ac-ae16-4e7aaea9a126",
   "metadata": {},
   "outputs": [],
   "source": [
    "with open('/home/yangwenhao/dataset/AISHELL-2/iOS/data/spk_info.txt', 'r') as f, \\\n",
    "    open('/home/yangwenhao/project/lstm_speaker_verification/data/aishell2/dev/spk2gender', 'w') as g, \\\n",
    "    open('/home/yangwenhao/project/lstm_speaker_verification/data/aishell2/dev/spk2age', 'w') as a, \\\n",
    "    open('/home/yangwenhao/project/lstm_speaker_verification/data/aishell2/dev/spk2place', 'w') as p:\n",
    "    for l in f.readlines():\n",
    "        #C0896   B       女      North\n",
    "        if len(l.split()) == 4:\n",
    "            sid, age, gender, district = l.split()\n",
    "        elif len(l.split()) > 4:\n",
    "            sid, age, gender, district = l.split()[:4]\n",
    "        else:\n",
    "            print(l)  \n",
    "            continue\n",
    "            \n",
    "        if gender == '女':\n",
    "            gender = 'f'\n",
    "        elif gender == '男':\n",
    "            gender = 'm'\n",
    "\n",
    "        g.write(sid + ' ' + gender + '\\n')\n",
    "        a.write(sid + ' ' + age + '\\n')\n",
    "        p.write(sid + ' ' + district + '\\n')"
   ]
  },
  {
   "cell_type": "code",
   "execution_count": null,
   "id": "6b119578-c1ac-45ba-a84a-cdeeb9d2c2b8",
   "metadata": {},
   "outputs": [],
   "source": []
  }
 ],
 "metadata": {
  "kernelspec": {
   "display_name": "Python 3",
   "language": "python",
   "name": "python3"
  },
  "language_info": {
   "codemirror_mode": {
    "name": "ipython",
    "version": 3
   },
   "file_extension": ".py",
   "mimetype": "text/x-python",
   "name": "python",
   "nbconvert_exporter": "python",
   "pygments_lexer": "ipython3",
   "version": "3.8.16"
  }
 },
 "nbformat": 4,
 "nbformat_minor": 5
}
