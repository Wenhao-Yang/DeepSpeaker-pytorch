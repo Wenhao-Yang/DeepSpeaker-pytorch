{
 "cells": [
  {
   "cell_type": "code",
   "execution_count": 1,
   "id": "cfcfbf0b-2cd6-4ba5-b602-3e94cf502af7",
   "metadata": {
    "tags": []
   },
   "outputs": [
    {
     "name": "stderr",
     "output_type": "stream",
     "text": [
      "/home/yangwenhao/miniconda3/envs/py38/lib/python3.8/site-packages/tqdm/auto.py:21: TqdmWarning: IProgress not found. Please update jupyter and ipywidgets. See https://ipywidgets.readthedocs.io/en/stable/user_install.html\n",
      "  from .autonotebook import tqdm as notebook_tqdm\n"
     ]
    }
   ],
   "source": [
    "import argparse\n",
    "import json\n",
    "import os\n",
    "import pdb\n",
    "import pickle\n",
    "import random\n",
    "import time\n",
    "from collections import OrderedDict\n",
    "from Process_Data.Datasets.LmdbDataset import Hdf5DelectDataset\n",
    "import Process_Data.constants as c\n",
    "import h5py\n",
    "\n",
    "import numpy as np\n",
    "import torch\n",
    "import torch._utils\n",
    "import torch.backends.cudnn as cudnn\n",
    "import torch.nn as nn\n",
    "import torch.nn.functional as F\n",
    "import torchvision.transforms as transforms\n",
    "from kaldi_io import read_mat\n",
    "from torch.autograd import Variable\n",
    "from torch.utils.data import DataLoader\n",
    "from tqdm import tqdm\n",
    "\n",
    "from Define_Model.SoftmaxLoss import AngleLinear, AdditiveMarginLinear\n",
    "# from Define_Model.model import PairwiseDistance\n",
    "from Process_Data.Datasets.KaldiDataset import ScriptTrainDataset, \\\n",
    "    ScriptTestDataset, ScriptValidDataset\n",
    "from Process_Data.audio_processing import ConcateOrgInput, mvnormal, ConcateVarInput\n",
    "from TrainAndTest.common_func import create_model, load_model_args, args_model, args_parse\n",
    "from python_speech_features import hz2mel, mel2hz"
   ]
  },
  {
   "cell_type": "code",
   "execution_count": 2,
   "id": "20ab0182-af5b-47af-9947-58c4cf654fc5",
   "metadata": {
    "tags": []
   },
   "outputs": [],
   "source": [
    "os.environ['CUDA_VISIBLE_DEVICES'] = '1'\n",
    "seed = 123456\n",
    "random.seed(seed)\n",
    "np.random.seed(seed)\n",
    "torch.manual_seed(seed)\n",
    "torch.multiprocessing.set_sharing_strategy('file_system')"
   ]
  },
  {
   "cell_type": "code",
   "execution_count": 3,
   "id": "203641c5-2cfc-4062-96f1-8bafa21491f3",
   "metadata": {
    "tags": []
   },
   "outputs": [],
   "source": [
    "lstm_path = '/home/yangwenhao/project/lstm_speaker_verification'\n",
    "root_path='/home/yangwenhao/project/SpeakerVerification-pytorch'"
   ]
  },
  {
   "cell_type": "code",
   "execution_count": 4,
   "id": "3fc3523c-c986-408b-979c-ae391035b098",
   "metadata": {
    "tags": []
   },
   "outputs": [],
   "source": [
    "transform = transforms.Compose([\n",
    "    ConcateOrgInput(remove_vad=False),\n",
    "])"
   ]
  },
  {
   "cell_type": "code",
   "execution_count": null,
   "id": "eef090aa-8edf-48d0-b98f-e5d21a0445d7",
   "metadata": {},
   "outputs": [],
   "source": [
    "# model_dir = 'ThinResNet34_ser06/Mean_batch256_basic_downk1_avg5_SAP2_em256_dp01_alpha0_none1_wde5_var/arcsoft_sgd_rop/vox2/123456'\n",
    "\n",
    "model_dir = 'ThinResNet34/Mean_batch128_seblock_downk1_avg1_SAP2_em256_dp01_alpha0_none1_wde4_esmix2/arcsoft_sgd_rop/vox1/wave_fb80_dist2/123456'\n",
    "train_set = 'vox1'\n",
    "check_path = root_path +  '/Data/checkpoint/' + model_dir\n",
    "# check_yaml = check_path + '/model.2022.07.20.yaml'\n",
    "check_yaml = check_path + '/model.2023.06.06.yaml'"
   ]
  },
  {
   "cell_type": "code",
   "execution_count": 5,
   "id": "8b7a84c9-c0d7-4300-a821-b1566f753040",
   "metadata": {
    "tags": []
   },
   "outputs": [],
   "source": [
    "# model_dir = 'ThinResNet34_ser06/Mean_batch256_basic_downk1_avg5_SAP2_em256_dp01_alpha0_none1_wde5_var/arcsoft_sgd_rop/vox2/123456'\n",
    "\n",
    "model_dir = 'ThinResNet34/Mean_batch128_k7_seblock_downk1_avg1_SAP2_em256_dp01_alpha0_none1_chn32_wd5e5_varesmix8/arcsoft_sgd_rop/vox2/wave_fb80_dist/123456'\n",
    "train_set = 'vox2'\n",
    "check_path = root_path +  '/Data/checkpoint/' + model_dir\n",
    "# check_yaml = check_path + '/model.2022.07.20.yaml'\n",
    "check_yaml = check_path + '/model.2023.06.07.yaml'"
   ]
  },
  {
   "cell_type": "code",
   "execution_count": 6,
   "id": "5ad1f1d1-8e2f-4219-b9cc-13f9c545c8c4",
   "metadata": {
    "tags": []
   },
   "outputs": [],
   "source": [
    "# select_input_dir = root_path +  '/Data/gradient/{}/{}_dev4'.format(model_dir, train_set)\n",
    "select_input_dir = root_path +  '/Data/gradient/' + 'ThinResNet34/Mean_batch128_cbam_downk5_avg0_SAP2_em256_dp01_alpha0_none1_chn32_wde4_varesmix8/arcsoft_sgd_rop/vox2/wave_sp161_dist/123456' + '/{}_dev4'.format(train_set)"
   ]
  },
  {
   "cell_type": "code",
   "execution_count": 7,
   "id": "6dc9a3cf-bed0-4eae-ac11-058f1e553a69",
   "metadata": {
    "tags": []
   },
   "outputs": [
    {
     "name": "stdout",
     "output_type": "stream",
     "text": [
      "Examples uids:  [['id00012-21Uxsk56VDQ-00001', 0], ['id00012-21Uxsk56VDQ-00002', 0]]\n"
     ]
    }
   ],
   "source": [
    "train_dir = Hdf5DelectDataset(select_dir=select_input_dir, \n",
    "                              transform=transform)\n",
    "\n",
    "kwargs = {'num_workers': 8, 'pin_memory': False} \n",
    "train_loader = DataLoader(train_dir, batch_size=1, shuffle=False, **kwargs)"
   ]
  },
  {
   "cell_type": "code",
   "execution_count": 8,
   "id": "c960bd83-986b-425e-99ac-3e82fee97e5d",
   "metadata": {
    "tags": []
   },
   "outputs": [],
   "source": [
    "model_kwargs = load_model_args(check_yaml)\n",
    "if 'embedding_model' in model_kwargs:\n",
    "    model = model_kwargs['embedding_model']\n",
    "    model.classifier = model_kwargs['classifier']\n",
    "else:\n",
    "    model = create_model(model_kwargs['model'], **model_kwargs)"
   ]
  },
  {
   "cell_type": "code",
   "execution_count": 9,
   "id": "b08d77ee-1e01-4afa-991d-5cca81180436",
   "metadata": {
    "tags": []
   },
   "outputs": [],
   "source": [
    "resume_path = check_path + '/checkpoint_{}.pth'\n",
    "\n",
    "# ep = 15 # Load model from Checkpoint file\n",
    "ep = 19 # Load model from Checkpoint file\n",
    "# ep = 26 # Load model from Checkpoint file\n",
    "\n",
    "if os.path.isfile(resume_path.format(ep)):\n",
    "    \n",
    "    checkpoint = torch.load(resume_path.format(ep))\n",
    "    checkpoint_state_dict = checkpoint['state_dict']\n",
    "    if isinstance(checkpoint_state_dict, tuple):\n",
    "        checkpoint_state_dict = checkpoint_state_dict[0]\n",
    "\n",
    "    filtered = {k: v for k, v in checkpoint_state_dict.items() if 'num_batches_tracked' not in k}\n",
    "    if list(filtered.keys())[0].startswith('module'):\n",
    "        new_state_dict = OrderedDict()\n",
    "        for k, v in filtered.items():\n",
    "            name = k[7:]  # remove `module.`，表面从第7个key值字符取到最后一个字符，去掉module.\n",
    "            new_state_dict[name] = v  # 新字典的key值对应的value为一一对应的值。\n",
    "\n",
    "        model.load_state_dict(new_state_dict)\n",
    "    else:\n",
    "        model_dict = model.state_dict()\n",
    "        model_dict.update(filtered)\n",
    "        model.load_state_dict(model_dict)"
   ]
  },
  {
   "cell_type": "code",
   "execution_count": 10,
   "id": "2598d4ec-8580-4986-a878-206766e6cbdd",
   "metadata": {
    "tags": []
   },
   "outputs": [],
   "source": [
    "trans = model.input_mask[0]\n",
    "model.input_mask.__delitem__(0)\n",
    "transform.transforms.append(trans)\n",
    "\n",
    "model = model.cuda()\n",
    "model.return_embeddings = False"
   ]
  },
  {
   "cell_type": "code",
   "execution_count": 11,
   "id": "b05011d0-303b-490f-9968-f5536e43a997",
   "metadata": {
    "tags": []
   },
   "outputs": [
    {
     "data": {
      "text/plain": [
       "[<Process_Data.audio_processing.ConcateOrgInput at 0x7f5260612f70>,\n",
       " MelFbankLayer(sr=16000, num_filter=80, stretch_ratio=1.00)]"
      ]
     },
     "execution_count": 11,
     "metadata": {},
     "output_type": "execute_result"
    }
   ],
   "source": [
    "transform.transforms"
   ]
  },
  {
   "cell_type": "code",
   "execution_count": 12,
   "id": "4809c58d-fe49-4120-a204-929421a9f200",
   "metadata": {
    "tags": []
   },
   "outputs": [],
   "source": [
    "from Process_Data.audio_processing import read_WaveInt\n",
    "import shap"
   ]
  },
  {
   "cell_type": "code",
   "execution_count": 13,
   "id": "63c0915c-d030-4216-bb4e-eadfa5fb1cbf",
   "metadata": {
    "tags": []
   },
   "outputs": [],
   "source": [
    "baseline_file = '/home/yangwenhao/project/lstm_speaker_verification/data/{}/dev/baselines.txt'.format(train_set)\n",
    "baselines = [] \n",
    "with open(baseline_file, 'r') as f:\n",
    "    for l in f.readlines():\n",
    "        _, upath = l.split()\n",
    "        the_data = read_WaveInt(upath)\n",
    "        the_data = trans(torch.tensor(the_data).reshape(1, 1, -1).float())\n",
    "        baselines.append(the_data)\n",
    "\n",
    "# baselines = torch.cat(baselines, dim=-2).mean(dim=-2, keepdim=True) "
   ]
  },
  {
   "cell_type": "code",
   "execution_count": 14,
   "id": "3095e502-4a27-43de-8352-84237e968e6d",
   "metadata": {
    "tags": []
   },
   "outputs": [],
   "source": [
    "def padding_baselines(data, baselines):\n",
    "    this_baselinses = []\n",
    "    for the_data in baselines:\n",
    "        while the_data.shape[1] < data.shape[-2]:\n",
    "            the_data = np.concatenate([the_data, the_data], axis=1)\n",
    "        \n",
    "        the_data = torch.tensor(the_data[:, :data.shape[-2]]).float().unsqueeze(0)\n",
    "        this_baselinses.append(the_data)\n",
    "        \n",
    "    return torch.cat(this_baselinses, dim=0)"
   ]
  },
  {
   "cell_type": "code",
   "execution_count": 15,
   "id": "f8a7bf44-da7e-41ba-897c-1f1d57e55998",
   "metadata": {
    "tags": []
   },
   "outputs": [],
   "source": [
    "extract_path = root_path +  '/Data/gradient/{}/epoch_{}_var/exptgrad_soft'.format(model_dir, ep)\n",
    "file_dir = extract_path\n",
    "if not os.path.exists(file_dir):\n",
    "    os.makedirs(file_dir)"
   ]
  },
  {
   "cell_type": "code",
   "execution_count": 20,
   "id": "86f22f7c-bfd1-44c8-bd01-8f408cdc794a",
   "metadata": {
    "tags": []
   },
   "outputs": [],
   "source": [
    "class model_forward():\n",
    "    def __init__(self, model):\n",
    "        self.model = model\n",
    "        pass\n",
    "    \n",
    "    def __call__(self, data):\n",
    "        logits,_ = self.model(data)\n",
    "        \n",
    "        return logits"
   ]
  },
  {
   "cell_type": "code",
   "execution_count": 18,
   "id": "429d6784-4175-4c45-899d-52315142a94b",
   "metadata": {
    "tags": []
   },
   "outputs": [
    {
     "name": "stderr",
     "output_type": "stream",
     "text": [
      "  0%|                   | 0/23976 [00:00<?, ?it/s]"
     ]
    }
   ],
   "source": [
    "model.eval()\n",
    "# explainer = shap.GradientExplainer((model), baselines, local_smoothing=0.5)\n",
    "# shap_values,indexes = explainer.shap_values(norm_to_explain, ranked_outputs=2, nsamples=200)\n",
    "\n",
    "pbar = tqdm(enumerate(train_loader), total=len(train_loader), ncols=50)"
   ]
  },
  {
   "cell_type": "code",
   "execution_count": null,
   "id": "34bed57d-5a20-4f0f-995e-e7d9ebfad376",
   "metadata": {
    "tags": []
   },
   "outputs": [],
   "source": [
    "model"
   ]
  },
  {
   "cell_type": "code",
   "execution_count": 19,
   "id": "2fbb30b3-c0ec-4b71-a9b8-81a083a7f1c6",
   "metadata": {
    "tags": []
   },
   "outputs": [
    {
     "name": "stderr",
     "output_type": "stream",
     "text": [
      "To copy construct from a tensor, it is recommended to use sourceTensor.clone().detach() or sourceTensor.clone().detach().requires_grad_(True), rather than torch.tensor(sourceTensor).\n",
      "100%|████| 23976/23976 [10:22:41<00:00,  1.56s/it]\n"
     ]
    }
   ],
   "source": [
    "grad_file = file_dir + '/grad.h5py'\n",
    "with h5py.File(grad_file, 'w') as gf:\n",
    "    for batch_idx, (datas, label, uid) in pbar:\n",
    "        data_lenght = datas.shape[-2]\n",
    "        # max_inputs = max(max_inputs, data.shape[-2])\n",
    "        max_lenght =  4 * c.NUM_FRAMES_SPECT\n",
    "        if datas.shape[2] >= max_lenght:\n",
    "            num_segs = int(np.ceil(datas.shape[2] / max_lenght))\n",
    "            if data.shape[2] < (num_segs*max_lenght):\n",
    "                datas = torch.cat([datas, datas], dim=-2)\n",
    "                datas = datas[:,:,:int(num_segs*max_lenght)]\n",
    "\n",
    "            datas = datas.chunk(num_segs, dim=2)\n",
    "            # data = torch.cat(x, dim=0)\n",
    "        else:\n",
    "            datas = [datas]\n",
    "        \n",
    "        grads = []\n",
    "        for data in datas:\n",
    "            baseline = padding_baselines(data, baselines)\n",
    "            explainer = shap.GradientExplainer(model, baseline.cuda(), local_smoothing=0.5)\n",
    "            shap_values,indexes = explainer.shap_values(data.cuda(),\n",
    "                                                        ranked_outputs=1,\n",
    "                                                        nsamples=200)\n",
    "            # break\n",
    "            grads.append(shap_values[0].squeeze().astype(np.float32))\n",
    "        \n",
    "        grad = np.concatenate(grads, axis=0)[:data_lenght]\n",
    "        # print(grad.shape)   \n",
    "        gf.create_dataset(uid[0], data=grad)"
   ]
  },
  {
   "cell_type": "code",
   "execution_count": 29,
   "id": "d71ec200-0fe8-4f91-bc00-ae277963318c",
   "metadata": {
    "tags": []
   },
   "outputs": [],
   "source": [
    "import argparse\n",
    "import pathlib\n",
    "import pickle\n",
    "import h5py\n",
    "import random\n",
    "import json\n",
    "from tqdm import tqdm\n",
    "import os\n",
    "import matplotlib\n",
    "import matplotlib.pyplot as plt\n",
    "import numpy as np\n",
    "from matplotlib.backends.backend_pdf import PdfPages\n",
    "from scipy import interpolate\n",
    "\n",
    "%matplotlib inline"
   ]
  },
  {
   "cell_type": "code",
   "execution_count": 20,
   "id": "6d136222-de2e-47d0-b013-513ee2a5fb25",
   "metadata": {
    "tags": []
   },
   "outputs": [],
   "source": [
    "# extract_path='/home/yangwenhao/local/project/SpeakerVerification-pytorch/Data/gradient/LoResNet8/vox2/klsp_egs_baseline/arcsoft/Mean_cbam_None_dp01_alpha0_em256_var/epoch_50_var_50/epoch_50'\n",
    "lstm_path = '/home/yangwenhao/project/lstm_speaker_verification'\n",
    "root_path='/home/yangwenhao/project/SpeakerVerification-pytorch/Data/gradient'\n",
    "cam_method = 'exptgrad_soft' #   fullgrad grad_cam_pp integrad layer_cam gradientshap_soft\n",
    "# model_dir = 'ThinResNet34/Mean_batch128_cbam_downk5_avg0_SAP2_em256_dp01_alpha0_none1_chn32_wde4_varesmix8/arcsoft_sgd_rop/vox2/wave_sp161_dist/123456'\n",
    "\n",
    "extract_path = root_path + '/%s/epoch_%d_var/%s' % (model_dir, ep, cam_method)\n",
    "input_path = root_path + '/%s/%s_dev4' % (model_dir, train_set)\n",
    "\n",
    "# Training options\n",
    "feat_dim = 80 #161\n",
    "samples = 23976\n",
    "acoustic_feature = 'spectrogram' # choices=['fbank', 'spectrogram', 'mfcc'],\n",
    "seed = 123456\n",
    "\n",
    "random.seed(seed)\n",
    "np.random.seed(seed)"
   ]
  },
  {
   "cell_type": "code",
   "execution_count": 21,
   "id": "5278196a-c186-4610-8513-ea5b80f94a4d",
   "metadata": {
    "tags": []
   },
   "outputs": [],
   "source": [
    "def read_hdf5(reader, key):\n",
    "    with h5py.File(reader, 'r') as r:\n",
    "        data_flat = r.get(key)[:]\n",
    "        return data_flat\n",
    "    \n",
    "def mean_norm(grad):\n",
    "    return np.abs(grad).mean(axis=0)\n",
    "\n",
    "def var_norm(grad):\n",
    "    return grad.var(axis=0)\n",
    "\n",
    "def clip_mean_norm(grad):\n",
    "    return np.clip(grad, a_min=0, a_max=None).mean(axis=0)\n",
    "\n",
    "def sum_norm(grad):\n",
    "    cam = np.abs(grad).sum(axis=0)\n",
    "    cam = (cam - cam.min()) / (cam.max()-cam.min() + 1e-6)\n",
    "    return cam\n",
    "\n",
    "def clip_sum_norm(grad):\n",
    "    cam = np.clip(grad, a_min=0, a_max=None).sum(axis=0)\n",
    "    cam = (cam - cam.min()) / (cam.max()-cam.min() + 1e-6)\n",
    "    return cam\n",
    "\n",
    "def sum_clip_norm(grad):\n",
    "    cam = np.clip(grad.sum(axis=0), a_min=0, a_max=None)\n",
    "    cam = (cam - cam.min()) / (cam.max()-cam.min() + 1e-6)\n",
    "    return cam"
   ]
  },
  {
   "cell_type": "code",
   "execution_count": 22,
   "id": "61ba6e93-bfe9-4890-b952-5e182c4d5456",
   "metadata": {
    "tags": []
   },
   "outputs": [],
   "source": [
    "uid2spk = {}\n",
    "with open(lstm_path + '/data/%s/dev/utt2spk'%train_set, 'r') as f:\n",
    "    for l in f.readlines():\n",
    "        uid, sid = l.split()\n",
    "        # if uid in some_data:\n",
    "        uid2spk[uid] = sid\n",
    "    \n",
    "sid2gender = {}\n",
    "with open(lstm_path + '/data/%s/dev/spk2gender_bcp'%train_set, 'r') as f:\n",
    "    for l in f.readlines():\n",
    "        sid, gender = l.split()\n",
    "        sid2gender[sid] = gender\n",
    "        \n",
    "uid2gender = {}\n",
    "for uid in uid2spk:\n",
    "    this_sid = uid2spk[uid]\n",
    "    uid2gender[uid] = sid2gender[this_sid] if this_sid in sid2gender else 'null'"
   ]
  },
  {
   "cell_type": "code",
   "execution_count": 24,
   "id": "0970113c-be92-4914-bf80-52c64e691bca",
   "metadata": {
    "tags": []
   },
   "outputs": [
    {
     "name": "stdout",
     "output_type": "stream",
     "text": [
      "Length of data:  23976\n"
     ]
    }
   ],
   "source": [
    "# load selected input uids\n",
    "# dir_path = pathlib.Path(extract_path)\n",
    "# print('Path: %s' % str(dir_path))\n",
    "data_reader = select_input_dir + '/data.h5py'\n",
    "uid_reader = select_input_dir + '/uid_idx.json'\n",
    "\n",
    "assert os.path.exists(data_reader)\n",
    "assert os.path.exists(uid_reader)\n",
    "\n",
    "with open(uid_reader, 'r') as f:\n",
    "    uididx = json.load(f)\n",
    "    \n",
    "grad_reader = extract_path + '/grad.h5py'\n",
    "assert os.path.exists(grad_reader)\n",
    "\n",
    "some_data = set([uid for uid,idx in uididx])\n",
    "print(\"Length of data: \", len(some_data))"
   ]
  },
  {
   "cell_type": "code",
   "execution_count": 25,
   "id": "c07bb89f-146e-4faf-b71c-b47965775bd9",
   "metadata": {
    "tags": []
   },
   "outputs": [],
   "source": [
    "def get_data_grad(uid):\n",
    "    data = read_hdf5(data_reader, uid)\n",
    "    grad = read_hdf5(grad_reader, uid)\n",
    "    return data, grad"
   ]
  },
  {
   "cell_type": "code",
   "execution_count": 35,
   "id": "ecb82bce-cdeb-464b-a923-c59a46331a00",
   "metadata": {
    "tags": []
   },
   "outputs": [
    {
     "name": "stderr",
     "output_type": "stream",
     "text": [
      "100%|██████| 23976/23976 [00:24<00:00, 982.57it/s]\n"
     ]
    }
   ],
   "source": [
    "grad_input_f = np.zeros((feat_dim))\n",
    "grad_input_m = np.zeros((feat_dim))\n",
    "grad_input = np.zeros((feat_dim))\n",
    "\n",
    "norm_func = clip_sum_norm\n",
    "males,females = 0,0\n",
    "for uid in tqdm(some_data, ncols=50):\n",
    "    gender = uid2gender[uid]\n",
    "    # data, grad = get_data_grad(uid)\n",
    "    grad = read_hdf5(grad_reader, uid)\n",
    "    if np.isnan(grad).sum()>0:\n",
    "        print(\"Skip %s with shape %s\" %(uid, str(grad.shape)))\n",
    "        continue\n",
    "        \n",
    "    if gender == 'f':\n",
    "        females += 1\n",
    "        grad_input_f  += norm_func(grad)\n",
    "    else:\n",
    "        males += 1\n",
    "        grad_input_m  += norm_func(grad)\n",
    "    \n",
    "    grad_input += norm_func(grad)\n",
    "        \n",
    "grad_input_f /= females\n",
    "grad_input_m /= males\n",
    "grad_input /= females + males\n",
    "# print(grad_input_f, grad_input_m)"
   ]
  },
  {
   "cell_type": "code",
   "execution_count": 27,
   "id": "88f086e9-4143-40ae-86a1-ade788ad28c2",
   "metadata": {
    "tags": []
   },
   "outputs": [
    {
     "name": "stdout",
     "output_type": "stream",
     "text": [
      "9248 14728\n"
     ]
    }
   ],
   "source": [
    "print(females, males)"
   ]
  },
  {
   "cell_type": "code",
   "execution_count": 36,
   "id": "61bf716a-0c74-4da0-ad28-94a33afa1f4d",
   "metadata": {
    "tags": []
   },
   "outputs": [
    {
     "data": {
      "image/png": "[encoded data removed]",
      "text/plain": [
       "<Figure size 800x240 with 1 Axes>"
      ]
     },
     "metadata": {},
     "output_type": "display_data"
    }
   ],
   "source": [
    "plt.figure(figsize=(8, 2.4))\n",
    "# x = np.linspace(0, 8000, 161)\n",
    "x = np.linspace(0, hz2mel(8000), 80)\n",
    "x = mel2hz(x)\n",
    "\n",
    "alpha = 0.8\n",
    "\n",
    "for i,(f, m, r) in enumerate([(grad_input_f, grad_input_m, grad_input)]):\n",
    "    # plt.plot(x, m/m.mean(), alpha=alpha)\n",
    "    # plt.plot(x, f/f.mean(), alpha=alpha)\n",
    "    plt.plot(x, r/r.mean(), alpha=alpha, marker='.')\n",
    "    # y /= y.sum()\n",
    "    # plt.legend(['male', 'female', 'overall'])\n",
    "    \n",
    "plt.savefig('../imgs/%s_%s_%s.png'%(train_set, cam_method, str(norm_func).split()[1]), bbox_inches='tight')"
   ]
  },
  {
   "cell_type": "code",
   "execution_count": null,
   "id": "8b56601f-903e-4935-8c68-72f6b73a3a31",
   "metadata": {},
   "outputs": [],
   "source": []
  }
 ],
 "metadata": {
  "kernelspec": {
   "display_name": "Python 3 (ipykernel)",
   "language": "python",
   "name": "python3"
  },
  "language_info": {
   "codemirror_mode": {
    "name": "ipython",
    "version": 3
   },
   "file_extension": ".py",
   "mimetype": "text/x-python",
   "name": "python",
   "nbconvert_exporter": "python",
   "pygments_lexer": "ipython3",
   "version": "3.8.0"
  },
  "widgets": {
   "application/vnd.jupyter.widget-state+json": {
    "state": {},
    "version_major": 2,
    "version_minor": 0
   }
  }
 },
 "nbformat": 4,
 "nbformat_minor": 5
}
