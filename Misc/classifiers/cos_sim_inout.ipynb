{
 "cells": [
  {
   "cell_type": "code",
   "execution_count": 1,
   "metadata": {},
   "outputs": [],
   "source": [
    "import torch\n",
    "import torch.nn as nn\n",
    "import torch.nn.functional as F\n",
    "\n",
    "import numpy as np\n",
    "from sklearn.model_selection import cross_val_predict\n",
    "from sklearn.tree import DecisionTreeClassifier\n"
   ]
  },
  {
   "cell_type": "code",
   "execution_count": 2,
   "metadata": {},
   "outputs": [
    {
     "data": {
      "text/plain": [
       "True"
      ]
     },
     "execution_count": 2,
     "metadata": {},
     "output_type": "execute_result"
    }
   ],
   "source": [
    "torch.cuda.is_available()"
   ]
  },
  {
   "cell_type": "code",
   "execution_count": 3,
   "metadata": {},
   "outputs": [],
   "source": [
    "enr_vec = np.load('/home/yangwenhao/local/project/SpeakerVerification-pytorch/Data/xvector/MultiResNet10/army/spect_81/soft_nan/x_vector/enrollled/enroll/spkvecs.npy')\n",
    "enr_len = np.load('/home/yangwenhao/local/project/SpeakerVerification-pytorch/Data/xvector/MultiResNet10/army/spect_81/soft_nan/x_vector/enrollled/enroll/veclabs.npy')\n"
   ]
  },
  {
   "cell_type": "code",
   "execution_count": 4,
   "metadata": {},
   "outputs": [],
   "source": [
    "enr_cos_sim = np.load('/home/yangwenhao/local/project/SpeakerVerification-pytorch/Data/xvector/MultiResNet10/army/spect_81/soft_nan/x_vector/enrollled/test/result.npy')\n",
    "not_cls_sim = np.load('/home/yangwenhao/local/project/SpeakerVerification-pytorch/Data/xvector/MultiResNet10/army/spect_81/soft_nan/x_vector/notenrollled/result.npy')\n",
    "\n",
    "enr_cls = np.load('/home/yangwenhao/local/project/SpeakerVerification-pytorch/Data/xvector/MultiResNet10/army/spect_81/soft_nan/x_vector/enrollled/test/answer.npy')\n",
    "not_cls = np.load('/home/yangwenhao/local/project/SpeakerVerification-pytorch/Data/xvector/MultiResNet10/army/spect_81/soft_nan/x_vector/notenrollled/answer.npy')+51"
   ]
  },
  {
   "cell_type": "code",
   "execution_count": 5,
   "metadata": {},
   "outputs": [
    {
     "name": "stdout",
     "output_type": "stream",
     "text": [
      "(1392, 128)\n"
     ]
    }
   ],
   "source": [
    "enr_cos_t = enr_vec.transpose()\n",
    "print(enr_cos_t.shape)\n",
    "\n",
    "avg_enr_vec = []\n",
    "enr_lab = []\n",
    "for i in range(1, len(enr_len)):\n",
    "    avg_enr_vec.append(enr_cos_t[enr_len[i-1]:enr_len[i],:].mean(axis=0).reshape(1,-1))\n",
    "    \n",
    "    for x in range(enr_len[i]-enr_len[i-1]):\n",
    "        enr_lab.append(i-1)\n"
   ]
  },
  {
   "cell_type": "code",
   "execution_count": 6,
   "metadata": {},
   "outputs": [
    {
     "name": "stdout",
     "output_type": "stream",
     "text": [
      "torch.Size([128, 50])\n",
      "(1392, 128) 1392\n"
     ]
    }
   ],
   "source": [
    "avg_center = np.concatenate(avg_enr_vec, axis=0).transpose()\n",
    "avg_center =  torch.tensor(avg_center).float()\n",
    "avg_center = F.normalize(avg_center, dim=1) #* 12\n",
    "\n",
    "print(avg_center.shape)\n",
    "print(enr_cos_t.shape, enr_lab.__len__())"
   ]
  },
  {
   "cell_type": "code",
   "execution_count": 7,
   "metadata": {},
   "outputs": [
    {
     "name": "stdout",
     "output_type": "stream",
     "text": [
      "(11699, 50)\n"
     ]
    },
    {
     "data": {
      "text/plain": [
       "DecisionTreeClassifier(ccp_alpha=0.0, class_weight=None, criterion='gini',\n",
       "                       max_depth=None, max_features=None, max_leaf_nodes=None,\n",
       "                       min_impurity_decrease=0.0, min_impurity_split=None,\n",
       "                       min_samples_leaf=1, min_samples_split=2,\n",
       "                       min_weight_fraction_leaf=0.0, presort='deprecated',\n",
       "                       random_state=0, splitter='best')"
      ]
     },
     "execution_count": 7,
     "metadata": {},
     "output_type": "execute_result"
    }
   ],
   "source": [
    "print(not_cls_sim.shape)\n",
    "enr_cos_t = torch.tensor(enr_cos_t).float()\n",
    "enr_cos_t = F.normalize(enr_cos_t, dim=1) #* 12\n",
    "\n",
    "enr_cos = torch.matmul(enr_cos_t, avg_center)\n",
    "\n",
    "x = np.append(enr_cos.numpy(), not_cls_sim[:100, :], axis=0)\n",
    "positives= np.ones(len(enr_cos))\n",
    "nagative = np.zeros(100)\n",
    "y = np.append(positives, nagative)\n",
    "\n",
    "xlf = DecisionTreeClassifier(random_state=0)\n",
    "# x = enr_cos.numpy()\n",
    "# y = enr_lab\n",
    "\n",
    "xlf.fit(x, y)"
   ]
  },
  {
   "cell_type": "code",
   "execution_count": 8,
   "metadata": {},
   "outputs": [
    {
     "name": "stdout",
     "output_type": "stream",
     "text": [
      "(43086, 50)\n",
      "(43086,)\n"
     ]
    }
   ],
   "source": [
    "pre_x = np.append(enr_cos_sim, not_cls_sim[100:], axis=0)\n",
    "print(pre_x.shape)\n",
    "\n",
    "real_y = np.append(np.ones(len(enr_cos_sim)), np.zeros(len(not_cls_sim)-100))\n",
    "print(real_y.shape)\n"
   ]
  },
  {
   "cell_type": "code",
   "execution_count": 9,
   "metadata": {},
   "outputs": [],
   "source": [
    "pred_y = xlf.predict(pre_x)"
   ]
  },
  {
   "cell_type": "code",
   "execution_count": 11,
   "metadata": {},
   "outputs": [
    {
     "name": "stdout",
     "output_type": "stream",
     "text": [
      "0.728728589332962\n"
     ]
    }
   ],
   "source": [
    "correct = 0\n",
    "for m,n in zip(pred_y, real_y):\n",
    "    if m==n:\n",
    "        correct +=1\n",
    "acc = correct / len(real_y)\n",
    "print(acc) \n",
    "#72.872%"
   ]
  },
  {
   "cell_type": "code",
   "execution_count": 14,
   "metadata": {},
   "outputs": [],
   "source": [
    "import torch.optim as optim\n",
    "from torch.optim.lr_scheduler import MultiStepLR\n",
    "\n",
    "linearpred = nn.Linear(50, 2) # 使用cos分数预测\n",
    "\n",
    "optimizer = optim.SGD(linearpred.parameters() ,lr=0.1,\n",
    "                momentum=0.9,\n",
    "                dampening=0,\n",
    "                weight_decay=0.001)\n",
    "\n",
    "scheduler = MultiStepLR(optimizer, milestones=[20, 20, 20], gamma=0.1)\n",
    "\n",
    "output_softmax = nn.Softmax(dim=1)\n",
    "\n",
    "crossentropy = nn.CrossEntropyLoss()"
   ]
  },
  {
   "cell_type": "code",
   "execution_count": 16,
   "metadata": {},
   "outputs": [
    {
     "name": "stdout",
     "output_type": "stream",
     "text": [
      "torch.Size([1492, 50])\n",
      "torch.Size([1492])\n",
      "Loss: 0.16100 Accuracy: 91.5550 % \n",
      "Loss: 0.16026 Accuracy: 91.4879 % \n",
      "Loss: 0.15960 Accuracy: 91.4209 % \n",
      "Loss: 0.15899 Accuracy: 91.4209 % \n",
      "Loss: 0.15840 Accuracy: 91.4209 % \n",
      "Loss: 0.15785 Accuracy: 91.4209 % \n",
      "Loss: 0.15732 Accuracy: 91.4209 % \n",
      "Loss: 0.15682 Accuracy: 91.3539 % \n",
      "Loss: 0.15634 Accuracy: 91.3539 % \n",
      "Loss: 0.15589 Accuracy: 91.3539 % \n",
      "Loss: 0.15546 Accuracy: 91.3539 % \n",
      "Loss: 0.15505 Accuracy: 91.3539 % \n",
      "Loss: 0.15465 Accuracy: 91.3539 % \n",
      "Loss: 0.15427 Accuracy: 91.3539 % \n",
      "Loss: 0.15390 Accuracy: 91.3539 % \n",
      "Loss: 0.15355 Accuracy: 91.3539 % \n"
     ]
    }
   ],
   "source": [
    "epoch = 80\n",
    "t_x = torch.tensor(x).cuda()\n",
    "print(t_x.shape)\n",
    "linearpred = linearpred.cuda()\n",
    "t_y = torch.tensor(y).long().cuda()\n",
    "print(t_y.shape)\n",
    "\n",
    "for i in range(epoch):\n",
    "    \n",
    "    p_y = linearpred(t_x)\n",
    "    loss = crossentropy(p_y,t_y)\n",
    "    \n",
    "    p_y_lab = output_softmax(p_y)\n",
    "    pred_one_labels = torch.max(p_y_lab, dim=1)[1]\n",
    "    corrects = float((pred_one_labels.cuda() == t_y).sum().item())\n",
    "    accuracy = corrects / len(y)\n",
    "    \n",
    "    if (i+1) % 5 == 0:\n",
    "        print(\"Loss: %.5f Accuracy: %.4f %% \" % (loss.item(), accuracy*100.)) # 100%\n",
    "        \n",
    "    optimizer.zero_grad()\n",
    "    loss.backward()\n",
    "    optimizer.step()"
   ]
  },
  {
   "cell_type": "code",
   "execution_count": 17,
   "metadata": {},
   "outputs": [
    {
     "name": "stdout",
     "output_type": "stream",
     "text": [
      "73.07942255024834\n"
     ]
    }
   ],
   "source": [
    "lin_pre_x = torch.tensor(pre_x).cuda(0)\n",
    "lin_pre_y = linearpred(lin_pre_x)\n",
    "lin_p_y_lab = output_softmax(lin_pre_y)\n",
    "lin_pred_labels = torch.max(lin_p_y_lab, dim=1)[1]\n",
    "\n",
    "lin_real_y = torch.tensor(real_y).long().cuda()\n",
    "\n",
    "corrects = float((lin_pred_labels.cuda() == lin_real_y).sum().item())\n",
    "lin_test_accuracy = corrects / len(real_y)\n",
    "print(lin_test_accuracy*100.) \n",
    "\n",
    "#Test accuracy for in set and out set: 73.079%"
   ]
  },
  {
   "cell_type": "code",
   "execution_count": null,
   "metadata": {},
   "outputs": [],
   "source": []
  }
 ],
 "metadata": {
  "kernelspec": {
   "display_name": "Python 3",
   "language": "python",
   "name": "python3"
  },
  "language_info": {
   "codemirror_mode": {
    "name": "ipython",
    "version": 3
   },
   "file_extension": ".py",
   "mimetype": "text/x-python",
   "name": "python",
   "nbconvert_exporter": "python",
   "pygments_lexer": "ipython3",
   "version": "3.5.6"
  }
 },
 "nbformat": 4,
 "nbformat_minor": 1
}
