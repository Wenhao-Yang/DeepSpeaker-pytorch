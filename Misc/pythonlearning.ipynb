{
 "cells": [
  {
   "cell_type": "code",
   "execution_count": 9,
   "id": "d29f174d-cab8-4680-ab4c-e6d0ce5a8212",
   "metadata": {},
   "outputs": [],
   "source": [
    "def a1(b):\n",
    "    b[0]=1.2\n",
    "    \n",
    "def a2(b):\n",
    "    b[0]=1.5"
   ]
  },
  {
   "cell_type": "code",
   "execution_count": 12,
   "id": "dbdeff6f-b3c5-48a8-9d71-fea4a06e7165",
   "metadata": {},
   "outputs": [],
   "source": [
    "import torch"
   ]
  },
  {
   "cell_type": "code",
   "execution_count": 10,
   "id": "d6a374fe-93fb-4308-a932-1e52773759e7",
   "metadata": {},
   "outputs": [
    {
     "name": "stdout",
     "output_type": "stream",
     "text": [
      "[0, 1, 2]\n",
      "[1.2, 1, 2]\n",
      "[1.5, 1, 2]\n"
     ]
    }
   ],
   "source": [
    "c = [0,1,2]\n",
    "print(c)\n",
    "\n",
    "a1(c)\n",
    "print(c)\n",
    "\n",
    "\n",
    "a2(b=c)\n",
    "print(c)\n"
   ]
  },
  {
   "cell_type": "code",
   "execution_count": 11,
   "id": "f713a635-0b8a-478e-b531-12eb59611e23",
   "metadata": {},
   "outputs": [
    {
     "data": {
      "text/plain": [
       "True"
      ]
     },
     "execution_count": 11,
     "metadata": {},
     "output_type": "execute_result"
    }
   ],
   "source": [
    "isinstance('s', str)"
   ]
  },
  {
   "cell_type": "code",
   "execution_count": 15,
   "id": "3c7b7e89-24de-4a1a-a0ca-607bb596ed1b",
   "metadata": {},
   "outputs": [],
   "source": [
    "a =  torch.randn(4,256)\n",
    "b =  torch.randn(2,256)"
   ]
  },
  {
   "cell_type": "code",
   "execution_count": 20,
   "id": "f806c231-248e-4ee3-b33d-bc0dc525ca2b",
   "metadata": {},
   "outputs": [
    {
     "name": "stdout",
     "output_type": "stream",
     "text": [
      "tensor(32.9661)\n",
      "tensor(22.9427)\n",
      "tensor(1.0000)\n",
      "tensor(1.0000)\n"
     ]
    },
    {
     "data": {
      "text/plain": [
       "tensor(-0.0058)"
      ]
     },
     "execution_count": 20,
     "metadata": {},
     "output_type": "execute_result"
    }
   ],
   "source": [
    "print(a.norm(2))\n",
    "print(b.norm(2))\n",
    "\n",
    "a_norm = a/a.norm(2)\n",
    "b_norm = b/b.norm(2)\n",
    "\n",
    "print(a_norm.norm(2))\n",
    "print(b_norm.norm(2))\n",
    "\n",
    "\n",
    "a_norm.matmul(b_norm.T).mean()"
   ]
  },
  {
   "cell_type": "code",
   "execution_count": 21,
   "id": "9f32d1fb-a857-4933-9bcb-d21c8bc32a24",
   "metadata": {},
   "outputs": [],
   "source": [
    "from pytorch_lightning import LightningModule"
   ]
  },
  {
   "cell_type": "code",
   "execution_count": 26,
   "id": "97653898-abb9-426a-bdfd-ea8c4fbcacf6",
   "metadata": {},
   "outputs": [],
   "source": [
    "from Light.model import SpeakerModule\n",
    "from hyperpyyaml import load_hyperpyyaml\n",
    "from Light.dataset import SubDatasets, SubLoaders\n"
   ]
  },
  {
   "cell_type": "code",
   "execution_count": 24,
   "id": "bf0e4433-d555-4fca-9550-562907920f47",
   "metadata": {},
   "outputs": [],
   "source": [
    "config_yaml = '../TrainAndTest/Fbank/ResNets/cnc1_resnet_light.yaml'\n",
    "with open(config_yaml, 'r') as f:\n",
    "        config_args = load_hyperpyyaml(f)"
   ]
  },
  {
   "cell_type": "code",
   "execution_count": 39,
   "id": "e533d539-cdc7-41c9-adaf-9f5d9457ea97",
   "metadata": {},
   "outputs": [
    {
     "name": "stderr",
     "output_type": "stream",
     "text": [
      "100%|███████████████████████████████████████████████████| 408064/408064 [00:00<00:00, 575813.85it/s]\n"
     ]
    },
    {
     "name": "stdout",
     "output_type": "stream",
     "text": [
      "==> There are 797 speakers in Dataset.\n",
      "    There are 408064 egs in Dataset\n"
     ]
    },
    {
     "name": "stderr",
     "output_type": "stream",
     "text": [
      "100%|███████████████████████████████████████████████████████| 1578/1578 [00:00<00:00, 603557.52it/s]"
     ]
    },
    {
     "name": "stdout",
     "output_type": "stream",
     "text": [
      "==> There are 792 speakers in Dataset.\n",
      "    There are 1578 egs in Dataset\n"
     ]
    },
    {
     "name": "stderr",
     "output_type": "stream",
     "text": [
      "\n"
     ]
    }
   ],
   "source": [
    "train_dir, valid_dir, train_extract_dir = SubDatasets(config_args)\n",
    "\n",
    "model = SpeakerModule(config_args=config_args, train_dir=train_dir)"
   ]
  },
  {
   "cell_type": "code",
   "execution_count": 28,
   "id": "f2022d89-9e4f-4f2d-89ee-9491a0feff35",
   "metadata": {},
   "outputs": [],
   "source": [
    "model._set_hparams(config_args)"
   ]
  },
  {
   "cell_type": "code",
   "execution_count": 31,
   "id": "d3d36d48-8a92-4e61-88ce-214dd466362f",
   "metadata": {},
   "outputs": [
    {
     "data": {
      "text/plain": [
       "Define_Model.Loss.SoftmaxLoss.AdditiveMarginLinear"
      ]
     },
     "execution_count": 31,
     "metadata": {},
     "output_type": "execute_result"
    }
   ],
   "source": [
    "type(model.hparams.classifier)\n"
   ]
  },
  {
   "cell_type": "code",
   "execution_count": 41,
   "id": "ab97fd21-4eb2-4da8-b326-fda046324e9e",
   "metadata": {},
   "outputs": [],
   "source": [
    "model._set_hparams({'config_args': config_args})"
   ]
  },
  {
   "cell_type": "code",
   "execution_count": 42,
   "id": "77285757-11f9-4059-aa6c-5630e1dd5114",
   "metadata": {},
   "outputs": [
    {
     "data": {
      "text/plain": [
       "\"config_args\": {'data_root_dir': '/home/work2020/yangwenhao/project/lstm_speaker_verification', 'seed': 123456, 'datasets': 'cnceleb_v2', 'testset': 'cnceleb', 'feat_type': 'klfb', 'loss': 'arcsoft', 'input_dim': 40, 'feat': 'fb40', 'subset': '', 'train_dir': '/home/work2020/yangwenhao/project/lstm_speaker_verification/data/cnceleb_v2/egs/klfb/dev_fb40_domain', 'train_test_dir': '/home/work2020/yangwenhao/project/lstm_speaker_verification/data/cnceleb_v2/klfb/test_fb40', 'train_trials': 'trials_4w', 'train_trials_path': '/home/work2020/yangwenhao/project/lstm_speaker_verification/data/cnceleb_v2/klfb/test_fb40/trials_4w', 'valid_dir': '/home/work2020/yangwenhao/project/lstm_speaker_verification/data/cnceleb_v2/egs/klfb/dev_fb40_domain_valid', 'num_valid': 2, 'test_dir': '/home/work2020/yangwenhao/project/lstm_speaker_verification/data/cnceleb/klfb/test_fb40', 'trials': 'trials', 'input_norm': 'Mean', 'test_input': 'fix', 'log_scale': False, 'random_chunk': [200, 400], 'chunk_size': 300, 'frame_shift': 300, 'extract': True, 'nj': 3, 'shuffle': False, 'batch_shuffle': True, 'feat_format': 'kaldi', 'remove_vad': True, 'epochs': 60, 'optimizer': 'sgd', 'lr_decay': 0, 'weight_decay': 0.0001, 'dampening': 0, 'nesterov': False, 'momentum': 0.9, 'accu_steps': 1, 'patience': 3, 'milestones': [10, 20, 30, 40], 'scheduler': 'rop', 'lr': 0.1, 'base_lr': 1e-05, 'cos_sim': True, 'early_stopping': True, 'early_patience': 20, 'early_delta': 0.0001, 'early_meta': 'mix2', 'resnet_size': 18, 'block_type': 'cbam', 'red_ratio': 2, 'encoder_type': 'SAP2', 'downsample': 'k1', 'model': 'ThinResNet', 'kernel_size': None, 'alpha': 0, 'avg_size': 5, 'embedding_size': 256, 'batch_size': 256, 'dropout_p': 0.1, 'activation': 'relu', 'channels': '32,64,128,256', 'fast': 'none1', 'embedding_model': ThinResNet(\n",
       "  (input_mask): Sequential(\n",
       "    (0): Mean_Norm(dim=-2)\n",
       "  )\n",
       "  (conv1): Conv2d(1, 16, kernel_size=(5, 5), stride=[2, 1], padding=(2, 2))\n",
       "  (bn1): BatchNorm2d(16, eps=1e-05, momentum=0.1, affine=True, track_running_stats=True)\n",
       "  (relu): ReLU(inplace=True)\n",
       "  (layer1): Sequential(\n",
       "    (0): CBAMBlock(\n",
       "      (conv1): Conv2d(16, 16, kernel_size=(3, 3), stride=(1, 1), padding=(1, 1), bias=False)\n",
       "      (bn1): BatchNorm2d(16, eps=1e-05, momentum=0.1, affine=True, track_running_stats=True)\n",
       "      (relu): ReLU(inplace=True)\n",
       "      (conv2): Conv2d(16, 16, kernel_size=(3, 3), stride=(1, 1), padding=(1, 1), bias=False)\n",
       "      (bn2): BatchNorm2d(16, eps=1e-05, momentum=0.1, affine=True, track_running_stats=True)\n",
       "      (CBAM_layer): CBAM(\n",
       "        (cov_t): Conv2d(16, 16, kernel_size=(7, 1), stride=(1, 1), padding=(3, 0))\n",
       "        (avg_t): AdaptiveAvgPool2d(output_size=(None, 1))\n",
       "        (cov_f): Conv2d(16, 16, kernel_size=(1, 7), stride=(1, 1), padding=(0, 3))\n",
       "        (avg_f): AdaptiveAvgPool2d(output_size=(1, None))\n",
       "        (activation): Sigmoid()\n",
       "      )\n",
       "    )\n",
       "    (1): CBAMBlock(\n",
       "      (conv1): Conv2d(16, 16, kernel_size=(3, 3), stride=(1, 1), padding=(1, 1), bias=False)\n",
       "      (bn1): BatchNorm2d(16, eps=1e-05, momentum=0.1, affine=True, track_running_stats=True)\n",
       "      (relu): ReLU(inplace=True)\n",
       "      (conv2): Conv2d(16, 16, kernel_size=(3, 3), stride=(1, 1), padding=(1, 1), bias=False)\n",
       "      (bn2): BatchNorm2d(16, eps=1e-05, momentum=0.1, affine=True, track_running_stats=True)\n",
       "      (CBAM_layer): CBAM(\n",
       "        (cov_t): Conv2d(16, 16, kernel_size=(7, 1), stride=(1, 1), padding=(3, 0))\n",
       "        (avg_t): AdaptiveAvgPool2d(output_size=(None, 1))\n",
       "        (cov_f): Conv2d(16, 16, kernel_size=(1, 7), stride=(1, 1), padding=(0, 3))\n",
       "        (avg_f): AdaptiveAvgPool2d(output_size=(1, None))\n",
       "        (activation): Sigmoid()\n",
       "      )\n",
       "    )\n",
       "  )\n",
       "  (layer2): Sequential(\n",
       "    (0): CBAMBlock(\n",
       "      (conv1): Conv2d(16, 32, kernel_size=(3, 3), stride=(2, 2), padding=(1, 1), bias=False)\n",
       "      (bn1): BatchNorm2d(32, eps=1e-05, momentum=0.1, affine=True, track_running_stats=True)\n",
       "      (relu): ReLU(inplace=True)\n",
       "      (conv2): Conv2d(32, 32, kernel_size=(3, 3), stride=(1, 1), padding=(1, 1), bias=False)\n",
       "      (bn2): BatchNorm2d(32, eps=1e-05, momentum=0.1, affine=True, track_running_stats=True)\n",
       "      (downsample): Sequential(\n",
       "        (0): Conv2d(16, 32, kernel_size=(1, 1), stride=(2, 2), bias=False)\n",
       "        (1): BatchNorm2d(32, eps=1e-05, momentum=0.1, affine=True, track_running_stats=True)\n",
       "      )\n",
       "      (CBAM_layer): CBAM(\n",
       "        (cov_t): Conv2d(32, 32, kernel_size=(7, 1), stride=(1, 1), padding=(3, 0))\n",
       "        (avg_t): AdaptiveAvgPool2d(output_size=(None, 1))\n",
       "        (cov_f): Conv2d(32, 32, kernel_size=(1, 7), stride=(1, 1), padding=(0, 3))\n",
       "        (avg_f): AdaptiveAvgPool2d(output_size=(1, None))\n",
       "        (activation): Sigmoid()\n",
       "      )\n",
       "    )\n",
       "    (1): CBAMBlock(\n",
       "      (conv1): Conv2d(32, 32, kernel_size=(3, 3), stride=(1, 1), padding=(1, 1), bias=False)\n",
       "      (bn1): BatchNorm2d(32, eps=1e-05, momentum=0.1, affine=True, track_running_stats=True)\n",
       "      (relu): ReLU(inplace=True)\n",
       "      (conv2): Conv2d(32, 32, kernel_size=(3, 3), stride=(1, 1), padding=(1, 1), bias=False)\n",
       "      (bn2): BatchNorm2d(32, eps=1e-05, momentum=0.1, affine=True, track_running_stats=True)\n",
       "      (CBAM_layer): CBAM(\n",
       "        (cov_t): Conv2d(32, 32, kernel_size=(7, 1), stride=(1, 1), padding=(3, 0))\n",
       "        (avg_t): AdaptiveAvgPool2d(output_size=(None, 1))\n",
       "        (cov_f): Conv2d(32, 32, kernel_size=(1, 7), stride=(1, 1), padding=(0, 3))\n",
       "        (avg_f): AdaptiveAvgPool2d(output_size=(1, None))\n",
       "        (activation): Sigmoid()\n",
       "      )\n",
       "    )\n",
       "  )\n",
       "  (layer3): Sequential(\n",
       "    (0): CBAMBlock(\n",
       "      (conv1): Conv2d(32, 64, kernel_size=(3, 3), stride=(2, 2), padding=(1, 1), bias=False)\n",
       "      (bn1): BatchNorm2d(64, eps=1e-05, momentum=0.1, affine=True, track_running_stats=True)\n",
       "      (relu): ReLU(inplace=True)\n",
       "      (conv2): Conv2d(64, 64, kernel_size=(3, 3), stride=(1, 1), padding=(1, 1), bias=False)\n",
       "      (bn2): BatchNorm2d(64, eps=1e-05, momentum=0.1, affine=True, track_running_stats=True)\n",
       "      (downsample): Sequential(\n",
       "        (0): Conv2d(32, 64, kernel_size=(1, 1), stride=(2, 2), bias=False)\n",
       "        (1): BatchNorm2d(64, eps=1e-05, momentum=0.1, affine=True, track_running_stats=True)\n",
       "      )\n",
       "      (CBAM_layer): CBAM(\n",
       "        (cov_t): Conv2d(64, 64, kernel_size=(7, 1), stride=(1, 1), padding=(3, 0))\n",
       "        (avg_t): AdaptiveAvgPool2d(output_size=(None, 1))\n",
       "        (cov_f): Conv2d(64, 64, kernel_size=(1, 7), stride=(1, 1), padding=(0, 3))\n",
       "        (avg_f): AdaptiveAvgPool2d(output_size=(1, None))\n",
       "        (activation): Sigmoid()\n",
       "      )\n",
       "    )\n",
       "    (1): CBAMBlock(\n",
       "      (conv1): Conv2d(64, 64, kernel_size=(3, 3), stride=(1, 1), padding=(1, 1), bias=False)\n",
       "      (bn1): BatchNorm2d(64, eps=1e-05, momentum=0.1, affine=True, track_running_stats=True)\n",
       "      (relu): ReLU(inplace=True)\n",
       "      (conv2): Conv2d(64, 64, kernel_size=(3, 3), stride=(1, 1), padding=(1, 1), bias=False)\n",
       "      (bn2): BatchNorm2d(64, eps=1e-05, momentum=0.1, affine=True, track_running_stats=True)\n",
       "      (CBAM_layer): CBAM(\n",
       "        (cov_t): Conv2d(64, 64, kernel_size=(7, 1), stride=(1, 1), padding=(3, 0))\n",
       "        (avg_t): AdaptiveAvgPool2d(output_size=(None, 1))\n",
       "        (cov_f): Conv2d(64, 64, kernel_size=(1, 7), stride=(1, 1), padding=(0, 3))\n",
       "        (avg_f): AdaptiveAvgPool2d(output_size=(1, None))\n",
       "        (activation): Sigmoid()\n",
       "      )\n",
       "    )\n",
       "  )\n",
       "  (layer4): Sequential(\n",
       "    (0): CBAMBlock(\n",
       "      (conv1): Conv2d(64, 128, kernel_size=(3, 3), stride=(1, 1), padding=(1, 1), bias=False)\n",
       "      (bn1): BatchNorm2d(128, eps=1e-05, momentum=0.1, affine=True, track_running_stats=True)\n",
       "      (relu): ReLU(inplace=True)\n",
       "      (conv2): Conv2d(128, 128, kernel_size=(3, 3), stride=(1, 1), padding=(1, 1), bias=False)\n",
       "      (bn2): BatchNorm2d(128, eps=1e-05, momentum=0.1, affine=True, track_running_stats=True)\n",
       "      (downsample): Sequential(\n",
       "        (0): Conv2d(64, 128, kernel_size=(1, 1), stride=(1, 1), bias=False)\n",
       "        (1): BatchNorm2d(128, eps=1e-05, momentum=0.1, affine=True, track_running_stats=True)\n",
       "      )\n",
       "      (CBAM_layer): CBAM(\n",
       "        (cov_t): Conv2d(128, 128, kernel_size=(7, 1), stride=(1, 1), padding=(3, 0))\n",
       "        (avg_t): AdaptiveAvgPool2d(output_size=(None, 1))\n",
       "        (cov_f): Conv2d(128, 128, kernel_size=(1, 7), stride=(1, 1), padding=(0, 3))\n",
       "        (avg_f): AdaptiveAvgPool2d(output_size=(1, None))\n",
       "        (activation): Sigmoid()\n",
       "      )\n",
       "    )\n",
       "    (1): CBAMBlock(\n",
       "      (conv1): Conv2d(128, 128, kernel_size=(3, 3), stride=(1, 1), padding=(1, 1), bias=False)\n",
       "      (bn1): BatchNorm2d(128, eps=1e-05, momentum=0.1, affine=True, track_running_stats=True)\n",
       "      (relu): ReLU(inplace=True)\n",
       "      (conv2): Conv2d(128, 128, kernel_size=(3, 3), stride=(1, 1), padding=(1, 1), bias=False)\n",
       "      (bn2): BatchNorm2d(128, eps=1e-05, momentum=0.1, affine=True, track_running_stats=True)\n",
       "      (CBAM_layer): CBAM(\n",
       "        (cov_t): Conv2d(128, 128, kernel_size=(7, 1), stride=(1, 1), padding=(3, 0))\n",
       "        (avg_t): AdaptiveAvgPool2d(output_size=(None, 1))\n",
       "        (cov_f): Conv2d(128, 128, kernel_size=(1, 7), stride=(1, 1), padding=(0, 3))\n",
       "        (avg_f): AdaptiveAvgPool2d(output_size=(1, None))\n",
       "        (activation): Sigmoid()\n",
       "      )\n",
       "    )\n",
       "  )\n",
       "  (dropout): Dropout(p=0.1, inplace=False)\n",
       "  (avgpool): AdaptiveAvgPool2d(output_size=(None, 5))\n",
       "  (encoder): SelfAttentionPooling_v2(\n",
       "    (attention_linear): Linear(in_features=640, out_features=128, bias=True)\n",
       "    (Tanh): Tanh()\n",
       "    (attention_vector): Linear(in_features=128, out_features=640, bias=True)\n",
       "    (softmax): Softmax(dim=1)\n",
       "  )\n",
       "  (fc1): Sequential(\n",
       "    (0): Linear(in_features=640, out_features=256, bias=True)\n",
       "    (1): BatchNorm1d(256, eps=1e-05, momentum=0.1, affine=True, track_running_stats=True)\n",
       "  )\n",
       "  (classifier): AdditiveMarginLinear(feat_dim=256.000000, num_classes=797, normalize=True)\n",
       "), 'classifier': AdditiveMarginLinear(feat_dim=256.000000, num_classes=797, normalize=True), 'loss_ratio': 1, 'lr_ratio': 0, 'loss_lambda': False, 'loss_type': 'arcsoft', 'margin': 0.15, 's': 30, 'lamda_beta': 2, 'proser_gamma': 1, 'mixup_layer': [1, 2, 3], 'mixup_type': 'manifold', 'loss_str': '', 'check_path': 'Data/checkpoint/ThinResNet18/cnceleb_v2/klfb_egs_baseline/arcsoft_sgd_rop/Mean_batch256_cbam_downk1_avg5_SAP2_em256_dp01_alpha0_none1_wde4_varesmix2_bashuf2_light', 'resume': 'Data/checkpoint/ThinResNet18/cnceleb_v2/klfb_egs_baseline/arcsoft_sgd_rop/Mean_batch256_cbam_downk1_avg5_SAP2_em256_dp01_alpha0_none1_wde4_varesmix2_bashuf2_light/checkpoint_17.pth', 'veri_pairs': 9600, 'gpu_id': '0,1', 'test_interval': 4, 'log_interval': 10}"
      ]
     },
     "execution_count": 42,
     "metadata": {},
     "output_type": "execute_result"
    }
   ],
   "source": [
    "model.hparams"
   ]
  },
  {
   "cell_type": "code",
   "execution_count": null,
   "id": "084f2654-b1a9-4808-8f2d-cb4b888d4987",
   "metadata": {},
   "outputs": [],
   "source": []
  }
 ],
 "metadata": {
  "kernelspec": {
   "display_name": "Python 3 (ipykernel)",
   "language": "python",
   "name": "python3"
  },
  "language_info": {
   "codemirror_mode": {
    "name": "ipython",
    "version": 3
   },
   "file_extension": ".py",
   "mimetype": "text/x-python",
   "name": "python",
   "nbconvert_exporter": "python",
   "pygments_lexer": "ipython3",
   "version": "3.8.10"
  }
 },
 "nbformat": 4,
 "nbformat_minor": 5
}
