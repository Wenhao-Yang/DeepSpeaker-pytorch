{
 "cells": [
  {
   "cell_type": "code",
   "execution_count": 28,
   "metadata": {},
   "outputs": [],
   "source": [
    "import matplotlib.pyplot as plt\n",
    "import numpy as np\n",
    "import os"
   ]
  },
  {
   "cell_type": "code",
   "execution_count": 11,
   "metadata": {},
   "outputs": [
    {
     "data": {
      "text/plain": [
       "Text(0,0.5,'数量(条)')"
      ]
     },
     "execution_count": 11,
     "metadata": {},
     "output_type": "execute_result"
    },
    {
     "data": {
      "image/png": "[encoded data removed]",
      "text/plain": [
       "<Figure size 432x288 with 1 Axes>"
      ]
     },
     "metadata": {
      "needs_background": "light"
     },
     "output_type": "display_data"
    }
   ],
   "source": [
    "utt2dur_file = '/home/work2020/yangwenhao/project/lstm_speaker_verification/data/aishell2/spect/test_log/utt2dur'\n",
    "utt2dur = []\n",
    "with open(utt2dur_file, 'r') as f:\n",
    "    for l in f.readlines():\n",
    "        uid, dur = l.split()\n",
    "        utt2dur.append([uid, float(dur)])\n",
    "        \n",
    "\n",
    "dur = np.array([x[1] for x in utt2dur])\n",
    "plt.hist(dur, bins=50, log=True)        \n",
    "\n",
    "plt.rcParams['font.sans-serif'] = ['SimHei'] # 步骤一（替换sans-serif字体）\n",
    "plt.rcParams['axes.unicode_minus'] = False\n",
    "plt.xlabel(u'时间(秒)')\n",
    "plt.ylabel(u'数量(条)')\n"
   ]
  },
  {
   "cell_type": "code",
   "execution_count": 19,
   "metadata": {},
   "outputs": [
    {
     "data": {
      "text/plain": [
       "<matplotlib.legend.Legend at 0x7f2fff139490>"
      ]
     },
     "execution_count": 19,
     "metadata": {},
     "output_type": "execute_result"
    },
    {
     "data": {
      "image/png": "[encoded data removed]",
      "text/plain": [
       "<Figure size 432x288 with 1 Axes>"
      ]
     },
     "metadata": {
      "needs_background": "light"
     },
     "output_type": "display_data"
    }
   ],
   "source": [
    "utt2dur_file = '/home/work2020/yangwenhao/project/lstm_speaker_verification/data/vox1/klfb/test_fb40/utt2dur'\n",
    "utt2dur = []\n",
    "with open(utt2dur_file, 'r') as f:\n",
    "    for l in f.readlines():\n",
    "        uid, dur = l.split()\n",
    "        utt2dur.append([uid, float(dur)])\n",
    "        \n",
    "\n",
    "dur = np.array([x[1] for x in utt2dur])\n",
    "plt.hist(dur, bins=50,log=True)        \n",
    "\n",
    "utt2dur_file = '/home/work2020/yangwenhao/project/lstm_speaker_verification/data/cnceleb/klfb/test_fb40/utt2dur'\n",
    "utt2dur = []\n",
    "with open(utt2dur_file, 'r') as f:\n",
    "    for l in f.readlines():\n",
    "        uid, dur = l.split()\n",
    "        utt2dur.append([uid, float(dur)])\n",
    "        \n",
    "\n",
    "dur = np.array([x[1] for x in utt2dur])\n",
    "plt.hist(dur, bins=50,log=True, alpha=0.3)    \n",
    "\n",
    "plt.rcParams['font.sans-serif'] = ['SimHei'] # 步骤一（替换sans-serif字体）\n",
    "plt.rcParams['axes.unicode_minus'] = False\n",
    "plt.xlabel(u'时间(秒)', fontsize=18)\n",
    "plt.ylabel(u'数量(条)', fontsize=18)\n",
    "plt.legend(['vox1', 'cnc'], fontsize=18)\n",
    "plt.title"
   ]
  },
  {
   "cell_type": "code",
   "execution_count": 26,
   "metadata": {},
   "outputs": [
    {
     "data": {
      "text/plain": [
       "Text(0,0.5,'数量(条)')"
      ]
     },
     "execution_count": 26,
     "metadata": {},
     "output_type": "execute_result"
    },
    {
     "data": {
      "image/png": "[encoded data removed]",
      "text/plain": [
       "<Figure size 864x432 with 3 Axes>"
      ]
     },
     "metadata": {
      "needs_background": "light"
     },
     "output_type": "display_data"
    }
   ],
   "source": [
    "vox1_test_utt2dur_file = '/home/work2020/yangwenhao/project/lstm_speaker_verification/data/vox1/klfb/test_fb40/utt2dur'\n",
    "# utt2dur_file = '/home/work2020/yangwenhao/project/lstm_speaker_verification/data/cnceleb/klfb/test_fb40/utt2dur'\n",
    "cnc_enroll_utt2dur_file = '/home/work2020/yangwenhao/project/lstm_speaker_verification/data/cnceleb/enroll/reco2dur'\n",
    "cnc_eval_utt2dur_file = '/home/work2020/yangwenhao/project/lstm_speaker_verification/data/cnceleb/eval/utt2dur'\n",
    "\n",
    "utt2dur_files = [vox1_test_utt2dur_file, cnc_enroll_utt2dur_file, cnc_eval_utt2dur_file]\n",
    "utt2dur_set = ['vox1_test', 'cnc_enroll', 'cnc_eval']\n",
    "\n",
    "plt.figure(figsize=(12, 6))\n",
    "\n",
    "\n",
    "for i,utt2dur_file in enumerate(utt2dur_files):\n",
    "    utt2dur = []\n",
    "    with open(utt2dur_file, 'r') as f:\n",
    "        for l in f.readlines():\n",
    "            uid, dur = l.split()\n",
    "            utt2dur.append([uid, float(dur)])\n",
    "\n",
    "    dur = np.array([x[1] for x in utt2dur])\n",
    "    sup = plt.subplot(len(utt2dur_files),1, i+1)\n",
    "    sup.hist(dur, bins=1000, cumulative=True, density=True, alpha=0.6) \n",
    "    sup.set_xlim(0, 50)\n",
    "    sup.legend([utt2dur_set[i]])\n",
    "\n",
    "plt.rcParams['font.sans-serif'] = ['SimHei'] # 步骤一（替换sans-serif字体）\n",
    "plt.rcParams['axes.unicode_minus'] = False\n",
    "plt.xlabel(u'时间(秒)')\n",
    "plt.ylabel(u'数量(条)')\n"
   ]
  },
  {
   "cell_type": "code",
   "execution_count": 33,
   "metadata": {},
   "outputs": [
    {
     "name": "stdout",
     "output_type": "stream",
     "text": [
      "rm /home/work2020/yangwenhao/project/lstm_speaker_verification/data/cnceleb/klfb/test_fb40/trialsmax4.0\n",
      "num of residual_trials is 1668200\n"
     ]
    }
   ],
   "source": [
    "cnc_test_trials_file = '/home/work2020/yangwenhao/project/lstm_speaker_verification/data/cnceleb/klfb/test_fb40/trials'\n",
    "utt2dur = []\n",
    "del_utts = set()\n",
    "min_len=4.0\n",
    "# max_len=4.0\n",
    "new_trials = cnc_test_trials_file+'max'+str(min_len)\n",
    "with open(cnc_eval_utt2dur_file, 'r') as f:\n",
    "    for l in f.readlines():\n",
    "        uid, dur = l.split()\n",
    "        utt2dur.append([uid, float(dur)])\n",
    "        if float(dur)>=min_len:\n",
    "            del_utts.add(uid)\n",
    "        \n",
    "residual_trials = 0\n",
    "with open(cnc_test_trials_file, 'r') as f1:\n",
    "    if os.path.exists(new_trials):\n",
    "        os.remove(new_trials)\n",
    "        print('rm %s' % new_trials)\n",
    "    with open(new_trials, 'w') as f2:\n",
    "        for l in f1.readlines():\n",
    "            uid_a, uid_b, dur = l.split()\n",
    "            \n",
    "            if uid_b not in del_utts:\n",
    "                f2.write(l)\n",
    "                residual_trials += 1\n",
    "                \n",
    "print('num of residual_trials is %d' % residual_trials)"
   ]
  },
  {
   "cell_type": "code",
   "execution_count": 9,
   "metadata": {
    "tags": []
   },
   "outputs": [
    {
     "data": {
      "text/plain": [
       "(0, 40)"
      ]
     },
     "execution_count": 9,
     "metadata": {},
     "output_type": "execute_result"
    },
    {
     "data": {
      "image/png": "[encoded data removed]",
      "text/plain": [
       "<Figure size 432x288 with 1 Axes>"
      ]
     },
     "metadata": {
      "needs_background": "light"
     },
     "output_type": "display_data"
    }
   ],
   "source": [
    "utt2dur_file = '/home/ssd2020/yangwenhao/lstm_speaker_verification/data/vox1/klsp/test/utt2dur'\n",
    "utt2dur = []\n",
    "with open(utt2dur_file, 'r') as f:\n",
    "    for l in f.readlines():\n",
    "        uid, dur = l.split()\n",
    "        utt2dur.append([uid, float(dur)])\n",
    "        \n",
    "dur = np.array([x[1] for x in utt2dur])\n",
    "plt.hist(dur)\n",
    "plt.rcParams['font.sans-serif'] = ['SimHei'] # 步骤一（替换sans-serif字体）\n",
    "plt.rcParams['axes.unicode_minus'] = False\n",
    "plt.xlabel(u'时间(秒)')\n",
    "plt.ylabel(u'数量(条)')\n",
    "plt.xlim(0, 40)"
   ]
  },
  {
   "cell_type": "code",
   "execution_count": 14,
   "metadata": {},
   "outputs": [
    {
     "name": "stdout",
     "output_type": "stream",
     "text": [
      "********** 可用的字体 **********\n",
      "LiSu\n",
      "Droid Sans Fallback\n",
      "Microsoft YaHei\n",
      "Yahei Mono\n",
      "YouYuan\n",
      "KaiTi\n",
      "FangSong\n",
      "SimHei\n",
      "YaHei Consolas Hybrid\n"
     ]
    }
   ],
   "source": [
    "from matplotlib.font_manager import FontManager\n",
    "import subprocess\n",
    "\n",
    "fm = FontManager()\n",
    "mat_fonts = set(f.name for f in fm.ttflist)\n",
    "\n",
    "output = subprocess.check_output(\n",
    "    'fc-list :lang=zh -f \"%{family}\\n\"', shell=True)\n",
    "output = output.decode('utf-8')\n",
    "# print '*' * 10, '系统可用的中文字体', '*' * 10\n",
    "# print output\n",
    "zh_fonts = set(f.split(',', 1)[0] for f in output.split('\\n'))\n",
    "available = mat_fonts & zh_fonts\n",
    "\n",
    "print('*' * 10, '可用的字体', '*' * 10)\n",
    "for f in available:\n",
    "    print(f)"
   ]
  },
  {
   "cell_type": "code",
   "execution_count": 13,
   "metadata": {},
   "outputs": [
    {
     "data": {
      "text/plain": [
       "'/home/yangwenhao/anaconda3/envs/py37/lib/python3.7/site-packages/matplotlib/mpl-data/matplotlibrc'"
      ]
     },
     "execution_count": 13,
     "metadata": {},
     "output_type": "execute_result"
    }
   ],
   "source": [
    "import matplotlib\n",
    "matplotlib.matplotlib_fname()"
   ]
  },
  {
   "cell_type": "code",
   "execution_count": null,
   "metadata": {},
   "outputs": [],
   "source": []
  }
 ],
 "metadata": {
  "kernelspec": {
   "display_name": "Python 3",
   "language": "python",
   "name": "python3"
  },
  "language_info": {
   "codemirror_mode": {
    "name": "ipython",
    "version": 3
   },
   "file_extension": ".py",
   "mimetype": "text/x-python",
   "name": "python",
   "nbconvert_exporter": "python",
   "pygments_lexer": "ipython3",
   "version": "3.7.7"
  }
 },
 "nbformat": 4,
 "nbformat_minor": 4
}
