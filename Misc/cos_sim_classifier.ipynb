{
 "cells": [
  {
   "cell_type": "code",
   "execution_count": 1,
   "metadata": {},
   "outputs": [],
   "source": [
    "import torch\n",
    "import torch.nn as nn\n",
    "import torch.nn.functional as F\n",
    "\n",
    "import numpy as np\n",
    "from sklearn.model_selection import cross_val_predict\n",
    "from sklearn.tree import DecisionTreeClassifier\n"
   ]
  },
  {
   "cell_type": "code",
   "execution_count": 2,
   "metadata": {},
   "outputs": [
    {
     "data": {
      "text/plain": [
       "True"
      ]
     },
     "execution_count": 2,
     "metadata": {},
     "output_type": "execute_result"
    }
   ],
   "source": [
    "torch.cuda.is_available()"
   ]
  },
  {
   "cell_type": "code",
   "execution_count": 3,
   "metadata": {},
   "outputs": [],
   "source": [
    "xlf = DecisionTreeClassifier(random_state=0)"
   ]
  },
  {
   "cell_type": "code",
   "execution_count": 13,
   "metadata": {},
   "outputs": [],
   "source": [
    "enr_vec = np.load('/home/yangwenhao/local/project/SpeakerVerification-pytorch/Data/xvector/MultiResNet10/army/spect_81/soft_nan/x_vector/enrollled/enroll/spkvecs.npy')\n",
    "enr_len = np.load('/home/yangwenhao/local/project/SpeakerVerification-pytorch/Data/xvector/MultiResNet10/army/spect_81/soft_nan/x_vector/enrollled/enroll/veclabs.npy')\n"
   ]
  },
  {
   "cell_type": "code",
   "execution_count": 14,
   "metadata": {},
   "outputs": [],
   "source": [
    "enr_cos_sim = np.load('/home/yangwenhao/local/project/SpeakerVerification-pytorch/Data/xvector/MultiResNet10/army/spect_81/soft_nan/x_vector/enrollled/test/result.npy')\n",
    "not_cls_sim = np.load('/home/yangwenhao/local/project/SpeakerVerification-pytorch/Data/xvector/MultiResNet10/army/spect_81/soft_nan/x_vector/notenrollled/result.npy')\n",
    "\n",
    "enr_cls = np.load('/home/yangwenhao/local/project/SpeakerVerification-pytorch/Data/xvector/MultiResNet10/army/spect_81/soft_nan/x_vector/enrollled/test/answer.npy')\n",
    "not_cls = np.load('/home/yangwenhao/local/project/SpeakerVerification-pytorch/Data/xvector/MultiResNet10/army/spect_81/soft_nan/x_vector/notenrollled/answer.npy')+51"
   ]
  },
  {
   "cell_type": "code",
   "execution_count": 15,
   "metadata": {},
   "outputs": [
    {
     "name": "stdout",
     "output_type": "stream",
     "text": [
      "(1392, 128)\n"
     ]
    }
   ],
   "source": [
    "enr_cos_t = enr_vec.transpose()\n",
    "print(enr_cos_t.shape)\n",
    "\n",
    "avg_enr_vec = []\n",
    "enr_lab = []\n",
    "for i in range(1, len(enr_len)):\n",
    "    avg_enr_vec.append(enr_cos_t[enr_len[i-1]:enr_len[i],:].mean(axis=0).reshape(1,-1))\n",
    "    \n",
    "    for x in range(enr_len[i]-enr_len[i-1]):\n",
    "        \n",
    "        enr_lab.append(i)\n"
   ]
  },
  {
   "cell_type": "code",
   "execution_count": 16,
   "metadata": {},
   "outputs": [
    {
     "name": "stdout",
     "output_type": "stream",
     "text": [
      "torch.Size([128, 50])\n",
      "(1392, 128) 1392\n"
     ]
    }
   ],
   "source": [
    "avg_center = np.concatenate(avg_enr_vec, axis=0).transpose()\n",
    "avg_center =  torch.tensor(avg_center).float()\n",
    "# avg_center = F.normalize(avg_center, dim=1) #* 12\n",
    "\n",
    "print(avg_center.shape)\n",
    "print(enr_cos_t.shape, enr_lab.__len__())"
   ]
  },
  {
   "cell_type": "code",
   "execution_count": 17,
   "metadata": {},
   "outputs": [
    {
     "name": "stdout",
     "output_type": "stream",
     "text": [
      "(11699, 50)\n"
     ]
    },
    {
     "data": {
      "text/plain": [
       "DecisionTreeClassifier(ccp_alpha=0.0, class_weight=None, criterion='gini',\n",
       "                       max_depth=None, max_features=None, max_leaf_nodes=None,\n",
       "                       min_impurity_decrease=0.0, min_impurity_split=None,\n",
       "                       min_samples_leaf=1, min_samples_split=2,\n",
       "                       min_weight_fraction_leaf=0.0, presort='deprecated',\n",
       "                       random_state=0, splitter='best')"
      ]
     },
     "execution_count": 17,
     "metadata": {},
     "output_type": "execute_result"
    }
   ],
   "source": [
    "print(not_cls_sim.shape)\n",
    "enr_cos_t = torch.tensor(enr_cos_t).float()\n",
    "# enr_cos_t = F.normalize(enr_cos_t, dim=1) #* 12\n",
    "\n",
    "enr_cos = torch.matmul(enr_cos_t, avg_center)\n",
    "\n",
    "# x = np.append(enr_cos, not_cls_sim[:100, :], axis=0)\n",
    "# y = np.append(enr_lab, not_cls[:100])\n",
    "\n",
    "x = enr_cos.numpy()\n",
    "y = enr_lab\n",
    "\n",
    "xlf.fit(x, y)"
   ]
  },
  {
   "cell_type": "code",
   "execution_count": 18,
   "metadata": {},
   "outputs": [
    {
     "name": "stdout",
     "output_type": "stream",
     "text": [
      "(31487, 50)\n",
      "(31487,)\n"
     ]
    }
   ],
   "source": [
    "# pre_x = np.append(enr_cos_sim, not_cls_sim[100:], axis=0)\n",
    "# print(pre_x.shape)\n",
    "\n",
    "# real_y = np.append(enr_cls, not_cls[100:])\n",
    "# print(y.shape)\n",
    "\n",
    "pre_x = enr_cos_sim\n",
    "print(pre_x.shape)\n",
    "\n",
    "real_y = np.array(enr_cls)\n",
    "print(real_y.shape)\n"
   ]
  },
  {
   "cell_type": "code",
   "execution_count": 19,
   "metadata": {},
   "outputs": [],
   "source": [
    "pred_y = xlf.predict(pre_x)"
   ]
  },
  {
   "cell_type": "code",
   "execution_count": 20,
   "metadata": {},
   "outputs": [
    {
     "name": "stdout",
     "output_type": "stream",
     "text": [
      "0.027979801187791788\n"
     ]
    }
   ],
   "source": [
    "correct = 0\n",
    "for m,n in zip(pred_y, real_y):\n",
    "    if m==n:\n",
    "        correct +=1\n",
    "acc = correct / len(real_y)\n",
    "print(acc) #20.192173791950982%"
   ]
  },
  {
   "cell_type": "code",
   "execution_count": 21,
   "metadata": {},
   "outputs": [],
   "source": [
    "import torch.optim as optim\n",
    "from torch.optim.lr_scheduler import MultiStepLR\n",
    "\n",
    "linearpred = nn.Linear(50, 51) # 使用cos分数预测\n",
    "\n",
    "optimizer = optim.SGD(linearpred.parameters() ,lr=0.1,\n",
    "                momentum=0.9,\n",
    "                dampening=0,\n",
    "                weight_decay=0.005)\n",
    "\n",
    "scheduler = MultiStepLR(optimizer, milestones=[20, 20, 20], gamma=0.1)\n",
    "\n",
    "output_softmax = nn.Softmax(dim=1)\n",
    "\n",
    "crossentropy = nn.CrossEntropyLoss()"
   ]
  },
  {
   "cell_type": "code",
   "execution_count": 22,
   "metadata": {},
   "outputs": [
    {
     "name": "stdout",
     "output_type": "stream",
     "text": [
      "torch.Size([1392, 50])\n",
      "torch.Size([1392])\n",
      "Accuracy is 91.0201 % \n",
      "Accuracy is 98.2759 % \n",
      "Accuracy is 99.5690 % \n",
      "Accuracy is 99.8563 % \n",
      "Accuracy is 99.9282 % \n",
      "Accuracy is 99.9282 % \n",
      "Accuracy is 100.0000 % \n",
      "Accuracy is 100.0000 % \n",
      "Accuracy is 100.0000 % \n",
      "Accuracy is 100.0000 % \n",
      "Accuracy is 100.0000 % \n",
      "Accuracy is 100.0000 % \n",
      "Accuracy is 100.0000 % \n",
      "Accuracy is 100.0000 % \n",
      "Accuracy is 100.0000 % \n",
      "Accuracy is 100.0000 % \n"
     ]
    }
   ],
   "source": [
    "epoch = 80\n",
    "t_x = torch.tensor(x).cuda()\n",
    "print(t_x.shape)\n",
    "linearpred = linearpred.cuda()\n",
    "t_y = torch.tensor(y).long().cuda()\n",
    "print(t_y.shape)\n",
    "\n",
    "for i in range(epoch):\n",
    "    \n",
    "    p_y = linearpred(t_x)\n",
    "    loss = crossentropy(p_y,t_y)\n",
    "    \n",
    "    p_y_lab = output_softmax(p_y)\n",
    "    pred_one_labels = torch.max(p_y_lab, dim=1)[1]\n",
    "    corrects = float((pred_one_labels.cuda() == t_y).sum().item())\n",
    "    accuracy = corrects / len(y)\n",
    "    \n",
    "    if (i+1) % 5 == 0:\n",
    "        print(\"Accuracy is %.4f %% \" % (accuracy*100.)) # 100%\n",
    "        \n",
    "    optimizer.zero_grad()\n",
    "    loss.backward()\n",
    "    optimizer.step()"
   ]
  },
  {
   "cell_type": "code",
   "execution_count": 23,
   "metadata": {},
   "outputs": [
    {
     "name": "stdout",
     "output_type": "stream",
     "text": [
      "0.3652300949598247\n"
     ]
    }
   ],
   "source": [
    "lin_pre_x = torch.tensor(pre_x).cuda(0)\n",
    "lin_pre_y = linearpred(lin_pre_x)\n",
    "lin_p_y_lab = output_softmax(lin_pre_y)\n",
    "lin_pred_labels = torch.max(lin_p_y_lab, dim=1)[1]\n",
    "\n",
    "lin_real_y = torch.tensor(real_y).long().cuda()\n",
    "\n",
    "corrects = float((lin_pred_labels.cuda() == lin_real_y).sum().item())\n",
    "lin_test_accuracy = corrects / len(real_y)\n",
    "print(lin_test_accuracy*100.) # 26.65%"
   ]
  },
  {
   "cell_type": "code",
   "execution_count": null,
   "metadata": {},
   "outputs": [],
   "source": []
  }
 ],
 "metadata": {
  "kernelspec": {
   "display_name": "Python 3",
   "language": "python",
   "name": "python3"
  },
  "language_info": {
   "codemirror_mode": {
    "name": "ipython",
    "version": 3
   },
   "file_extension": ".py",
   "mimetype": "text/x-python",
   "name": "python",
   "nbconvert_exporter": "python",
   "pygments_lexer": "ipython3",
   "version": "3.5.6"
  }
 },
 "nbformat": 4,
 "nbformat_minor": 1
}
