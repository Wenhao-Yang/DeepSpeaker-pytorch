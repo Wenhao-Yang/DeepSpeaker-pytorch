{
 "cells": [
  {
   "cell_type": "code",
   "execution_count": 1,
   "metadata": {},
   "outputs": [],
   "source": [
    "from Define_Model.TDNN.TDNN import TDNN_v5\n",
    "import kaldi_io\n",
    "import torch\n",
    "\n",
    "from Define_Model.Loss.SoftmaxLoss import AdditiveMarginLinear\n",
    "import numpy as np\n",
    "import kaldi_io\n",
    "import matplotlib.pyplot as plt\n",
    "import matplotlib\n",
    "%matplotlib inline\n",
    "plt.rc('font', family='Times New Roman')"
   ]
  },
  {
   "cell_type": "code",
   "execution_count": 2,
   "metadata": {},
   "outputs": [
    {
     "name": "stderr",
     "output_type": "stream",
     "text": [
      "/home/yangwenhao/anaconda3/envs/py37/lib/python3.7/site-packages/torch/serialization.py:649: SourceChangeWarning: source code of class 'torch.nn.modules.loss.CrossEntropyLoss' has changed. you can retrieve the original source code by accessing the object's source attribute or set `torch.nn.Module.dump_patches = True` and use the patch tool to revert the changes.\n",
      "  warnings.warn(msg, SourceChangeWarning)\n"
     ]
    },
    {
     "data": {
      "text/plain": [
       "TDNN_v5(\n",
       "  (inst_layer): Mean_Norm(dim=-2)\n",
       "  (frame1): TimeDelayLayer_v5(\n",
       "    (kernel): Conv1d(40, 512, kernel_size=(5,), stride=(1,))\n",
       "    (nonlinearity): ReLU(inplace=True)\n",
       "    (bn): BatchNorm1d(512, eps=1e-05, momentum=0.1, affine=True, track_running_stats=True)\n",
       "  )\n",
       "  (frame2): TimeDelayLayer_v5(\n",
       "    (kernel): Conv1d(512, 512, kernel_size=(3,), stride=(1,), dilation=(2,))\n",
       "    (nonlinearity): ReLU(inplace=True)\n",
       "    (bn): BatchNorm1d(512, eps=1e-05, momentum=0.1, affine=True, track_running_stats=True)\n",
       "  )\n",
       "  (frame3): TimeDelayLayer_v5(\n",
       "    (kernel): Conv1d(512, 512, kernel_size=(3,), stride=(1,), dilation=(3,))\n",
       "    (nonlinearity): ReLU(inplace=True)\n",
       "    (bn): BatchNorm1d(512, eps=1e-05, momentum=0.1, affine=True, track_running_stats=True)\n",
       "  )\n",
       "  (frame4): TimeDelayLayer_v5(\n",
       "    (kernel): Conv1d(512, 512, kernel_size=(1,), stride=(1,))\n",
       "    (nonlinearity): ReLU(inplace=True)\n",
       "    (bn): BatchNorm1d(512, eps=1e-05, momentum=0.1, affine=True, track_running_stats=True)\n",
       "  )\n",
       "  (frame5): TimeDelayLayer_v5(\n",
       "    (kernel): Conv1d(512, 1500, kernel_size=(1,), stride=(1,))\n",
       "    (nonlinearity): ReLU(inplace=True)\n",
       "    (bn): BatchNorm1d(1500, eps=1e-05, momentum=0.1, affine=True, track_running_stats=True)\n",
       "  )\n",
       "  (drop): Dropout(p=0.0, inplace=False)\n",
       "  (encoder): StatisticPooling()\n",
       "  (segment6): Sequential(\n",
       "    (0): Linear(in_features=3000, out_features=512, bias=True)\n",
       "    (1): ReLU()\n",
       "    (2): BatchNorm1d(512, eps=1e-05, momentum=0.1, affine=True, track_running_stats=True)\n",
       "  )\n",
       "  (segment7): Sequential(\n",
       "    (0): Linear(in_features=512, out_features=512, bias=True)\n",
       "    (1): ReLU()\n",
       "    (2): BatchNorm1d(512, eps=1e-05, momentum=0.1, affine=True, track_running_stats=True)\n",
       "  )\n",
       "  (classifier): Linear(in_features=512, out_features=1211, bias=True)\n",
       ")"
      ]
     },
     "execution_count": 2,
     "metadata": {},
     "output_type": "execute_result"
    }
   ],
   "source": [
    "model = TDNN_v5(num_classes=1211, embedding_size=512, input_dim=40, alpha=0., input_norm='Mean',\n",
    "                 encoder_type='STAP', activation='relu',\n",
    "                 num_classes_b=0, block_type='basic', first_2d=False, stride=[1],\n",
    "                 mask='None', mask_len=20, channels=[512, 512, 512, 512, 1500])\n",
    "\n",
    "# model.classifier = AdditiveMarginLinear(feat_dim=512, num_classes=1211)\n",
    "ckp = torch.load('/home/yangwenhao/local/project/SpeakerVerification-pytorch/Data/checkpoint/TDNN_v5/vox1/klfb_egs_baseline/soft/featcombined_inputMean_STAP_em512_wde3_var/checkpoint_50.pth')\n",
    "model.load_state_dict(ckp['state_dict'][0])\n",
    "\n",
    "model.eval()"
   ]
  },
  {
   "cell_type": "code",
   "execution_count": 3,
   "metadata": {},
   "outputs": [],
   "source": [
    "stmx = torch.nn.Softmax(dim=1)"
   ]
  },
  {
   "cell_type": "code",
   "execution_count": 11,
   "metadata": {},
   "outputs": [
    {
     "name": "stdout",
     "output_type": "stream",
     "text": [
      "torch.Size([1, 558, 40])\n",
      "torch.Size([1, 414, 40])\n",
      "torch.Size([1, 434, 40])\n",
      "torch.Size([1, 558, 40])\n",
      "torch.Size([1, 558, 40])\n"
     ]
    }
   ],
   "source": [
    "x0 = kaldi_io.read_mat('/home/yangwenhao/local/project/lstm_speaker_verification/data/vox1/klfb/fbank/dev_fb40/raw_fbank_dev_fb40.1.ark:69000')\n",
    "x01 = kaldi_io.read_mat('/home/yangwenhao/local/project/lstm_speaker_verification/data/vox1/klfb/fbank/dev_fb40/raw_fbank_dev_fb40.1.ark:2686603')\n",
    "x02 = kaldi_io.read_mat('/home/yangwenhao/local/project/lstm_speaker_verification/data/vox1/klfb/fbank/dev_fb40/raw_fbank_dev_fb40.1.ark:6070422')\n",
    "\n",
    "\n",
    "x1 = kaldi_io.read_mat('/home/yangwenhao/local/project/lstm_speaker_verification/data/vox1/dev_aug_spk/fbank/raw_fbank_dev_aug_spk.1.ark:20')\n",
    "x2 = kaldi_io.read_mat('/home/yangwenhao/local/project/lstm_speaker_verification/data/vox1/dev_aug_spk/fbank/raw_fbank_dev_aug_spk.1.ark:23267')\n",
    "\n",
    "\n",
    "x0 = torch.FloatTensor(x0)[:,:40].unsqueeze(0)\n",
    "print(x0.shape)\n",
    "x01 = torch.FloatTensor(x01)[:,:40].unsqueeze(0)\n",
    "x02 = torch.FloatTensor(x02)[:,:40].unsqueeze(0)\n",
    "print(x01.shape)\n",
    "print(x02.shape)\n",
    "\n",
    "\n",
    "\n",
    "x1 = torch.FloatTensor(x1)[:,:40].unsqueeze(0)\n",
    "x2 = torch.FloatTensor(x2)[:,:40].unsqueeze(0)\n",
    "print(x1.shape)\n",
    "print(x2.shape)"
   ]
  },
  {
   "cell_type": "code",
   "execution_count": 5,
   "metadata": {},
   "outputs": [],
   "source": [
    "logits0, embedding_b0 = model(x0)\n",
    "logits01, embedding_b01 = model(x01)\n",
    "logits02, embedding_b02 = model(x02)\n",
    "\n",
    "logits1, embedding_b1 = model(x1)\n",
    "logits2, embedding_b2 = model(x2)"
   ]
  },
  {
   "cell_type": "code",
   "execution_count": 6,
   "metadata": {},
   "outputs": [
    {
     "data": {
      "text/plain": [
       "torch.return_types.sort(\n",
       "values=tensor([9.3096e-08, 1.3845e-07, 2.0548e-07,  ..., 1.4585e-01, 1.4924e-01,\n",
       "        1.6458e-01], grad_fn=<SortBackward>),\n",
       "indices=tensor([ 674,  676, 1139,  ...,  654,    0,  518]))"
      ]
     },
     "execution_count": 6,
     "metadata": {},
     "output_type": "execute_result"
    }
   ],
   "source": [
    "stmx(logits0)[0].sort()"
   ]
  },
  {
   "cell_type": "code",
   "execution_count": 7,
   "metadata": {},
   "outputs": [
    {
     "data": {
      "text/plain": [
       "torch.return_types.sort(\n",
       "values=tensor([2.6092e-07, 3.1600e-07, 4.3541e-07,  ..., 4.0313e-02, 6.7129e-02,\n",
       "        3.4266e-01], grad_fn=<SortBackward>),\n",
       "indices=tensor([1140,  294,  657,  ...,  313,  994,    1]))"
      ]
     },
     "execution_count": 7,
     "metadata": {},
     "output_type": "execute_result"
    }
   ],
   "source": [
    "stmx(logits01)[0].sort()"
   ]
  },
  {
   "cell_type": "code",
   "execution_count": 8,
   "metadata": {},
   "outputs": [
    {
     "data": {
      "text/plain": [
       "torch.return_types.sort(\n",
       "values=tensor([1.8703e-06, 1.8918e-06, 1.9672e-06,  ..., 4.2330e-02, 4.4083e-02,\n",
       "        2.0894e-01], grad_fn=<SortBackward>),\n",
       "indices=tensor([ 398, 1063,  377,  ..., 1074,  260,  928]))"
      ]
     },
     "execution_count": 8,
     "metadata": {},
     "output_type": "execute_result"
    }
   ],
   "source": [
    "stmx(logits02)[0].sort()"
   ]
  },
  {
   "cell_type": "code",
   "execution_count": 9,
   "metadata": {},
   "outputs": [
    {
     "data": {
      "text/plain": [
       "torch.return_types.sort(\n",
       "values=tensor([7.3378e-08, 1.1264e-07, 1.2866e-07,  ..., 1.0503e-01, 1.1848e-01,\n",
       "        2.5894e-01], grad_fn=<SortBackward>),\n",
       "indices=tensor([ 676,  674, 1139,  ...,  405,  654,  618]))"
      ]
     },
     "execution_count": 9,
     "metadata": {},
     "output_type": "execute_result"
    }
   ],
   "source": [
    "stmx(logits1)[0].sort()"
   ]
  },
  {
   "cell_type": "code",
   "execution_count": 10,
   "metadata": {},
   "outputs": [
    {
     "data": {
      "text/plain": [
       "torch.return_types.sort(\n",
       "values=tensor([8.8413e-07, 1.2508e-06, 1.4454e-06,  ..., 6.4731e-02, 7.1566e-02,\n",
       "        1.1731e-01], grad_fn=<SortBackward>),\n",
       "indices=tensor([ 41,  91, 110,  ..., 654, 673,   0]))"
      ]
     },
     "execution_count": 10,
     "metadata": {},
     "output_type": "execute_result"
    }
   ],
   "source": [
    "stmx(logits2)[0].sort()"
   ]
  },
  {
   "cell_type": "code",
   "execution_count": null,
   "metadata": {},
   "outputs": [],
   "source": []
  }
 ],
 "metadata": {
  "kernelspec": {
   "display_name": "Python 3",
   "language": "python",
   "name": "python3"
  },
  "language_info": {
   "codemirror_mode": {
    "name": "ipython",
    "version": 3
   },
   "file_extension": ".py",
   "mimetype": "text/x-python",
   "name": "python",
   "nbconvert_exporter": "python",
   "pygments_lexer": "ipython3",
   "version": "3.7.7"
  }
 },
 "nbformat": 4,
 "nbformat_minor": 4
}
