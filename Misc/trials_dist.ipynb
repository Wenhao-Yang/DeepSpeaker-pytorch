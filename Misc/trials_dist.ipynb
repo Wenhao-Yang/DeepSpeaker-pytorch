{
 "cells": [
  {
   "cell_type": "code",
   "execution_count": 1,
   "metadata": {},
   "outputs": [],
   "source": [
    "import matplotlib.pyplot as plt\n",
    "import numpy as np\n",
    "import torch\n",
    "\n",
    "%matplotlib inline\n",
    "plt.rc('font', family='Times New Roman')"
   ]
  },
  {
   "cell_type": "code",
   "execution_count": 2,
   "metadata": {},
   "outputs": [],
   "source": [
    "def load_scores(file):\n",
    "    target = []\n",
    "    nontarget = []\n",
    "    with open(file, 'r') as f:\n",
    "        for l in f.readlines():\n",
    "            score, truth = l.split()\n",
    "            try:\n",
    "                score = float(score)\n",
    "            except Exception as e:\n",
    "                tmp = score\n",
    "                score = float(truth)\n",
    "                truth = tmp\n",
    "                \n",
    "            if truth == 'True':\n",
    "                target.append(score)\n",
    "            else:\n",
    "                nontarget.append(score)\n",
    "                \n",
    "    return np.array(target).astype(np.float32),np.array(nontarget).astype(np.float32)"
   ]
  },
  {
   "cell_type": "code",
   "execution_count": 3,
   "metadata": {},
   "outputs": [],
   "source": [
    "current_dir = '/home/yangwenhao/local/project/SpeakerVerification-pytorch/'"
   ]
  },
  {
   "cell_type": "code",
   "execution_count": 5,
   "metadata": {},
   "outputs": [
    {
     "data": {
      "image/png": "[encoded data removed]",
      "text/plain": [
       "<Figure size 864x432 with 4 Axes>"
      ]
     },
     "metadata": {
      "needs_background": "light"
     },
     "output_type": "display_data"
    }
   ],
   "source": [
    "plt.figure(figsize=(12, 6))\n",
    "\n",
    "\n",
    "cn_test = current_dir + 'Data/xvector/TDNN_v5/cnceleb/klfb_egs_baseline/arcsoft/Mean_STAP_em512_wd5e4_var/test/epoch_50/scores'\n",
    "cn_dev = current_dir + 'Data/xvectorData/checkpoint/TDNN_v5/cnceleb/klfb_egs_baseline/arcsoft/Mean_STAP_em512_wd5e4_var/cnceleb_epoch50_fix/score.2021.11.26.20:42:54'\n",
    "\n",
    "cn_dev_dist = current_dir + 'Data/xvector/TDNN_v5/cnceleb/klfb_egs_baseline/arcdist/Mean_STAP_em512_lr1_wd5e4_var/cnceleb_dev_epoch50_fix/score.2021.11.29.12:56:18'\n",
    "cn_test_dist = current_dir + 'Data/xvector/TDNN_v5/cnceleb/klfb_egs_baseline/arcdist/Mean_STAP_em512_lr1_wd5e4_var/test/epoch_50/scores'\n",
    "\n",
    "plt.suptitle('Distribution of Cosine scores in CnCeleb', fontsize=16)\n",
    "\n",
    "axes1 = plt.subplot(221)\n",
    "plt.title('dev', fontsize=16)\n",
    "target,nontarget = load_scores(cn_dev)\n",
    "axes1.hist(target, bins=40, density=True, alpha=0.3)\n",
    "axes1.hist(nontarget, bins=40, density=True, alpha=0.3)\n",
    "\n",
    "axes2 = plt.subplot(222)\n",
    "plt.title('test', fontsize=16)\n",
    "target,nontarget = load_scores(cn_test)\n",
    "n, bins, patches = axes2.hist(target, bins=40, density=True, alpha=0.3)\n",
    "n, bins, patches = axes2.hist(nontarget, bins=40, density=True, alpha=0.3)\n",
    "\n",
    "axes1 = plt.subplot(223)\n",
    "plt.title('dev_dist', fontsize=16)\n",
    "target,nontarget = load_scores(cn_dev_dist)\n",
    "axes1.hist(target, bins=40, density=True, alpha=0.3)\n",
    "axes1.hist(nontarget, bins=40, density=True, alpha=0.3)\n",
    "\n",
    "axes2 = plt.subplot(224)\n",
    "plt.title('test_dist', fontsize=16)\n",
    "target,nontarget = load_scores(cn_test_dist)\n",
    "n, bins, patches = axes2.hist(target, bins=40, density=True, alpha=0.3)\n",
    "n, bins, patches = axes2.hist(nontarget, bins=40, density=True, alpha=0.3)"
   ]
  },
  {
   "cell_type": "code",
   "execution_count": 14,
   "metadata": {},
   "outputs": [
    {
     "name": "stdout",
     "output_type": "stream",
     "text": [
      "dev          mean      std\n",
      "target:    0.5535   0.1843\n",
      "nontarget: 0.0034   0.0801\n",
      "target:    0.5184   0.1809\n",
      "nontarget: 0.0047   0.0834\n",
      "\n",
      "test         mean      std\n",
      "target:    0.3526   0.2116\n",
      "nontarget: 0.0144   0.1011\n",
      "target:    0.3608   0.2105\n",
      "nontarget: 0.0202   0.1030\n"
     ]
    }
   ],
   "source": [
    "target,nontarget = load_scores(cn_dev)\n",
    "print('dev          mean      std')\n",
    "print('target:    %.4f   %.4f'%(np.mean(target), np.std(target)))\n",
    "print('nontarget: %.4f   %.4f'%(np.mean(nontarget), np.std(nontarget)))\n",
    "\n",
    "target,nontarget = load_scores(cn_dev_dist)\n",
    "print('target:    %.4f   %.4f'%(np.mean(target), np.std(target)))\n",
    "print('nontarget: %.4f   %.4f'%(np.mean(nontarget), np.std(nontarget)))\n",
    "\n",
    "print('')\n",
    "print('test         mean      std')\n",
    "target,nontarget = load_scores(cn_test)\n",
    "print('target:    %.4f   %.4f'%(np.mean(target), np.std(target)))\n",
    "print('nontarget: %.4f   %.4f'%(np.mean(nontarget), np.std(nontarget)))\n",
    "\n",
    "target,nontarget = load_scores(cn_test_dist)\n",
    "print('target:    %.4f   %.4f'%(np.mean(target), np.std(target)))\n",
    "print('nontarget: %.4f   %.4f'%(np.mean(nontarget), np.std(nontarget)))"
   ]
  },
  {
   "cell_type": "code",
   "execution_count": 51,
   "metadata": {},
   "outputs": [
    {
     "data": {
      "image/png": "[encoded data removed]",
      "text/plain": [
       "<Figure size 864x216 with 2 Axes>"
      ]
     },
     "metadata": {
      "needs_background": "light"
     },
     "output_type": "display_data"
    }
   ],
   "source": [
    "plt.figure(figsize=(12, 3))\n",
    "\n",
    "vox1_dev = current_dir + 'Data/xvector/TDNN_v5/vox1/klfb_egs_baseline/arcsoft/featfb40_inputMean_STAP_em512_wd5e4_var/vox1_dev_epoch_50_var/score.2021.11.26.21:13:16'\n",
    "vox1_test = current_dir + '/Data/xvector/TDNN_v5/vox1/klfb_egs_baseline/arcsoft/featfb40_inputMean_STAP_em512_wd5e4_var/vox1_test_epoch_50_var/score.2021.11.04.15:30:06'\n",
    "\n",
    "\n",
    "plt.suptitle('Distribution of Cosine scores in VoxCeleb1', fontsize=16)\n",
    "\n",
    "axes1 = plt.subplot(121)\n",
    "plt.title('dev', fontsize=16)\n",
    "target,nontarget = load_scores(vox1_dev)\n",
    "# axes1.set_xlim(0, 0.4)\n",
    "\n",
    "axes1.hist(target, bins=40, density=True, alpha=0.3)\n",
    "axes1.hist(nontarget, bins=40, density=True, alpha=0.3)\n",
    "\n",
    "\n",
    "axes2 = plt.subplot(122)\n",
    "\n",
    "plt.title('test', fontsize=16)\n",
    "target,nontarget = load_scores(vox1_test)\n",
    "n, bins, patches = axes2.hist(target, bins=40, density=True, alpha=0.3)\n",
    "n, bins, patches = axes2.hist(nontarget, bins=40, density=True, alpha=0.3)"
   ]
  },
  {
   "cell_type": "code",
   "execution_count": 58,
   "metadata": {},
   "outputs": [
    {
     "name": "stdout",
     "output_type": "stream",
     "text": [
      "std: \n",
      "target:  0.08996952\n",
      "nontarget:  0.08127117\n",
      "std: \n",
      "target:  0.15568481\n",
      "nontarget:  0.092248686\n"
     ]
    }
   ],
   "source": [
    "target,nontarget = load_scores(vox1_dev)\n",
    "print('std: \\ntarget: ', np.std(target))\n",
    "print('nontarget: ', np.std(nontarget))\n",
    "\n",
    "target,nontarget = load_scores(vox1_test)\n",
    "print('std: \\ntarget: ', np.std(target))\n",
    "print('nontarget: ', np.std(nontarget))"
   ]
  },
  {
   "cell_type": "code",
   "execution_count": 45,
   "metadata": {},
   "outputs": [
    {
     "data": {
      "image/png": "[encoded data removed]",
      "text/plain": [
       "<Figure size 432x288 with 1 Axes>"
      ]
     },
     "metadata": {
      "needs_background": "light"
     },
     "output_type": "display_data"
    }
   ],
   "source": [
    "n, bins, patches = plt.hist(np.arccos(target)*180/np.pi, bins=40, density=True, alpha=0.3)"
   ]
  },
  {
   "cell_type": "code",
   "execution_count": null,
   "metadata": {},
   "outputs": [],
   "source": []
  }
 ],
 "metadata": {
  "kernelspec": {
   "display_name": "Python 3",
   "language": "python",
   "name": "python3"
  },
  "language_info": {
   "codemirror_mode": {
    "name": "ipython",
    "version": 3
   },
   "file_extension": ".py",
   "mimetype": "text/x-python",
   "name": "python",
   "nbconvert_exporter": "python",
   "pygments_lexer": "ipython3",
   "version": "3.7.7"
  }
 },
 "nbformat": 4,
 "nbformat_minor": 4
}
